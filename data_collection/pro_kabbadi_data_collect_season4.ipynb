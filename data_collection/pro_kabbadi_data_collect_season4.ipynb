{
 "cells": [
  {
   "cell_type": "code",
   "execution_count": 1,
   "metadata": {},
   "outputs": [],
   "source": [
    "import requests\n",
    "import pandas as pd\n",
    "from bs4 import BeautifulSoup\n",
    "from selenium import webdriver\n",
    "import re\n",
    "import time"
   ]
  },
  {
   "cell_type": "markdown",
   "metadata": {},
   "source": [
    "Download the Chrome Webdriver from https://sites.google.com/a/chromium.org/chromedriver/downloads (make sure you download the same Chrome version driver)\n",
    "\n",
    "And place the file at notebook location"
   ]
  },
  {
   "cell_type": "code",
   "execution_count": 2,
   "metadata": {},
   "outputs": [],
   "source": [
    "driver = webdriver.Chrome(executable_path='chromedriver.exe')"
   ]
  },
  {
   "cell_type": "markdown",
   "metadata": {},
   "source": [
    "Getting the Player Stats<br>\n",
    "First we will get the Total Points secured by Each player"
   ]
  },
  {
   "cell_type": "code",
   "execution_count": 3,
   "metadata": {},
   "outputs": [],
   "source": [
    "driver.get('https://www.prokabaddi.com/stats/4-102-total-points-statistics')"
   ]
  },
  {
   "cell_type": "markdown",
   "metadata": {},
   "source": [
    "Wait for above cell to execute"
   ]
  },
  {
   "cell_type": "code",
   "execution_count": 4,
   "metadata": {},
   "outputs": [],
   "source": [
    "time.sleep(7)\n",
    "\n",
    "myelement = driver.find_element_by_xpath('//*[@id=\"load_more\"]')\n",
    "\n",
    "while myelement.is_displayed():\n",
    "    if myelement.is_displayed():\n",
    "        myelement.click()\n",
    "\n",
    "time.sleep(3)"
   ]
  },
  {
   "cell_type": "code",
   "execution_count": 5,
   "metadata": {},
   "outputs": [],
   "source": [
    "soup = BeautifulSoup(driver.page_source)\n",
    "player = soup.findAll('div',attrs={'class':'lb-detailItem-wrap'})\n",
    "\n",
    "player_names = []\n",
    "player_profile = []\n",
    "player_team = []\n",
    "matches_played = []\n",
    "total_points = []\n",
    "\n",
    "for item in player:\n",
    "    \n",
    "    #Fetching the Player Name\n",
    "    itm1 = item.find('div',attrs={'class':'sipk-lb-playerName'}).span.text.replace('\\n', ' ').strip()\n",
    "    player_names.append(itm1)\n",
    "    \n",
    "    #Fetching the Player Profile\n",
    "    if item.find('div',attrs={'class':'sipk-lb-playerprofile'}):\n",
    "        itm2 = item.find('div',attrs={'class':'sipk-lb-playerprofile'}).span.text\n",
    "        player_profile.append(itm2)\n",
    "    else:\n",
    "        player_profile.append('')\n",
    "    \n",
    "    #Fetching the Player Team\n",
    "    itm3 = item.find('a',attrs={'class':'sipk-lb-detailBlock sipk-lb-team'})\n",
    "    srch = re.findall('u-mumba|telugu-titans|jaipur-pink-panthers|bengaluru-bulls|dabang-delhi-kc|patna-pirates|puneri-paltan|bengal-warriors', itm3.attrs['href'])\n",
    "    player_team.append(srch[0])\n",
    "    \n",
    "    #Fetching the Matches Played by Player\n",
    "    itm4 = item.find('div',attrs={'class':'sipk-lb-detailBlock sipk-lb-matchedPlayed'}).span.text\n",
    "    matches_played.append(itm4)\n",
    "    \n",
    "    #Fetching the Total Points scored by a Player\n",
    "    itm5 = item.find('div',attrs={'class':'sipk-lb-detailBlock sipk-lb-raidPoints'}).span.text\n",
    "    total_points.append(itm5)\n",
    "\n",
    "#print(player_names)\n",
    "#print(player_profile)\n",
    "#print(player_team)\n",
    "#print(matches_played)\n",
    "#print(total_points)"
   ]
  },
  {
   "cell_type": "code",
   "execution_count": 6,
   "metadata": {},
   "outputs": [],
   "source": [
    "pyr_tot_points_seas1 = pd.DataFrame({'name':player_names, 'profile':player_profile, 'team':player_team\n",
    "                                     , 'matches_played':matches_played, 'total_points':total_points})\n",
    "\n",
    "#pyr_tot_points_seas1.head()"
   ]
  },
  {
   "cell_type": "markdown",
   "metadata": {},
   "source": [
    "Get Successful raids"
   ]
  },
  {
   "cell_type": "code",
   "execution_count": 7,
   "metadata": {},
   "outputs": [],
   "source": [
    "driver.get('https://www.prokabaddi.com/stats/4-21-successful-raids-statistics')"
   ]
  },
  {
   "cell_type": "markdown",
   "metadata": {},
   "source": [
    "Wait for above cell to execute"
   ]
  },
  {
   "cell_type": "code",
   "execution_count": 8,
   "metadata": {},
   "outputs": [],
   "source": [
    "time.sleep(7)\n",
    "\n",
    "myelement = driver.find_element_by_xpath('//*[@id=\"load_more\"]')\n",
    "\n",
    "while myelement.is_displayed():\n",
    "    if myelement.is_displayed():\n",
    "        myelement.click()\n",
    "\n",
    "time.sleep(3)"
   ]
  },
  {
   "cell_type": "code",
   "execution_count": 9,
   "metadata": {},
   "outputs": [],
   "source": [
    "soup = BeautifulSoup(driver.page_source)\n",
    "player = soup.findAll('div',attrs={'class':'lb-detailItem-wrap'})\n",
    "\n",
    "player_names = []\n",
    "success_raids = []\n",
    "\n",
    "for item in player:\n",
    "    \n",
    "    #Fetching the Player Name\n",
    "    itm1 = item.find('div',attrs={'class':'sipk-lb-playerName'}).span.text.replace('\\n', ' ').strip()\n",
    "    player_names.append(itm1)\n",
    "    \n",
    "    #Fetching the Raid Points scored by a Player\n",
    "    itm2 = item.find('div',attrs={'class':'sipk-lb-detailBlock sipk-lb-raidPoints'}).span.text\n",
    "    success_raids.append(itm2)\n",
    "\n",
    "#print(player_names)\n",
    "#print(success_raids)"
   ]
  },
  {
   "cell_type": "code",
   "execution_count": 10,
   "metadata": {},
   "outputs": [],
   "source": [
    "pyr_success_raids_seas1 = pd.DataFrame({'name':player_names, 'success_raids':success_raids})\n",
    "\n",
    "#pyr_success_raids_seas1.head()"
   ]
  },
  {
   "cell_type": "markdown",
   "metadata": {},
   "source": [
    "Get Raid Points"
   ]
  },
  {
   "cell_type": "code",
   "execution_count": 11,
   "metadata": {},
   "outputs": [],
   "source": [
    "driver.get('https://www.prokabaddi.com/stats/4-22-raid-points-statistics')"
   ]
  },
  {
   "cell_type": "markdown",
   "metadata": {},
   "source": [
    "Wait for above cell to execute"
   ]
  },
  {
   "cell_type": "code",
   "execution_count": 12,
   "metadata": {},
   "outputs": [],
   "source": [
    "time.sleep(7)\n",
    "\n",
    "myelement = driver.find_element_by_xpath('//*[@id=\"load_more\"]')\n",
    "\n",
    "while myelement.is_displayed():\n",
    "    if myelement.is_displayed():\n",
    "        myelement.click()\n",
    "\n",
    "time.sleep(3)"
   ]
  },
  {
   "cell_type": "code",
   "execution_count": 13,
   "metadata": {},
   "outputs": [],
   "source": [
    "soup = BeautifulSoup(driver.page_source)\n",
    "player = soup.findAll('div',attrs={'class':'lb-detailItem-wrap'})\n",
    "\n",
    "player_names = []\n",
    "raid_points = []\n",
    "\n",
    "for item in player:\n",
    "    \n",
    "    #Fetching the Player Name\n",
    "    itm1 = item.find('div',attrs={'class':'sipk-lb-playerName'}).span.text.replace('\\n', ' ').strip()\n",
    "    player_names.append(itm1)\n",
    "    \n",
    "    #Fetching the Raid Points scored by a Player\n",
    "    itm2 = item.find('div',attrs={'class':'sipk-lb-detailBlock sipk-lb-raidPoints'}).span.text\n",
    "    raid_points.append(itm2)\n",
    "\n",
    "#print(player_names)\n",
    "#print(raid_points)"
   ]
  },
  {
   "cell_type": "code",
   "execution_count": 14,
   "metadata": {},
   "outputs": [],
   "source": [
    "pyr_raid_points_seas1 = pd.DataFrame({'name':player_names, 'raid_points':raid_points})\n",
    "\n",
    "#pyr_raid_points_seas1.head()"
   ]
  },
  {
   "cell_type": "markdown",
   "metadata": {},
   "source": [
    "Get Successful Tackles"
   ]
  },
  {
   "cell_type": "code",
   "execution_count": 15,
   "metadata": {},
   "outputs": [],
   "source": [
    "driver.get('https://www.prokabaddi.com/stats/4-23-successful-tackles-statistics')"
   ]
  },
  {
   "cell_type": "markdown",
   "metadata": {},
   "source": [
    "Wait for above cell to execute"
   ]
  },
  {
   "cell_type": "code",
   "execution_count": 16,
   "metadata": {},
   "outputs": [],
   "source": [
    "time.sleep(7)\n",
    "\n",
    "myelement = driver.find_element_by_xpath('//*[@id=\"load_more\"]')\n",
    "\n",
    "while myelement.is_displayed():\n",
    "    if myelement.is_displayed():\n",
    "        myelement.click()\n",
    "\n",
    "time.sleep(3)"
   ]
  },
  {
   "cell_type": "code",
   "execution_count": 17,
   "metadata": {},
   "outputs": [],
   "source": [
    "soup = BeautifulSoup(driver.page_source)\n",
    "player = soup.findAll('div',attrs={'class':'lb-detailItem-wrap'})\n",
    "\n",
    "player_names = []\n",
    "success_tackles = []\n",
    "\n",
    "for item in player:\n",
    "    \n",
    "    #Fetching the Player Name\n",
    "    itm1 = item.find('div',attrs={'class':'sipk-lb-playerName'}).span.text.replace('\\n', ' ').strip()\n",
    "    player_names.append(itm1)\n",
    "    \n",
    "    #Fetching the Raid Points scored by a Player\n",
    "    itm2 = item.find('div',attrs={'class':'sipk-lb-detailBlock sipk-lb-raidPoints'}).span.text\n",
    "    success_tackles.append(itm2)\n",
    "\n",
    "#print(player_names)\n",
    "#print(success_tackles)"
   ]
  },
  {
   "cell_type": "code",
   "execution_count": 18,
   "metadata": {},
   "outputs": [],
   "source": [
    "pyr_success_tackles_seas1 = pd.DataFrame({'name':player_names, 'success_tackles':success_tackles})\n",
    "\n",
    "#pyr_success_tackles_seas1.head()"
   ]
  },
  {
   "cell_type": "markdown",
   "metadata": {},
   "source": [
    "Get Tackle Points"
   ]
  },
  {
   "cell_type": "code",
   "execution_count": 19,
   "metadata": {},
   "outputs": [],
   "source": [
    "driver.get('https://www.prokabaddi.com/stats/4-103-tackle-points-statistics')"
   ]
  },
  {
   "cell_type": "markdown",
   "metadata": {},
   "source": [
    "Wait for above cell to execute"
   ]
  },
  {
   "cell_type": "code",
   "execution_count": 20,
   "metadata": {},
   "outputs": [],
   "source": [
    "time.sleep(7)\n",
    "\n",
    "myelement = driver.find_element_by_xpath('//*[@id=\"load_more\"]')\n",
    "\n",
    "while myelement.is_displayed():\n",
    "    if myelement.is_displayed():\n",
    "        myelement.click()\n",
    "\n",
    "time.sleep(3)"
   ]
  },
  {
   "cell_type": "code",
   "execution_count": 21,
   "metadata": {},
   "outputs": [],
   "source": [
    "soup = BeautifulSoup(driver.page_source)\n",
    "player = soup.findAll('div',attrs={'class':'lb-detailItem-wrap'})\n",
    "\n",
    "player_names = []\n",
    "tackle_points = []\n",
    "\n",
    "for item in player:\n",
    "    \n",
    "    #Fetching the Player Name\n",
    "    itm1 = item.find('div',attrs={'class':'sipk-lb-playerName'}).span.text.replace('\\n', ' ').strip()\n",
    "    player_names.append(itm1)\n",
    "    \n",
    "    #Fetching the Raid Points scored by a Player\n",
    "    itm2 = item.find('div',attrs={'class':'sipk-lb-detailBlock sipk-lb-raidPoints'}).span.text\n",
    "    tackle_points.append(itm2)\n",
    "\n",
    "#print(player_names)\n",
    "#print(tackle_points)"
   ]
  },
  {
   "cell_type": "code",
   "execution_count": 22,
   "metadata": {},
   "outputs": [],
   "source": [
    "pyr_tackle_points_seas1 = pd.DataFrame({'name':player_names, 'tackle_points':tackle_points})\n",
    "\n",
    "#pyr_tackle_points_seas1.head()"
   ]
  },
  {
   "cell_type": "markdown",
   "metadata": {},
   "source": [
    "Get Average Raid Points"
   ]
  },
  {
   "cell_type": "code",
   "execution_count": 23,
   "metadata": {},
   "outputs": [],
   "source": [
    "driver.get('https://www.prokabaddi.com/stats/4-138-avg-raid-points-statistics')"
   ]
  },
  {
   "cell_type": "markdown",
   "metadata": {},
   "source": [
    "Wait for above cell to execute"
   ]
  },
  {
   "cell_type": "code",
   "execution_count": 24,
   "metadata": {},
   "outputs": [],
   "source": [
    "time.sleep(7)\n",
    "\n",
    "myelement = driver.find_element_by_xpath('//*[@id=\"load_more\"]')\n",
    "\n",
    "while myelement.is_displayed():\n",
    "    if myelement.is_displayed():\n",
    "        myelement.click()\n",
    "\n",
    "time.sleep(3)"
   ]
  },
  {
   "cell_type": "code",
   "execution_count": 25,
   "metadata": {},
   "outputs": [],
   "source": [
    "soup = BeautifulSoup(driver.page_source)\n",
    "player = soup.findAll('div',attrs={'class':'lb-detailItem-wrap'})\n",
    "\n",
    "player_names = []\n",
    "avg_raid_points = []\n",
    "\n",
    "for item in player:\n",
    "    \n",
    "    #Fetching the Player Name\n",
    "    itm1 = item.find('div',attrs={'class':'sipk-lb-playerName'}).span.text.replace('\\n', ' ').strip()\n",
    "    player_names.append(itm1)\n",
    "    \n",
    "    #Fetching the Raid Points scored by a Player\n",
    "    itm2 = item.find('div',attrs={'class':'sipk-lb-detailBlock sipk-lb-raidPoints'}).span.text\n",
    "    avg_raid_points.append(itm2)\n",
    "\n",
    "#print(player_names)\n",
    "#print(avg_raid_points)"
   ]
  },
  {
   "cell_type": "code",
   "execution_count": 26,
   "metadata": {},
   "outputs": [],
   "source": [
    "pyr_avg_raid_points_seas1 = pd.DataFrame({'name':player_names, 'avg_raid_points':avg_raid_points})\n",
    "\n",
    "#pyr_avg_raid_points_seas1.head()"
   ]
  },
  {
   "cell_type": "markdown",
   "metadata": {},
   "source": [
    "Get Average Tackle Points"
   ]
  },
  {
   "cell_type": "code",
   "execution_count": 27,
   "metadata": {},
   "outputs": [],
   "source": [
    "driver.get('https://www.prokabaddi.com/stats/4-139-avg-tackle-points-statistics')"
   ]
  },
  {
   "cell_type": "markdown",
   "metadata": {},
   "source": [
    "Wait for above cell to execute"
   ]
  },
  {
   "cell_type": "code",
   "execution_count": 28,
   "metadata": {},
   "outputs": [],
   "source": [
    "time.sleep(7)\n",
    "\n",
    "myelement = driver.find_element_by_xpath('//*[@id=\"load_more\"]')\n",
    "\n",
    "while myelement.is_displayed():\n",
    "    if myelement.is_displayed():\n",
    "        myelement.click()\n",
    "\n",
    "time.sleep(3)"
   ]
  },
  {
   "cell_type": "code",
   "execution_count": 29,
   "metadata": {},
   "outputs": [],
   "source": [
    "soup = BeautifulSoup(driver.page_source)\n",
    "player = soup.findAll('div',attrs={'class':'lb-detailItem-wrap'})\n",
    "\n",
    "player_names = []\n",
    "avg_tackle_points = []\n",
    "\n",
    "for item in player:\n",
    "    \n",
    "    #Fetching the Player Name\n",
    "    itm1 = item.find('div',attrs={'class':'sipk-lb-playerName'}).span.text.replace('\\n', ' ').strip()\n",
    "    player_names.append(itm1)\n",
    "    \n",
    "    #Fetching the Raid Points scored by a Player\n",
    "    itm2 = item.find('div',attrs={'class':'sipk-lb-detailBlock sipk-lb-raidPoints'}).span.text\n",
    "    avg_tackle_points.append(itm2)\n",
    "\n",
    "#print(player_names)\n",
    "#print(avg_tackle_points)"
   ]
  },
  {
   "cell_type": "code",
   "execution_count": 30,
   "metadata": {},
   "outputs": [],
   "source": [
    "pyr_avg_tackle_points_seas1 = pd.DataFrame({'name':player_names, 'avg_tackle_points':avg_tackle_points})\n",
    "\n",
    "#pyr_avg_tackle_points_seas1.head()"
   ]
  },
  {
   "cell_type": "markdown",
   "metadata": {},
   "source": [
    "Get Do Or Die Raid Points"
   ]
  },
  {
   "cell_type": "code",
   "execution_count": 31,
   "metadata": {},
   "outputs": [],
   "source": [
    "driver.get('https://www.prokabaddi.com/stats/4-132-do-or-die-raid-points-statistics')"
   ]
  },
  {
   "cell_type": "markdown",
   "metadata": {},
   "source": [
    "Wait for above cell to execute"
   ]
  },
  {
   "cell_type": "code",
   "execution_count": 32,
   "metadata": {},
   "outputs": [],
   "source": [
    "time.sleep(7)\n",
    "\n",
    "myelement = driver.find_element_by_xpath('//*[@id=\"load_more\"]')\n",
    "\n",
    "while myelement.is_displayed():\n",
    "    if myelement.is_displayed():\n",
    "        myelement.click()\n",
    "\n",
    "time.sleep(3)"
   ]
  },
  {
   "cell_type": "code",
   "execution_count": 33,
   "metadata": {},
   "outputs": [],
   "source": [
    "soup = BeautifulSoup(driver.page_source)\n",
    "player = soup.findAll('div',attrs={'class':'lb-detailItem-wrap'})\n",
    "\n",
    "player_names = []\n",
    "dod_raid_points = []\n",
    "\n",
    "for item in player:\n",
    "    \n",
    "    #Fetching the Player Name\n",
    "    itm1 = item.find('div',attrs={'class':'sipk-lb-playerName'}).span.text.replace('\\n', ' ').strip()\n",
    "    player_names.append(itm1)\n",
    "    \n",
    "    #Fetching the Raid Points scored by a Player\n",
    "    itm2 = item.find('div',attrs={'class':'sipk-lb-detailBlock sipk-lb-raidPoints'}).span.text\n",
    "    dod_raid_points.append(itm2)\n",
    "\n",
    "#print(player_names)\n",
    "#print(dod_raid_points)"
   ]
  },
  {
   "cell_type": "code",
   "execution_count": 34,
   "metadata": {},
   "outputs": [],
   "source": [
    "pyr_dod_raid_points_seas1 = pd.DataFrame({'name':player_names, 'dod_raid_points':dod_raid_points})\n",
    "\n",
    "#pyr_dod_raid_points_seas1.head()"
   ]
  },
  {
   "cell_type": "markdown",
   "metadata": {},
   "source": [
    "Get Super Raids"
   ]
  },
  {
   "cell_type": "code",
   "execution_count": 35,
   "metadata": {},
   "outputs": [],
   "source": [
    "driver.get('https://www.prokabaddi.com/stats/4-104-super-raids-statistics')"
   ]
  },
  {
   "cell_type": "markdown",
   "metadata": {},
   "source": [
    "Wait for above cell to execute"
   ]
  },
  {
   "cell_type": "code",
   "execution_count": 36,
   "metadata": {},
   "outputs": [],
   "source": [
    "time.sleep(7)\n",
    "\n",
    "myelement = driver.find_element_by_xpath('//*[@id=\"load_more\"]')\n",
    "\n",
    "while myelement.is_displayed():\n",
    "    if myelement.is_displayed():\n",
    "        myelement.click()\n",
    "\n",
    "time.sleep(3)"
   ]
  },
  {
   "cell_type": "code",
   "execution_count": 37,
   "metadata": {},
   "outputs": [],
   "source": [
    "soup = BeautifulSoup(driver.page_source)\n",
    "player = soup.findAll('div',attrs={'class':'lb-detailItem-wrap'})\n",
    "\n",
    "player_names = []\n",
    "super_raids = []\n",
    "\n",
    "for item in player:\n",
    "    \n",
    "    #Fetching the Player Name\n",
    "    itm1 = item.find('div',attrs={'class':'sipk-lb-playerName'}).span.text.replace('\\n', ' ').strip()\n",
    "    player_names.append(itm1)\n",
    "    \n",
    "    #Fetching the Raid Points scored by a Player\n",
    "    itm2 = item.find('div',attrs={'class':'sipk-lb-detailBlock sipk-lb-raidPoints'}).span.text\n",
    "    super_raids.append(itm2)\n",
    "\n",
    "#print(player_names)\n",
    "#print(super_raids)"
   ]
  },
  {
   "cell_type": "code",
   "execution_count": 38,
   "metadata": {},
   "outputs": [],
   "source": [
    "pyr_super_raids_seas1 = pd.DataFrame({'name':player_names, 'super_raids':super_raids})\n",
    "\n",
    "#pyr_super_raids_seas1.head()"
   ]
  },
  {
   "cell_type": "markdown",
   "metadata": {},
   "source": [
    "Get Super Tackles"
   ]
  },
  {
   "cell_type": "code",
   "execution_count": 39,
   "metadata": {},
   "outputs": [],
   "source": [
    "driver.get('https://www.prokabaddi.com/stats/4-28-super-tackles-statistics')"
   ]
  },
  {
   "cell_type": "markdown",
   "metadata": {},
   "source": [
    "Wait for above cell to execute"
   ]
  },
  {
   "cell_type": "code",
   "execution_count": 40,
   "metadata": {},
   "outputs": [],
   "source": [
    "time.sleep(7)\n",
    "\n",
    "myelement = driver.find_element_by_xpath('//*[@id=\"load_more\"]')\n",
    "\n",
    "while myelement.is_displayed():\n",
    "    if myelement.is_displayed():\n",
    "        myelement.click()\n",
    "\n",
    "time.sleep(3)"
   ]
  },
  {
   "cell_type": "code",
   "execution_count": 41,
   "metadata": {},
   "outputs": [],
   "source": [
    "soup = BeautifulSoup(driver.page_source)\n",
    "player = soup.findAll('div',attrs={'class':'lb-detailItem-wrap'})\n",
    "\n",
    "player_names = []\n",
    "super_tackles = []\n",
    "\n",
    "for item in player:\n",
    "    \n",
    "    #Fetching the Player Name\n",
    "    itm1 = item.find('div',attrs={'class':'sipk-lb-playerName'}).span.text.replace('\\n', ' ').strip()\n",
    "    player_names.append(itm1)\n",
    "    \n",
    "    #Fetching the Raid Points scored by a Player\n",
    "    itm2 = item.find('div',attrs={'class':'sipk-lb-detailBlock sipk-lb-raidPoints'}).span.text\n",
    "    super_tackles.append(itm2)\n",
    "\n",
    "#print(player_names)\n",
    "#print(super_tackles)"
   ]
  },
  {
   "cell_type": "code",
   "execution_count": 42,
   "metadata": {
    "scrolled": true
   },
   "outputs": [],
   "source": [
    "pyr_super_tackles_seas1 = pd.DataFrame({'name':player_names, 'super_tackles':super_tackles})\n",
    "\n",
    "#pyr_super_tackles_seas1.head()"
   ]
  },
  {
   "cell_type": "markdown",
   "metadata": {},
   "source": [
    "Get Super 10s"
   ]
  },
  {
   "cell_type": "code",
   "execution_count": 43,
   "metadata": {},
   "outputs": [],
   "source": [
    "driver.get('https://www.prokabaddi.com/stats/4-100-super-10s-statistics')"
   ]
  },
  {
   "cell_type": "markdown",
   "metadata": {},
   "source": [
    "Wait for above cell to execute"
   ]
  },
  {
   "cell_type": "code",
   "execution_count": 44,
   "metadata": {},
   "outputs": [],
   "source": [
    "time.sleep(7)\n",
    "\n",
    "myelement = driver.find_element_by_xpath('//*[@id=\"load_more\"]')\n",
    "\n",
    "while myelement.is_displayed():\n",
    "    if myelement.is_displayed():\n",
    "        myelement.click()\n",
    "\n",
    "time.sleep(3)"
   ]
  },
  {
   "cell_type": "code",
   "execution_count": 45,
   "metadata": {},
   "outputs": [],
   "source": [
    "soup = BeautifulSoup(driver.page_source)\n",
    "player = soup.findAll('div',attrs={'class':'lb-detailItem-wrap'})\n",
    "\n",
    "player_names = []\n",
    "super_10s = []\n",
    "\n",
    "for item in player:\n",
    "    \n",
    "    #Fetching the Player Name\n",
    "    itm1 = item.find('div',attrs={'class':'sipk-lb-playerName'}).span.text.replace('\\n', ' ').strip()\n",
    "    player_names.append(itm1)\n",
    "    \n",
    "    #Fetching the Raid Points scored by a Player\n",
    "    itm2 = item.find('div',attrs={'class':'sipk-lb-detailBlock sipk-lb-raidPoints'}).span.text\n",
    "    super_10s.append(itm2)\n",
    "\n",
    "#print(player_names)\n",
    "#print(super_10s)"
   ]
  },
  {
   "cell_type": "code",
   "execution_count": 46,
   "metadata": {
    "scrolled": false
   },
   "outputs": [],
   "source": [
    "pyr_super_10s_seas1 = pd.DataFrame({'name':player_names, 'super_10s':super_10s})\n",
    "\n",
    "#pyr_super_10s_seas1.head()"
   ]
  },
  {
   "cell_type": "markdown",
   "metadata": {},
   "source": [
    "Get High 5s"
   ]
  },
  {
   "cell_type": "code",
   "execution_count": 47,
   "metadata": {},
   "outputs": [],
   "source": [
    "driver.get('https://www.prokabaddi.com/stats/4-101-high-5s-statistics')"
   ]
  },
  {
   "cell_type": "markdown",
   "metadata": {},
   "source": [
    "Wait for above cell to execute"
   ]
  },
  {
   "cell_type": "code",
   "execution_count": 48,
   "metadata": {},
   "outputs": [],
   "source": [
    "time.sleep(7)\n",
    "\n",
    "myelement = driver.find_element_by_xpath('//*[@id=\"load_more\"]')\n",
    "\n",
    "while myelement.is_displayed():\n",
    "    if myelement.is_displayed():\n",
    "        myelement.click()\n",
    "\n",
    "time.sleep(3)"
   ]
  },
  {
   "cell_type": "code",
   "execution_count": 49,
   "metadata": {},
   "outputs": [],
   "source": [
    "soup = BeautifulSoup(driver.page_source)\n",
    "player = soup.findAll('div',attrs={'class':'lb-detailItem-wrap'})\n",
    "\n",
    "player_names = []\n",
    "high_5s = []\n",
    "\n",
    "for item in player:\n",
    "    \n",
    "    #Fetching the Player Name\n",
    "    itm1 = item.find('div',attrs={'class':'sipk-lb-playerName'}).span.text.replace('\\n', ' ').strip()\n",
    "    player_names.append(itm1)\n",
    "    \n",
    "    #Fetching the Raid Points scored by a Player\n",
    "    itm2 = item.find('div',attrs={'class':'sipk-lb-detailBlock sipk-lb-raidPoints'}).span.text\n",
    "    high_5s.append(itm2)\n",
    "\n",
    "#print(player_names)\n",
    "#print(high_5s)"
   ]
  },
  {
   "cell_type": "code",
   "execution_count": 50,
   "metadata": {
    "scrolled": false
   },
   "outputs": [],
   "source": [
    "pyr_high_5s_seas1 = pd.DataFrame({'name':player_names, 'high_5s':high_5s})\n",
    "\n",
    "#pyr_high_5s_seas1.head()"
   ]
  },
  {
   "cell_type": "markdown",
   "metadata": {},
   "source": [
    "Merge Player Stats into a master frame"
   ]
  },
  {
   "cell_type": "code",
   "execution_count": 51,
   "metadata": {},
   "outputs": [
    {
     "data": {
      "text/html": [
       "<div>\n",
       "<style scoped>\n",
       "    .dataframe tbody tr th:only-of-type {\n",
       "        vertical-align: middle;\n",
       "    }\n",
       "\n",
       "    .dataframe tbody tr th {\n",
       "        vertical-align: top;\n",
       "    }\n",
       "\n",
       "    .dataframe thead th {\n",
       "        text-align: right;\n",
       "    }\n",
       "</style>\n",
       "<table border=\"1\" class=\"dataframe\">\n",
       "  <thead>\n",
       "    <tr style=\"text-align: right;\">\n",
       "      <th></th>\n",
       "      <th>name</th>\n",
       "      <th>profile</th>\n",
       "      <th>team</th>\n",
       "      <th>matches_played</th>\n",
       "      <th>total_points</th>\n",
       "      <th>success_raids</th>\n",
       "      <th>raid_points</th>\n",
       "      <th>success_tackles</th>\n",
       "      <th>tackle_points</th>\n",
       "      <th>avg_raid_points</th>\n",
       "      <th>avg_tackle_points</th>\n",
       "      <th>dod_raid_points</th>\n",
       "      <th>super_raids</th>\n",
       "      <th>super_tackles</th>\n",
       "      <th>super_10s</th>\n",
       "      <th>high_5s</th>\n",
       "    </tr>\n",
       "  </thead>\n",
       "  <tbody>\n",
       "    <tr>\n",
       "      <th>0</th>\n",
       "      <td>Rahul Chaudhari</td>\n",
       "      <td>Raider</td>\n",
       "      <td>telugu-titans</td>\n",
       "      <td>16</td>\n",
       "      <td>150</td>\n",
       "      <td>110</td>\n",
       "      <td>146</td>\n",
       "      <td>3</td>\n",
       "      <td>4</td>\n",
       "      <td>9.13</td>\n",
       "      <td>0.25</td>\n",
       "      <td>38</td>\n",
       "      <td>6</td>\n",
       "      <td>1</td>\n",
       "      <td>7</td>\n",
       "      <td>0</td>\n",
       "    </tr>\n",
       "    <tr>\n",
       "      <th>1</th>\n",
       "      <td>Pardeep Narwal</td>\n",
       "      <td>Raider</td>\n",
       "      <td>patna-pirates</td>\n",
       "      <td>16</td>\n",
       "      <td>133</td>\n",
       "      <td>100</td>\n",
       "      <td>131</td>\n",
       "      <td>1</td>\n",
       "      <td>2</td>\n",
       "      <td>8.19</td>\n",
       "      <td>0.13</td>\n",
       "      <td>23</td>\n",
       "      <td>3</td>\n",
       "      <td>1</td>\n",
       "      <td>5</td>\n",
       "      <td>0</td>\n",
       "    </tr>\n",
       "    <tr>\n",
       "      <th>2</th>\n",
       "      <td>Deepak Niwas Hooda</td>\n",
       "      <td>All Rounder</td>\n",
       "      <td>puneri-paltan</td>\n",
       "      <td>16</td>\n",
       "      <td>130</td>\n",
       "      <td>108</td>\n",
       "      <td>126</td>\n",
       "      <td>4</td>\n",
       "      <td>4</td>\n",
       "      <td>7.88</td>\n",
       "      <td>0.25</td>\n",
       "      <td>34</td>\n",
       "      <td>2</td>\n",
       "      <td>0</td>\n",
       "      <td>2</td>\n",
       "      <td>0</td>\n",
       "    </tr>\n",
       "    <tr>\n",
       "      <th>3</th>\n",
       "      <td>Rohit Kumar</td>\n",
       "      <td>Raider</td>\n",
       "      <td>bengaluru-bulls</td>\n",
       "      <td>14</td>\n",
       "      <td>100</td>\n",
       "      <td>75</td>\n",
       "      <td>93</td>\n",
       "      <td>6</td>\n",
       "      <td>7</td>\n",
       "      <td>6.64</td>\n",
       "      <td>0.5</td>\n",
       "      <td>15</td>\n",
       "      <td>3</td>\n",
       "      <td>1</td>\n",
       "      <td>1</td>\n",
       "      <td>0</td>\n",
       "    </tr>\n",
       "    <tr>\n",
       "      <th>4</th>\n",
       "      <td>Kashiling Adake</td>\n",
       "      <td>Raider</td>\n",
       "      <td>dabang-delhi-kc</td>\n",
       "      <td>13</td>\n",
       "      <td>89</td>\n",
       "      <td>58</td>\n",
       "      <td>78</td>\n",
       "      <td>8</td>\n",
       "      <td>11</td>\n",
       "      <td>6</td>\n",
       "      <td>0.85</td>\n",
       "      <td>17</td>\n",
       "      <td>3</td>\n",
       "      <td>3</td>\n",
       "      <td>2</td>\n",
       "      <td>0</td>\n",
       "    </tr>\n",
       "  </tbody>\n",
       "</table>\n",
       "</div>"
      ],
      "text/plain": [
       "                 name      profile             team matches_played  \\\n",
       "0     Rahul Chaudhari       Raider    telugu-titans             16   \n",
       "1      Pardeep Narwal       Raider    patna-pirates             16   \n",
       "2  Deepak Niwas Hooda  All Rounder    puneri-paltan             16   \n",
       "3         Rohit Kumar       Raider  bengaluru-bulls             14   \n",
       "4     Kashiling Adake       Raider  dabang-delhi-kc             13   \n",
       "\n",
       "  total_points success_raids raid_points success_tackles tackle_points  \\\n",
       "0          150           110         146               3             4   \n",
       "1          133           100         131               1             2   \n",
       "2          130           108         126               4             4   \n",
       "3          100            75          93               6             7   \n",
       "4           89            58          78               8            11   \n",
       "\n",
       "  avg_raid_points avg_tackle_points dod_raid_points super_raids super_tackles  \\\n",
       "0            9.13              0.25              38           6             1   \n",
       "1            8.19              0.13              23           3             1   \n",
       "2            7.88              0.25              34           2             0   \n",
       "3            6.64               0.5              15           3             1   \n",
       "4               6              0.85              17           3             3   \n",
       "\n",
       "  super_10s high_5s  \n",
       "0         7       0  \n",
       "1         5       0  \n",
       "2         2       0  \n",
       "3         1       0  \n",
       "4         2       0  "
      ]
     },
     "execution_count": 51,
     "metadata": {},
     "output_type": "execute_result"
    }
   ],
   "source": [
    "temp1 = pd.merge(pyr_tot_points_seas1, pyr_success_raids_seas1, on='name', how='left')\n",
    "temp2 = pd.merge(temp1, pyr_raid_points_seas1, on='name', how='left')\n",
    "temp3 = pd.merge(temp2, pyr_success_tackles_seas1, on='name', how='left')\n",
    "temp4 = pd.merge(temp3, pyr_tackle_points_seas1, on='name', how='left')\n",
    "temp5 = pd.merge(temp4, pyr_avg_raid_points_seas1, on='name', how='left')\n",
    "temp6 = pd.merge(temp5, pyr_avg_tackle_points_seas1, on='name', how='left')\n",
    "temp7 = pd.merge(temp6, pyr_dod_raid_points_seas1, on='name', how='left')\n",
    "temp8 = pd.merge(temp7, pyr_super_raids_seas1, on='name', how='left')\n",
    "temp9 = pd.merge(temp8, pyr_super_tackles_seas1, on='name', how='left')\n",
    "temp10 = pd.merge(temp9, pyr_super_10s_seas1, on='name', how='left')\n",
    "season1_plyr_stats = pd.merge(temp10, pyr_high_5s_seas1, on='name', how='left')\n",
    "\n",
    "season1_plyr_stats = season1_plyr_stats.fillna(0)\n",
    "\n",
    "season1_plyr_stats.head()"
   ]
  },
  {
   "cell_type": "code",
   "execution_count": 52,
   "metadata": {},
   "outputs": [],
   "source": [
    "outfile = open('data/season4_player_stats.csv', mode='w')\n",
    "season1_plyr_stats.to_csv('data/season4_player_stats.csv', mode='w', index = False, header=True)\n",
    "outfile.close()"
   ]
  },
  {
   "cell_type": "markdown",
   "metadata": {},
   "source": [
    "### Team Stats"
   ]
  },
  {
   "cell_type": "markdown",
   "metadata": {},
   "source": [
    "Getting the Team Stats<br>\n",
    "First we will get the Total Points secured by Each Team"
   ]
  },
  {
   "cell_type": "code",
   "execution_count": 53,
   "metadata": {},
   "outputs": [],
   "source": [
    "driver.get('https://www.prokabaddi.com/stats/4-96-total-points-scored-statistics')\n",
    "time.sleep(5)"
   ]
  },
  {
   "cell_type": "code",
   "execution_count": 54,
   "metadata": {},
   "outputs": [],
   "source": [
    "soup = BeautifulSoup(driver.page_source)\n",
    "team = soup.findAll('div',attrs={'class':'lb-detailItem-wrap'})\n",
    "\n",
    "team_names = []\n",
    "matches_played = []\n",
    "total_points = []\n",
    "\n",
    "for item in team:\n",
    "    \n",
    "    #Fetching the Team\n",
    "    itm1 = item.find('a',attrs={'class':'sipk-lb-detailBlock sipk-playerDesc'})\n",
    "    srch = re.findall('u-mumba|telugu-titans|jaipur-pink-panthers|bengaluru-bulls|dabang-delhi-kc|patna-pirates|puneri-paltan|bengal-warriors', itm1.attrs['href'])\n",
    "    team_names.append(srch[0])\n",
    "    \n",
    "    #Fetching the Matches Played by Team\n",
    "    itm2 = item.find('div',attrs={'class':'sipk-lb-detailBlock sipk-lb-matchedPlayed'}).span.text\n",
    "    matches_played.append(itm2)\n",
    "    \n",
    "    #Fetching the Total Points scored by a Team\n",
    "    itm3 = item.find('div',attrs={'class':'sipk-lb-detailBlock sipk-lb-raidPoints'}).span.text\n",
    "    total_points.append(itm3)\n",
    "\n",
    "#print(team_names)\n",
    "#print(matches_played)\n",
    "#print(total_points)"
   ]
  },
  {
   "cell_type": "code",
   "execution_count": 55,
   "metadata": {},
   "outputs": [
    {
     "data": {
      "text/html": [
       "<div>\n",
       "<style scoped>\n",
       "    .dataframe tbody tr th:only-of-type {\n",
       "        vertical-align: middle;\n",
       "    }\n",
       "\n",
       "    .dataframe tbody tr th {\n",
       "        vertical-align: top;\n",
       "    }\n",
       "\n",
       "    .dataframe thead th {\n",
       "        text-align: right;\n",
       "    }\n",
       "</style>\n",
       "<table border=\"1\" class=\"dataframe\">\n",
       "  <thead>\n",
       "    <tr style=\"text-align: right;\">\n",
       "      <th></th>\n",
       "      <th>team_name</th>\n",
       "      <th>matches_played</th>\n",
       "      <th>total_points_scored</th>\n",
       "    </tr>\n",
       "  </thead>\n",
       "  <tbody>\n",
       "    <tr>\n",
       "      <th>0</th>\n",
       "      <td>puneri-paltan</td>\n",
       "      <td>16</td>\n",
       "      <td>515</td>\n",
       "    </tr>\n",
       "    <tr>\n",
       "      <th>1</th>\n",
       "      <td>telugu-titans</td>\n",
       "      <td>16</td>\n",
       "      <td>506</td>\n",
       "    </tr>\n",
       "    <tr>\n",
       "      <th>2</th>\n",
       "      <td>patna-pirates</td>\n",
       "      <td>16</td>\n",
       "      <td>492</td>\n",
       "    </tr>\n",
       "    <tr>\n",
       "      <th>3</th>\n",
       "      <td>jaipur-pink-panthers</td>\n",
       "      <td>16</td>\n",
       "      <td>475</td>\n",
       "    </tr>\n",
       "    <tr>\n",
       "      <th>4</th>\n",
       "      <td>dabang-delhi-kc</td>\n",
       "      <td>14</td>\n",
       "      <td>419</td>\n",
       "    </tr>\n",
       "  </tbody>\n",
       "</table>\n",
       "</div>"
      ],
      "text/plain": [
       "              team_name matches_played total_points_scored\n",
       "0         puneri-paltan             16                 515\n",
       "1         telugu-titans             16                 506\n",
       "2         patna-pirates             16                 492\n",
       "3  jaipur-pink-panthers             16                 475\n",
       "4       dabang-delhi-kc             14                 419"
      ]
     },
     "execution_count": 55,
     "metadata": {},
     "output_type": "execute_result"
    }
   ],
   "source": [
    "team_tot_points_seas1 = pd.DataFrame({'team_name':team_names, 'matches_played':matches_played\n",
    "                                      , 'total_points_scored':total_points})\n",
    "\n",
    "team_tot_points_seas1.head()"
   ]
  },
  {
   "cell_type": "markdown",
   "metadata": {},
   "source": [
    "Total Points Conceded"
   ]
  },
  {
   "cell_type": "code",
   "execution_count": 56,
   "metadata": {},
   "outputs": [],
   "source": [
    "driver.get('https://www.prokabaddi.com/stats/4-133-total-points-conceded-statistics')\n",
    "time.sleep(5)"
   ]
  },
  {
   "cell_type": "code",
   "execution_count": 57,
   "metadata": {},
   "outputs": [],
   "source": [
    "soup = BeautifulSoup(driver.page_source)\n",
    "team = soup.findAll('div',attrs={'class':'lb-detailItem-wrap'})\n",
    "\n",
    "team_names = []\n",
    "total_points_conceded = []\n",
    "\n",
    "for item in team:\n",
    "    \n",
    "    itm1 = item.find('a',attrs={'class':'sipk-lb-detailBlock sipk-playerDesc'})\n",
    "    srch = re.findall('u-mumba|telugu-titans|jaipur-pink-panthers|bengaluru-bulls|dabang-delhi-kc|patna-pirates|puneri-paltan|bengal-warriors', itm1.attrs['href'])\n",
    "    team_names.append(srch[0])\n",
    "    \n",
    "    itm3 = item.find('div',attrs={'class':'sipk-lb-detailBlock sipk-lb-raidPoints'}).span.text\n",
    "    total_points_conceded.append(itm3)\n",
    "\n",
    "#print(team_names)\n",
    "#print(total_points_conceded)"
   ]
  },
  {
   "cell_type": "code",
   "execution_count": 58,
   "metadata": {},
   "outputs": [],
   "source": [
    "team_tot_points_conceded_seas1 = pd.DataFrame({'team_name':team_names, 'total_points_conceded':total_points_conceded})\n",
    "\n",
    "#team_tot_points_conceded_seas1.head()"
   ]
  },
  {
   "cell_type": "markdown",
   "metadata": {},
   "source": [
    "Average Points Scored"
   ]
  },
  {
   "cell_type": "code",
   "execution_count": 59,
   "metadata": {},
   "outputs": [],
   "source": [
    "driver.get('https://www.prokabaddi.com/stats/4-140-avg-points-scored-statistics')\n",
    "time.sleep(5)"
   ]
  },
  {
   "cell_type": "code",
   "execution_count": 60,
   "metadata": {},
   "outputs": [
    {
     "name": "stdout",
     "output_type": "stream",
     "text": [
      "['puneri-paltan', 'patna-pirates', 'telugu-titans', 'dabang-delhi-kc', 'jaipur-pink-panthers', 'u-mumba', 'bengal-warriors', 'bengaluru-bulls']\n",
      "['27.25', '27.18', '26.81', '25.71', '25.31', '24.85', '23.35', '23.21']\n"
     ]
    }
   ],
   "source": [
    "soup = BeautifulSoup(driver.page_source)\n",
    "team = soup.findAll('div',attrs={'class':'lb-detailItem-wrap'})\n",
    "\n",
    "team_names = []\n",
    "avg_points_scored = []\n",
    "\n",
    "for item in team:\n",
    "    \n",
    "    itm1 = item.find('a',attrs={'class':'sipk-lb-detailBlock sipk-playerDesc'})\n",
    "    srch = re.findall('u-mumba|telugu-titans|jaipur-pink-panthers|bengaluru-bulls|dabang-delhi-kc|patna-pirates|puneri-paltan|bengal-warriors', itm1.attrs['href'])\n",
    "    team_names.append(srch[0])\n",
    "    \n",
    "    itm3 = item.find('div',attrs={'class':'sipk-lb-detailBlock sipk-lb-raidPoints'}).span.text\n",
    "    avg_points_scored.append(itm3)\n",
    "\n",
    "print(team_names)\n",
    "print(avg_points_scored)"
   ]
  },
  {
   "cell_type": "code",
   "execution_count": 61,
   "metadata": {},
   "outputs": [
    {
     "data": {
      "text/html": [
       "<div>\n",
       "<style scoped>\n",
       "    .dataframe tbody tr th:only-of-type {\n",
       "        vertical-align: middle;\n",
       "    }\n",
       "\n",
       "    .dataframe tbody tr th {\n",
       "        vertical-align: top;\n",
       "    }\n",
       "\n",
       "    .dataframe thead th {\n",
       "        text-align: right;\n",
       "    }\n",
       "</style>\n",
       "<table border=\"1\" class=\"dataframe\">\n",
       "  <thead>\n",
       "    <tr style=\"text-align: right;\">\n",
       "      <th></th>\n",
       "      <th>team_name</th>\n",
       "      <th>team_avg_points</th>\n",
       "    </tr>\n",
       "  </thead>\n",
       "  <tbody>\n",
       "    <tr>\n",
       "      <th>0</th>\n",
       "      <td>puneri-paltan</td>\n",
       "      <td>27.25</td>\n",
       "    </tr>\n",
       "    <tr>\n",
       "      <th>1</th>\n",
       "      <td>patna-pirates</td>\n",
       "      <td>27.18</td>\n",
       "    </tr>\n",
       "    <tr>\n",
       "      <th>2</th>\n",
       "      <td>telugu-titans</td>\n",
       "      <td>26.81</td>\n",
       "    </tr>\n",
       "    <tr>\n",
       "      <th>3</th>\n",
       "      <td>dabang-delhi-kc</td>\n",
       "      <td>25.71</td>\n",
       "    </tr>\n",
       "    <tr>\n",
       "      <th>4</th>\n",
       "      <td>jaipur-pink-panthers</td>\n",
       "      <td>25.31</td>\n",
       "    </tr>\n",
       "  </tbody>\n",
       "</table>\n",
       "</div>"
      ],
      "text/plain": [
       "              team_name team_avg_points\n",
       "0         puneri-paltan           27.25\n",
       "1         patna-pirates           27.18\n",
       "2         telugu-titans           26.81\n",
       "3       dabang-delhi-kc           25.71\n",
       "4  jaipur-pink-panthers           25.31"
      ]
     },
     "execution_count": 61,
     "metadata": {},
     "output_type": "execute_result"
    }
   ],
   "source": [
    "team_avg_points_scored_seas1 = pd.DataFrame({'team_name':team_names, 'team_avg_points':avg_points_scored})\n",
    "team_avg_points_scored_seas1.head()"
   ]
  },
  {
   "cell_type": "markdown",
   "metadata": {},
   "source": [
    "Successful Raids"
   ]
  },
  {
   "cell_type": "code",
   "execution_count": 62,
   "metadata": {},
   "outputs": [],
   "source": [
    "driver.get('https://www.prokabaddi.com/stats/4-13-successful-raids-statistics')\n",
    "time.sleep(5)"
   ]
  },
  {
   "cell_type": "code",
   "execution_count": 63,
   "metadata": {},
   "outputs": [
    {
     "name": "stdout",
     "output_type": "stream",
     "text": [
      "['puneri-paltan', 'telugu-titans', 'patna-pirates', 'jaipur-pink-panthers', 'u-mumba', 'bengal-warriors', 'dabang-delhi-kc', 'bengaluru-bulls']\n",
      "['230', '206', '206', '203', '188', '167', '162', '157']\n"
     ]
    }
   ],
   "source": [
    "soup = BeautifulSoup(driver.page_source)\n",
    "team = soup.findAll('div',attrs={'class':'lb-detailItem-wrap'})\n",
    "\n",
    "team_names = []\n",
    "team_success_raids = []\n",
    "\n",
    "for item in team:\n",
    "    \n",
    "    itm1 = item.find('a',attrs={'class':'sipk-lb-detailBlock sipk-playerDesc'})\n",
    "    srch = re.findall('u-mumba|telugu-titans|jaipur-pink-panthers|bengaluru-bulls|dabang-delhi-kc|patna-pirates|puneri-paltan|bengal-warriors', itm1.attrs['href'])\n",
    "    team_names.append(srch[0])\n",
    "    \n",
    "    itm3 = item.find('div',attrs={'class':'sipk-lb-detailBlock sipk-lb-raidPoints'}).span.text\n",
    "    team_success_raids.append(itm3)\n",
    "\n",
    "print(team_names)\n",
    "print(team_success_raids)"
   ]
  },
  {
   "cell_type": "code",
   "execution_count": 64,
   "metadata": {
    "scrolled": true
   },
   "outputs": [
    {
     "data": {
      "text/html": [
       "<div>\n",
       "<style scoped>\n",
       "    .dataframe tbody tr th:only-of-type {\n",
       "        vertical-align: middle;\n",
       "    }\n",
       "\n",
       "    .dataframe tbody tr th {\n",
       "        vertical-align: top;\n",
       "    }\n",
       "\n",
       "    .dataframe thead th {\n",
       "        text-align: right;\n",
       "    }\n",
       "</style>\n",
       "<table border=\"1\" class=\"dataframe\">\n",
       "  <thead>\n",
       "    <tr style=\"text-align: right;\">\n",
       "      <th></th>\n",
       "      <th>team_name</th>\n",
       "      <th>team_success_raids</th>\n",
       "    </tr>\n",
       "  </thead>\n",
       "  <tbody>\n",
       "    <tr>\n",
       "      <th>0</th>\n",
       "      <td>puneri-paltan</td>\n",
       "      <td>230</td>\n",
       "    </tr>\n",
       "    <tr>\n",
       "      <th>1</th>\n",
       "      <td>telugu-titans</td>\n",
       "      <td>206</td>\n",
       "    </tr>\n",
       "    <tr>\n",
       "      <th>2</th>\n",
       "      <td>patna-pirates</td>\n",
       "      <td>206</td>\n",
       "    </tr>\n",
       "    <tr>\n",
       "      <th>3</th>\n",
       "      <td>jaipur-pink-panthers</td>\n",
       "      <td>203</td>\n",
       "    </tr>\n",
       "    <tr>\n",
       "      <th>4</th>\n",
       "      <td>u-mumba</td>\n",
       "      <td>188</td>\n",
       "    </tr>\n",
       "  </tbody>\n",
       "</table>\n",
       "</div>"
      ],
      "text/plain": [
       "              team_name team_success_raids\n",
       "0         puneri-paltan                230\n",
       "1         telugu-titans                206\n",
       "2         patna-pirates                206\n",
       "3  jaipur-pink-panthers                203\n",
       "4               u-mumba                188"
      ]
     },
     "execution_count": 64,
     "metadata": {},
     "output_type": "execute_result"
    }
   ],
   "source": [
    "team_success_raids_seas1 = pd.DataFrame({'team_name':team_names, 'team_success_raids':team_success_raids})\n",
    "team_success_raids_seas1.head()"
   ]
  },
  {
   "cell_type": "markdown",
   "metadata": {},
   "source": [
    "Raid Points"
   ]
  },
  {
   "cell_type": "code",
   "execution_count": 65,
   "metadata": {},
   "outputs": [],
   "source": [
    "driver.get('https://www.prokabaddi.com/stats/4-97-raid-points-statistics')\n",
    "time.sleep(5)"
   ]
  },
  {
   "cell_type": "code",
   "execution_count": 66,
   "metadata": {},
   "outputs": [
    {
     "name": "stdout",
     "output_type": "stream",
     "text": [
      "['puneri-paltan', 'jaipur-pink-panthers', 'telugu-titans', 'patna-pirates', 'u-mumba', 'dabang-delhi-kc', 'bengal-warriors', 'bengaluru-bulls']\n",
      "['290', '270', '267', '264', '227', '226', '202', '201']\n"
     ]
    }
   ],
   "source": [
    "soup = BeautifulSoup(driver.page_source)\n",
    "team = soup.findAll('div',attrs={'class':'lb-detailItem-wrap'})\n",
    "\n",
    "team_names = []\n",
    "team_raid_points = []\n",
    "\n",
    "for item in team:\n",
    "    \n",
    "    itm1 = item.find('a',attrs={'class':'sipk-lb-detailBlock sipk-playerDesc'})\n",
    "    srch = re.findall('u-mumba|telugu-titans|jaipur-pink-panthers|bengaluru-bulls|dabang-delhi-kc|patna-pirates|puneri-paltan|bengal-warriors', itm1.attrs['href'])\n",
    "    team_names.append(srch[0])\n",
    "    \n",
    "    itm3 = item.find('div',attrs={'class':'sipk-lb-detailBlock sipk-lb-raidPoints'}).span.text\n",
    "    team_raid_points.append(itm3)\n",
    "\n",
    "print(team_names)\n",
    "print(team_raid_points)"
   ]
  },
  {
   "cell_type": "code",
   "execution_count": 67,
   "metadata": {
    "scrolled": true
   },
   "outputs": [
    {
     "data": {
      "text/html": [
       "<div>\n",
       "<style scoped>\n",
       "    .dataframe tbody tr th:only-of-type {\n",
       "        vertical-align: middle;\n",
       "    }\n",
       "\n",
       "    .dataframe tbody tr th {\n",
       "        vertical-align: top;\n",
       "    }\n",
       "\n",
       "    .dataframe thead th {\n",
       "        text-align: right;\n",
       "    }\n",
       "</style>\n",
       "<table border=\"1\" class=\"dataframe\">\n",
       "  <thead>\n",
       "    <tr style=\"text-align: right;\">\n",
       "      <th></th>\n",
       "      <th>team_name</th>\n",
       "      <th>team_raid_points</th>\n",
       "    </tr>\n",
       "  </thead>\n",
       "  <tbody>\n",
       "    <tr>\n",
       "      <th>0</th>\n",
       "      <td>puneri-paltan</td>\n",
       "      <td>290</td>\n",
       "    </tr>\n",
       "    <tr>\n",
       "      <th>1</th>\n",
       "      <td>jaipur-pink-panthers</td>\n",
       "      <td>270</td>\n",
       "    </tr>\n",
       "    <tr>\n",
       "      <th>2</th>\n",
       "      <td>telugu-titans</td>\n",
       "      <td>267</td>\n",
       "    </tr>\n",
       "    <tr>\n",
       "      <th>3</th>\n",
       "      <td>patna-pirates</td>\n",
       "      <td>264</td>\n",
       "    </tr>\n",
       "    <tr>\n",
       "      <th>4</th>\n",
       "      <td>u-mumba</td>\n",
       "      <td>227</td>\n",
       "    </tr>\n",
       "  </tbody>\n",
       "</table>\n",
       "</div>"
      ],
      "text/plain": [
       "              team_name team_raid_points\n",
       "0         puneri-paltan              290\n",
       "1  jaipur-pink-panthers              270\n",
       "2         telugu-titans              267\n",
       "3         patna-pirates              264\n",
       "4               u-mumba              227"
      ]
     },
     "execution_count": 67,
     "metadata": {},
     "output_type": "execute_result"
    }
   ],
   "source": [
    "team_raid_points_seas1 = pd.DataFrame({'team_name':team_names, 'team_raid_points':team_raid_points})\n",
    "team_raid_points_seas1.head()"
   ]
  },
  {
   "cell_type": "markdown",
   "metadata": {},
   "source": [
    "Average Raid Points"
   ]
  },
  {
   "cell_type": "code",
   "execution_count": 68,
   "metadata": {},
   "outputs": [],
   "source": [
    "driver.get('https://www.prokabaddi.com/stats/4-98-avg-raid-points-statistics')\n",
    "time.sleep(5)"
   ]
  },
  {
   "cell_type": "code",
   "execution_count": 69,
   "metadata": {},
   "outputs": [
    {
     "name": "stdout",
     "output_type": "stream",
     "text": [
      "['puneri-paltan', 'jaipur-pink-panthers', 'telugu-titans', 'patna-pirates', 'u-mumba', 'dabang-delhi-kc', 'bengal-warriors', 'bengaluru-bulls']\n",
      "['18.13', '16.88', '16.69', '16.5', '16.21', '16.14', '14.43', '14.36']\n"
     ]
    }
   ],
   "source": [
    "soup = BeautifulSoup(driver.page_source)\n",
    "team = soup.findAll('div',attrs={'class':'lb-detailItem-wrap'})\n",
    "\n",
    "team_names = []\n",
    "team_avg_raid_points = []\n",
    "\n",
    "for item in team:\n",
    "    \n",
    "    itm1 = item.find('a',attrs={'class':'sipk-lb-detailBlock sipk-playerDesc'})\n",
    "    srch = re.findall('u-mumba|telugu-titans|jaipur-pink-panthers|bengaluru-bulls|dabang-delhi-kc|patna-pirates|puneri-paltan|bengal-warriors', itm1.attrs['href'])\n",
    "    team_names.append(srch[0])\n",
    "    \n",
    "    itm3 = item.find('div',attrs={'class':'sipk-lb-detailBlock sipk-lb-raidPoints'}).span.text\n",
    "    team_avg_raid_points.append(itm3)\n",
    "\n",
    "print(team_names)\n",
    "print(team_avg_raid_points)"
   ]
  },
  {
   "cell_type": "code",
   "execution_count": 70,
   "metadata": {
    "scrolled": false
   },
   "outputs": [
    {
     "data": {
      "text/html": [
       "<div>\n",
       "<style scoped>\n",
       "    .dataframe tbody tr th:only-of-type {\n",
       "        vertical-align: middle;\n",
       "    }\n",
       "\n",
       "    .dataframe tbody tr th {\n",
       "        vertical-align: top;\n",
       "    }\n",
       "\n",
       "    .dataframe thead th {\n",
       "        text-align: right;\n",
       "    }\n",
       "</style>\n",
       "<table border=\"1\" class=\"dataframe\">\n",
       "  <thead>\n",
       "    <tr style=\"text-align: right;\">\n",
       "      <th></th>\n",
       "      <th>team_name</th>\n",
       "      <th>team_avg_raid_points</th>\n",
       "    </tr>\n",
       "  </thead>\n",
       "  <tbody>\n",
       "    <tr>\n",
       "      <th>0</th>\n",
       "      <td>puneri-paltan</td>\n",
       "      <td>18.13</td>\n",
       "    </tr>\n",
       "    <tr>\n",
       "      <th>1</th>\n",
       "      <td>jaipur-pink-panthers</td>\n",
       "      <td>16.88</td>\n",
       "    </tr>\n",
       "    <tr>\n",
       "      <th>2</th>\n",
       "      <td>telugu-titans</td>\n",
       "      <td>16.69</td>\n",
       "    </tr>\n",
       "    <tr>\n",
       "      <th>3</th>\n",
       "      <td>patna-pirates</td>\n",
       "      <td>16.5</td>\n",
       "    </tr>\n",
       "    <tr>\n",
       "      <th>4</th>\n",
       "      <td>u-mumba</td>\n",
       "      <td>16.21</td>\n",
       "    </tr>\n",
       "  </tbody>\n",
       "</table>\n",
       "</div>"
      ],
      "text/plain": [
       "              team_name team_avg_raid_points\n",
       "0         puneri-paltan                18.13\n",
       "1  jaipur-pink-panthers                16.88\n",
       "2         telugu-titans                16.69\n",
       "3         patna-pirates                 16.5\n",
       "4               u-mumba                16.21"
      ]
     },
     "execution_count": 70,
     "metadata": {},
     "output_type": "execute_result"
    }
   ],
   "source": [
    "team_avg_raid_points_seas1 = pd.DataFrame({'team_name':team_names, 'team_avg_raid_points':team_avg_raid_points})\n",
    "team_avg_raid_points_seas1.head()"
   ]
  },
  {
   "cell_type": "markdown",
   "metadata": {},
   "source": [
    "Successful Tackles"
   ]
  },
  {
   "cell_type": "code",
   "execution_count": 71,
   "metadata": {},
   "outputs": [],
   "source": [
    "driver.get('https://www.prokabaddi.com/stats/4-15-successful-tackles-statistics')\n",
    "time.sleep(5)"
   ]
  },
  {
   "cell_type": "code",
   "execution_count": 72,
   "metadata": {},
   "outputs": [
    {
     "name": "stdout",
     "output_type": "stream",
     "text": [
      "['telugu-titans', 'patna-pirates', 'puneri-paltan', 'jaipur-pink-panthers', 'bengal-warriors', 'dabang-delhi-kc', 'u-mumba', 'bengaluru-bulls']\n",
      "['157', '145', '140', '119', '117', '116', '110', '109']\n"
     ]
    }
   ],
   "source": [
    "soup = BeautifulSoup(driver.page_source)\n",
    "team = soup.findAll('div',attrs={'class':'lb-detailItem-wrap'})\n",
    "\n",
    "team_names = []\n",
    "team_success_tackles = []\n",
    "\n",
    "for item in team:\n",
    "    \n",
    "    itm1 = item.find('a',attrs={'class':'sipk-lb-detailBlock sipk-playerDesc'})\n",
    "    srch = re.findall('u-mumba|telugu-titans|jaipur-pink-panthers|bengaluru-bulls|dabang-delhi-kc|patna-pirates|puneri-paltan|bengal-warriors', itm1.attrs['href'])\n",
    "    team_names.append(srch[0])\n",
    "    \n",
    "    itm3 = item.find('div',attrs={'class':'sipk-lb-detailBlock sipk-lb-raidPoints'}).span.text\n",
    "    team_success_tackles.append(itm3)\n",
    "\n",
    "print(team_names)\n",
    "print(team_success_tackles)"
   ]
  },
  {
   "cell_type": "code",
   "execution_count": 73,
   "metadata": {
    "scrolled": true
   },
   "outputs": [
    {
     "data": {
      "text/html": [
       "<div>\n",
       "<style scoped>\n",
       "    .dataframe tbody tr th:only-of-type {\n",
       "        vertical-align: middle;\n",
       "    }\n",
       "\n",
       "    .dataframe tbody tr th {\n",
       "        vertical-align: top;\n",
       "    }\n",
       "\n",
       "    .dataframe thead th {\n",
       "        text-align: right;\n",
       "    }\n",
       "</style>\n",
       "<table border=\"1\" class=\"dataframe\">\n",
       "  <thead>\n",
       "    <tr style=\"text-align: right;\">\n",
       "      <th></th>\n",
       "      <th>team_name</th>\n",
       "      <th>team_success_tackles</th>\n",
       "    </tr>\n",
       "  </thead>\n",
       "  <tbody>\n",
       "    <tr>\n",
       "      <th>0</th>\n",
       "      <td>telugu-titans</td>\n",
       "      <td>157</td>\n",
       "    </tr>\n",
       "    <tr>\n",
       "      <th>1</th>\n",
       "      <td>patna-pirates</td>\n",
       "      <td>145</td>\n",
       "    </tr>\n",
       "    <tr>\n",
       "      <th>2</th>\n",
       "      <td>puneri-paltan</td>\n",
       "      <td>140</td>\n",
       "    </tr>\n",
       "    <tr>\n",
       "      <th>3</th>\n",
       "      <td>jaipur-pink-panthers</td>\n",
       "      <td>119</td>\n",
       "    </tr>\n",
       "    <tr>\n",
       "      <th>4</th>\n",
       "      <td>bengal-warriors</td>\n",
       "      <td>117</td>\n",
       "    </tr>\n",
       "  </tbody>\n",
       "</table>\n",
       "</div>"
      ],
      "text/plain": [
       "              team_name team_success_tackles\n",
       "0         telugu-titans                  157\n",
       "1         patna-pirates                  145\n",
       "2         puneri-paltan                  140\n",
       "3  jaipur-pink-panthers                  119\n",
       "4       bengal-warriors                  117"
      ]
     },
     "execution_count": 73,
     "metadata": {},
     "output_type": "execute_result"
    }
   ],
   "source": [
    "team_success_tackles_seas1 = pd.DataFrame({'team_name':team_names, 'team_success_tackles':team_success_tackles})\n",
    "team_success_tackles_seas1.head()"
   ]
  },
  {
   "cell_type": "markdown",
   "metadata": {},
   "source": [
    "Tackle Points"
   ]
  },
  {
   "cell_type": "code",
   "execution_count": 74,
   "metadata": {},
   "outputs": [],
   "source": [
    "driver.get('https://www.prokabaddi.com/stats/4-95-tackle-points-statistics')\n",
    "time.sleep(5)"
   ]
  },
  {
   "cell_type": "code",
   "execution_count": 75,
   "metadata": {},
   "outputs": [
    {
     "name": "stdout",
     "output_type": "stream",
     "text": [
      "['patna-pirates', 'telugu-titans', 'puneri-paltan', 'jaipur-pink-panthers', 'dabang-delhi-kc', 'bengal-warriors', 'bengaluru-bulls', 'u-mumba']\n",
      "['171', '162', '146', '135', '134', '125', '124', '121']\n"
     ]
    }
   ],
   "source": [
    "soup = BeautifulSoup(driver.page_source)\n",
    "team = soup.findAll('div',attrs={'class':'lb-detailItem-wrap'})\n",
    "\n",
    "team_names = []\n",
    "team_tackle_points = []\n",
    "\n",
    "for item in team:\n",
    "    \n",
    "    itm1 = item.find('a',attrs={'class':'sipk-lb-detailBlock sipk-playerDesc'})\n",
    "    srch = re.findall('u-mumba|telugu-titans|jaipur-pink-panthers|bengaluru-bulls|dabang-delhi-kc|patna-pirates|puneri-paltan|bengal-warriors', itm1.attrs['href'])\n",
    "    team_names.append(srch[0])\n",
    "    \n",
    "    itm3 = item.find('div',attrs={'class':'sipk-lb-detailBlock sipk-lb-raidPoints'}).span.text\n",
    "    team_tackle_points.append(itm3)\n",
    "\n",
    "print(team_names)\n",
    "print(team_tackle_points)"
   ]
  },
  {
   "cell_type": "code",
   "execution_count": 76,
   "metadata": {
    "scrolled": true
   },
   "outputs": [
    {
     "data": {
      "text/html": [
       "<div>\n",
       "<style scoped>\n",
       "    .dataframe tbody tr th:only-of-type {\n",
       "        vertical-align: middle;\n",
       "    }\n",
       "\n",
       "    .dataframe tbody tr th {\n",
       "        vertical-align: top;\n",
       "    }\n",
       "\n",
       "    .dataframe thead th {\n",
       "        text-align: right;\n",
       "    }\n",
       "</style>\n",
       "<table border=\"1\" class=\"dataframe\">\n",
       "  <thead>\n",
       "    <tr style=\"text-align: right;\">\n",
       "      <th></th>\n",
       "      <th>team_name</th>\n",
       "      <th>team_tackle_points</th>\n",
       "    </tr>\n",
       "  </thead>\n",
       "  <tbody>\n",
       "    <tr>\n",
       "      <th>0</th>\n",
       "      <td>patna-pirates</td>\n",
       "      <td>171</td>\n",
       "    </tr>\n",
       "    <tr>\n",
       "      <th>1</th>\n",
       "      <td>telugu-titans</td>\n",
       "      <td>162</td>\n",
       "    </tr>\n",
       "    <tr>\n",
       "      <th>2</th>\n",
       "      <td>puneri-paltan</td>\n",
       "      <td>146</td>\n",
       "    </tr>\n",
       "    <tr>\n",
       "      <th>3</th>\n",
       "      <td>jaipur-pink-panthers</td>\n",
       "      <td>135</td>\n",
       "    </tr>\n",
       "    <tr>\n",
       "      <th>4</th>\n",
       "      <td>dabang-delhi-kc</td>\n",
       "      <td>134</td>\n",
       "    </tr>\n",
       "  </tbody>\n",
       "</table>\n",
       "</div>"
      ],
      "text/plain": [
       "              team_name team_tackle_points\n",
       "0         patna-pirates                171\n",
       "1         telugu-titans                162\n",
       "2         puneri-paltan                146\n",
       "3  jaipur-pink-panthers                135\n",
       "4       dabang-delhi-kc                134"
      ]
     },
     "execution_count": 76,
     "metadata": {},
     "output_type": "execute_result"
    }
   ],
   "source": [
    "team_tackle_points_seas1 = pd.DataFrame({'team_name':team_names, 'team_tackle_points':team_tackle_points})\n",
    "team_tackle_points_seas1.head()"
   ]
  },
  {
   "cell_type": "markdown",
   "metadata": {},
   "source": [
    "Average Tackle Points"
   ]
  },
  {
   "cell_type": "code",
   "execution_count": 77,
   "metadata": {},
   "outputs": [],
   "source": [
    "driver.get('https://www.prokabaddi.com/stats/4-99-avg-tackle-points-statistics')\n",
    "time.sleep(5)"
   ]
  },
  {
   "cell_type": "code",
   "execution_count": 78,
   "metadata": {},
   "outputs": [
    {
     "name": "stdout",
     "output_type": "stream",
     "text": [
      "['patna-pirates', 'telugu-titans', 'dabang-delhi-kc', 'puneri-paltan', 'bengal-warriors', 'bengaluru-bulls', 'u-mumba', 'jaipur-pink-panthers']\n",
      "['10.69', '10.13', '9.57', '9.13', '8.93', '8.86', '8.64', '8.44']\n"
     ]
    }
   ],
   "source": [
    "soup = BeautifulSoup(driver.page_source)\n",
    "team = soup.findAll('div',attrs={'class':'lb-detailItem-wrap'})\n",
    "\n",
    "team_names = []\n",
    "team_avg_tackle_points = []\n",
    "\n",
    "for item in team:\n",
    "    \n",
    "    itm1 = item.find('a',attrs={'class':'sipk-lb-detailBlock sipk-playerDesc'})\n",
    "    srch = re.findall('u-mumba|telugu-titans|jaipur-pink-panthers|bengaluru-bulls|dabang-delhi-kc|patna-pirates|puneri-paltan|bengal-warriors', itm1.attrs['href'])\n",
    "    team_names.append(srch[0])\n",
    "    \n",
    "    itm3 = item.find('div',attrs={'class':'sipk-lb-detailBlock sipk-lb-raidPoints'}).span.text\n",
    "    team_avg_tackle_points.append(itm3)\n",
    "\n",
    "print(team_names)\n",
    "print(team_avg_tackle_points)"
   ]
  },
  {
   "cell_type": "code",
   "execution_count": 79,
   "metadata": {
    "scrolled": true
   },
   "outputs": [
    {
     "data": {
      "text/html": [
       "<div>\n",
       "<style scoped>\n",
       "    .dataframe tbody tr th:only-of-type {\n",
       "        vertical-align: middle;\n",
       "    }\n",
       "\n",
       "    .dataframe tbody tr th {\n",
       "        vertical-align: top;\n",
       "    }\n",
       "\n",
       "    .dataframe thead th {\n",
       "        text-align: right;\n",
       "    }\n",
       "</style>\n",
       "<table border=\"1\" class=\"dataframe\">\n",
       "  <thead>\n",
       "    <tr style=\"text-align: right;\">\n",
       "      <th></th>\n",
       "      <th>team_name</th>\n",
       "      <th>team_avg_tackle_points</th>\n",
       "    </tr>\n",
       "  </thead>\n",
       "  <tbody>\n",
       "    <tr>\n",
       "      <th>0</th>\n",
       "      <td>patna-pirates</td>\n",
       "      <td>10.69</td>\n",
       "    </tr>\n",
       "    <tr>\n",
       "      <th>1</th>\n",
       "      <td>telugu-titans</td>\n",
       "      <td>10.13</td>\n",
       "    </tr>\n",
       "    <tr>\n",
       "      <th>2</th>\n",
       "      <td>dabang-delhi-kc</td>\n",
       "      <td>9.57</td>\n",
       "    </tr>\n",
       "    <tr>\n",
       "      <th>3</th>\n",
       "      <td>puneri-paltan</td>\n",
       "      <td>9.13</td>\n",
       "    </tr>\n",
       "    <tr>\n",
       "      <th>4</th>\n",
       "      <td>bengal-warriors</td>\n",
       "      <td>8.93</td>\n",
       "    </tr>\n",
       "  </tbody>\n",
       "</table>\n",
       "</div>"
      ],
      "text/plain": [
       "         team_name team_avg_tackle_points\n",
       "0    patna-pirates                  10.69\n",
       "1    telugu-titans                  10.13\n",
       "2  dabang-delhi-kc                   9.57\n",
       "3    puneri-paltan                   9.13\n",
       "4  bengal-warriors                   8.93"
      ]
     },
     "execution_count": 79,
     "metadata": {},
     "output_type": "execute_result"
    }
   ],
   "source": [
    "team_avg_tackle_points_seas1 = pd.DataFrame({'team_name':team_names, 'team_avg_tackle_points':team_avg_tackle_points})\n",
    "team_avg_tackle_points_seas1.head()"
   ]
  },
  {
   "cell_type": "markdown",
   "metadata": {},
   "source": [
    "Super Raids"
   ]
  },
  {
   "cell_type": "code",
   "execution_count": 80,
   "metadata": {},
   "outputs": [],
   "source": [
    "driver.get('https://www.prokabaddi.com/stats/4-134-super-raid-statistics')\n",
    "time.sleep(5)"
   ]
  },
  {
   "cell_type": "code",
   "execution_count": 81,
   "metadata": {},
   "outputs": [
    {
     "name": "stdout",
     "output_type": "stream",
     "text": [
      "['dabang-delhi-kc', 'puneri-paltan', 'telugu-titans', 'patna-pirates', 'jaipur-pink-panthers', 'bengal-warriors', 'u-mumba', 'bengaluru-bulls']\n",
      "['11', '10', '7', '7', '6', '4', '4', '4']\n"
     ]
    }
   ],
   "source": [
    "soup = BeautifulSoup(driver.page_source)\n",
    "team = soup.findAll('div',attrs={'class':'lb-detailItem-wrap'})\n",
    "\n",
    "team_names = []\n",
    "team_super_raids = []\n",
    "\n",
    "for item in team:\n",
    "    \n",
    "    itm1 = item.find('a',attrs={'class':'sipk-lb-detailBlock sipk-playerDesc'})\n",
    "    srch = re.findall('u-mumba|telugu-titans|jaipur-pink-panthers|bengaluru-bulls|dabang-delhi-kc|patna-pirates|puneri-paltan|bengal-warriors', itm1.attrs['href'])\n",
    "    team_names.append(srch[0])\n",
    "    \n",
    "    itm3 = item.find('div',attrs={'class':'sipk-lb-detailBlock sipk-lb-raidPoints'}).span.text\n",
    "    team_super_raids.append(itm3)\n",
    "\n",
    "print(team_names)\n",
    "print(team_super_raids)"
   ]
  },
  {
   "cell_type": "code",
   "execution_count": 82,
   "metadata": {
    "scrolled": false
   },
   "outputs": [
    {
     "data": {
      "text/html": [
       "<div>\n",
       "<style scoped>\n",
       "    .dataframe tbody tr th:only-of-type {\n",
       "        vertical-align: middle;\n",
       "    }\n",
       "\n",
       "    .dataframe tbody tr th {\n",
       "        vertical-align: top;\n",
       "    }\n",
       "\n",
       "    .dataframe thead th {\n",
       "        text-align: right;\n",
       "    }\n",
       "</style>\n",
       "<table border=\"1\" class=\"dataframe\">\n",
       "  <thead>\n",
       "    <tr style=\"text-align: right;\">\n",
       "      <th></th>\n",
       "      <th>team_name</th>\n",
       "      <th>team_super_raids</th>\n",
       "    </tr>\n",
       "  </thead>\n",
       "  <tbody>\n",
       "    <tr>\n",
       "      <th>0</th>\n",
       "      <td>dabang-delhi-kc</td>\n",
       "      <td>11</td>\n",
       "    </tr>\n",
       "    <tr>\n",
       "      <th>1</th>\n",
       "      <td>puneri-paltan</td>\n",
       "      <td>10</td>\n",
       "    </tr>\n",
       "    <tr>\n",
       "      <th>2</th>\n",
       "      <td>telugu-titans</td>\n",
       "      <td>7</td>\n",
       "    </tr>\n",
       "    <tr>\n",
       "      <th>3</th>\n",
       "      <td>patna-pirates</td>\n",
       "      <td>7</td>\n",
       "    </tr>\n",
       "    <tr>\n",
       "      <th>4</th>\n",
       "      <td>jaipur-pink-panthers</td>\n",
       "      <td>6</td>\n",
       "    </tr>\n",
       "  </tbody>\n",
       "</table>\n",
       "</div>"
      ],
      "text/plain": [
       "              team_name team_super_raids\n",
       "0       dabang-delhi-kc               11\n",
       "1         puneri-paltan               10\n",
       "2         telugu-titans                7\n",
       "3         patna-pirates                7\n",
       "4  jaipur-pink-panthers                6"
      ]
     },
     "execution_count": 82,
     "metadata": {},
     "output_type": "execute_result"
    }
   ],
   "source": [
    "team_super_raids_seas1 = pd.DataFrame({'team_name':team_names, 'team_super_raids':team_super_raids})\n",
    "team_super_raids_seas1.head()"
   ]
  },
  {
   "cell_type": "markdown",
   "metadata": {},
   "source": [
    "Super Tackles"
   ]
  },
  {
   "cell_type": "code",
   "execution_count": 83,
   "metadata": {},
   "outputs": [],
   "source": [
    "driver.get('https://www.prokabaddi.com/stats/4-20-super-tackles-statistics')\n",
    "time.sleep(5)"
   ]
  },
  {
   "cell_type": "code",
   "execution_count": 84,
   "metadata": {},
   "outputs": [
    {
     "name": "stdout",
     "output_type": "stream",
     "text": [
      "['patna-pirates', 'dabang-delhi-kc', 'jaipur-pink-panthers', 'bengaluru-bulls', 'u-mumba', 'bengal-warriors', 'puneri-paltan', 'telugu-titans']\n",
      "['27', '20', '17', '15', '11', '8', '7', '5']\n"
     ]
    }
   ],
   "source": [
    "soup = BeautifulSoup(driver.page_source)\n",
    "team = soup.findAll('div',attrs={'class':'lb-detailItem-wrap'})\n",
    "\n",
    "team_names = []\n",
    "team_super_tackles = []\n",
    "\n",
    "for item in team:\n",
    "    \n",
    "    itm1 = item.find('a',attrs={'class':'sipk-lb-detailBlock sipk-playerDesc'})\n",
    "    srch = re.findall('u-mumba|telugu-titans|jaipur-pink-panthers|bengaluru-bulls|dabang-delhi-kc|patna-pirates|puneri-paltan|bengal-warriors', itm1.attrs['href'])\n",
    "    team_names.append(srch[0])\n",
    "    \n",
    "    itm3 = item.find('div',attrs={'class':'sipk-lb-detailBlock sipk-lb-raidPoints'}).span.text\n",
    "    team_super_tackles.append(itm3)\n",
    "\n",
    "print(team_names)\n",
    "print(team_super_tackles)"
   ]
  },
  {
   "cell_type": "code",
   "execution_count": 85,
   "metadata": {
    "scrolled": true
   },
   "outputs": [
    {
     "data": {
      "text/html": [
       "<div>\n",
       "<style scoped>\n",
       "    .dataframe tbody tr th:only-of-type {\n",
       "        vertical-align: middle;\n",
       "    }\n",
       "\n",
       "    .dataframe tbody tr th {\n",
       "        vertical-align: top;\n",
       "    }\n",
       "\n",
       "    .dataframe thead th {\n",
       "        text-align: right;\n",
       "    }\n",
       "</style>\n",
       "<table border=\"1\" class=\"dataframe\">\n",
       "  <thead>\n",
       "    <tr style=\"text-align: right;\">\n",
       "      <th></th>\n",
       "      <th>team_name</th>\n",
       "      <th>team_super_tackles</th>\n",
       "    </tr>\n",
       "  </thead>\n",
       "  <tbody>\n",
       "    <tr>\n",
       "      <th>0</th>\n",
       "      <td>patna-pirates</td>\n",
       "      <td>27</td>\n",
       "    </tr>\n",
       "    <tr>\n",
       "      <th>1</th>\n",
       "      <td>dabang-delhi-kc</td>\n",
       "      <td>20</td>\n",
       "    </tr>\n",
       "    <tr>\n",
       "      <th>2</th>\n",
       "      <td>jaipur-pink-panthers</td>\n",
       "      <td>17</td>\n",
       "    </tr>\n",
       "    <tr>\n",
       "      <th>3</th>\n",
       "      <td>bengaluru-bulls</td>\n",
       "      <td>15</td>\n",
       "    </tr>\n",
       "    <tr>\n",
       "      <th>4</th>\n",
       "      <td>u-mumba</td>\n",
       "      <td>11</td>\n",
       "    </tr>\n",
       "  </tbody>\n",
       "</table>\n",
       "</div>"
      ],
      "text/plain": [
       "              team_name team_super_tackles\n",
       "0         patna-pirates                 27\n",
       "1       dabang-delhi-kc                 20\n",
       "2  jaipur-pink-panthers                 17\n",
       "3       bengaluru-bulls                 15\n",
       "4               u-mumba                 11"
      ]
     },
     "execution_count": 85,
     "metadata": {},
     "output_type": "execute_result"
    }
   ],
   "source": [
    "team_super_tackles_seas1 = pd.DataFrame({'team_name':team_names, 'team_super_tackles':team_super_tackles})\n",
    "team_super_tackles_seas1.head()"
   ]
  },
  {
   "cell_type": "markdown",
   "metadata": {},
   "source": [
    "Do Or Die Raid Points"
   ]
  },
  {
   "cell_type": "code",
   "execution_count": 86,
   "metadata": {},
   "outputs": [],
   "source": [
    "driver.get('https://www.prokabaddi.com/stats/4-135-do-or-die-raid-points-statistics')\n",
    "time.sleep(5)"
   ]
  },
  {
   "cell_type": "code",
   "execution_count": 87,
   "metadata": {},
   "outputs": [
    {
     "name": "stdout",
     "output_type": "stream",
     "text": [
      "['dabang-delhi-kc', 'jaipur-pink-panthers', 'puneri-paltan', 'telugu-titans', 'patna-pirates', 'bengal-warriors', 'bengaluru-bulls', 'u-mumba']\n",
      "['84', '80', '77', '76', '73', '62', '59', '42']\n"
     ]
    }
   ],
   "source": [
    "soup = BeautifulSoup(driver.page_source)\n",
    "team = soup.findAll('div',attrs={'class':'lb-detailItem-wrap'})\n",
    "\n",
    "team_names = []\n",
    "team_dod_raid_points = []\n",
    "\n",
    "for item in team:\n",
    "    \n",
    "    itm1 = item.find('a',attrs={'class':'sipk-lb-detailBlock sipk-playerDesc'})\n",
    "    srch = re.findall('u-mumba|telugu-titans|jaipur-pink-panthers|bengaluru-bulls|dabang-delhi-kc|patna-pirates|puneri-paltan|bengal-warriors', itm1.attrs['href'])\n",
    "    team_names.append(srch[0])\n",
    "    \n",
    "    itm3 = item.find('div',attrs={'class':'sipk-lb-detailBlock sipk-lb-raidPoints'}).span.text\n",
    "    team_dod_raid_points.append(itm3)\n",
    "\n",
    "print(team_names)\n",
    "print(team_dod_raid_points)"
   ]
  },
  {
   "cell_type": "code",
   "execution_count": 88,
   "metadata": {
    "scrolled": true
   },
   "outputs": [
    {
     "data": {
      "text/html": [
       "<div>\n",
       "<style scoped>\n",
       "    .dataframe tbody tr th:only-of-type {\n",
       "        vertical-align: middle;\n",
       "    }\n",
       "\n",
       "    .dataframe tbody tr th {\n",
       "        vertical-align: top;\n",
       "    }\n",
       "\n",
       "    .dataframe thead th {\n",
       "        text-align: right;\n",
       "    }\n",
       "</style>\n",
       "<table border=\"1\" class=\"dataframe\">\n",
       "  <thead>\n",
       "    <tr style=\"text-align: right;\">\n",
       "      <th></th>\n",
       "      <th>team_name</th>\n",
       "      <th>team_dod_raid_points</th>\n",
       "    </tr>\n",
       "  </thead>\n",
       "  <tbody>\n",
       "    <tr>\n",
       "      <th>0</th>\n",
       "      <td>dabang-delhi-kc</td>\n",
       "      <td>84</td>\n",
       "    </tr>\n",
       "    <tr>\n",
       "      <th>1</th>\n",
       "      <td>jaipur-pink-panthers</td>\n",
       "      <td>80</td>\n",
       "    </tr>\n",
       "    <tr>\n",
       "      <th>2</th>\n",
       "      <td>puneri-paltan</td>\n",
       "      <td>77</td>\n",
       "    </tr>\n",
       "    <tr>\n",
       "      <th>3</th>\n",
       "      <td>telugu-titans</td>\n",
       "      <td>76</td>\n",
       "    </tr>\n",
       "    <tr>\n",
       "      <th>4</th>\n",
       "      <td>patna-pirates</td>\n",
       "      <td>73</td>\n",
       "    </tr>\n",
       "  </tbody>\n",
       "</table>\n",
       "</div>"
      ],
      "text/plain": [
       "              team_name team_dod_raid_points\n",
       "0       dabang-delhi-kc                   84\n",
       "1  jaipur-pink-panthers                   80\n",
       "2         puneri-paltan                   77\n",
       "3         telugu-titans                   76\n",
       "4         patna-pirates                   73"
      ]
     },
     "execution_count": 88,
     "metadata": {},
     "output_type": "execute_result"
    }
   ],
   "source": [
    "team_dod_raid_points_seas1 = pd.DataFrame({'team_name':team_names, 'team_dod_raid_points':team_dod_raid_points})\n",
    "team_dod_raid_points_seas1.head()"
   ]
  },
  {
   "cell_type": "markdown",
   "metadata": {},
   "source": [
    "All-Outs Inflicted"
   ]
  },
  {
   "cell_type": "code",
   "execution_count": 89,
   "metadata": {},
   "outputs": [],
   "source": [
    "driver.get('https://www.prokabaddi.com/stats/4-136-all-outs-inflicted-statistics')\n",
    "time.sleep(5)"
   ]
  },
  {
   "cell_type": "code",
   "execution_count": 90,
   "metadata": {},
   "outputs": [
    {
     "name": "stdout",
     "output_type": "stream",
     "text": [
      "['telugu-titans', 'puneri-paltan', 'patna-pirates', 'jaipur-pink-panthers', 'dabang-delhi-kc', 'u-mumba', 'bengal-warriors', 'bengaluru-bulls']\n",
      "['22', '21', '19', '17', '15', '15', '11', '9']\n"
     ]
    }
   ],
   "source": [
    "soup = BeautifulSoup(driver.page_source)\n",
    "team = soup.findAll('div',attrs={'class':'lb-detailItem-wrap'})\n",
    "\n",
    "team_names = []\n",
    "team_allouts_inflicted = []\n",
    "\n",
    "for item in team:\n",
    "    \n",
    "    itm1 = item.find('a',attrs={'class':'sipk-lb-detailBlock sipk-playerDesc'})\n",
    "    srch = re.findall('u-mumba|telugu-titans|jaipur-pink-panthers|bengaluru-bulls|dabang-delhi-kc|patna-pirates|puneri-paltan|bengal-warriors', itm1.attrs['href'])\n",
    "    team_names.append(srch[0])\n",
    "    \n",
    "    itm3 = item.find('div',attrs={'class':'sipk-lb-detailBlock sipk-lb-raidPoints'}).span.text\n",
    "    team_allouts_inflicted.append(itm3)\n",
    "\n",
    "print(team_names)\n",
    "print(team_allouts_inflicted)"
   ]
  },
  {
   "cell_type": "code",
   "execution_count": 91,
   "metadata": {
    "scrolled": true
   },
   "outputs": [
    {
     "data": {
      "text/html": [
       "<div>\n",
       "<style scoped>\n",
       "    .dataframe tbody tr th:only-of-type {\n",
       "        vertical-align: middle;\n",
       "    }\n",
       "\n",
       "    .dataframe tbody tr th {\n",
       "        vertical-align: top;\n",
       "    }\n",
       "\n",
       "    .dataframe thead th {\n",
       "        text-align: right;\n",
       "    }\n",
       "</style>\n",
       "<table border=\"1\" class=\"dataframe\">\n",
       "  <thead>\n",
       "    <tr style=\"text-align: right;\">\n",
       "      <th></th>\n",
       "      <th>team_name</th>\n",
       "      <th>team_allouts_inflicted</th>\n",
       "    </tr>\n",
       "  </thead>\n",
       "  <tbody>\n",
       "    <tr>\n",
       "      <th>0</th>\n",
       "      <td>telugu-titans</td>\n",
       "      <td>22</td>\n",
       "    </tr>\n",
       "    <tr>\n",
       "      <th>1</th>\n",
       "      <td>puneri-paltan</td>\n",
       "      <td>21</td>\n",
       "    </tr>\n",
       "    <tr>\n",
       "      <th>2</th>\n",
       "      <td>patna-pirates</td>\n",
       "      <td>19</td>\n",
       "    </tr>\n",
       "    <tr>\n",
       "      <th>3</th>\n",
       "      <td>jaipur-pink-panthers</td>\n",
       "      <td>17</td>\n",
       "    </tr>\n",
       "    <tr>\n",
       "      <th>4</th>\n",
       "      <td>dabang-delhi-kc</td>\n",
       "      <td>15</td>\n",
       "    </tr>\n",
       "  </tbody>\n",
       "</table>\n",
       "</div>"
      ],
      "text/plain": [
       "              team_name team_allouts_inflicted\n",
       "0         telugu-titans                     22\n",
       "1         puneri-paltan                     21\n",
       "2         patna-pirates                     19\n",
       "3  jaipur-pink-panthers                     17\n",
       "4       dabang-delhi-kc                     15"
      ]
     },
     "execution_count": 91,
     "metadata": {},
     "output_type": "execute_result"
    }
   ],
   "source": [
    "team_allouts_inflicted_seas1 = pd.DataFrame({'team_name':team_names, 'team_allouts_inflicted':team_allouts_inflicted})\n",
    "team_allouts_inflicted_seas1.head()"
   ]
  },
  {
   "cell_type": "markdown",
   "metadata": {},
   "source": [
    "All-Outs Conceded"
   ]
  },
  {
   "cell_type": "code",
   "execution_count": 92,
   "metadata": {},
   "outputs": [],
   "source": [
    "driver.get('https://www.prokabaddi.com/stats/4-137-all-outs-conceded-statistics')\n",
    "time.sleep(5)"
   ]
  },
  {
   "cell_type": "code",
   "execution_count": 93,
   "metadata": {},
   "outputs": [
    {
     "name": "stdout",
     "output_type": "stream",
     "text": [
      "['bengaluru-bulls', 'u-mumba', 'puneri-paltan', 'dabang-delhi-kc', 'bengal-warriors', 'jaipur-pink-panthers', 'telugu-titans', 'patna-pirates']\n",
      "['21', '21', '17', '16', '15', '14', '13', '12']\n"
     ]
    }
   ],
   "source": [
    "soup = BeautifulSoup(driver.page_source)\n",
    "team = soup.findAll('div',attrs={'class':'lb-detailItem-wrap'})\n",
    "\n",
    "team_names = []\n",
    "team_allouts_conceded = []\n",
    "\n",
    "for item in team:\n",
    "    \n",
    "    itm1 = item.find('a',attrs={'class':'sipk-lb-detailBlock sipk-playerDesc'})\n",
    "    srch = re.findall('u-mumba|telugu-titans|jaipur-pink-panthers|bengaluru-bulls|dabang-delhi-kc|patna-pirates|puneri-paltan|bengal-warriors', itm1.attrs['href'])\n",
    "    team_names.append(srch[0])\n",
    "    \n",
    "    itm3 = item.find('div',attrs={'class':'sipk-lb-detailBlock sipk-lb-raidPoints'}).span.text\n",
    "    team_allouts_conceded.append(itm3)\n",
    "\n",
    "print(team_names)\n",
    "print(team_allouts_conceded)"
   ]
  },
  {
   "cell_type": "code",
   "execution_count": 94,
   "metadata": {
    "scrolled": false
   },
   "outputs": [
    {
     "data": {
      "text/html": [
       "<div>\n",
       "<style scoped>\n",
       "    .dataframe tbody tr th:only-of-type {\n",
       "        vertical-align: middle;\n",
       "    }\n",
       "\n",
       "    .dataframe tbody tr th {\n",
       "        vertical-align: top;\n",
       "    }\n",
       "\n",
       "    .dataframe thead th {\n",
       "        text-align: right;\n",
       "    }\n",
       "</style>\n",
       "<table border=\"1\" class=\"dataframe\">\n",
       "  <thead>\n",
       "    <tr style=\"text-align: right;\">\n",
       "      <th></th>\n",
       "      <th>team_name</th>\n",
       "      <th>team_allouts_conceded</th>\n",
       "    </tr>\n",
       "  </thead>\n",
       "  <tbody>\n",
       "    <tr>\n",
       "      <th>0</th>\n",
       "      <td>bengaluru-bulls</td>\n",
       "      <td>21</td>\n",
       "    </tr>\n",
       "    <tr>\n",
       "      <th>1</th>\n",
       "      <td>u-mumba</td>\n",
       "      <td>21</td>\n",
       "    </tr>\n",
       "    <tr>\n",
       "      <th>2</th>\n",
       "      <td>puneri-paltan</td>\n",
       "      <td>17</td>\n",
       "    </tr>\n",
       "    <tr>\n",
       "      <th>3</th>\n",
       "      <td>dabang-delhi-kc</td>\n",
       "      <td>16</td>\n",
       "    </tr>\n",
       "    <tr>\n",
       "      <th>4</th>\n",
       "      <td>bengal-warriors</td>\n",
       "      <td>15</td>\n",
       "    </tr>\n",
       "  </tbody>\n",
       "</table>\n",
       "</div>"
      ],
      "text/plain": [
       "         team_name team_allouts_conceded\n",
       "0  bengaluru-bulls                    21\n",
       "1          u-mumba                    21\n",
       "2    puneri-paltan                    17\n",
       "3  dabang-delhi-kc                    16\n",
       "4  bengal-warriors                    15"
      ]
     },
     "execution_count": 94,
     "metadata": {},
     "output_type": "execute_result"
    }
   ],
   "source": [
    "team_allouts_conceded_seas1 = pd.DataFrame({'team_name':team_names, 'team_allouts_conceded':team_allouts_conceded})\n",
    "team_allouts_conceded_seas1.head()"
   ]
  },
  {
   "cell_type": "markdown",
   "metadata": {},
   "source": [
    "##### Merge Team Stats into a master frame"
   ]
  },
  {
   "cell_type": "code",
   "execution_count": 95,
   "metadata": {},
   "outputs": [
    {
     "data": {
      "text/html": [
       "<div>\n",
       "<style scoped>\n",
       "    .dataframe tbody tr th:only-of-type {\n",
       "        vertical-align: middle;\n",
       "    }\n",
       "\n",
       "    .dataframe tbody tr th {\n",
       "        vertical-align: top;\n",
       "    }\n",
       "\n",
       "    .dataframe thead th {\n",
       "        text-align: right;\n",
       "    }\n",
       "</style>\n",
       "<table border=\"1\" class=\"dataframe\">\n",
       "  <thead>\n",
       "    <tr style=\"text-align: right;\">\n",
       "      <th></th>\n",
       "      <th>team_name</th>\n",
       "      <th>matches_played</th>\n",
       "      <th>total_points_scored</th>\n",
       "      <th>total_points_conceded</th>\n",
       "      <th>team_avg_points</th>\n",
       "      <th>team_success_raids</th>\n",
       "      <th>team_raid_points</th>\n",
       "      <th>team_avg_raid_points</th>\n",
       "      <th>team_success_tackles</th>\n",
       "      <th>team_tackle_points</th>\n",
       "      <th>team_avg_tackle_points</th>\n",
       "      <th>team_super_raids</th>\n",
       "      <th>team_super_tackles</th>\n",
       "      <th>team_dod_raid_points</th>\n",
       "      <th>team_allouts_inflicted</th>\n",
       "      <th>team_allouts_conceded</th>\n",
       "    </tr>\n",
       "  </thead>\n",
       "  <tbody>\n",
       "    <tr>\n",
       "      <th>0</th>\n",
       "      <td>puneri-paltan</td>\n",
       "      <td>16</td>\n",
       "      <td>515</td>\n",
       "      <td>491</td>\n",
       "      <td>27.25</td>\n",
       "      <td>230</td>\n",
       "      <td>290</td>\n",
       "      <td>18.13</td>\n",
       "      <td>140</td>\n",
       "      <td>146</td>\n",
       "      <td>9.13</td>\n",
       "      <td>10</td>\n",
       "      <td>7</td>\n",
       "      <td>77</td>\n",
       "      <td>21</td>\n",
       "      <td>17</td>\n",
       "    </tr>\n",
       "    <tr>\n",
       "      <th>1</th>\n",
       "      <td>telugu-titans</td>\n",
       "      <td>16</td>\n",
       "      <td>506</td>\n",
       "      <td>454</td>\n",
       "      <td>26.81</td>\n",
       "      <td>206</td>\n",
       "      <td>267</td>\n",
       "      <td>16.69</td>\n",
       "      <td>157</td>\n",
       "      <td>162</td>\n",
       "      <td>10.13</td>\n",
       "      <td>7</td>\n",
       "      <td>5</td>\n",
       "      <td>76</td>\n",
       "      <td>22</td>\n",
       "      <td>13</td>\n",
       "    </tr>\n",
       "    <tr>\n",
       "      <th>2</th>\n",
       "      <td>patna-pirates</td>\n",
       "      <td>16</td>\n",
       "      <td>492</td>\n",
       "      <td>466</td>\n",
       "      <td>27.18</td>\n",
       "      <td>206</td>\n",
       "      <td>264</td>\n",
       "      <td>16.5</td>\n",
       "      <td>145</td>\n",
       "      <td>171</td>\n",
       "      <td>10.69</td>\n",
       "      <td>7</td>\n",
       "      <td>27</td>\n",
       "      <td>73</td>\n",
       "      <td>19</td>\n",
       "      <td>12</td>\n",
       "    </tr>\n",
       "    <tr>\n",
       "      <th>3</th>\n",
       "      <td>jaipur-pink-panthers</td>\n",
       "      <td>16</td>\n",
       "      <td>475</td>\n",
       "      <td>450</td>\n",
       "      <td>25.31</td>\n",
       "      <td>203</td>\n",
       "      <td>270</td>\n",
       "      <td>16.88</td>\n",
       "      <td>119</td>\n",
       "      <td>135</td>\n",
       "      <td>8.44</td>\n",
       "      <td>6</td>\n",
       "      <td>17</td>\n",
       "      <td>80</td>\n",
       "      <td>17</td>\n",
       "      <td>14</td>\n",
       "    </tr>\n",
       "    <tr>\n",
       "      <th>4</th>\n",
       "      <td>dabang-delhi-kc</td>\n",
       "      <td>14</td>\n",
       "      <td>419</td>\n",
       "      <td>412</td>\n",
       "      <td>25.71</td>\n",
       "      <td>162</td>\n",
       "      <td>226</td>\n",
       "      <td>16.14</td>\n",
       "      <td>116</td>\n",
       "      <td>134</td>\n",
       "      <td>9.57</td>\n",
       "      <td>11</td>\n",
       "      <td>20</td>\n",
       "      <td>84</td>\n",
       "      <td>15</td>\n",
       "      <td>16</td>\n",
       "    </tr>\n",
       "    <tr>\n",
       "      <th>5</th>\n",
       "      <td>u-mumba</td>\n",
       "      <td>14</td>\n",
       "      <td>399</td>\n",
       "      <td>418</td>\n",
       "      <td>24.85</td>\n",
       "      <td>188</td>\n",
       "      <td>227</td>\n",
       "      <td>16.21</td>\n",
       "      <td>110</td>\n",
       "      <td>121</td>\n",
       "      <td>8.64</td>\n",
       "      <td>4</td>\n",
       "      <td>11</td>\n",
       "      <td>42</td>\n",
       "      <td>15</td>\n",
       "      <td>21</td>\n",
       "    </tr>\n",
       "    <tr>\n",
       "      <th>6</th>\n",
       "      <td>bengal-warriors</td>\n",
       "      <td>14</td>\n",
       "      <td>378</td>\n",
       "      <td>438</td>\n",
       "      <td>23.35</td>\n",
       "      <td>167</td>\n",
       "      <td>202</td>\n",
       "      <td>14.43</td>\n",
       "      <td>117</td>\n",
       "      <td>125</td>\n",
       "      <td>8.93</td>\n",
       "      <td>4</td>\n",
       "      <td>8</td>\n",
       "      <td>62</td>\n",
       "      <td>11</td>\n",
       "      <td>15</td>\n",
       "    </tr>\n",
       "    <tr>\n",
       "      <th>7</th>\n",
       "      <td>bengaluru-bulls</td>\n",
       "      <td>14</td>\n",
       "      <td>360</td>\n",
       "      <td>415</td>\n",
       "      <td>23.21</td>\n",
       "      <td>157</td>\n",
       "      <td>201</td>\n",
       "      <td>14.36</td>\n",
       "      <td>109</td>\n",
       "      <td>124</td>\n",
       "      <td>8.86</td>\n",
       "      <td>4</td>\n",
       "      <td>15</td>\n",
       "      <td>59</td>\n",
       "      <td>9</td>\n",
       "      <td>21</td>\n",
       "    </tr>\n",
       "  </tbody>\n",
       "</table>\n",
       "</div>"
      ],
      "text/plain": [
       "              team_name matches_played total_points_scored  \\\n",
       "0         puneri-paltan             16                 515   \n",
       "1         telugu-titans             16                 506   \n",
       "2         patna-pirates             16                 492   \n",
       "3  jaipur-pink-panthers             16                 475   \n",
       "4       dabang-delhi-kc             14                 419   \n",
       "5               u-mumba             14                 399   \n",
       "6       bengal-warriors             14                 378   \n",
       "7       bengaluru-bulls             14                 360   \n",
       "\n",
       "  total_points_conceded team_avg_points team_success_raids team_raid_points  \\\n",
       "0                   491           27.25                230              290   \n",
       "1                   454           26.81                206              267   \n",
       "2                   466           27.18                206              264   \n",
       "3                   450           25.31                203              270   \n",
       "4                   412           25.71                162              226   \n",
       "5                   418           24.85                188              227   \n",
       "6                   438           23.35                167              202   \n",
       "7                   415           23.21                157              201   \n",
       "\n",
       "  team_avg_raid_points team_success_tackles team_tackle_points  \\\n",
       "0                18.13                  140                146   \n",
       "1                16.69                  157                162   \n",
       "2                 16.5                  145                171   \n",
       "3                16.88                  119                135   \n",
       "4                16.14                  116                134   \n",
       "5                16.21                  110                121   \n",
       "6                14.43                  117                125   \n",
       "7                14.36                  109                124   \n",
       "\n",
       "  team_avg_tackle_points team_super_raids team_super_tackles  \\\n",
       "0                   9.13               10                  7   \n",
       "1                  10.13                7                  5   \n",
       "2                  10.69                7                 27   \n",
       "3                   8.44                6                 17   \n",
       "4                   9.57               11                 20   \n",
       "5                   8.64                4                 11   \n",
       "6                   8.93                4                  8   \n",
       "7                   8.86                4                 15   \n",
       "\n",
       "  team_dod_raid_points team_allouts_inflicted team_allouts_conceded  \n",
       "0                   77                     21                    17  \n",
       "1                   76                     22                    13  \n",
       "2                   73                     19                    12  \n",
       "3                   80                     17                    14  \n",
       "4                   84                     15                    16  \n",
       "5                   42                     15                    21  \n",
       "6                   62                     11                    15  \n",
       "7                   59                      9                    21  "
      ]
     },
     "execution_count": 95,
     "metadata": {},
     "output_type": "execute_result"
    }
   ],
   "source": [
    "temp1 = pd.merge(team_tot_points_seas1, team_tot_points_conceded_seas1, on='team_name', how='left')\n",
    "temp2 = pd.merge(temp1, team_avg_points_scored_seas1, on='team_name', how='left')\n",
    "temp3 = pd.merge(temp2, team_success_raids_seas1, on='team_name', how='left')\n",
    "temp4 = pd.merge(temp3, team_raid_points_seas1, on='team_name', how='left')\n",
    "temp5 = pd.merge(temp4, team_avg_raid_points_seas1, on='team_name', how='left')\n",
    "temp6 = pd.merge(temp5, team_success_tackles_seas1, on='team_name', how='left')\n",
    "temp7 = pd.merge(temp6, team_tackle_points_seas1, on='team_name', how='left')\n",
    "temp8 = pd.merge(temp7, team_avg_tackle_points_seas1, on='team_name', how='left')\n",
    "temp9 = pd.merge(temp8, team_super_raids_seas1, on='team_name', how='left')\n",
    "temp10 = pd.merge(temp9, team_super_tackles_seas1, on='team_name', how='left')\n",
    "temp11 = pd.merge(temp10, team_dod_raid_points_seas1, on='team_name', how='left')\n",
    "temp12 = pd.merge(temp11, team_allouts_inflicted_seas1, on='team_name', how='left')\n",
    "season1_team_stats = pd.merge(temp12, team_allouts_conceded_seas1, on='team_name', how='left')\n",
    "\n",
    "season1_team_stats = season1_team_stats.fillna(0)\n",
    "\n",
    "season1_team_stats"
   ]
  },
  {
   "cell_type": "code",
   "execution_count": 96,
   "metadata": {},
   "outputs": [],
   "source": [
    "outfile = open('data/season4_team_stats.csv', mode='w')\n",
    "season1_team_stats.to_csv('data/season4_team_stats.csv', mode='w', index = False, header=True)\n",
    "outfile.close()"
   ]
  },
  {
   "cell_type": "code",
   "execution_count": null,
   "metadata": {},
   "outputs": [],
   "source": []
  }
 ],
 "metadata": {
  "kernelspec": {
   "display_name": "Python 3",
   "language": "python",
   "name": "python3"
  },
  "language_info": {
   "codemirror_mode": {
    "name": "ipython",
    "version": 3
   },
   "file_extension": ".py",
   "mimetype": "text/x-python",
   "name": "python",
   "nbconvert_exporter": "python",
   "pygments_lexer": "ipython3",
   "version": "3.7.3"
  }
 },
 "nbformat": 4,
 "nbformat_minor": 2
}
