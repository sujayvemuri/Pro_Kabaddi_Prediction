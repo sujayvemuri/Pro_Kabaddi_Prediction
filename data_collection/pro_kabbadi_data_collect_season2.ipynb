{
 "cells": [
  {
   "cell_type": "code",
   "execution_count": 1,
   "metadata": {},
   "outputs": [],
   "source": [
    "import requests\n",
    "import pandas as pd\n",
    "from bs4 import BeautifulSoup\n",
    "from selenium import webdriver\n",
    "import re\n",
    "import time"
   ]
  },
  {
   "cell_type": "markdown",
   "metadata": {},
   "source": [
    "Download the Chrome Webdriver from https://sites.google.com/a/chromium.org/chromedriver/downloads (make sure you download the same Chrome version driver)\n",
    "\n",
    "And place the file at notebook location"
   ]
  },
  {
   "cell_type": "code",
   "execution_count": 2,
   "metadata": {},
   "outputs": [],
   "source": [
    "driver = webdriver.Chrome(executable_path='chromedriver.exe')"
   ]
  },
  {
   "cell_type": "markdown",
   "metadata": {},
   "source": [
    "Getting the Player Stats<br>\n",
    "First we will get the Total Points secured by Each player"
   ]
  },
  {
   "cell_type": "code",
   "execution_count": 3,
   "metadata": {},
   "outputs": [],
   "source": [
    "driver.get('https://www.prokabaddi.com/stats/2-102-total-points-statistics')"
   ]
  },
  {
   "cell_type": "markdown",
   "metadata": {},
   "source": [
    "Wait for above cell to execute"
   ]
  },
  {
   "cell_type": "code",
   "execution_count": 4,
   "metadata": {},
   "outputs": [],
   "source": [
    "time.sleep(7)\n",
    "\n",
    "myelement = driver.find_element_by_xpath('//*[@id=\"load_more\"]')\n",
    "\n",
    "while myelement.is_displayed():\n",
    "    if myelement.is_displayed():\n",
    "        myelement.click()\n",
    "\n",
    "time.sleep(3)"
   ]
  },
  {
   "cell_type": "code",
   "execution_count": 5,
   "metadata": {},
   "outputs": [],
   "source": [
    "soup = BeautifulSoup(driver.page_source)\n",
    "player = soup.findAll('div',attrs={'class':'lb-detailItem-wrap'})\n",
    "\n",
    "player_names = []\n",
    "player_profile = []\n",
    "player_team = []\n",
    "matches_played = []\n",
    "total_points = []\n",
    "\n",
    "for item in player:\n",
    "    \n",
    "    #Fetching the Player Name\n",
    "    itm1 = item.find('div',attrs={'class':'sipk-lb-playerName'}).span.text.replace('\\n', ' ').strip()\n",
    "    player_names.append(itm1)\n",
    "    \n",
    "    #Fetching the Player Profile\n",
    "    if item.find('div',attrs={'class':'sipk-lb-playerprofile'}):\n",
    "        itm2 = item.find('div',attrs={'class':'sipk-lb-playerprofile'}).span.text\n",
    "        player_profile.append(itm2)\n",
    "    else:\n",
    "        player_profile.append('')\n",
    "    \n",
    "    #Fetching the Player Team\n",
    "    itm3 = item.find('a',attrs={'class':'sipk-lb-detailBlock sipk-lb-team'})\n",
    "    srch = re.findall('u-mumba|telugu-titans|jaipur-pink-panthers|bengaluru-bulls|dabang-delhi-kc|patna-pirates|puneri-paltan|bengal-warriors', itm3.attrs['href'])\n",
    "    player_team.append(srch[0])\n",
    "    \n",
    "    #Fetching the Matches Played by Player\n",
    "    itm4 = item.find('div',attrs={'class':'sipk-lb-detailBlock sipk-lb-matchedPlayed'}).span.text\n",
    "    matches_played.append(itm4)\n",
    "    \n",
    "    #Fetching the Total Points scored by a Player\n",
    "    itm5 = item.find('div',attrs={'class':'sipk-lb-detailBlock sipk-lb-raidPoints'}).span.text\n",
    "    total_points.append(itm5)\n",
    "\n",
    "#print(player_names)\n",
    "#print(player_profile)\n",
    "#print(player_team)\n",
    "#print(matches_played)\n",
    "#print(total_points)"
   ]
  },
  {
   "cell_type": "code",
   "execution_count": 7,
   "metadata": {},
   "outputs": [],
   "source": [
    "pyr_tot_points_seas1 = pd.DataFrame({'name':player_names, 'profile':player_profile, 'team':player_team\n",
    "                                     , 'matches_played':matches_played, 'total_points':total_points})\n",
    "\n",
    "#pyr_tot_points_seas1.head()"
   ]
  },
  {
   "cell_type": "markdown",
   "metadata": {},
   "source": [
    "Get Successful raids"
   ]
  },
  {
   "cell_type": "code",
   "execution_count": 8,
   "metadata": {},
   "outputs": [],
   "source": [
    "driver.get('https://www.prokabaddi.com/stats/2-21-successful-raids-statistics')"
   ]
  },
  {
   "cell_type": "markdown",
   "metadata": {},
   "source": [
    "Wait for above cell to execute"
   ]
  },
  {
   "cell_type": "code",
   "execution_count": 9,
   "metadata": {},
   "outputs": [],
   "source": [
    "time.sleep(7)\n",
    "\n",
    "myelement = driver.find_element_by_xpath('//*[@id=\"load_more\"]')\n",
    "\n",
    "while myelement.is_displayed():\n",
    "    if myelement.is_displayed():\n",
    "        myelement.click()\n",
    "\n",
    "time.sleep(3)"
   ]
  },
  {
   "cell_type": "code",
   "execution_count": 10,
   "metadata": {},
   "outputs": [],
   "source": [
    "soup = BeautifulSoup(driver.page_source)\n",
    "player = soup.findAll('div',attrs={'class':'lb-detailItem-wrap'})\n",
    "\n",
    "player_names = []\n",
    "success_raids = []\n",
    "\n",
    "for item in player:\n",
    "    \n",
    "    #Fetching the Player Name\n",
    "    itm1 = item.find('div',attrs={'class':'sipk-lb-playerName'}).span.text.replace('\\n', ' ').strip()\n",
    "    player_names.append(itm1)\n",
    "    \n",
    "    #Fetching the Raid Points scored by a Player\n",
    "    itm2 = item.find('div',attrs={'class':'sipk-lb-detailBlock sipk-lb-raidPoints'}).span.text\n",
    "    success_raids.append(itm2)\n",
    "\n",
    "#print(player_names)\n",
    "#print(success_raids)"
   ]
  },
  {
   "cell_type": "code",
   "execution_count": 11,
   "metadata": {},
   "outputs": [],
   "source": [
    "pyr_success_raids_seas1 = pd.DataFrame({'name':player_names, 'success_raids':success_raids})\n",
    "\n",
    "#pyr_success_raids_seas1.head()"
   ]
  },
  {
   "cell_type": "markdown",
   "metadata": {},
   "source": [
    "Get Raid Points"
   ]
  },
  {
   "cell_type": "code",
   "execution_count": 12,
   "metadata": {},
   "outputs": [],
   "source": [
    "driver.get('https://www.prokabaddi.com/stats/2-22-raid-points-statistics')"
   ]
  },
  {
   "cell_type": "markdown",
   "metadata": {},
   "source": [
    "Wait for above cell to execute"
   ]
  },
  {
   "cell_type": "code",
   "execution_count": 13,
   "metadata": {},
   "outputs": [],
   "source": [
    "time.sleep(7)\n",
    "\n",
    "myelement = driver.find_element_by_xpath('//*[@id=\"load_more\"]')\n",
    "\n",
    "while myelement.is_displayed():\n",
    "    if myelement.is_displayed():\n",
    "        myelement.click()\n",
    "\n",
    "time.sleep(3)"
   ]
  },
  {
   "cell_type": "code",
   "execution_count": 14,
   "metadata": {},
   "outputs": [],
   "source": [
    "soup = BeautifulSoup(driver.page_source)\n",
    "player = soup.findAll('div',attrs={'class':'lb-detailItem-wrap'})\n",
    "\n",
    "player_names = []\n",
    "raid_points = []\n",
    "\n",
    "for item in player:\n",
    "    \n",
    "    #Fetching the Player Name\n",
    "    itm1 = item.find('div',attrs={'class':'sipk-lb-playerName'}).span.text.replace('\\n', ' ').strip()\n",
    "    player_names.append(itm1)\n",
    "    \n",
    "    #Fetching the Raid Points scored by a Player\n",
    "    itm2 = item.find('div',attrs={'class':'sipk-lb-detailBlock sipk-lb-raidPoints'}).span.text\n",
    "    raid_points.append(itm2)\n",
    "\n",
    "#print(player_names)\n",
    "#print(raid_points)"
   ]
  },
  {
   "cell_type": "code",
   "execution_count": 15,
   "metadata": {},
   "outputs": [],
   "source": [
    "pyr_raid_points_seas1 = pd.DataFrame({'name':player_names, 'raid_points':raid_points})\n",
    "\n",
    "#pyr_raid_points_seas1.head()"
   ]
  },
  {
   "cell_type": "markdown",
   "metadata": {},
   "source": [
    "Get Successful Tackles"
   ]
  },
  {
   "cell_type": "code",
   "execution_count": 16,
   "metadata": {},
   "outputs": [],
   "source": [
    "driver.get('https://www.prokabaddi.com/stats/2-23-successful-tackles-statistics')"
   ]
  },
  {
   "cell_type": "markdown",
   "metadata": {},
   "source": [
    "Wait for above cell to execute"
   ]
  },
  {
   "cell_type": "code",
   "execution_count": 17,
   "metadata": {},
   "outputs": [],
   "source": [
    "time.sleep(7)\n",
    "\n",
    "myelement = driver.find_element_by_xpath('//*[@id=\"load_more\"]')\n",
    "\n",
    "while myelement.is_displayed():\n",
    "    if myelement.is_displayed():\n",
    "        myelement.click()\n",
    "\n",
    "time.sleep(3)"
   ]
  },
  {
   "cell_type": "code",
   "execution_count": 18,
   "metadata": {},
   "outputs": [],
   "source": [
    "soup = BeautifulSoup(driver.page_source)\n",
    "player = soup.findAll('div',attrs={'class':'lb-detailItem-wrap'})\n",
    "\n",
    "player_names = []\n",
    "success_tackles = []\n",
    "\n",
    "for item in player:\n",
    "    \n",
    "    #Fetching the Player Name\n",
    "    itm1 = item.find('div',attrs={'class':'sipk-lb-playerName'}).span.text.replace('\\n', ' ').strip()\n",
    "    player_names.append(itm1)\n",
    "    \n",
    "    #Fetching the Raid Points scored by a Player\n",
    "    itm2 = item.find('div',attrs={'class':'sipk-lb-detailBlock sipk-lb-raidPoints'}).span.text\n",
    "    success_tackles.append(itm2)\n",
    "\n",
    "#print(player_names)\n",
    "#print(success_tackles)"
   ]
  },
  {
   "cell_type": "code",
   "execution_count": 19,
   "metadata": {},
   "outputs": [],
   "source": [
    "pyr_success_tackles_seas1 = pd.DataFrame({'name':player_names, 'success_tackles':success_tackles})\n",
    "\n",
    "#pyr_success_tackles_seas1.head()"
   ]
  },
  {
   "cell_type": "markdown",
   "metadata": {},
   "source": [
    "Get Tackle Points"
   ]
  },
  {
   "cell_type": "code",
   "execution_count": 20,
   "metadata": {},
   "outputs": [],
   "source": [
    "driver.get('https://www.prokabaddi.com/stats/2-103-tackle-points-statistics')"
   ]
  },
  {
   "cell_type": "markdown",
   "metadata": {},
   "source": [
    "Wait for above cell to execute"
   ]
  },
  {
   "cell_type": "code",
   "execution_count": 21,
   "metadata": {},
   "outputs": [],
   "source": [
    "time.sleep(7)\n",
    "\n",
    "myelement = driver.find_element_by_xpath('//*[@id=\"load_more\"]')\n",
    "\n",
    "while myelement.is_displayed():\n",
    "    if myelement.is_displayed():\n",
    "        myelement.click()\n",
    "\n",
    "time.sleep(3)"
   ]
  },
  {
   "cell_type": "code",
   "execution_count": 22,
   "metadata": {},
   "outputs": [],
   "source": [
    "soup = BeautifulSoup(driver.page_source)\n",
    "player = soup.findAll('div',attrs={'class':'lb-detailItem-wrap'})\n",
    "\n",
    "player_names = []\n",
    "tackle_points = []\n",
    "\n",
    "for item in player:\n",
    "    \n",
    "    #Fetching the Player Name\n",
    "    itm1 = item.find('div',attrs={'class':'sipk-lb-playerName'}).span.text.replace('\\n', ' ').strip()\n",
    "    player_names.append(itm1)\n",
    "    \n",
    "    #Fetching the Raid Points scored by a Player\n",
    "    itm2 = item.find('div',attrs={'class':'sipk-lb-detailBlock sipk-lb-raidPoints'}).span.text\n",
    "    tackle_points.append(itm2)\n",
    "\n",
    "#print(player_names)\n",
    "#print(tackle_points)"
   ]
  },
  {
   "cell_type": "code",
   "execution_count": 23,
   "metadata": {},
   "outputs": [],
   "source": [
    "pyr_tackle_points_seas1 = pd.DataFrame({'name':player_names, 'tackle_points':tackle_points})\n",
    "\n",
    "#pyr_tackle_points_seas1.head()"
   ]
  },
  {
   "cell_type": "markdown",
   "metadata": {},
   "source": [
    "Get Average Raid Points"
   ]
  },
  {
   "cell_type": "code",
   "execution_count": 24,
   "metadata": {},
   "outputs": [],
   "source": [
    "driver.get('https://www.prokabaddi.com/stats/2-138-avg-raid-points-statistics')"
   ]
  },
  {
   "cell_type": "markdown",
   "metadata": {},
   "source": [
    "Wait for above cell to execute"
   ]
  },
  {
   "cell_type": "code",
   "execution_count": 25,
   "metadata": {},
   "outputs": [],
   "source": [
    "time.sleep(7)\n",
    "\n",
    "myelement = driver.find_element_by_xpath('//*[@id=\"load_more\"]')\n",
    "\n",
    "while myelement.is_displayed():\n",
    "    if myelement.is_displayed():\n",
    "        myelement.click()\n",
    "\n",
    "time.sleep(3)"
   ]
  },
  {
   "cell_type": "code",
   "execution_count": 26,
   "metadata": {},
   "outputs": [],
   "source": [
    "soup = BeautifulSoup(driver.page_source)\n",
    "player = soup.findAll('div',attrs={'class':'lb-detailItem-wrap'})\n",
    "\n",
    "player_names = []\n",
    "avg_raid_points = []\n",
    "\n",
    "for item in player:\n",
    "    \n",
    "    #Fetching the Player Name\n",
    "    itm1 = item.find('div',attrs={'class':'sipk-lb-playerName'}).span.text.replace('\\n', ' ').strip()\n",
    "    player_names.append(itm1)\n",
    "    \n",
    "    #Fetching the Raid Points scored by a Player\n",
    "    itm2 = item.find('div',attrs={'class':'sipk-lb-detailBlock sipk-lb-raidPoints'}).span.text\n",
    "    avg_raid_points.append(itm2)\n",
    "\n",
    "#print(player_names)\n",
    "#print(avg_raid_points)"
   ]
  },
  {
   "cell_type": "code",
   "execution_count": 27,
   "metadata": {},
   "outputs": [],
   "source": [
    "pyr_avg_raid_points_seas1 = pd.DataFrame({'name':player_names, 'avg_raid_points':avg_raid_points})\n",
    "\n",
    "#pyr_avg_raid_points_seas1.head()"
   ]
  },
  {
   "cell_type": "markdown",
   "metadata": {},
   "source": [
    "Get Average Tackle Points"
   ]
  },
  {
   "cell_type": "code",
   "execution_count": 28,
   "metadata": {},
   "outputs": [],
   "source": [
    "driver.get('https://www.prokabaddi.com/stats/2-139-avg-tackle-points-statistics')"
   ]
  },
  {
   "cell_type": "markdown",
   "metadata": {},
   "source": [
    "Wait for above cell to execute"
   ]
  },
  {
   "cell_type": "code",
   "execution_count": 29,
   "metadata": {},
   "outputs": [],
   "source": [
    "time.sleep(7)\n",
    "\n",
    "myelement = driver.find_element_by_xpath('//*[@id=\"load_more\"]')\n",
    "\n",
    "while myelement.is_displayed():\n",
    "    if myelement.is_displayed():\n",
    "        myelement.click()\n",
    "\n",
    "time.sleep(3)"
   ]
  },
  {
   "cell_type": "code",
   "execution_count": 30,
   "metadata": {},
   "outputs": [],
   "source": [
    "soup = BeautifulSoup(driver.page_source)\n",
    "player = soup.findAll('div',attrs={'class':'lb-detailItem-wrap'})\n",
    "\n",
    "player_names = []\n",
    "avg_tackle_points = []\n",
    "\n",
    "for item in player:\n",
    "    \n",
    "    #Fetching the Player Name\n",
    "    itm1 = item.find('div',attrs={'class':'sipk-lb-playerName'}).span.text.replace('\\n', ' ').strip()\n",
    "    player_names.append(itm1)\n",
    "    \n",
    "    #Fetching the Raid Points scored by a Player\n",
    "    itm2 = item.find('div',attrs={'class':'sipk-lb-detailBlock sipk-lb-raidPoints'}).span.text\n",
    "    avg_tackle_points.append(itm2)\n",
    "\n",
    "#print(player_names)\n",
    "#print(avg_tackle_points)"
   ]
  },
  {
   "cell_type": "code",
   "execution_count": 31,
   "metadata": {},
   "outputs": [],
   "source": [
    "pyr_avg_tackle_points_seas1 = pd.DataFrame({'name':player_names, 'avg_tackle_points':avg_tackle_points})\n",
    "\n",
    "#pyr_avg_tackle_points_seas1.head()"
   ]
  },
  {
   "cell_type": "markdown",
   "metadata": {},
   "source": [
    "Get Do Or Die Raid Points"
   ]
  },
  {
   "cell_type": "code",
   "execution_count": 32,
   "metadata": {},
   "outputs": [],
   "source": [
    "driver.get('https://www.prokabaddi.com/stats/2-132-do-or-die-raid-points-statistics')"
   ]
  },
  {
   "cell_type": "markdown",
   "metadata": {},
   "source": [
    "Wait for above cell to execute"
   ]
  },
  {
   "cell_type": "code",
   "execution_count": 33,
   "metadata": {},
   "outputs": [],
   "source": [
    "time.sleep(7)\n",
    "\n",
    "myelement = driver.find_element_by_xpath('//*[@id=\"load_more\"]')\n",
    "\n",
    "while myelement.is_displayed():\n",
    "    if myelement.is_displayed():\n",
    "        myelement.click()\n",
    "\n",
    "time.sleep(3)"
   ]
  },
  {
   "cell_type": "code",
   "execution_count": 34,
   "metadata": {},
   "outputs": [],
   "source": [
    "soup = BeautifulSoup(driver.page_source)\n",
    "player = soup.findAll('div',attrs={'class':'lb-detailItem-wrap'})\n",
    "\n",
    "player_names = []\n",
    "dod_raid_points = []\n",
    "\n",
    "for item in player:\n",
    "    \n",
    "    #Fetching the Player Name\n",
    "    itm1 = item.find('div',attrs={'class':'sipk-lb-playerName'}).span.text.replace('\\n', ' ').strip()\n",
    "    player_names.append(itm1)\n",
    "    \n",
    "    #Fetching the Raid Points scored by a Player\n",
    "    itm2 = item.find('div',attrs={'class':'sipk-lb-detailBlock sipk-lb-raidPoints'}).span.text\n",
    "    dod_raid_points.append(itm2)\n",
    "\n",
    "#print(player_names)\n",
    "#print(dod_raid_points)"
   ]
  },
  {
   "cell_type": "code",
   "execution_count": 35,
   "metadata": {},
   "outputs": [],
   "source": [
    "pyr_dod_raid_points_seas1 = pd.DataFrame({'name':player_names, 'dod_raid_points':dod_raid_points})\n",
    "\n",
    "#pyr_dod_raid_points_seas1.head()"
   ]
  },
  {
   "cell_type": "markdown",
   "metadata": {},
   "source": [
    "Get Super Raids"
   ]
  },
  {
   "cell_type": "code",
   "execution_count": 36,
   "metadata": {},
   "outputs": [],
   "source": [
    "driver.get('https://www.prokabaddi.com/stats/2-104-super-raids-statistics')"
   ]
  },
  {
   "cell_type": "markdown",
   "metadata": {},
   "source": [
    "Wait for above cell to execute"
   ]
  },
  {
   "cell_type": "code",
   "execution_count": 37,
   "metadata": {},
   "outputs": [],
   "source": [
    "time.sleep(7)\n",
    "\n",
    "myelement = driver.find_element_by_xpath('//*[@id=\"load_more\"]')\n",
    "\n",
    "while myelement.is_displayed():\n",
    "    if myelement.is_displayed():\n",
    "        myelement.click()\n",
    "\n",
    "time.sleep(3)"
   ]
  },
  {
   "cell_type": "code",
   "execution_count": 38,
   "metadata": {},
   "outputs": [],
   "source": [
    "soup = BeautifulSoup(driver.page_source)\n",
    "player = soup.findAll('div',attrs={'class':'lb-detailItem-wrap'})\n",
    "\n",
    "player_names = []\n",
    "super_raids = []\n",
    "\n",
    "for item in player:\n",
    "    \n",
    "    #Fetching the Player Name\n",
    "    itm1 = item.find('div',attrs={'class':'sipk-lb-playerName'}).span.text.replace('\\n', ' ').strip()\n",
    "    player_names.append(itm1)\n",
    "    \n",
    "    #Fetching the Raid Points scored by a Player\n",
    "    itm2 = item.find('div',attrs={'class':'sipk-lb-detailBlock sipk-lb-raidPoints'}).span.text\n",
    "    super_raids.append(itm2)\n",
    "\n",
    "#print(player_names)\n",
    "#print(super_raids)"
   ]
  },
  {
   "cell_type": "code",
   "execution_count": 39,
   "metadata": {},
   "outputs": [],
   "source": [
    "pyr_super_raids_seas1 = pd.DataFrame({'name':player_names, 'super_raids':super_raids})\n",
    "\n",
    "#pyr_super_raids_seas1.head()"
   ]
  },
  {
   "cell_type": "markdown",
   "metadata": {},
   "source": [
    "Get Super Tackles"
   ]
  },
  {
   "cell_type": "code",
   "execution_count": 40,
   "metadata": {},
   "outputs": [],
   "source": [
    "driver.get('https://www.prokabaddi.com/stats/2-28-super-tackles-statistics')"
   ]
  },
  {
   "cell_type": "markdown",
   "metadata": {},
   "source": [
    "Wait for above cell to execute"
   ]
  },
  {
   "cell_type": "code",
   "execution_count": 41,
   "metadata": {},
   "outputs": [],
   "source": [
    "time.sleep(7)\n",
    "\n",
    "myelement = driver.find_element_by_xpath('//*[@id=\"load_more\"]')\n",
    "\n",
    "while myelement.is_displayed():\n",
    "    if myelement.is_displayed():\n",
    "        myelement.click()\n",
    "\n",
    "time.sleep(3)"
   ]
  },
  {
   "cell_type": "code",
   "execution_count": 42,
   "metadata": {},
   "outputs": [],
   "source": [
    "soup = BeautifulSoup(driver.page_source)\n",
    "player = soup.findAll('div',attrs={'class':'lb-detailItem-wrap'})\n",
    "\n",
    "player_names = []\n",
    "super_tackles = []\n",
    "\n",
    "for item in player:\n",
    "    \n",
    "    #Fetching the Player Name\n",
    "    itm1 = item.find('div',attrs={'class':'sipk-lb-playerName'}).span.text.replace('\\n', ' ').strip()\n",
    "    player_names.append(itm1)\n",
    "    \n",
    "    #Fetching the Raid Points scored by a Player\n",
    "    itm2 = item.find('div',attrs={'class':'sipk-lb-detailBlock sipk-lb-raidPoints'}).span.text\n",
    "    super_tackles.append(itm2)\n",
    "\n",
    "#print(player_names)\n",
    "#print(super_tackles)"
   ]
  },
  {
   "cell_type": "code",
   "execution_count": 43,
   "metadata": {
    "scrolled": true
   },
   "outputs": [],
   "source": [
    "pyr_super_tackles_seas1 = pd.DataFrame({'name':player_names, 'super_tackles':super_tackles})\n",
    "\n",
    "#pyr_super_tackles_seas1.head()"
   ]
  },
  {
   "cell_type": "markdown",
   "metadata": {},
   "source": [
    "Get Super 10s"
   ]
  },
  {
   "cell_type": "code",
   "execution_count": 44,
   "metadata": {},
   "outputs": [],
   "source": [
    "driver.get('https://www.prokabaddi.com/stats/2-100-super-10s-statistics')"
   ]
  },
  {
   "cell_type": "markdown",
   "metadata": {},
   "source": [
    "Wait for above cell to execute"
   ]
  },
  {
   "cell_type": "code",
   "execution_count": 45,
   "metadata": {},
   "outputs": [],
   "source": [
    "time.sleep(7)\n",
    "\n",
    "myelement = driver.find_element_by_xpath('//*[@id=\"load_more\"]')\n",
    "\n",
    "while myelement.is_displayed():\n",
    "    if myelement.is_displayed():\n",
    "        myelement.click()\n",
    "\n",
    "time.sleep(3)"
   ]
  },
  {
   "cell_type": "code",
   "execution_count": 46,
   "metadata": {},
   "outputs": [],
   "source": [
    "soup = BeautifulSoup(driver.page_source)\n",
    "player = soup.findAll('div',attrs={'class':'lb-detailItem-wrap'})\n",
    "\n",
    "player_names = []\n",
    "super_10s = []\n",
    "\n",
    "for item in player:\n",
    "    \n",
    "    #Fetching the Player Name\n",
    "    itm1 = item.find('div',attrs={'class':'sipk-lb-playerName'}).span.text.replace('\\n', ' ').strip()\n",
    "    player_names.append(itm1)\n",
    "    \n",
    "    #Fetching the Raid Points scored by a Player\n",
    "    itm2 = item.find('div',attrs={'class':'sipk-lb-detailBlock sipk-lb-raidPoints'}).span.text\n",
    "    super_10s.append(itm2)\n",
    "\n",
    "#print(player_names)\n",
    "#print(super_10s)"
   ]
  },
  {
   "cell_type": "code",
   "execution_count": 47,
   "metadata": {
    "scrolled": false
   },
   "outputs": [],
   "source": [
    "pyr_super_10s_seas1 = pd.DataFrame({'name':player_names, 'super_10s':super_10s})\n",
    "\n",
    "#pyr_super_10s_seas1.head()"
   ]
  },
  {
   "cell_type": "markdown",
   "metadata": {},
   "source": [
    "Get High 5s"
   ]
  },
  {
   "cell_type": "code",
   "execution_count": 48,
   "metadata": {},
   "outputs": [],
   "source": [
    "driver.get('https://www.prokabaddi.com/stats/2-101-high-5s-statistics')"
   ]
  },
  {
   "cell_type": "markdown",
   "metadata": {},
   "source": [
    "Wait for above cell to execute"
   ]
  },
  {
   "cell_type": "code",
   "execution_count": 49,
   "metadata": {},
   "outputs": [],
   "source": [
    "time.sleep(7)\n",
    "\n",
    "myelement = driver.find_element_by_xpath('//*[@id=\"load_more\"]')\n",
    "\n",
    "while myelement.is_displayed():\n",
    "    if myelement.is_displayed():\n",
    "        myelement.click()\n",
    "\n",
    "time.sleep(3)"
   ]
  },
  {
   "cell_type": "code",
   "execution_count": 50,
   "metadata": {},
   "outputs": [],
   "source": [
    "soup = BeautifulSoup(driver.page_source)\n",
    "player = soup.findAll('div',attrs={'class':'lb-detailItem-wrap'})\n",
    "\n",
    "player_names = []\n",
    "high_5s = []\n",
    "\n",
    "for item in player:\n",
    "    \n",
    "    #Fetching the Player Name\n",
    "    itm1 = item.find('div',attrs={'class':'sipk-lb-playerName'}).span.text.replace('\\n', ' ').strip()\n",
    "    player_names.append(itm1)\n",
    "    \n",
    "    #Fetching the Raid Points scored by a Player\n",
    "    itm2 = item.find('div',attrs={'class':'sipk-lb-detailBlock sipk-lb-raidPoints'}).span.text\n",
    "    high_5s.append(itm2)\n",
    "\n",
    "#print(player_names)\n",
    "#print(high_5s)"
   ]
  },
  {
   "cell_type": "code",
   "execution_count": 51,
   "metadata": {
    "scrolled": false
   },
   "outputs": [],
   "source": [
    "pyr_high_5s_seas1 = pd.DataFrame({'name':player_names, 'high_5s':high_5s})\n",
    "\n",
    "#pyr_high_5s_seas1.head()"
   ]
  },
  {
   "cell_type": "markdown",
   "metadata": {},
   "source": [
    "Merge Player Stats into a master frame"
   ]
  },
  {
   "cell_type": "code",
   "execution_count": 52,
   "metadata": {},
   "outputs": [
    {
     "data": {
      "text/html": [
       "<div>\n",
       "<style scoped>\n",
       "    .dataframe tbody tr th:only-of-type {\n",
       "        vertical-align: middle;\n",
       "    }\n",
       "\n",
       "    .dataframe tbody tr th {\n",
       "        vertical-align: top;\n",
       "    }\n",
       "\n",
       "    .dataframe thead th {\n",
       "        text-align: right;\n",
       "    }\n",
       "</style>\n",
       "<table border=\"1\" class=\"dataframe\">\n",
       "  <thead>\n",
       "    <tr style=\"text-align: right;\">\n",
       "      <th></th>\n",
       "      <th>name</th>\n",
       "      <th>profile</th>\n",
       "      <th>team</th>\n",
       "      <th>matches_played</th>\n",
       "      <th>total_points</th>\n",
       "      <th>success_raids</th>\n",
       "      <th>raid_points</th>\n",
       "      <th>success_tackles</th>\n",
       "      <th>tackle_points</th>\n",
       "      <th>avg_raid_points</th>\n",
       "      <th>avg_tackle_points</th>\n",
       "      <th>dod_raid_points</th>\n",
       "      <th>super_raids</th>\n",
       "      <th>super_tackles</th>\n",
       "      <th>super_10s</th>\n",
       "      <th>high_5s</th>\n",
       "    </tr>\n",
       "  </thead>\n",
       "  <tbody>\n",
       "    <tr>\n",
       "      <th>0</th>\n",
       "      <td>Kashiling Adake</td>\n",
       "      <td>Raider</td>\n",
       "      <td>dabang-delhi-kc</td>\n",
       "      <td>14</td>\n",
       "      <td>117</td>\n",
       "      <td>87</td>\n",
       "      <td>114</td>\n",
       "      <td>3</td>\n",
       "      <td>3</td>\n",
       "      <td>8.14</td>\n",
       "      <td>0.21</td>\n",
       "      <td>20</td>\n",
       "      <td>7</td>\n",
       "      <td>0</td>\n",
       "      <td>3</td>\n",
       "      <td>0</td>\n",
       "    </tr>\n",
       "    <tr>\n",
       "      <th>1</th>\n",
       "      <td>Manjeet Chhillar</td>\n",
       "      <td>All Rounder</td>\n",
       "      <td>bengaluru-bulls</td>\n",
       "      <td>16</td>\n",
       "      <td>107</td>\n",
       "      <td>60</td>\n",
       "      <td>67</td>\n",
       "      <td>39</td>\n",
       "      <td>40</td>\n",
       "      <td>4.19</td>\n",
       "      <td>2.5</td>\n",
       "      <td>4</td>\n",
       "      <td>0</td>\n",
       "      <td>1</td>\n",
       "      <td>0</td>\n",
       "      <td>3</td>\n",
       "    </tr>\n",
       "    <tr>\n",
       "      <th>2</th>\n",
       "      <td>Rahul Chaudhari</td>\n",
       "      <td>Raider</td>\n",
       "      <td>telugu-titans</td>\n",
       "      <td>14</td>\n",
       "      <td>107</td>\n",
       "      <td>75</td>\n",
       "      <td>98</td>\n",
       "      <td>9</td>\n",
       "      <td>9</td>\n",
       "      <td>7</td>\n",
       "      <td>0.64</td>\n",
       "      <td>14</td>\n",
       "      <td>6</td>\n",
       "      <td>0</td>\n",
       "      <td>5</td>\n",
       "      <td>0</td>\n",
       "    </tr>\n",
       "    <tr>\n",
       "      <th>3</th>\n",
       "      <td>Deepak Niwas Hooda</td>\n",
       "      <td>All Rounder</td>\n",
       "      <td>telugu-titans</td>\n",
       "      <td>15</td>\n",
       "      <td>96</td>\n",
       "      <td>54</td>\n",
       "      <td>60</td>\n",
       "      <td>32</td>\n",
       "      <td>36</td>\n",
       "      <td>4</td>\n",
       "      <td>2.4</td>\n",
       "      <td>8</td>\n",
       "      <td>1</td>\n",
       "      <td>4</td>\n",
       "      <td>1</td>\n",
       "      <td>3</td>\n",
       "    </tr>\n",
       "    <tr>\n",
       "      <th>4</th>\n",
       "      <td>Rajesh Narwal</td>\n",
       "      <td>All Rounder</td>\n",
       "      <td>jaipur-pink-panthers</td>\n",
       "      <td>14</td>\n",
       "      <td>87</td>\n",
       "      <td>54</td>\n",
       "      <td>69</td>\n",
       "      <td>16</td>\n",
       "      <td>18</td>\n",
       "      <td>4.93</td>\n",
       "      <td>1.29</td>\n",
       "      <td>14</td>\n",
       "      <td>3</td>\n",
       "      <td>2</td>\n",
       "      <td>2</td>\n",
       "      <td>0</td>\n",
       "    </tr>\n",
       "  </tbody>\n",
       "</table>\n",
       "</div>"
      ],
      "text/plain": [
       "                 name      profile                  team matches_played  \\\n",
       "0     Kashiling Adake       Raider       dabang-delhi-kc             14   \n",
       "1    Manjeet Chhillar  All Rounder       bengaluru-bulls             16   \n",
       "2     Rahul Chaudhari       Raider         telugu-titans             14   \n",
       "3  Deepak Niwas Hooda  All Rounder         telugu-titans             15   \n",
       "4       Rajesh Narwal  All Rounder  jaipur-pink-panthers             14   \n",
       "\n",
       "  total_points success_raids raid_points success_tackles tackle_points  \\\n",
       "0          117            87         114               3             3   \n",
       "1          107            60          67              39            40   \n",
       "2          107            75          98               9             9   \n",
       "3           96            54          60              32            36   \n",
       "4           87            54          69              16            18   \n",
       "\n",
       "  avg_raid_points avg_tackle_points dod_raid_points super_raids super_tackles  \\\n",
       "0            8.14              0.21              20           7             0   \n",
       "1            4.19               2.5               4           0             1   \n",
       "2               7              0.64              14           6             0   \n",
       "3               4               2.4               8           1             4   \n",
       "4            4.93              1.29              14           3             2   \n",
       "\n",
       "  super_10s high_5s  \n",
       "0         3       0  \n",
       "1         0       3  \n",
       "2         5       0  \n",
       "3         1       3  \n",
       "4         2       0  "
      ]
     },
     "execution_count": 52,
     "metadata": {},
     "output_type": "execute_result"
    }
   ],
   "source": [
    "temp1 = pd.merge(pyr_tot_points_seas1, pyr_success_raids_seas1, on='name', how='left')\n",
    "temp2 = pd.merge(temp1, pyr_raid_points_seas1, on='name', how='left')\n",
    "temp3 = pd.merge(temp2, pyr_success_tackles_seas1, on='name', how='left')\n",
    "temp4 = pd.merge(temp3, pyr_tackle_points_seas1, on='name', how='left')\n",
    "temp5 = pd.merge(temp4, pyr_avg_raid_points_seas1, on='name', how='left')\n",
    "temp6 = pd.merge(temp5, pyr_avg_tackle_points_seas1, on='name', how='left')\n",
    "temp7 = pd.merge(temp6, pyr_dod_raid_points_seas1, on='name', how='left')\n",
    "temp8 = pd.merge(temp7, pyr_super_raids_seas1, on='name', how='left')\n",
    "temp9 = pd.merge(temp8, pyr_super_tackles_seas1, on='name', how='left')\n",
    "temp10 = pd.merge(temp9, pyr_super_10s_seas1, on='name', how='left')\n",
    "season1_plyr_stats = pd.merge(temp10, pyr_high_5s_seas1, on='name', how='left')\n",
    "\n",
    "season1_plyr_stats = season1_plyr_stats.fillna(0)\n",
    "\n",
    "season1_plyr_stats.head()"
   ]
  },
  {
   "cell_type": "code",
   "execution_count": 53,
   "metadata": {},
   "outputs": [],
   "source": [
    "outfile = open('data/season2_player_stats.csv', mode='w')\n",
    "season1_plyr_stats.to_csv('data/season2_player_stats.csv', mode='w', index = False, header=True)\n",
    "outfile.close()"
   ]
  },
  {
   "cell_type": "markdown",
   "metadata": {},
   "source": [
    "### Team Stats"
   ]
  },
  {
   "cell_type": "markdown",
   "metadata": {},
   "source": [
    "Getting the Team Stats<br>\n",
    "First we will get the Total Points secured by Each Team"
   ]
  },
  {
   "cell_type": "code",
   "execution_count": 54,
   "metadata": {},
   "outputs": [],
   "source": [
    "driver.get('https://www.prokabaddi.com/stats/2-96-total-points-scored-statistics')\n",
    "time.sleep(5)"
   ]
  },
  {
   "cell_type": "code",
   "execution_count": 55,
   "metadata": {},
   "outputs": [],
   "source": [
    "soup = BeautifulSoup(driver.page_source)\n",
    "team = soup.findAll('div',attrs={'class':'lb-detailItem-wrap'})\n",
    "\n",
    "team_names = []\n",
    "matches_played = []\n",
    "total_points = []\n",
    "\n",
    "for item in team:\n",
    "    \n",
    "    #Fetching the Team\n",
    "    itm1 = item.find('a',attrs={'class':'sipk-lb-detailBlock sipk-playerDesc'})\n",
    "    srch = re.findall('u-mumba|telugu-titans|jaipur-pink-panthers|bengaluru-bulls|dabang-delhi-kc|patna-pirates|puneri-paltan|bengal-warriors', itm1.attrs['href'])\n",
    "    team_names.append(srch[0])\n",
    "    \n",
    "    #Fetching the Matches Played by Team\n",
    "    itm2 = item.find('div',attrs={'class':'sipk-lb-detailBlock sipk-lb-matchedPlayed'}).span.text\n",
    "    matches_played.append(itm2)\n",
    "    \n",
    "    #Fetching the Total Points scored by a Team\n",
    "    itm3 = item.find('div',attrs={'class':'sipk-lb-detailBlock sipk-lb-raidPoints'}).span.text\n",
    "    total_points.append(itm3)\n",
    "\n",
    "#print(team_names)\n",
    "#print(matches_played)\n",
    "#print(total_points)"
   ]
  },
  {
   "cell_type": "code",
   "execution_count": 56,
   "metadata": {},
   "outputs": [
    {
     "data": {
      "text/html": [
       "<div>\n",
       "<style scoped>\n",
       "    .dataframe tbody tr th:only-of-type {\n",
       "        vertical-align: middle;\n",
       "    }\n",
       "\n",
       "    .dataframe tbody tr th {\n",
       "        vertical-align: top;\n",
       "    }\n",
       "\n",
       "    .dataframe thead th {\n",
       "        text-align: right;\n",
       "    }\n",
       "</style>\n",
       "<table border=\"1\" class=\"dataframe\">\n",
       "  <thead>\n",
       "    <tr style=\"text-align: right;\">\n",
       "      <th></th>\n",
       "      <th>team_name</th>\n",
       "      <th>matches_played</th>\n",
       "      <th>total_points_scored</th>\n",
       "    </tr>\n",
       "  </thead>\n",
       "  <tbody>\n",
       "    <tr>\n",
       "      <th>0</th>\n",
       "      <td>telugu-titans</td>\n",
       "      <td>16</td>\n",
       "      <td>586</td>\n",
       "    </tr>\n",
       "    <tr>\n",
       "      <th>1</th>\n",
       "      <td>bengaluru-bulls</td>\n",
       "      <td>16</td>\n",
       "      <td>508</td>\n",
       "    </tr>\n",
       "    <tr>\n",
       "      <th>2</th>\n",
       "      <td>u-mumba</td>\n",
       "      <td>16</td>\n",
       "      <td>489</td>\n",
       "    </tr>\n",
       "    <tr>\n",
       "      <th>3</th>\n",
       "      <td>patna-pirates</td>\n",
       "      <td>16</td>\n",
       "      <td>444</td>\n",
       "    </tr>\n",
       "    <tr>\n",
       "      <th>4</th>\n",
       "      <td>jaipur-pink-panthers</td>\n",
       "      <td>14</td>\n",
       "      <td>442</td>\n",
       "    </tr>\n",
       "  </tbody>\n",
       "</table>\n",
       "</div>"
      ],
      "text/plain": [
       "              team_name matches_played total_points_scored\n",
       "0         telugu-titans             16                 586\n",
       "1       bengaluru-bulls             16                 508\n",
       "2               u-mumba             16                 489\n",
       "3         patna-pirates             16                 444\n",
       "4  jaipur-pink-panthers             14                 442"
      ]
     },
     "execution_count": 56,
     "metadata": {},
     "output_type": "execute_result"
    }
   ],
   "source": [
    "team_tot_points_seas1 = pd.DataFrame({'team_name':team_names, 'matches_played':matches_played\n",
    "                                      , 'total_points_scored':total_points})\n",
    "\n",
    "team_tot_points_seas1.head()"
   ]
  },
  {
   "cell_type": "markdown",
   "metadata": {},
   "source": [
    "Total Points Conceded"
   ]
  },
  {
   "cell_type": "code",
   "execution_count": 57,
   "metadata": {},
   "outputs": [],
   "source": [
    "driver.get('https://www.prokabaddi.com/stats/2-133-total-points-conceded-statistics')\n",
    "time.sleep(5)"
   ]
  },
  {
   "cell_type": "code",
   "execution_count": 58,
   "metadata": {},
   "outputs": [],
   "source": [
    "soup = BeautifulSoup(driver.page_source)\n",
    "team = soup.findAll('div',attrs={'class':'lb-detailItem-wrap'})\n",
    "\n",
    "team_names = []\n",
    "total_points_conceded = []\n",
    "\n",
    "for item in team:\n",
    "    \n",
    "    itm1 = item.find('a',attrs={'class':'sipk-lb-detailBlock sipk-playerDesc'})\n",
    "    srch = re.findall('u-mumba|telugu-titans|jaipur-pink-panthers|bengaluru-bulls|dabang-delhi-kc|patna-pirates|puneri-paltan|bengal-warriors', itm1.attrs['href'])\n",
    "    team_names.append(srch[0])\n",
    "    \n",
    "    itm3 = item.find('div',attrs={'class':'sipk-lb-detailBlock sipk-lb-raidPoints'}).span.text\n",
    "    total_points_conceded.append(itm3)\n",
    "\n",
    "#print(team_names)\n",
    "#print(total_points_conceded)"
   ]
  },
  {
   "cell_type": "code",
   "execution_count": 59,
   "metadata": {},
   "outputs": [],
   "source": [
    "team_tot_points_conceded_seas1 = pd.DataFrame({'team_name':team_names, 'total_points_conceded':total_points_conceded})\n",
    "\n",
    "#team_tot_points_conceded_seas1.head()"
   ]
  },
  {
   "cell_type": "markdown",
   "metadata": {},
   "source": [
    "Average Points Scored"
   ]
  },
  {
   "cell_type": "code",
   "execution_count": 60,
   "metadata": {},
   "outputs": [],
   "source": [
    "driver.get('https://www.prokabaddi.com/stats/2-140-avg-points-scored-statistics')\n",
    "time.sleep(5)"
   ]
  },
  {
   "cell_type": "code",
   "execution_count": 61,
   "metadata": {},
   "outputs": [
    {
     "name": "stdout",
     "output_type": "stream",
     "text": [
      "['telugu-titans', 'u-mumba', 'jaipur-pink-panthers', 'bengaluru-bulls', 'dabang-delhi-kc', 'patna-pirates', 'puneri-paltan', 'bengal-warriors']\n",
      "['32.25', '27.06', '26.71', '26', '25.21', '24.5', '24.07', '22.85']\n"
     ]
    }
   ],
   "source": [
    "soup = BeautifulSoup(driver.page_source)\n",
    "team = soup.findAll('div',attrs={'class':'lb-detailItem-wrap'})\n",
    "\n",
    "team_names = []\n",
    "avg_points_scored = []\n",
    "\n",
    "for item in team:\n",
    "    \n",
    "    itm1 = item.find('a',attrs={'class':'sipk-lb-detailBlock sipk-playerDesc'})\n",
    "    srch = re.findall('u-mumba|telugu-titans|jaipur-pink-panthers|bengaluru-bulls|dabang-delhi-kc|patna-pirates|puneri-paltan|bengal-warriors', itm1.attrs['href'])\n",
    "    team_names.append(srch[0])\n",
    "    \n",
    "    itm3 = item.find('div',attrs={'class':'sipk-lb-detailBlock sipk-lb-raidPoints'}).span.text\n",
    "    avg_points_scored.append(itm3)\n",
    "\n",
    "print(team_names)\n",
    "print(avg_points_scored)"
   ]
  },
  {
   "cell_type": "code",
   "execution_count": 62,
   "metadata": {},
   "outputs": [
    {
     "data": {
      "text/html": [
       "<div>\n",
       "<style scoped>\n",
       "    .dataframe tbody tr th:only-of-type {\n",
       "        vertical-align: middle;\n",
       "    }\n",
       "\n",
       "    .dataframe tbody tr th {\n",
       "        vertical-align: top;\n",
       "    }\n",
       "\n",
       "    .dataframe thead th {\n",
       "        text-align: right;\n",
       "    }\n",
       "</style>\n",
       "<table border=\"1\" class=\"dataframe\">\n",
       "  <thead>\n",
       "    <tr style=\"text-align: right;\">\n",
       "      <th></th>\n",
       "      <th>team_name</th>\n",
       "      <th>team_avg_points</th>\n",
       "    </tr>\n",
       "  </thead>\n",
       "  <tbody>\n",
       "    <tr>\n",
       "      <th>0</th>\n",
       "      <td>telugu-titans</td>\n",
       "      <td>32.25</td>\n",
       "    </tr>\n",
       "    <tr>\n",
       "      <th>1</th>\n",
       "      <td>u-mumba</td>\n",
       "      <td>27.06</td>\n",
       "    </tr>\n",
       "    <tr>\n",
       "      <th>2</th>\n",
       "      <td>jaipur-pink-panthers</td>\n",
       "      <td>26.71</td>\n",
       "    </tr>\n",
       "    <tr>\n",
       "      <th>3</th>\n",
       "      <td>bengaluru-bulls</td>\n",
       "      <td>26</td>\n",
       "    </tr>\n",
       "    <tr>\n",
       "      <th>4</th>\n",
       "      <td>dabang-delhi-kc</td>\n",
       "      <td>25.21</td>\n",
       "    </tr>\n",
       "  </tbody>\n",
       "</table>\n",
       "</div>"
      ],
      "text/plain": [
       "              team_name team_avg_points\n",
       "0         telugu-titans           32.25\n",
       "1               u-mumba           27.06\n",
       "2  jaipur-pink-panthers           26.71\n",
       "3       bengaluru-bulls              26\n",
       "4       dabang-delhi-kc           25.21"
      ]
     },
     "execution_count": 62,
     "metadata": {},
     "output_type": "execute_result"
    }
   ],
   "source": [
    "team_avg_points_scored_seas1 = pd.DataFrame({'team_name':team_names, 'team_avg_points':avg_points_scored})\n",
    "team_avg_points_scored_seas1.head()"
   ]
  },
  {
   "cell_type": "markdown",
   "metadata": {},
   "source": [
    "Successful Raids"
   ]
  },
  {
   "cell_type": "code",
   "execution_count": 63,
   "metadata": {},
   "outputs": [],
   "source": [
    "driver.get('https://www.prokabaddi.com/stats/2-13-successful-raids-statistics')\n",
    "time.sleep(5)"
   ]
  },
  {
   "cell_type": "code",
   "execution_count": 64,
   "metadata": {},
   "outputs": [
    {
     "name": "stdout",
     "output_type": "stream",
     "text": [
      "['telugu-titans', 'bengaluru-bulls', 'u-mumba', 'jaipur-pink-panthers', 'patna-pirates', 'puneri-paltan', 'dabang-delhi-kc', 'bengal-warriors']\n",
      "['265', '194', '187', '183', '182', '170', '159', '134']\n"
     ]
    }
   ],
   "source": [
    "soup = BeautifulSoup(driver.page_source)\n",
    "team = soup.findAll('div',attrs={'class':'lb-detailItem-wrap'})\n",
    "\n",
    "team_names = []\n",
    "team_success_raids = []\n",
    "\n",
    "for item in team:\n",
    "    \n",
    "    itm1 = item.find('a',attrs={'class':'sipk-lb-detailBlock sipk-playerDesc'})\n",
    "    srch = re.findall('u-mumba|telugu-titans|jaipur-pink-panthers|bengaluru-bulls|dabang-delhi-kc|patna-pirates|puneri-paltan|bengal-warriors', itm1.attrs['href'])\n",
    "    team_names.append(srch[0])\n",
    "    \n",
    "    itm3 = item.find('div',attrs={'class':'sipk-lb-detailBlock sipk-lb-raidPoints'}).span.text\n",
    "    team_success_raids.append(itm3)\n",
    "\n",
    "print(team_names)\n",
    "print(team_success_raids)"
   ]
  },
  {
   "cell_type": "code",
   "execution_count": 65,
   "metadata": {
    "scrolled": true
   },
   "outputs": [
    {
     "data": {
      "text/html": [
       "<div>\n",
       "<style scoped>\n",
       "    .dataframe tbody tr th:only-of-type {\n",
       "        vertical-align: middle;\n",
       "    }\n",
       "\n",
       "    .dataframe tbody tr th {\n",
       "        vertical-align: top;\n",
       "    }\n",
       "\n",
       "    .dataframe thead th {\n",
       "        text-align: right;\n",
       "    }\n",
       "</style>\n",
       "<table border=\"1\" class=\"dataframe\">\n",
       "  <thead>\n",
       "    <tr style=\"text-align: right;\">\n",
       "      <th></th>\n",
       "      <th>team_name</th>\n",
       "      <th>team_success_raids</th>\n",
       "    </tr>\n",
       "  </thead>\n",
       "  <tbody>\n",
       "    <tr>\n",
       "      <th>0</th>\n",
       "      <td>telugu-titans</td>\n",
       "      <td>265</td>\n",
       "    </tr>\n",
       "    <tr>\n",
       "      <th>1</th>\n",
       "      <td>bengaluru-bulls</td>\n",
       "      <td>194</td>\n",
       "    </tr>\n",
       "    <tr>\n",
       "      <th>2</th>\n",
       "      <td>u-mumba</td>\n",
       "      <td>187</td>\n",
       "    </tr>\n",
       "    <tr>\n",
       "      <th>3</th>\n",
       "      <td>jaipur-pink-panthers</td>\n",
       "      <td>183</td>\n",
       "    </tr>\n",
       "    <tr>\n",
       "      <th>4</th>\n",
       "      <td>patna-pirates</td>\n",
       "      <td>182</td>\n",
       "    </tr>\n",
       "  </tbody>\n",
       "</table>\n",
       "</div>"
      ],
      "text/plain": [
       "              team_name team_success_raids\n",
       "0         telugu-titans                265\n",
       "1       bengaluru-bulls                194\n",
       "2               u-mumba                187\n",
       "3  jaipur-pink-panthers                183\n",
       "4         patna-pirates                182"
      ]
     },
     "execution_count": 65,
     "metadata": {},
     "output_type": "execute_result"
    }
   ],
   "source": [
    "team_success_raids_seas1 = pd.DataFrame({'team_name':team_names, 'team_success_raids':team_success_raids})\n",
    "team_success_raids_seas1.head()"
   ]
  },
  {
   "cell_type": "markdown",
   "metadata": {},
   "source": [
    "Raid Points"
   ]
  },
  {
   "cell_type": "code",
   "execution_count": 66,
   "metadata": {},
   "outputs": [],
   "source": [
    "driver.get('https://www.prokabaddi.com/stats/2-97-raid-points-statistics')\n",
    "time.sleep(5)"
   ]
  },
  {
   "cell_type": "code",
   "execution_count": 67,
   "metadata": {},
   "outputs": [
    {
     "name": "stdout",
     "output_type": "stream",
     "text": [
      "['telugu-titans', 'bengaluru-bulls', 'u-mumba', 'jaipur-pink-panthers', 'patna-pirates', 'puneri-paltan', 'dabang-delhi-kc', 'bengal-warriors']\n",
      "['344', '252', '237', '232', '228', '223', '217', '184']\n"
     ]
    }
   ],
   "source": [
    "soup = BeautifulSoup(driver.page_source)\n",
    "team = soup.findAll('div',attrs={'class':'lb-detailItem-wrap'})\n",
    "\n",
    "team_names = []\n",
    "team_raid_points = []\n",
    "\n",
    "for item in team:\n",
    "    \n",
    "    itm1 = item.find('a',attrs={'class':'sipk-lb-detailBlock sipk-playerDesc'})\n",
    "    srch = re.findall('u-mumba|telugu-titans|jaipur-pink-panthers|bengaluru-bulls|dabang-delhi-kc|patna-pirates|puneri-paltan|bengal-warriors', itm1.attrs['href'])\n",
    "    team_names.append(srch[0])\n",
    "    \n",
    "    itm3 = item.find('div',attrs={'class':'sipk-lb-detailBlock sipk-lb-raidPoints'}).span.text\n",
    "    team_raid_points.append(itm3)\n",
    "\n",
    "print(team_names)\n",
    "print(team_raid_points)"
   ]
  },
  {
   "cell_type": "code",
   "execution_count": 68,
   "metadata": {
    "scrolled": true
   },
   "outputs": [
    {
     "data": {
      "text/html": [
       "<div>\n",
       "<style scoped>\n",
       "    .dataframe tbody tr th:only-of-type {\n",
       "        vertical-align: middle;\n",
       "    }\n",
       "\n",
       "    .dataframe tbody tr th {\n",
       "        vertical-align: top;\n",
       "    }\n",
       "\n",
       "    .dataframe thead th {\n",
       "        text-align: right;\n",
       "    }\n",
       "</style>\n",
       "<table border=\"1\" class=\"dataframe\">\n",
       "  <thead>\n",
       "    <tr style=\"text-align: right;\">\n",
       "      <th></th>\n",
       "      <th>team_name</th>\n",
       "      <th>team_raid_points</th>\n",
       "    </tr>\n",
       "  </thead>\n",
       "  <tbody>\n",
       "    <tr>\n",
       "      <th>0</th>\n",
       "      <td>telugu-titans</td>\n",
       "      <td>344</td>\n",
       "    </tr>\n",
       "    <tr>\n",
       "      <th>1</th>\n",
       "      <td>bengaluru-bulls</td>\n",
       "      <td>252</td>\n",
       "    </tr>\n",
       "    <tr>\n",
       "      <th>2</th>\n",
       "      <td>u-mumba</td>\n",
       "      <td>237</td>\n",
       "    </tr>\n",
       "    <tr>\n",
       "      <th>3</th>\n",
       "      <td>jaipur-pink-panthers</td>\n",
       "      <td>232</td>\n",
       "    </tr>\n",
       "    <tr>\n",
       "      <th>4</th>\n",
       "      <td>patna-pirates</td>\n",
       "      <td>228</td>\n",
       "    </tr>\n",
       "  </tbody>\n",
       "</table>\n",
       "</div>"
      ],
      "text/plain": [
       "              team_name team_raid_points\n",
       "0         telugu-titans              344\n",
       "1       bengaluru-bulls              252\n",
       "2               u-mumba              237\n",
       "3  jaipur-pink-panthers              232\n",
       "4         patna-pirates              228"
      ]
     },
     "execution_count": 68,
     "metadata": {},
     "output_type": "execute_result"
    }
   ],
   "source": [
    "team_raid_points_seas1 = pd.DataFrame({'team_name':team_names, 'team_raid_points':team_raid_points})\n",
    "team_raid_points_seas1.head()"
   ]
  },
  {
   "cell_type": "markdown",
   "metadata": {},
   "source": [
    "Average Raid Points"
   ]
  },
  {
   "cell_type": "code",
   "execution_count": 69,
   "metadata": {},
   "outputs": [],
   "source": [
    "driver.get('https://www.prokabaddi.com/stats/2-98-avg-raid-points-statistics')\n",
    "time.sleep(5)"
   ]
  },
  {
   "cell_type": "code",
   "execution_count": 70,
   "metadata": {},
   "outputs": [
    {
     "name": "stdout",
     "output_type": "stream",
     "text": [
      "['telugu-titans', 'jaipur-pink-panthers', 'puneri-paltan', 'bengaluru-bulls', 'dabang-delhi-kc', 'u-mumba', 'patna-pirates', 'bengal-warriors']\n",
      "['21.5', '16.57', '15.93', '15.75', '15.5', '14.81', '14.25', '13.14']\n"
     ]
    }
   ],
   "source": [
    "soup = BeautifulSoup(driver.page_source)\n",
    "team = soup.findAll('div',attrs={'class':'lb-detailItem-wrap'})\n",
    "\n",
    "team_names = []\n",
    "team_avg_raid_points = []\n",
    "\n",
    "for item in team:\n",
    "    \n",
    "    itm1 = item.find('a',attrs={'class':'sipk-lb-detailBlock sipk-playerDesc'})\n",
    "    srch = re.findall('u-mumba|telugu-titans|jaipur-pink-panthers|bengaluru-bulls|dabang-delhi-kc|patna-pirates|puneri-paltan|bengal-warriors', itm1.attrs['href'])\n",
    "    team_names.append(srch[0])\n",
    "    \n",
    "    itm3 = item.find('div',attrs={'class':'sipk-lb-detailBlock sipk-lb-raidPoints'}).span.text\n",
    "    team_avg_raid_points.append(itm3)\n",
    "\n",
    "print(team_names)\n",
    "print(team_avg_raid_points)"
   ]
  },
  {
   "cell_type": "code",
   "execution_count": 71,
   "metadata": {
    "scrolled": false
   },
   "outputs": [
    {
     "data": {
      "text/html": [
       "<div>\n",
       "<style scoped>\n",
       "    .dataframe tbody tr th:only-of-type {\n",
       "        vertical-align: middle;\n",
       "    }\n",
       "\n",
       "    .dataframe tbody tr th {\n",
       "        vertical-align: top;\n",
       "    }\n",
       "\n",
       "    .dataframe thead th {\n",
       "        text-align: right;\n",
       "    }\n",
       "</style>\n",
       "<table border=\"1\" class=\"dataframe\">\n",
       "  <thead>\n",
       "    <tr style=\"text-align: right;\">\n",
       "      <th></th>\n",
       "      <th>team_name</th>\n",
       "      <th>team_avg_raid_points</th>\n",
       "    </tr>\n",
       "  </thead>\n",
       "  <tbody>\n",
       "    <tr>\n",
       "      <th>0</th>\n",
       "      <td>telugu-titans</td>\n",
       "      <td>21.5</td>\n",
       "    </tr>\n",
       "    <tr>\n",
       "      <th>1</th>\n",
       "      <td>jaipur-pink-panthers</td>\n",
       "      <td>16.57</td>\n",
       "    </tr>\n",
       "    <tr>\n",
       "      <th>2</th>\n",
       "      <td>puneri-paltan</td>\n",
       "      <td>15.93</td>\n",
       "    </tr>\n",
       "    <tr>\n",
       "      <th>3</th>\n",
       "      <td>bengaluru-bulls</td>\n",
       "      <td>15.75</td>\n",
       "    </tr>\n",
       "    <tr>\n",
       "      <th>4</th>\n",
       "      <td>dabang-delhi-kc</td>\n",
       "      <td>15.5</td>\n",
       "    </tr>\n",
       "  </tbody>\n",
       "</table>\n",
       "</div>"
      ],
      "text/plain": [
       "              team_name team_avg_raid_points\n",
       "0         telugu-titans                 21.5\n",
       "1  jaipur-pink-panthers                16.57\n",
       "2         puneri-paltan                15.93\n",
       "3       bengaluru-bulls                15.75\n",
       "4       dabang-delhi-kc                 15.5"
      ]
     },
     "execution_count": 71,
     "metadata": {},
     "output_type": "execute_result"
    }
   ],
   "source": [
    "team_avg_raid_points_seas1 = pd.DataFrame({'team_name':team_names, 'team_avg_raid_points':team_avg_raid_points})\n",
    "team_avg_raid_points_seas1.head()"
   ]
  },
  {
   "cell_type": "markdown",
   "metadata": {},
   "source": [
    "Successful Tackles"
   ]
  },
  {
   "cell_type": "code",
   "execution_count": 72,
   "metadata": {},
   "outputs": [],
   "source": [
    "driver.get('https://www.prokabaddi.com/stats/2-15-successful-tackles-statistics')\n",
    "time.sleep(5)"
   ]
  },
  {
   "cell_type": "code",
   "execution_count": 73,
   "metadata": {},
   "outputs": [
    {
     "name": "stdout",
     "output_type": "stream",
     "text": [
      "['u-mumba', 'telugu-titans', 'bengaluru-bulls', 'patna-pirates', 'jaipur-pink-panthers', 'dabang-delhi-kc', 'bengal-warriors', 'puneri-paltan']\n",
      "['180', '158', '158', '152', '124', '122', '116', '104']\n"
     ]
    }
   ],
   "source": [
    "soup = BeautifulSoup(driver.page_source)\n",
    "team = soup.findAll('div',attrs={'class':'lb-detailItem-wrap'})\n",
    "\n",
    "team_names = []\n",
    "team_success_tackles = []\n",
    "\n",
    "for item in team:\n",
    "    \n",
    "    itm1 = item.find('a',attrs={'class':'sipk-lb-detailBlock sipk-playerDesc'})\n",
    "    srch = re.findall('u-mumba|telugu-titans|jaipur-pink-panthers|bengaluru-bulls|dabang-delhi-kc|patna-pirates|puneri-paltan|bengal-warriors', itm1.attrs['href'])\n",
    "    team_names.append(srch[0])\n",
    "    \n",
    "    itm3 = item.find('div',attrs={'class':'sipk-lb-detailBlock sipk-lb-raidPoints'}).span.text\n",
    "    team_success_tackles.append(itm3)\n",
    "\n",
    "print(team_names)\n",
    "print(team_success_tackles)"
   ]
  },
  {
   "cell_type": "code",
   "execution_count": 74,
   "metadata": {
    "scrolled": true
   },
   "outputs": [
    {
     "data": {
      "text/html": [
       "<div>\n",
       "<style scoped>\n",
       "    .dataframe tbody tr th:only-of-type {\n",
       "        vertical-align: middle;\n",
       "    }\n",
       "\n",
       "    .dataframe tbody tr th {\n",
       "        vertical-align: top;\n",
       "    }\n",
       "\n",
       "    .dataframe thead th {\n",
       "        text-align: right;\n",
       "    }\n",
       "</style>\n",
       "<table border=\"1\" class=\"dataframe\">\n",
       "  <thead>\n",
       "    <tr style=\"text-align: right;\">\n",
       "      <th></th>\n",
       "      <th>team_name</th>\n",
       "      <th>team_success_tackles</th>\n",
       "    </tr>\n",
       "  </thead>\n",
       "  <tbody>\n",
       "    <tr>\n",
       "      <th>0</th>\n",
       "      <td>u-mumba</td>\n",
       "      <td>180</td>\n",
       "    </tr>\n",
       "    <tr>\n",
       "      <th>1</th>\n",
       "      <td>telugu-titans</td>\n",
       "      <td>158</td>\n",
       "    </tr>\n",
       "    <tr>\n",
       "      <th>2</th>\n",
       "      <td>bengaluru-bulls</td>\n",
       "      <td>158</td>\n",
       "    </tr>\n",
       "    <tr>\n",
       "      <th>3</th>\n",
       "      <td>patna-pirates</td>\n",
       "      <td>152</td>\n",
       "    </tr>\n",
       "    <tr>\n",
       "      <th>4</th>\n",
       "      <td>jaipur-pink-panthers</td>\n",
       "      <td>124</td>\n",
       "    </tr>\n",
       "  </tbody>\n",
       "</table>\n",
       "</div>"
      ],
      "text/plain": [
       "              team_name team_success_tackles\n",
       "0               u-mumba                  180\n",
       "1         telugu-titans                  158\n",
       "2       bengaluru-bulls                  158\n",
       "3         patna-pirates                  152\n",
       "4  jaipur-pink-panthers                  124"
      ]
     },
     "execution_count": 74,
     "metadata": {},
     "output_type": "execute_result"
    }
   ],
   "source": [
    "team_success_tackles_seas1 = pd.DataFrame({'team_name':team_names, 'team_success_tackles':team_success_tackles})\n",
    "team_success_tackles_seas1.head()"
   ]
  },
  {
   "cell_type": "markdown",
   "metadata": {},
   "source": [
    "Tackle Points"
   ]
  },
  {
   "cell_type": "code",
   "execution_count": 75,
   "metadata": {},
   "outputs": [],
   "source": [
    "driver.get('https://www.prokabaddi.com/stats/2-95-tackle-points-statistics')\n",
    "time.sleep(5)"
   ]
  },
  {
   "cell_type": "code",
   "execution_count": 76,
   "metadata": {},
   "outputs": [
    {
     "name": "stdout",
     "output_type": "stream",
     "text": [
      "['u-mumba', 'telugu-titans', 'patna-pirates', 'bengaluru-bulls', 'jaipur-pink-panthers', 'bengal-warriors', 'dabang-delhi-kc', 'puneri-paltan']\n",
      "['196', '172', '164', '164', '142', '136', '136', '114']\n"
     ]
    }
   ],
   "source": [
    "soup = BeautifulSoup(driver.page_source)\n",
    "team = soup.findAll('div',attrs={'class':'lb-detailItem-wrap'})\n",
    "\n",
    "team_names = []\n",
    "team_tackle_points = []\n",
    "\n",
    "for item in team:\n",
    "    \n",
    "    itm1 = item.find('a',attrs={'class':'sipk-lb-detailBlock sipk-playerDesc'})\n",
    "    srch = re.findall('u-mumba|telugu-titans|jaipur-pink-panthers|bengaluru-bulls|dabang-delhi-kc|patna-pirates|puneri-paltan|bengal-warriors', itm1.attrs['href'])\n",
    "    team_names.append(srch[0])\n",
    "    \n",
    "    itm3 = item.find('div',attrs={'class':'sipk-lb-detailBlock sipk-lb-raidPoints'}).span.text\n",
    "    team_tackle_points.append(itm3)\n",
    "\n",
    "print(team_names)\n",
    "print(team_tackle_points)"
   ]
  },
  {
   "cell_type": "code",
   "execution_count": 77,
   "metadata": {
    "scrolled": true
   },
   "outputs": [
    {
     "data": {
      "text/html": [
       "<div>\n",
       "<style scoped>\n",
       "    .dataframe tbody tr th:only-of-type {\n",
       "        vertical-align: middle;\n",
       "    }\n",
       "\n",
       "    .dataframe tbody tr th {\n",
       "        vertical-align: top;\n",
       "    }\n",
       "\n",
       "    .dataframe thead th {\n",
       "        text-align: right;\n",
       "    }\n",
       "</style>\n",
       "<table border=\"1\" class=\"dataframe\">\n",
       "  <thead>\n",
       "    <tr style=\"text-align: right;\">\n",
       "      <th></th>\n",
       "      <th>team_name</th>\n",
       "      <th>team_tackle_points</th>\n",
       "    </tr>\n",
       "  </thead>\n",
       "  <tbody>\n",
       "    <tr>\n",
       "      <th>0</th>\n",
       "      <td>u-mumba</td>\n",
       "      <td>196</td>\n",
       "    </tr>\n",
       "    <tr>\n",
       "      <th>1</th>\n",
       "      <td>telugu-titans</td>\n",
       "      <td>172</td>\n",
       "    </tr>\n",
       "    <tr>\n",
       "      <th>2</th>\n",
       "      <td>patna-pirates</td>\n",
       "      <td>164</td>\n",
       "    </tr>\n",
       "    <tr>\n",
       "      <th>3</th>\n",
       "      <td>bengaluru-bulls</td>\n",
       "      <td>164</td>\n",
       "    </tr>\n",
       "    <tr>\n",
       "      <th>4</th>\n",
       "      <td>jaipur-pink-panthers</td>\n",
       "      <td>142</td>\n",
       "    </tr>\n",
       "  </tbody>\n",
       "</table>\n",
       "</div>"
      ],
      "text/plain": [
       "              team_name team_tackle_points\n",
       "0               u-mumba                196\n",
       "1         telugu-titans                172\n",
       "2         patna-pirates                164\n",
       "3       bengaluru-bulls                164\n",
       "4  jaipur-pink-panthers                142"
      ]
     },
     "execution_count": 77,
     "metadata": {},
     "output_type": "execute_result"
    }
   ],
   "source": [
    "team_tackle_points_seas1 = pd.DataFrame({'team_name':team_names, 'team_tackle_points':team_tackle_points})\n",
    "team_tackle_points_seas1.head()"
   ]
  },
  {
   "cell_type": "markdown",
   "metadata": {},
   "source": [
    "Average Tackle Points"
   ]
  },
  {
   "cell_type": "code",
   "execution_count": 78,
   "metadata": {},
   "outputs": [],
   "source": [
    "driver.get('https://www.prokabaddi.com/stats/2-99-avg-tackle-points-statistics')\n",
    "time.sleep(5)"
   ]
  },
  {
   "cell_type": "code",
   "execution_count": 79,
   "metadata": {},
   "outputs": [
    {
     "name": "stdout",
     "output_type": "stream",
     "text": [
      "['u-mumba', 'telugu-titans', 'patna-pirates', 'bengaluru-bulls', 'jaipur-pink-panthers', 'bengal-warriors', 'dabang-delhi-kc', 'puneri-paltan']\n",
      "['12.25', '10.75', '10.25', '10.25', '10.14', '9.71', '9.71', '8.14']\n"
     ]
    }
   ],
   "source": [
    "soup = BeautifulSoup(driver.page_source)\n",
    "team = soup.findAll('div',attrs={'class':'lb-detailItem-wrap'})\n",
    "\n",
    "team_names = []\n",
    "team_avg_tackle_points = []\n",
    "\n",
    "for item in team:\n",
    "    \n",
    "    itm1 = item.find('a',attrs={'class':'sipk-lb-detailBlock sipk-playerDesc'})\n",
    "    srch = re.findall('u-mumba|telugu-titans|jaipur-pink-panthers|bengaluru-bulls|dabang-delhi-kc|patna-pirates|puneri-paltan|bengal-warriors', itm1.attrs['href'])\n",
    "    team_names.append(srch[0])\n",
    "    \n",
    "    itm3 = item.find('div',attrs={'class':'sipk-lb-detailBlock sipk-lb-raidPoints'}).span.text\n",
    "    team_avg_tackle_points.append(itm3)\n",
    "\n",
    "print(team_names)\n",
    "print(team_avg_tackle_points)"
   ]
  },
  {
   "cell_type": "code",
   "execution_count": 80,
   "metadata": {
    "scrolled": true
   },
   "outputs": [
    {
     "data": {
      "text/html": [
       "<div>\n",
       "<style scoped>\n",
       "    .dataframe tbody tr th:only-of-type {\n",
       "        vertical-align: middle;\n",
       "    }\n",
       "\n",
       "    .dataframe tbody tr th {\n",
       "        vertical-align: top;\n",
       "    }\n",
       "\n",
       "    .dataframe thead th {\n",
       "        text-align: right;\n",
       "    }\n",
       "</style>\n",
       "<table border=\"1\" class=\"dataframe\">\n",
       "  <thead>\n",
       "    <tr style=\"text-align: right;\">\n",
       "      <th></th>\n",
       "      <th>team_name</th>\n",
       "      <th>team_avg_tackle_points</th>\n",
       "    </tr>\n",
       "  </thead>\n",
       "  <tbody>\n",
       "    <tr>\n",
       "      <th>0</th>\n",
       "      <td>u-mumba</td>\n",
       "      <td>12.25</td>\n",
       "    </tr>\n",
       "    <tr>\n",
       "      <th>1</th>\n",
       "      <td>telugu-titans</td>\n",
       "      <td>10.75</td>\n",
       "    </tr>\n",
       "    <tr>\n",
       "      <th>2</th>\n",
       "      <td>patna-pirates</td>\n",
       "      <td>10.25</td>\n",
       "    </tr>\n",
       "    <tr>\n",
       "      <th>3</th>\n",
       "      <td>bengaluru-bulls</td>\n",
       "      <td>10.25</td>\n",
       "    </tr>\n",
       "    <tr>\n",
       "      <th>4</th>\n",
       "      <td>jaipur-pink-panthers</td>\n",
       "      <td>10.14</td>\n",
       "    </tr>\n",
       "  </tbody>\n",
       "</table>\n",
       "</div>"
      ],
      "text/plain": [
       "              team_name team_avg_tackle_points\n",
       "0               u-mumba                  12.25\n",
       "1         telugu-titans                  10.75\n",
       "2         patna-pirates                  10.25\n",
       "3       bengaluru-bulls                  10.25\n",
       "4  jaipur-pink-panthers                  10.14"
      ]
     },
     "execution_count": 80,
     "metadata": {},
     "output_type": "execute_result"
    }
   ],
   "source": [
    "team_avg_tackle_points_seas1 = pd.DataFrame({'team_name':team_names, 'team_avg_tackle_points':team_avg_tackle_points})\n",
    "team_avg_tackle_points_seas1.head()"
   ]
  },
  {
   "cell_type": "markdown",
   "metadata": {},
   "source": [
    "Super Raids"
   ]
  },
  {
   "cell_type": "code",
   "execution_count": 81,
   "metadata": {},
   "outputs": [],
   "source": [
    "driver.get('https://www.prokabaddi.com/stats/2-134-super-raid-statistics')\n",
    "time.sleep(5)"
   ]
  },
  {
   "cell_type": "code",
   "execution_count": 82,
   "metadata": {},
   "outputs": [
    {
     "name": "stdout",
     "output_type": "stream",
     "text": [
      "['telugu-titans', 'dabang-delhi-kc', 'bengaluru-bulls', 'bengal-warriors', 'puneri-paltan', 'u-mumba', 'jaipur-pink-panthers', 'patna-pirates']\n",
      "['16', '14', '10', '9', '8', '7', '5', '4']\n"
     ]
    }
   ],
   "source": [
    "soup = BeautifulSoup(driver.page_source)\n",
    "team = soup.findAll('div',attrs={'class':'lb-detailItem-wrap'})\n",
    "\n",
    "team_names = []\n",
    "team_super_raids = []\n",
    "\n",
    "for item in team:\n",
    "    \n",
    "    itm1 = item.find('a',attrs={'class':'sipk-lb-detailBlock sipk-playerDesc'})\n",
    "    srch = re.findall('u-mumba|telugu-titans|jaipur-pink-panthers|bengaluru-bulls|dabang-delhi-kc|patna-pirates|puneri-paltan|bengal-warriors', itm1.attrs['href'])\n",
    "    team_names.append(srch[0])\n",
    "    \n",
    "    itm3 = item.find('div',attrs={'class':'sipk-lb-detailBlock sipk-lb-raidPoints'}).span.text\n",
    "    team_super_raids.append(itm3)\n",
    "\n",
    "print(team_names)\n",
    "print(team_super_raids)"
   ]
  },
  {
   "cell_type": "code",
   "execution_count": 83,
   "metadata": {
    "scrolled": false
   },
   "outputs": [
    {
     "data": {
      "text/html": [
       "<div>\n",
       "<style scoped>\n",
       "    .dataframe tbody tr th:only-of-type {\n",
       "        vertical-align: middle;\n",
       "    }\n",
       "\n",
       "    .dataframe tbody tr th {\n",
       "        vertical-align: top;\n",
       "    }\n",
       "\n",
       "    .dataframe thead th {\n",
       "        text-align: right;\n",
       "    }\n",
       "</style>\n",
       "<table border=\"1\" class=\"dataframe\">\n",
       "  <thead>\n",
       "    <tr style=\"text-align: right;\">\n",
       "      <th></th>\n",
       "      <th>team_name</th>\n",
       "      <th>team_super_raids</th>\n",
       "    </tr>\n",
       "  </thead>\n",
       "  <tbody>\n",
       "    <tr>\n",
       "      <th>0</th>\n",
       "      <td>telugu-titans</td>\n",
       "      <td>16</td>\n",
       "    </tr>\n",
       "    <tr>\n",
       "      <th>1</th>\n",
       "      <td>dabang-delhi-kc</td>\n",
       "      <td>14</td>\n",
       "    </tr>\n",
       "    <tr>\n",
       "      <th>2</th>\n",
       "      <td>bengaluru-bulls</td>\n",
       "      <td>10</td>\n",
       "    </tr>\n",
       "    <tr>\n",
       "      <th>3</th>\n",
       "      <td>bengal-warriors</td>\n",
       "      <td>9</td>\n",
       "    </tr>\n",
       "    <tr>\n",
       "      <th>4</th>\n",
       "      <td>puneri-paltan</td>\n",
       "      <td>8</td>\n",
       "    </tr>\n",
       "  </tbody>\n",
       "</table>\n",
       "</div>"
      ],
      "text/plain": [
       "         team_name team_super_raids\n",
       "0    telugu-titans               16\n",
       "1  dabang-delhi-kc               14\n",
       "2  bengaluru-bulls               10\n",
       "3  bengal-warriors                9\n",
       "4    puneri-paltan                8"
      ]
     },
     "execution_count": 83,
     "metadata": {},
     "output_type": "execute_result"
    }
   ],
   "source": [
    "team_super_raids_seas1 = pd.DataFrame({'team_name':team_names, 'team_super_raids':team_super_raids})\n",
    "team_super_raids_seas1.head()"
   ]
  },
  {
   "cell_type": "markdown",
   "metadata": {},
   "source": [
    "Super Tackles"
   ]
  },
  {
   "cell_type": "code",
   "execution_count": 84,
   "metadata": {},
   "outputs": [],
   "source": [
    "driver.get('https://www.prokabaddi.com/stats/2-20-super-tackles-statistics')\n",
    "time.sleep(5)"
   ]
  },
  {
   "cell_type": "code",
   "execution_count": 85,
   "metadata": {},
   "outputs": [
    {
     "name": "stdout",
     "output_type": "stream",
     "text": [
      "['bengal-warriors', 'jaipur-pink-panthers', 'telugu-titans', 'u-mumba', 'dabang-delhi-kc', 'patna-pirates', 'puneri-paltan', 'bengaluru-bulls']\n",
      "['21', '18', '16', '16', '14', '13', '11', '7']\n"
     ]
    }
   ],
   "source": [
    "soup = BeautifulSoup(driver.page_source)\n",
    "team = soup.findAll('div',attrs={'class':'lb-detailItem-wrap'})\n",
    "\n",
    "team_names = []\n",
    "team_super_tackles = []\n",
    "\n",
    "for item in team:\n",
    "    \n",
    "    itm1 = item.find('a',attrs={'class':'sipk-lb-detailBlock sipk-playerDesc'})\n",
    "    srch = re.findall('u-mumba|telugu-titans|jaipur-pink-panthers|bengaluru-bulls|dabang-delhi-kc|patna-pirates|puneri-paltan|bengal-warriors', itm1.attrs['href'])\n",
    "    team_names.append(srch[0])\n",
    "    \n",
    "    itm3 = item.find('div',attrs={'class':'sipk-lb-detailBlock sipk-lb-raidPoints'}).span.text\n",
    "    team_super_tackles.append(itm3)\n",
    "\n",
    "print(team_names)\n",
    "print(team_super_tackles)"
   ]
  },
  {
   "cell_type": "code",
   "execution_count": 86,
   "metadata": {
    "scrolled": true
   },
   "outputs": [
    {
     "data": {
      "text/html": [
       "<div>\n",
       "<style scoped>\n",
       "    .dataframe tbody tr th:only-of-type {\n",
       "        vertical-align: middle;\n",
       "    }\n",
       "\n",
       "    .dataframe tbody tr th {\n",
       "        vertical-align: top;\n",
       "    }\n",
       "\n",
       "    .dataframe thead th {\n",
       "        text-align: right;\n",
       "    }\n",
       "</style>\n",
       "<table border=\"1\" class=\"dataframe\">\n",
       "  <thead>\n",
       "    <tr style=\"text-align: right;\">\n",
       "      <th></th>\n",
       "      <th>team_name</th>\n",
       "      <th>team_super_tackles</th>\n",
       "    </tr>\n",
       "  </thead>\n",
       "  <tbody>\n",
       "    <tr>\n",
       "      <th>0</th>\n",
       "      <td>bengal-warriors</td>\n",
       "      <td>21</td>\n",
       "    </tr>\n",
       "    <tr>\n",
       "      <th>1</th>\n",
       "      <td>jaipur-pink-panthers</td>\n",
       "      <td>18</td>\n",
       "    </tr>\n",
       "    <tr>\n",
       "      <th>2</th>\n",
       "      <td>telugu-titans</td>\n",
       "      <td>16</td>\n",
       "    </tr>\n",
       "    <tr>\n",
       "      <th>3</th>\n",
       "      <td>u-mumba</td>\n",
       "      <td>16</td>\n",
       "    </tr>\n",
       "    <tr>\n",
       "      <th>4</th>\n",
       "      <td>dabang-delhi-kc</td>\n",
       "      <td>14</td>\n",
       "    </tr>\n",
       "  </tbody>\n",
       "</table>\n",
       "</div>"
      ],
      "text/plain": [
       "              team_name team_super_tackles\n",
       "0       bengal-warriors                 21\n",
       "1  jaipur-pink-panthers                 18\n",
       "2         telugu-titans                 16\n",
       "3               u-mumba                 16\n",
       "4       dabang-delhi-kc                 14"
      ]
     },
     "execution_count": 86,
     "metadata": {},
     "output_type": "execute_result"
    }
   ],
   "source": [
    "team_super_tackles_seas1 = pd.DataFrame({'team_name':team_names, 'team_super_tackles':team_super_tackles})\n",
    "team_super_tackles_seas1.head()"
   ]
  },
  {
   "cell_type": "markdown",
   "metadata": {},
   "source": [
    "Do Or Die Raid Points"
   ]
  },
  {
   "cell_type": "code",
   "execution_count": 87,
   "metadata": {},
   "outputs": [],
   "source": [
    "driver.get('https://www.prokabaddi.com/stats/2-135-do-or-die-raid-points-statistics')\n",
    "time.sleep(5)"
   ]
  },
  {
   "cell_type": "code",
   "execution_count": 88,
   "metadata": {},
   "outputs": [
    {
     "name": "stdout",
     "output_type": "stream",
     "text": [
      "['u-mumba', 'bengaluru-bulls', 'telugu-titans', 'dabang-delhi-kc', 'patna-pirates', 'bengal-warriors', 'puneri-paltan', 'jaipur-pink-panthers']\n",
      "['81', '80', '66', '61', '60', '59', '56', '47']\n"
     ]
    }
   ],
   "source": [
    "soup = BeautifulSoup(driver.page_source)\n",
    "team = soup.findAll('div',attrs={'class':'lb-detailItem-wrap'})\n",
    "\n",
    "team_names = []\n",
    "team_dod_raid_points = []\n",
    "\n",
    "for item in team:\n",
    "    \n",
    "    itm1 = item.find('a',attrs={'class':'sipk-lb-detailBlock sipk-playerDesc'})\n",
    "    srch = re.findall('u-mumba|telugu-titans|jaipur-pink-panthers|bengaluru-bulls|dabang-delhi-kc|patna-pirates|puneri-paltan|bengal-warriors', itm1.attrs['href'])\n",
    "    team_names.append(srch[0])\n",
    "    \n",
    "    itm3 = item.find('div',attrs={'class':'sipk-lb-detailBlock sipk-lb-raidPoints'}).span.text\n",
    "    team_dod_raid_points.append(itm3)\n",
    "\n",
    "print(team_names)\n",
    "print(team_dod_raid_points)"
   ]
  },
  {
   "cell_type": "code",
   "execution_count": 89,
   "metadata": {
    "scrolled": true
   },
   "outputs": [
    {
     "data": {
      "text/html": [
       "<div>\n",
       "<style scoped>\n",
       "    .dataframe tbody tr th:only-of-type {\n",
       "        vertical-align: middle;\n",
       "    }\n",
       "\n",
       "    .dataframe tbody tr th {\n",
       "        vertical-align: top;\n",
       "    }\n",
       "\n",
       "    .dataframe thead th {\n",
       "        text-align: right;\n",
       "    }\n",
       "</style>\n",
       "<table border=\"1\" class=\"dataframe\">\n",
       "  <thead>\n",
       "    <tr style=\"text-align: right;\">\n",
       "      <th></th>\n",
       "      <th>team_name</th>\n",
       "      <th>team_dod_raid_points</th>\n",
       "    </tr>\n",
       "  </thead>\n",
       "  <tbody>\n",
       "    <tr>\n",
       "      <th>0</th>\n",
       "      <td>u-mumba</td>\n",
       "      <td>81</td>\n",
       "    </tr>\n",
       "    <tr>\n",
       "      <th>1</th>\n",
       "      <td>bengaluru-bulls</td>\n",
       "      <td>80</td>\n",
       "    </tr>\n",
       "    <tr>\n",
       "      <th>2</th>\n",
       "      <td>telugu-titans</td>\n",
       "      <td>66</td>\n",
       "    </tr>\n",
       "    <tr>\n",
       "      <th>3</th>\n",
       "      <td>dabang-delhi-kc</td>\n",
       "      <td>61</td>\n",
       "    </tr>\n",
       "    <tr>\n",
       "      <th>4</th>\n",
       "      <td>patna-pirates</td>\n",
       "      <td>60</td>\n",
       "    </tr>\n",
       "  </tbody>\n",
       "</table>\n",
       "</div>"
      ],
      "text/plain": [
       "         team_name team_dod_raid_points\n",
       "0          u-mumba                   81\n",
       "1  bengaluru-bulls                   80\n",
       "2    telugu-titans                   66\n",
       "3  dabang-delhi-kc                   61\n",
       "4    patna-pirates                   60"
      ]
     },
     "execution_count": 89,
     "metadata": {},
     "output_type": "execute_result"
    }
   ],
   "source": [
    "team_dod_raid_points_seas1 = pd.DataFrame({'team_name':team_names, 'team_dod_raid_points':team_dod_raid_points})\n",
    "team_dod_raid_points_seas1.head()"
   ]
  },
  {
   "cell_type": "markdown",
   "metadata": {},
   "source": [
    "All-Outs Inflicted"
   ]
  },
  {
   "cell_type": "code",
   "execution_count": 90,
   "metadata": {},
   "outputs": [],
   "source": [
    "driver.get('https://www.prokabaddi.com/stats/2-136-all-outs-inflicted-statistics')\n",
    "time.sleep(5)"
   ]
  },
  {
   "cell_type": "code",
   "execution_count": 91,
   "metadata": {},
   "outputs": [
    {
     "name": "stdout",
     "output_type": "stream",
     "text": [
      "['telugu-titans', 'bengaluru-bulls', 'u-mumba', 'jaipur-pink-panthers', 'dabang-delhi-kc', 'patna-pirates', 'puneri-paltan', 'bengal-warriors']\n",
      "['26', '25', '20', '17', '13', '13', '12', '10']\n"
     ]
    }
   ],
   "source": [
    "soup = BeautifulSoup(driver.page_source)\n",
    "team = soup.findAll('div',attrs={'class':'lb-detailItem-wrap'})\n",
    "\n",
    "team_names = []\n",
    "team_allouts_inflicted = []\n",
    "\n",
    "for item in team:\n",
    "    \n",
    "    itm1 = item.find('a',attrs={'class':'sipk-lb-detailBlock sipk-playerDesc'})\n",
    "    srch = re.findall('u-mumba|telugu-titans|jaipur-pink-panthers|bengaluru-bulls|dabang-delhi-kc|patna-pirates|puneri-paltan|bengal-warriors', itm1.attrs['href'])\n",
    "    team_names.append(srch[0])\n",
    "    \n",
    "    itm3 = item.find('div',attrs={'class':'sipk-lb-detailBlock sipk-lb-raidPoints'}).span.text\n",
    "    team_allouts_inflicted.append(itm3)\n",
    "\n",
    "print(team_names)\n",
    "print(team_allouts_inflicted)"
   ]
  },
  {
   "cell_type": "code",
   "execution_count": 92,
   "metadata": {
    "scrolled": true
   },
   "outputs": [
    {
     "data": {
      "text/html": [
       "<div>\n",
       "<style scoped>\n",
       "    .dataframe tbody tr th:only-of-type {\n",
       "        vertical-align: middle;\n",
       "    }\n",
       "\n",
       "    .dataframe tbody tr th {\n",
       "        vertical-align: top;\n",
       "    }\n",
       "\n",
       "    .dataframe thead th {\n",
       "        text-align: right;\n",
       "    }\n",
       "</style>\n",
       "<table border=\"1\" class=\"dataframe\">\n",
       "  <thead>\n",
       "    <tr style=\"text-align: right;\">\n",
       "      <th></th>\n",
       "      <th>team_name</th>\n",
       "      <th>team_allouts_inflicted</th>\n",
       "    </tr>\n",
       "  </thead>\n",
       "  <tbody>\n",
       "    <tr>\n",
       "      <th>0</th>\n",
       "      <td>telugu-titans</td>\n",
       "      <td>26</td>\n",
       "    </tr>\n",
       "    <tr>\n",
       "      <th>1</th>\n",
       "      <td>bengaluru-bulls</td>\n",
       "      <td>25</td>\n",
       "    </tr>\n",
       "    <tr>\n",
       "      <th>2</th>\n",
       "      <td>u-mumba</td>\n",
       "      <td>20</td>\n",
       "    </tr>\n",
       "    <tr>\n",
       "      <th>3</th>\n",
       "      <td>jaipur-pink-panthers</td>\n",
       "      <td>17</td>\n",
       "    </tr>\n",
       "    <tr>\n",
       "      <th>4</th>\n",
       "      <td>dabang-delhi-kc</td>\n",
       "      <td>13</td>\n",
       "    </tr>\n",
       "  </tbody>\n",
       "</table>\n",
       "</div>"
      ],
      "text/plain": [
       "              team_name team_allouts_inflicted\n",
       "0         telugu-titans                     26\n",
       "1       bengaluru-bulls                     25\n",
       "2               u-mumba                     20\n",
       "3  jaipur-pink-panthers                     17\n",
       "4       dabang-delhi-kc                     13"
      ]
     },
     "execution_count": 92,
     "metadata": {},
     "output_type": "execute_result"
    }
   ],
   "source": [
    "team_allouts_inflicted_seas1 = pd.DataFrame({'team_name':team_names, 'team_allouts_inflicted':team_allouts_inflicted})\n",
    "team_allouts_inflicted_seas1.head()"
   ]
  },
  {
   "cell_type": "markdown",
   "metadata": {},
   "source": [
    "All-Outs Conceded"
   ]
  },
  {
   "cell_type": "code",
   "execution_count": 93,
   "metadata": {},
   "outputs": [],
   "source": [
    "driver.get('https://www.prokabaddi.com/stats/2-137-all-outs-conceded-statistics')\n",
    "time.sleep(5)"
   ]
  },
  {
   "cell_type": "code",
   "execution_count": 94,
   "metadata": {},
   "outputs": [
    {
     "name": "stdout",
     "output_type": "stream",
     "text": [
      "['patna-pirates', 'puneri-paltan', 'dabang-delhi-kc', 'bengal-warriors', 'bengaluru-bulls', 'telugu-titans', 'u-mumba', 'jaipur-pink-panthers']\n",
      "['21', '21', '20', '17', '16', '15', '14', '12']\n"
     ]
    }
   ],
   "source": [
    "soup = BeautifulSoup(driver.page_source)\n",
    "team = soup.findAll('div',attrs={'class':'lb-detailItem-wrap'})\n",
    "\n",
    "team_names = []\n",
    "team_allouts_conceded = []\n",
    "\n",
    "for item in team:\n",
    "    \n",
    "    itm1 = item.find('a',attrs={'class':'sipk-lb-detailBlock sipk-playerDesc'})\n",
    "    srch = re.findall('u-mumba|telugu-titans|jaipur-pink-panthers|bengaluru-bulls|dabang-delhi-kc|patna-pirates|puneri-paltan|bengal-warriors', itm1.attrs['href'])\n",
    "    team_names.append(srch[0])\n",
    "    \n",
    "    itm3 = item.find('div',attrs={'class':'sipk-lb-detailBlock sipk-lb-raidPoints'}).span.text\n",
    "    team_allouts_conceded.append(itm3)\n",
    "\n",
    "print(team_names)\n",
    "print(team_allouts_conceded)"
   ]
  },
  {
   "cell_type": "code",
   "execution_count": 95,
   "metadata": {
    "scrolled": false
   },
   "outputs": [
    {
     "data": {
      "text/html": [
       "<div>\n",
       "<style scoped>\n",
       "    .dataframe tbody tr th:only-of-type {\n",
       "        vertical-align: middle;\n",
       "    }\n",
       "\n",
       "    .dataframe tbody tr th {\n",
       "        vertical-align: top;\n",
       "    }\n",
       "\n",
       "    .dataframe thead th {\n",
       "        text-align: right;\n",
       "    }\n",
       "</style>\n",
       "<table border=\"1\" class=\"dataframe\">\n",
       "  <thead>\n",
       "    <tr style=\"text-align: right;\">\n",
       "      <th></th>\n",
       "      <th>team_name</th>\n",
       "      <th>team_allouts_conceded</th>\n",
       "    </tr>\n",
       "  </thead>\n",
       "  <tbody>\n",
       "    <tr>\n",
       "      <th>0</th>\n",
       "      <td>patna-pirates</td>\n",
       "      <td>21</td>\n",
       "    </tr>\n",
       "    <tr>\n",
       "      <th>1</th>\n",
       "      <td>puneri-paltan</td>\n",
       "      <td>21</td>\n",
       "    </tr>\n",
       "    <tr>\n",
       "      <th>2</th>\n",
       "      <td>dabang-delhi-kc</td>\n",
       "      <td>20</td>\n",
       "    </tr>\n",
       "    <tr>\n",
       "      <th>3</th>\n",
       "      <td>bengal-warriors</td>\n",
       "      <td>17</td>\n",
       "    </tr>\n",
       "    <tr>\n",
       "      <th>4</th>\n",
       "      <td>bengaluru-bulls</td>\n",
       "      <td>16</td>\n",
       "    </tr>\n",
       "  </tbody>\n",
       "</table>\n",
       "</div>"
      ],
      "text/plain": [
       "         team_name team_allouts_conceded\n",
       "0    patna-pirates                    21\n",
       "1    puneri-paltan                    21\n",
       "2  dabang-delhi-kc                    20\n",
       "3  bengal-warriors                    17\n",
       "4  bengaluru-bulls                    16"
      ]
     },
     "execution_count": 95,
     "metadata": {},
     "output_type": "execute_result"
    }
   ],
   "source": [
    "team_allouts_conceded_seas1 = pd.DataFrame({'team_name':team_names, 'team_allouts_conceded':team_allouts_conceded})\n",
    "team_allouts_conceded_seas1.head()"
   ]
  },
  {
   "cell_type": "markdown",
   "metadata": {},
   "source": [
    "##### Merge Team Stats into a master frame"
   ]
  },
  {
   "cell_type": "code",
   "execution_count": 96,
   "metadata": {},
   "outputs": [
    {
     "data": {
      "text/html": [
       "<div>\n",
       "<style scoped>\n",
       "    .dataframe tbody tr th:only-of-type {\n",
       "        vertical-align: middle;\n",
       "    }\n",
       "\n",
       "    .dataframe tbody tr th {\n",
       "        vertical-align: top;\n",
       "    }\n",
       "\n",
       "    .dataframe thead th {\n",
       "        text-align: right;\n",
       "    }\n",
       "</style>\n",
       "<table border=\"1\" class=\"dataframe\">\n",
       "  <thead>\n",
       "    <tr style=\"text-align: right;\">\n",
       "      <th></th>\n",
       "      <th>team_name</th>\n",
       "      <th>matches_played</th>\n",
       "      <th>total_points_scored</th>\n",
       "      <th>total_points_conceded</th>\n",
       "      <th>team_avg_points</th>\n",
       "      <th>team_success_raids</th>\n",
       "      <th>team_raid_points</th>\n",
       "      <th>team_avg_raid_points</th>\n",
       "      <th>team_success_tackles</th>\n",
       "      <th>team_tackle_points</th>\n",
       "      <th>team_avg_tackle_points</th>\n",
       "      <th>team_super_raids</th>\n",
       "      <th>team_super_tackles</th>\n",
       "      <th>team_dod_raid_points</th>\n",
       "      <th>team_allouts_inflicted</th>\n",
       "      <th>team_allouts_conceded</th>\n",
       "    </tr>\n",
       "  </thead>\n",
       "  <tbody>\n",
       "    <tr>\n",
       "      <th>0</th>\n",
       "      <td>telugu-titans</td>\n",
       "      <td>16</td>\n",
       "      <td>586</td>\n",
       "      <td>493</td>\n",
       "      <td>32.25</td>\n",
       "      <td>265</td>\n",
       "      <td>344</td>\n",
       "      <td>21.5</td>\n",
       "      <td>158</td>\n",
       "      <td>172</td>\n",
       "      <td>10.75</td>\n",
       "      <td>16</td>\n",
       "      <td>16</td>\n",
       "      <td>66</td>\n",
       "      <td>26</td>\n",
       "      <td>15</td>\n",
       "    </tr>\n",
       "    <tr>\n",
       "      <th>1</th>\n",
       "      <td>bengaluru-bulls</td>\n",
       "      <td>16</td>\n",
       "      <td>508</td>\n",
       "      <td>457</td>\n",
       "      <td>26</td>\n",
       "      <td>194</td>\n",
       "      <td>252</td>\n",
       "      <td>15.75</td>\n",
       "      <td>158</td>\n",
       "      <td>164</td>\n",
       "      <td>10.25</td>\n",
       "      <td>10</td>\n",
       "      <td>7</td>\n",
       "      <td>80</td>\n",
       "      <td>25</td>\n",
       "      <td>16</td>\n",
       "    </tr>\n",
       "    <tr>\n",
       "      <th>2</th>\n",
       "      <td>u-mumba</td>\n",
       "      <td>16</td>\n",
       "      <td>489</td>\n",
       "      <td>426</td>\n",
       "      <td>27.06</td>\n",
       "      <td>187</td>\n",
       "      <td>237</td>\n",
       "      <td>14.81</td>\n",
       "      <td>180</td>\n",
       "      <td>196</td>\n",
       "      <td>12.25</td>\n",
       "      <td>7</td>\n",
       "      <td>16</td>\n",
       "      <td>81</td>\n",
       "      <td>20</td>\n",
       "      <td>14</td>\n",
       "    </tr>\n",
       "    <tr>\n",
       "      <th>3</th>\n",
       "      <td>patna-pirates</td>\n",
       "      <td>16</td>\n",
       "      <td>444</td>\n",
       "      <td>489</td>\n",
       "      <td>24.5</td>\n",
       "      <td>182</td>\n",
       "      <td>228</td>\n",
       "      <td>14.25</td>\n",
       "      <td>152</td>\n",
       "      <td>164</td>\n",
       "      <td>10.25</td>\n",
       "      <td>4</td>\n",
       "      <td>13</td>\n",
       "      <td>60</td>\n",
       "      <td>13</td>\n",
       "      <td>21</td>\n",
       "    </tr>\n",
       "    <tr>\n",
       "      <th>4</th>\n",
       "      <td>jaipur-pink-panthers</td>\n",
       "      <td>14</td>\n",
       "      <td>442</td>\n",
       "      <td>399</td>\n",
       "      <td>26.71</td>\n",
       "      <td>183</td>\n",
       "      <td>232</td>\n",
       "      <td>16.57</td>\n",
       "      <td>124</td>\n",
       "      <td>142</td>\n",
       "      <td>10.14</td>\n",
       "      <td>5</td>\n",
       "      <td>18</td>\n",
       "      <td>47</td>\n",
       "      <td>17</td>\n",
       "      <td>12</td>\n",
       "    </tr>\n",
       "    <tr>\n",
       "      <th>5</th>\n",
       "      <td>dabang-delhi-kc</td>\n",
       "      <td>14</td>\n",
       "      <td>396</td>\n",
       "      <td>464</td>\n",
       "      <td>25.21</td>\n",
       "      <td>159</td>\n",
       "      <td>217</td>\n",
       "      <td>15.5</td>\n",
       "      <td>122</td>\n",
       "      <td>136</td>\n",
       "      <td>9.71</td>\n",
       "      <td>14</td>\n",
       "      <td>14</td>\n",
       "      <td>61</td>\n",
       "      <td>13</td>\n",
       "      <td>20</td>\n",
       "    </tr>\n",
       "    <tr>\n",
       "      <th>6</th>\n",
       "      <td>puneri-paltan</td>\n",
       "      <td>14</td>\n",
       "      <td>391</td>\n",
       "      <td>465</td>\n",
       "      <td>24.07</td>\n",
       "      <td>170</td>\n",
       "      <td>223</td>\n",
       "      <td>15.93</td>\n",
       "      <td>104</td>\n",
       "      <td>114</td>\n",
       "      <td>8.14</td>\n",
       "      <td>8</td>\n",
       "      <td>11</td>\n",
       "      <td>56</td>\n",
       "      <td>12</td>\n",
       "      <td>21</td>\n",
       "    </tr>\n",
       "    <tr>\n",
       "      <th>7</th>\n",
       "      <td>bengal-warriors</td>\n",
       "      <td>14</td>\n",
       "      <td>367</td>\n",
       "      <td>430</td>\n",
       "      <td>22.85</td>\n",
       "      <td>134</td>\n",
       "      <td>184</td>\n",
       "      <td>13.14</td>\n",
       "      <td>116</td>\n",
       "      <td>136</td>\n",
       "      <td>9.71</td>\n",
       "      <td>9</td>\n",
       "      <td>21</td>\n",
       "      <td>59</td>\n",
       "      <td>10</td>\n",
       "      <td>17</td>\n",
       "    </tr>\n",
       "  </tbody>\n",
       "</table>\n",
       "</div>"
      ],
      "text/plain": [
       "              team_name matches_played total_points_scored  \\\n",
       "0         telugu-titans             16                 586   \n",
       "1       bengaluru-bulls             16                 508   \n",
       "2               u-mumba             16                 489   \n",
       "3         patna-pirates             16                 444   \n",
       "4  jaipur-pink-panthers             14                 442   \n",
       "5       dabang-delhi-kc             14                 396   \n",
       "6         puneri-paltan             14                 391   \n",
       "7       bengal-warriors             14                 367   \n",
       "\n",
       "  total_points_conceded team_avg_points team_success_raids team_raid_points  \\\n",
       "0                   493           32.25                265              344   \n",
       "1                   457              26                194              252   \n",
       "2                   426           27.06                187              237   \n",
       "3                   489            24.5                182              228   \n",
       "4                   399           26.71                183              232   \n",
       "5                   464           25.21                159              217   \n",
       "6                   465           24.07                170              223   \n",
       "7                   430           22.85                134              184   \n",
       "\n",
       "  team_avg_raid_points team_success_tackles team_tackle_points  \\\n",
       "0                 21.5                  158                172   \n",
       "1                15.75                  158                164   \n",
       "2                14.81                  180                196   \n",
       "3                14.25                  152                164   \n",
       "4                16.57                  124                142   \n",
       "5                 15.5                  122                136   \n",
       "6                15.93                  104                114   \n",
       "7                13.14                  116                136   \n",
       "\n",
       "  team_avg_tackle_points team_super_raids team_super_tackles  \\\n",
       "0                  10.75               16                 16   \n",
       "1                  10.25               10                  7   \n",
       "2                  12.25                7                 16   \n",
       "3                  10.25                4                 13   \n",
       "4                  10.14                5                 18   \n",
       "5                   9.71               14                 14   \n",
       "6                   8.14                8                 11   \n",
       "7                   9.71                9                 21   \n",
       "\n",
       "  team_dod_raid_points team_allouts_inflicted team_allouts_conceded  \n",
       "0                   66                     26                    15  \n",
       "1                   80                     25                    16  \n",
       "2                   81                     20                    14  \n",
       "3                   60                     13                    21  \n",
       "4                   47                     17                    12  \n",
       "5                   61                     13                    20  \n",
       "6                   56                     12                    21  \n",
       "7                   59                     10                    17  "
      ]
     },
     "execution_count": 96,
     "metadata": {},
     "output_type": "execute_result"
    }
   ],
   "source": [
    "temp1 = pd.merge(team_tot_points_seas1, team_tot_points_conceded_seas1, on='team_name', how='left')\n",
    "temp2 = pd.merge(temp1, team_avg_points_scored_seas1, on='team_name', how='left')\n",
    "temp3 = pd.merge(temp2, team_success_raids_seas1, on='team_name', how='left')\n",
    "temp4 = pd.merge(temp3, team_raid_points_seas1, on='team_name', how='left')\n",
    "temp5 = pd.merge(temp4, team_avg_raid_points_seas1, on='team_name', how='left')\n",
    "temp6 = pd.merge(temp5, team_success_tackles_seas1, on='team_name', how='left')\n",
    "temp7 = pd.merge(temp6, team_tackle_points_seas1, on='team_name', how='left')\n",
    "temp8 = pd.merge(temp7, team_avg_tackle_points_seas1, on='team_name', how='left')\n",
    "temp9 = pd.merge(temp8, team_super_raids_seas1, on='team_name', how='left')\n",
    "temp10 = pd.merge(temp9, team_super_tackles_seas1, on='team_name', how='left')\n",
    "temp11 = pd.merge(temp10, team_dod_raid_points_seas1, on='team_name', how='left')\n",
    "temp12 = pd.merge(temp11, team_allouts_inflicted_seas1, on='team_name', how='left')\n",
    "season1_team_stats = pd.merge(temp12, team_allouts_conceded_seas1, on='team_name', how='left')\n",
    "\n",
    "season1_team_stats = season1_team_stats.fillna(0)\n",
    "\n",
    "season1_team_stats"
   ]
  },
  {
   "cell_type": "code",
   "execution_count": 97,
   "metadata": {},
   "outputs": [],
   "source": [
    "outfile = open('data/season2_team_stats.csv', mode='w')\n",
    "season1_team_stats.to_csv('data/season2_team_stats.csv', mode='w', index = False, header=True)\n",
    "outfile.close()"
   ]
  },
  {
   "cell_type": "code",
   "execution_count": null,
   "metadata": {},
   "outputs": [],
   "source": []
  }
 ],
 "metadata": {
  "kernelspec": {
   "display_name": "Python 3",
   "language": "python",
   "name": "python3"
  },
  "language_info": {
   "codemirror_mode": {
    "name": "ipython",
    "version": 3
   },
   "file_extension": ".py",
   "mimetype": "text/x-python",
   "name": "python",
   "nbconvert_exporter": "python",
   "pygments_lexer": "ipython3",
   "version": "3.7.3"
  }
 },
 "nbformat": 4,
 "nbformat_minor": 2
}
