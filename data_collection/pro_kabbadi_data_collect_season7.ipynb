{
 "cells": [
  {
   "cell_type": "code",
   "execution_count": 331,
   "metadata": {},
   "outputs": [],
   "source": [
    "import requests\n",
    "import pandas as pd\n",
    "from bs4 import BeautifulSoup\n",
    "from selenium import webdriver\n",
    "import re\n",
    "import time"
   ]
  },
  {
   "cell_type": "markdown",
   "metadata": {},
   "source": [
    "Download the Chrome Webdriver from https://sites.google.com/a/chromium.org/chromedriver/downloads (make sure you download the same Chrome version driver)\n",
    "\n",
    "And place the file at notebook location"
   ]
  },
  {
   "cell_type": "code",
   "execution_count": 332,
   "metadata": {},
   "outputs": [],
   "source": [
    "driver = webdriver.Chrome(executable_path='chromedriver.exe')"
   ]
  },
  {
   "cell_type": "markdown",
   "metadata": {},
   "source": [
    "Getting the Player Stats<br>\n",
    "First we will get the Total Points secured by Each player"
   ]
  },
  {
   "cell_type": "code",
   "execution_count": 333,
   "metadata": {},
   "outputs": [],
   "source": [
    "driver.get('https://www.prokabaddi.com/stats/49-102-total-points-statistics')"
   ]
  },
  {
   "cell_type": "markdown",
   "metadata": {},
   "source": [
    "Wait for above cell to execute"
   ]
  },
  {
   "cell_type": "code",
   "execution_count": 334,
   "metadata": {},
   "outputs": [],
   "source": [
    "# time.sleep(7)\n",
    "\n",
    "myelement = driver.find_element_by_xpath('//*[@id=\"load_more\"]')\n",
    "\n",
    "while myelement.is_displayed():\n",
    "    if myelement.is_displayed():\n",
    "        myelement.click()\n",
    "\n",
    "# time.sleep(3)"
   ]
  },
  {
   "cell_type": "code",
   "execution_count": 225,
   "metadata": {},
   "outputs": [],
   "source": [
    "soup = BeautifulSoup(driver.page_source)\n",
    "player = soup.findAll('div',attrs={'class':'lb-detailItem-wrap'})\n",
    "\n",
    "player_names = []\n",
    "player_profile = []\n",
    "player_team = []\n",
    "matches_played = []\n",
    "total_points = []\n",
    "\n",
    "for item in player:\n",
    "    \n",
    "    #Fetching the Player Name\n",
    "    itm1 = item.find('div',attrs={'class':'sipk-lb-playerName'}).span.text.replace('\\n', ' ').strip()\n",
    "    player_names.append(itm1)\n",
    "    \n",
    "    #Fetching the Player Profile\n",
    "    if item.find('div',attrs={'class':'sipk-lb-playerprofile'}):\n",
    "        itm2 = item.find('div',attrs={'class':'sipk-lb-playerprofile'}).span.text\n",
    "        player_profile.append(itm2)\n",
    "    else:\n",
    "        player_profile.append('')\n",
    "    \n",
    "    #Fetching the Player Team\n",
    "    itm3 = item.find('a',attrs={'class':'sipk-lb-detailBlock sipk-lb-team'})\n",
    "    srch = re.findall('gujarat-fortunegiants|puneri-paltan|up-yoddha|tamil-thalaivas|haryana-steelers|u-mumba|telugu-titans|jaipur-pink-panthers|bengaluru-bulls|dabang-delhi-kc|patna-pirates|bengal-warriors', itm3.attrs['href'])\n",
    "    player_team.append(srch[0])\n",
    "    \n",
    "    #Fetching the Matches Played by Player\n",
    "    itm4 = item.find('div',attrs={'class':'sipk-lb-detailBlock sipk-lb-matchedPlayed'}).span.text\n",
    "    matches_played.append(itm4)\n",
    "    \n",
    "    #Fetching the Total Points scored by a Player\n",
    "    itm5 = item.find('div',attrs={'class':'sipk-lb-detailBlock sipk-lb-raidPoints'}).span.text\n",
    "    total_points.append(itm5)\n",
    "\n",
    "#print(player_names)\n",
    "#print(player_profile)\n",
    "#print(player_team)\n",
    "#print(matches_played)\n",
    "#print(total_points)"
   ]
  },
  {
   "cell_type": "code",
   "execution_count": 226,
   "metadata": {},
   "outputs": [],
   "source": [
    "pyr_tot_points_seas1 = pd.DataFrame({'name':player_names, 'profile':player_profile, 'team':player_team\n",
    "                                     , 'matches_played':matches_played, 'total_points':total_points})\n",
    "\n",
    "#pyr_tot_points_seas1.head()"
   ]
  },
  {
   "cell_type": "markdown",
   "metadata": {},
   "source": [
    "Get Successful raids"
   ]
  },
  {
   "cell_type": "code",
   "execution_count": 227,
   "metadata": {},
   "outputs": [],
   "source": [
    "driver.get('https://www.prokabaddi.com/stats/49-21-successful-raids-statistics')"
   ]
  },
  {
   "cell_type": "markdown",
   "metadata": {},
   "source": [
    "Wait for above cell to execute"
   ]
  },
  {
   "cell_type": "code",
   "execution_count": 228,
   "metadata": {},
   "outputs": [],
   "source": [
    "time.sleep(7)\n",
    "\n",
    "myelement = driver.find_element_by_xpath('//*[@id=\"load_more\"]')\n",
    "\n",
    "while myelement.is_displayed():\n",
    "    if myelement.is_displayed():\n",
    "        myelement.click()\n",
    "\n",
    "time.sleep(3)"
   ]
  },
  {
   "cell_type": "code",
   "execution_count": 229,
   "metadata": {},
   "outputs": [],
   "source": [
    "soup = BeautifulSoup(driver.page_source)\n",
    "player = soup.findAll('div',attrs={'class':'lb-detailItem-wrap'})\n",
    "\n",
    "player_names = []\n",
    "success_raids = []\n",
    "player_team = []\n",
    "player_profile = []\n",
    "\n",
    "for item in player:\n",
    "    \n",
    "    #Fetching the Player Name\n",
    "    itm1 = item.find('div',attrs={'class':'sipk-lb-playerName'}).span.text.replace('\\n', ' ').strip()\n",
    "    player_names.append(itm1)\n",
    "    \n",
    "    #Fetching the Raid Points scored by a Player\n",
    "    itm2 = item.find('div',attrs={'class':'sipk-lb-detailBlock sipk-lb-raidPoints'}).span.text\n",
    "    success_raids.append(itm2)\n",
    "    \n",
    "    #Fetching the Player Team\n",
    "    itm3 = item.find('a',attrs={'class':'sipk-lb-detailBlock sipk-lb-team'})\n",
    "    srch = re.findall('gujarat-fortunegiants|puneri-paltan|up-yoddha|tamil-thalaivas|haryana-steelers|u-mumba|telugu-titans|jaipur-pink-panthers|bengaluru-bulls|dabang-delhi-kc|patna-pirates|bengal-warriors', itm3.attrs['href'])\n",
    "    player_team.append(srch[0])\n",
    "    \n",
    "    #Fetching the Player Profile\n",
    "    if item.find('div',attrs={'class':'sipk-lb-playerprofile'}):\n",
    "        itm4 = item.find('div',attrs={'class':'sipk-lb-playerprofile'}).span.text\n",
    "        player_profile.append(itm4)\n",
    "    else:\n",
    "        player_profile.append('')\n",
    "\n",
    "#print(player_names)\n",
    "#print(success_raids)"
   ]
  },
  {
   "cell_type": "code",
   "execution_count": 230,
   "metadata": {},
   "outputs": [],
   "source": [
    "pyr_success_raids_seas1 = pd.DataFrame({'name':player_names, 'profile':player_profile, 'team':player_team, 'success_raids':success_raids})\n",
    "\n",
    "#pyr_success_raids_seas1.head()"
   ]
  },
  {
   "cell_type": "markdown",
   "metadata": {},
   "source": [
    "Get Raid Points"
   ]
  },
  {
   "cell_type": "code",
   "execution_count": 231,
   "metadata": {},
   "outputs": [],
   "source": [
    "driver.get('https://www.prokabaddi.com/stats/49-22-raid-points-statistics')"
   ]
  },
  {
   "cell_type": "markdown",
   "metadata": {},
   "source": [
    "Wait for above cell to execute"
   ]
  },
  {
   "cell_type": "code",
   "execution_count": 232,
   "metadata": {},
   "outputs": [],
   "source": [
    "time.sleep(7)\n",
    "\n",
    "myelement = driver.find_element_by_xpath('//*[@id=\"load_more\"]')\n",
    "\n",
    "while myelement.is_displayed():\n",
    "    if myelement.is_displayed():\n",
    "        myelement.click()\n",
    "\n",
    "time.sleep(3)"
   ]
  },
  {
   "cell_type": "code",
   "execution_count": 233,
   "metadata": {},
   "outputs": [],
   "source": [
    "soup = BeautifulSoup(driver.page_source)\n",
    "player = soup.findAll('div',attrs={'class':'lb-detailItem-wrap'})\n",
    "\n",
    "player_names = []\n",
    "raid_points = []\n",
    "player_team = []\n",
    "player_profile = []\n",
    "\n",
    "for item in player:\n",
    "    \n",
    "    #Fetching the Player Name\n",
    "    itm1 = item.find('div',attrs={'class':'sipk-lb-playerName'}).span.text.replace('\\n', ' ').strip()\n",
    "    player_names.append(itm1)\n",
    "    \n",
    "    #Fetching the Raid Points scored by a Player\n",
    "    itm2 = item.find('div',attrs={'class':'sipk-lb-detailBlock sipk-lb-raidPoints'}).span.text\n",
    "    raid_points.append(itm2)\n",
    "    \n",
    "    #Fetching the Player Team\n",
    "    itm3 = item.find('a',attrs={'class':'sipk-lb-detailBlock sipk-lb-team'})\n",
    "    srch = re.findall('gujarat-fortunegiants|puneri-paltan|up-yoddha|tamil-thalaivas|haryana-steelers|u-mumba|telugu-titans|jaipur-pink-panthers|bengaluru-bulls|dabang-delhi-kc|patna-pirates|bengal-warriors', itm3.attrs['href'])\n",
    "    player_team.append(srch[0])\n",
    "    \n",
    "    #Fetching the Player Profile\n",
    "    if item.find('div',attrs={'class':'sipk-lb-playerprofile'}):\n",
    "        itm4 = item.find('div',attrs={'class':'sipk-lb-playerprofile'}).span.text\n",
    "        player_profile.append(itm4)\n",
    "    else:\n",
    "        player_profile.append('')\n",
    "\n",
    "#print(player_names)\n",
    "#print(raid_points)"
   ]
  },
  {
   "cell_type": "code",
   "execution_count": 234,
   "metadata": {},
   "outputs": [],
   "source": [
    "pyr_raid_points_seas1 = pd.DataFrame({'name':player_names, 'profile':player_profile, 'team':player_team, 'raid_points':raid_points})\n",
    "\n",
    "#pyr_raid_points_seas1.head()"
   ]
  },
  {
   "cell_type": "markdown",
   "metadata": {},
   "source": [
    "Get Successful Tackles"
   ]
  },
  {
   "cell_type": "code",
   "execution_count": 235,
   "metadata": {},
   "outputs": [],
   "source": [
    "driver.get('https://www.prokabaddi.com/stats/49-23-successful-tackles-statistics')"
   ]
  },
  {
   "cell_type": "markdown",
   "metadata": {},
   "source": [
    "Wait for above cell to execute"
   ]
  },
  {
   "cell_type": "code",
   "execution_count": 236,
   "metadata": {},
   "outputs": [],
   "source": [
    "time.sleep(7)\n",
    "\n",
    "myelement = driver.find_element_by_xpath('//*[@id=\"load_more\"]')\n",
    "\n",
    "while myelement.is_displayed():\n",
    "    if myelement.is_displayed():\n",
    "        myelement.click()\n",
    "\n",
    "time.sleep(3)"
   ]
  },
  {
   "cell_type": "code",
   "execution_count": 237,
   "metadata": {},
   "outputs": [],
   "source": [
    "soup = BeautifulSoup(driver.page_source)\n",
    "player = soup.findAll('div',attrs={'class':'lb-detailItem-wrap'})\n",
    "\n",
    "player_names = []\n",
    "success_tackles = []\n",
    "player_team = []\n",
    "player_profile = []\n",
    "\n",
    "for item in player:\n",
    "    \n",
    "    #Fetching the Player Name\n",
    "    itm1 = item.find('div',attrs={'class':'sipk-lb-playerName'}).span.text.replace('\\n', ' ').strip()\n",
    "    player_names.append(itm1)\n",
    "    \n",
    "    #Fetching the Raid Points scored by a Player\n",
    "    itm2 = item.find('div',attrs={'class':'sipk-lb-detailBlock sipk-lb-raidPoints'}).span.text\n",
    "    success_tackles.append(itm2)\n",
    "    \n",
    "    #Fetching the Player Team\n",
    "    itm3 = item.find('a',attrs={'class':'sipk-lb-detailBlock sipk-lb-team'})\n",
    "    srch = re.findall('gujarat-fortunegiants|puneri-paltan|up-yoddha|tamil-thalaivas|haryana-steelers|u-mumba|telugu-titans|jaipur-pink-panthers|bengaluru-bulls|dabang-delhi-kc|patna-pirates|bengal-warriors', itm3.attrs['href'])\n",
    "    player_team.append(srch[0])\n",
    "    \n",
    "    #Fetching the Player Profile\n",
    "    if item.find('div',attrs={'class':'sipk-lb-playerprofile'}):\n",
    "        itm4 = item.find('div',attrs={'class':'sipk-lb-playerprofile'}).span.text\n",
    "        player_profile.append(itm4)\n",
    "    else:\n",
    "        player_profile.append('')\n",
    "\n",
    "#print(player_names)\n",
    "#print(success_tackles)"
   ]
  },
  {
   "cell_type": "code",
   "execution_count": 238,
   "metadata": {},
   "outputs": [],
   "source": [
    "pyr_success_tackles_seas1 = pd.DataFrame({'name':player_names, 'profile':player_profile, 'team':player_team, 'success_tackles':success_tackles})\n",
    "\n",
    "#pyr_success_tackles_seas1.head()"
   ]
  },
  {
   "cell_type": "markdown",
   "metadata": {},
   "source": [
    "Get Tackle Points"
   ]
  },
  {
   "cell_type": "code",
   "execution_count": 239,
   "metadata": {},
   "outputs": [],
   "source": [
    "driver.get('https://www.prokabaddi.com/stats/49-103-tackle-points-statistics')"
   ]
  },
  {
   "cell_type": "markdown",
   "metadata": {},
   "source": [
    "Wait for above cell to execute"
   ]
  },
  {
   "cell_type": "code",
   "execution_count": 240,
   "metadata": {},
   "outputs": [],
   "source": [
    "time.sleep(7)\n",
    "\n",
    "myelement = driver.find_element_by_xpath('//*[@id=\"load_more\"]')\n",
    "\n",
    "while myelement.is_displayed():\n",
    "    if myelement.is_displayed():\n",
    "        myelement.click()\n",
    "\n",
    "time.sleep(3)"
   ]
  },
  {
   "cell_type": "code",
   "execution_count": 241,
   "metadata": {},
   "outputs": [],
   "source": [
    "soup = BeautifulSoup(driver.page_source)\n",
    "player = soup.findAll('div',attrs={'class':'lb-detailItem-wrap'})\n",
    "\n",
    "player_names = []\n",
    "tackle_points = []\n",
    "player_team = []\n",
    "player_profile = []\n",
    "\n",
    "for item in player:\n",
    "    \n",
    "    #Fetching the Player Name\n",
    "    itm1 = item.find('div',attrs={'class':'sipk-lb-playerName'}).span.text.replace('\\n', ' ').strip()\n",
    "    player_names.append(itm1)\n",
    "    \n",
    "    #Fetching the Raid Points scored by a Player\n",
    "    itm2 = item.find('div',attrs={'class':'sipk-lb-detailBlock sipk-lb-raidPoints'}).span.text\n",
    "    tackle_points.append(itm2)\n",
    "    \n",
    "    #Fetching the Player Team\n",
    "    itm3 = item.find('a',attrs={'class':'sipk-lb-detailBlock sipk-lb-team'})\n",
    "    srch = re.findall('gujarat-fortunegiants|puneri-paltan|up-yoddha|tamil-thalaivas|haryana-steelers|u-mumba|telugu-titans|jaipur-pink-panthers|bengaluru-bulls|dabang-delhi-kc|patna-pirates|bengal-warriors', itm3.attrs['href'])\n",
    "    player_team.append(srch[0])\n",
    "    \n",
    "    #Fetching the Player Profile\n",
    "    if item.find('div',attrs={'class':'sipk-lb-playerprofile'}):\n",
    "        itm4 = item.find('div',attrs={'class':'sipk-lb-playerprofile'}).span.text\n",
    "        player_profile.append(itm4)\n",
    "    else:\n",
    "        player_profile.append('')\n",
    "\n",
    "#print(player_names)\n",
    "#print(tackle_points)"
   ]
  },
  {
   "cell_type": "code",
   "execution_count": 242,
   "metadata": {},
   "outputs": [],
   "source": [
    "pyr_tackle_points_seas1 = pd.DataFrame({'name':player_names, 'profile':player_profile, 'team':player_team, 'tackle_points':tackle_points})\n",
    "\n",
    "#pyr_tackle_points_seas1.head()"
   ]
  },
  {
   "cell_type": "markdown",
   "metadata": {},
   "source": [
    "Get Average Raid Points"
   ]
  },
  {
   "cell_type": "code",
   "execution_count": 243,
   "metadata": {},
   "outputs": [],
   "source": [
    "driver.get('https://www.prokabaddi.com/stats/49-138-avg-raid-points-statistics')"
   ]
  },
  {
   "cell_type": "markdown",
   "metadata": {},
   "source": [
    "Wait for above cell to execute"
   ]
  },
  {
   "cell_type": "code",
   "execution_count": 244,
   "metadata": {},
   "outputs": [],
   "source": [
    "time.sleep(7)\n",
    "\n",
    "myelement = driver.find_element_by_xpath('//*[@id=\"load_more\"]')\n",
    "\n",
    "while myelement.is_displayed():\n",
    "    if myelement.is_displayed():\n",
    "        myelement.click()\n",
    "\n",
    "time.sleep(3)"
   ]
  },
  {
   "cell_type": "code",
   "execution_count": 245,
   "metadata": {},
   "outputs": [],
   "source": [
    "soup = BeautifulSoup(driver.page_source)\n",
    "player = soup.findAll('div',attrs={'class':'lb-detailItem-wrap'})\n",
    "\n",
    "player_names = []\n",
    "avg_raid_points = []\n",
    "player_team = []\n",
    "player_profile = []\n",
    "\n",
    "for item in player:\n",
    "    \n",
    "    #Fetching the Player Name\n",
    "    itm1 = item.find('div',attrs={'class':'sipk-lb-playerName'}).span.text.replace('\\n', ' ').strip()\n",
    "    player_names.append(itm1)\n",
    "    \n",
    "    #Fetching the Raid Points scored by a Player\n",
    "    itm2 = item.find('div',attrs={'class':'sipk-lb-detailBlock sipk-lb-raidPoints'}).span.text\n",
    "    avg_raid_points.append(itm2)\n",
    "    \n",
    "    #Fetching the Player Team\n",
    "    itm3 = item.find('a',attrs={'class':'sipk-lb-detailBlock sipk-lb-team'})\n",
    "    srch = re.findall('gujarat-fortunegiants|puneri-paltan|up-yoddha|tamil-thalaivas|haryana-steelers|u-mumba|telugu-titans|jaipur-pink-panthers|bengaluru-bulls|dabang-delhi-kc|patna-pirates|bengal-warriors', itm3.attrs['href'])\n",
    "    player_team.append(srch[0])\n",
    "    \n",
    "    #Fetching the Player Profile\n",
    "    if item.find('div',attrs={'class':'sipk-lb-playerprofile'}):\n",
    "        itm4 = item.find('div',attrs={'class':'sipk-lb-playerprofile'}).span.text\n",
    "        player_profile.append(itm4)\n",
    "    else:\n",
    "        player_profile.append('')\n",
    "\n",
    "#print(player_names)\n",
    "#print(avg_raid_points)"
   ]
  },
  {
   "cell_type": "code",
   "execution_count": 246,
   "metadata": {},
   "outputs": [],
   "source": [
    "pyr_avg_raid_points_seas1 = pd.DataFrame({'name':player_names, 'profile':player_profile, 'team':player_team, 'avg_raid_points':avg_raid_points})\n",
    "\n",
    "#pyr_avg_raid_points_seas1.head()"
   ]
  },
  {
   "cell_type": "markdown",
   "metadata": {},
   "source": [
    "Get Average Tackle Points"
   ]
  },
  {
   "cell_type": "code",
   "execution_count": 247,
   "metadata": {},
   "outputs": [],
   "source": [
    "driver.get('https://www.prokabaddi.com/stats/49-139-avg-tackle-points-statistics')"
   ]
  },
  {
   "cell_type": "markdown",
   "metadata": {},
   "source": [
    "Wait for above cell to execute"
   ]
  },
  {
   "cell_type": "code",
   "execution_count": 248,
   "metadata": {},
   "outputs": [],
   "source": [
    "time.sleep(7)\n",
    "\n",
    "myelement = driver.find_element_by_xpath('//*[@id=\"load_more\"]')\n",
    "\n",
    "while myelement.is_displayed():\n",
    "    if myelement.is_displayed():\n",
    "        myelement.click()\n",
    "\n",
    "time.sleep(3)"
   ]
  },
  {
   "cell_type": "code",
   "execution_count": 249,
   "metadata": {},
   "outputs": [],
   "source": [
    "soup = BeautifulSoup(driver.page_source)\n",
    "player = soup.findAll('div',attrs={'class':'lb-detailItem-wrap'})\n",
    "\n",
    "player_names = []\n",
    "avg_tackle_points = []\n",
    "player_team = []\n",
    "player_profile = []\n",
    "\n",
    "for item in player:\n",
    "    \n",
    "    #Fetching the Player Name\n",
    "    itm1 = item.find('div',attrs={'class':'sipk-lb-playerName'}).span.text.replace('\\n', ' ').strip()\n",
    "    player_names.append(itm1)\n",
    "    \n",
    "    #Fetching the Raid Points scored by a Player\n",
    "    itm2 = item.find('div',attrs={'class':'sipk-lb-detailBlock sipk-lb-raidPoints'}).span.text\n",
    "    avg_tackle_points.append(itm2)\n",
    "    \n",
    "    #Fetching the Player Team\n",
    "    itm3 = item.find('a',attrs={'class':'sipk-lb-detailBlock sipk-lb-team'})\n",
    "    srch = re.findall('gujarat-fortunegiants|puneri-paltan|up-yoddha|tamil-thalaivas|haryana-steelers|u-mumba|telugu-titans|jaipur-pink-panthers|bengaluru-bulls|dabang-delhi-kc|patna-pirates|bengal-warriors', itm3.attrs['href'])\n",
    "    player_team.append(srch[0])\n",
    "    \n",
    "    #Fetching the Player Profile\n",
    "    if item.find('div',attrs={'class':'sipk-lb-playerprofile'}):\n",
    "        itm4 = item.find('div',attrs={'class':'sipk-lb-playerprofile'}).span.text\n",
    "        player_profile.append(itm4)\n",
    "    else:\n",
    "        player_profile.append('')\n",
    "\n",
    "#print(player_names)\n",
    "#print(avg_tackle_points)"
   ]
  },
  {
   "cell_type": "code",
   "execution_count": 250,
   "metadata": {},
   "outputs": [],
   "source": [
    "pyr_avg_tackle_points_seas1 = pd.DataFrame({'name':player_names, 'profile':player_profile, 'team':player_team, 'avg_tackle_points':avg_tackle_points})\n",
    "\n",
    "#pyr_avg_tackle_points_seas1.head()"
   ]
  },
  {
   "cell_type": "markdown",
   "metadata": {},
   "source": [
    "Get Do Or Die Raid Points"
   ]
  },
  {
   "cell_type": "code",
   "execution_count": 251,
   "metadata": {},
   "outputs": [],
   "source": [
    "driver.get('https://www.prokabaddi.com/stats/49-132-do-or-die-raid-points-statistics')"
   ]
  },
  {
   "cell_type": "markdown",
   "metadata": {},
   "source": [
    "Wait for above cell to execute"
   ]
  },
  {
   "cell_type": "code",
   "execution_count": 252,
   "metadata": {},
   "outputs": [],
   "source": [
    "time.sleep(7)\n",
    "\n",
    "myelement = driver.find_element_by_xpath('//*[@id=\"load_more\"]')\n",
    "\n",
    "while myelement.is_displayed():\n",
    "    if myelement.is_displayed():\n",
    "        myelement.click()\n",
    "\n",
    "time.sleep(3)"
   ]
  },
  {
   "cell_type": "code",
   "execution_count": 253,
   "metadata": {},
   "outputs": [],
   "source": [
    "soup = BeautifulSoup(driver.page_source)\n",
    "player = soup.findAll('div',attrs={'class':'lb-detailItem-wrap'})\n",
    "\n",
    "player_names = []\n",
    "dod_raid_points = []\n",
    "player_team = []\n",
    "player_profile = []\n",
    "\n",
    "for item in player:\n",
    "    \n",
    "    #Fetching the Player Name\n",
    "    itm1 = item.find('div',attrs={'class':'sipk-lb-playerName'}).span.text.replace('\\n', ' ').strip()\n",
    "    player_names.append(itm1)\n",
    "    \n",
    "    #Fetching the Raid Points scored by a Player\n",
    "    itm2 = item.find('div',attrs={'class':'sipk-lb-detailBlock sipk-lb-raidPoints'}).span.text\n",
    "    dod_raid_points.append(itm2)\n",
    "    \n",
    "    #Fetching the Player Team\n",
    "    itm3 = item.find('a',attrs={'class':'sipk-lb-detailBlock sipk-lb-team'})\n",
    "    srch = re.findall('gujarat-fortunegiants|puneri-paltan|up-yoddha|tamil-thalaivas|haryana-steelers|u-mumba|telugu-titans|jaipur-pink-panthers|bengaluru-bulls|dabang-delhi-kc|patna-pirates|bengal-warriors', itm3.attrs['href'])\n",
    "    player_team.append(srch[0])\n",
    "    \n",
    "    #Fetching the Player Profile\n",
    "    if item.find('div',attrs={'class':'sipk-lb-playerprofile'}):\n",
    "        itm4 = item.find('div',attrs={'class':'sipk-lb-playerprofile'}).span.text\n",
    "        player_profile.append(itm4)\n",
    "    else:\n",
    "        player_profile.append('')\n",
    "\n",
    "#print(player_names)\n",
    "#print(dod_raid_points)"
   ]
  },
  {
   "cell_type": "code",
   "execution_count": 254,
   "metadata": {},
   "outputs": [],
   "source": [
    "pyr_dod_raid_points_seas1 = pd.DataFrame({'name':player_names, 'profile':player_profile, 'team':player_team, 'dod_raid_points':dod_raid_points})\n",
    "\n",
    "#pyr_dod_raid_points_seas1.head()"
   ]
  },
  {
   "cell_type": "markdown",
   "metadata": {},
   "source": [
    "Get Super Raids"
   ]
  },
  {
   "cell_type": "code",
   "execution_count": 255,
   "metadata": {},
   "outputs": [],
   "source": [
    "driver.get('https://www.prokabaddi.com/stats/49-104-super-raids-statistics')"
   ]
  },
  {
   "cell_type": "markdown",
   "metadata": {},
   "source": [
    "Wait for above cell to execute"
   ]
  },
  {
   "cell_type": "code",
   "execution_count": 256,
   "metadata": {},
   "outputs": [],
   "source": [
    "time.sleep(7)\n",
    "\n",
    "myelement = driver.find_element_by_xpath('//*[@id=\"load_more\"]')\n",
    "\n",
    "while myelement.is_displayed():\n",
    "    if myelement.is_displayed():\n",
    "        myelement.click()\n",
    "\n",
    "time.sleep(3)"
   ]
  },
  {
   "cell_type": "code",
   "execution_count": 257,
   "metadata": {},
   "outputs": [],
   "source": [
    "soup = BeautifulSoup(driver.page_source)\n",
    "player = soup.findAll('div',attrs={'class':'lb-detailItem-wrap'})\n",
    "\n",
    "player_names = []\n",
    "super_raids = []\n",
    "player_team = []\n",
    "player_profile = []\n",
    "\n",
    "for item in player:\n",
    "    \n",
    "    #Fetching the Player Name\n",
    "    itm1 = item.find('div',attrs={'class':'sipk-lb-playerName'}).span.text.replace('\\n', ' ').strip()\n",
    "    player_names.append(itm1)\n",
    "    \n",
    "    #Fetching the Raid Points scored by a Player\n",
    "    itm2 = item.find('div',attrs={'class':'sipk-lb-detailBlock sipk-lb-raidPoints'}).span.text\n",
    "    super_raids.append(itm2)\n",
    "    \n",
    "    #Fetching the Player Team\n",
    "    itm3 = item.find('a',attrs={'class':'sipk-lb-detailBlock sipk-lb-team'})\n",
    "    srch = re.findall('gujarat-fortunegiants|puneri-paltan|up-yoddha|tamil-thalaivas|haryana-steelers|u-mumba|telugu-titans|jaipur-pink-panthers|bengaluru-bulls|dabang-delhi-kc|patna-pirates|bengal-warriors', itm3.attrs['href'])\n",
    "    player_team.append(srch[0])\n",
    "    \n",
    "    #Fetching the Player Profile\n",
    "    if item.find('div',attrs={'class':'sipk-lb-playerprofile'}):\n",
    "        itm4 = item.find('div',attrs={'class':'sipk-lb-playerprofile'}).span.text\n",
    "        player_profile.append(itm4)\n",
    "    else:\n",
    "        player_profile.append('')\n",
    "\n",
    "#print(player_names)\n",
    "#print(super_raids)"
   ]
  },
  {
   "cell_type": "code",
   "execution_count": 258,
   "metadata": {},
   "outputs": [],
   "source": [
    "pyr_super_raids_seas1 = pd.DataFrame({'name':player_names, 'profile':player_profile, 'team':player_team, 'super_raids':super_raids})\n",
    "\n",
    "#pyr_super_raids_seas1.head()"
   ]
  },
  {
   "cell_type": "markdown",
   "metadata": {},
   "source": [
    "Get Super Tackles"
   ]
  },
  {
   "cell_type": "code",
   "execution_count": 259,
   "metadata": {},
   "outputs": [],
   "source": [
    "driver.get('https://www.prokabaddi.com/stats/49-28-super-tackles-statistics')"
   ]
  },
  {
   "cell_type": "markdown",
   "metadata": {},
   "source": [
    "Wait for above cell to execute"
   ]
  },
  {
   "cell_type": "code",
   "execution_count": 260,
   "metadata": {},
   "outputs": [],
   "source": [
    "time.sleep(7)\n",
    "\n",
    "myelement = driver.find_element_by_xpath('//*[@id=\"load_more\"]')\n",
    "\n",
    "while myelement.is_displayed():\n",
    "    if myelement.is_displayed():\n",
    "        myelement.click()\n",
    "\n",
    "time.sleep(3)"
   ]
  },
  {
   "cell_type": "code",
   "execution_count": 261,
   "metadata": {},
   "outputs": [],
   "source": [
    "soup = BeautifulSoup(driver.page_source)\n",
    "player = soup.findAll('div',attrs={'class':'lb-detailItem-wrap'})\n",
    "\n",
    "player_names = []\n",
    "super_tackles = []\n",
    "player_team = []\n",
    "player_profile = []\n",
    "\n",
    "for item in player:\n",
    "    \n",
    "    #Fetching the Player Name\n",
    "    itm1 = item.find('div',attrs={'class':'sipk-lb-playerName'}).span.text.replace('\\n', ' ').strip()\n",
    "    player_names.append(itm1)\n",
    "    \n",
    "    #Fetching the Raid Points scored by a Player\n",
    "    itm2 = item.find('div',attrs={'class':'sipk-lb-detailBlock sipk-lb-raidPoints'}).span.text\n",
    "    super_tackles.append(itm2)\n",
    "    \n",
    "    #Fetching the Player Team\n",
    "    itm3 = item.find('a',attrs={'class':'sipk-lb-detailBlock sipk-lb-team'})\n",
    "    srch = re.findall('gujarat-fortunegiants|puneri-paltan|up-yoddha|tamil-thalaivas|haryana-steelers|u-mumba|telugu-titans|jaipur-pink-panthers|bengaluru-bulls|dabang-delhi-kc|patna-pirates|bengal-warriors', itm3.attrs['href'])\n",
    "    player_team.append(srch[0])\n",
    "    \n",
    "    #Fetching the Player Profile\n",
    "    if item.find('div',attrs={'class':'sipk-lb-playerprofile'}):\n",
    "        itm4 = item.find('div',attrs={'class':'sipk-lb-playerprofile'}).span.text\n",
    "        player_profile.append(itm4)\n",
    "    else:\n",
    "        player_profile.append('')\n",
    "\n",
    "#print(player_names)\n",
    "#print(super_tackles)"
   ]
  },
  {
   "cell_type": "code",
   "execution_count": 262,
   "metadata": {
    "scrolled": true
   },
   "outputs": [],
   "source": [
    "pyr_super_tackles_seas1 = pd.DataFrame({'name':player_names, 'profile':player_profile, 'team':player_team, 'super_tackles':super_tackles})\n",
    "\n",
    "#pyr_super_tackles_seas1.head()"
   ]
  },
  {
   "cell_type": "markdown",
   "metadata": {},
   "source": [
    "Get Super 10s"
   ]
  },
  {
   "cell_type": "code",
   "execution_count": 263,
   "metadata": {},
   "outputs": [],
   "source": [
    "driver.get('https://www.prokabaddi.com/stats/49-100-super-10s-statistics')"
   ]
  },
  {
   "cell_type": "markdown",
   "metadata": {},
   "source": [
    "Wait for above cell to execute"
   ]
  },
  {
   "cell_type": "code",
   "execution_count": 264,
   "metadata": {},
   "outputs": [],
   "source": [
    "time.sleep(7)\n",
    "\n",
    "myelement = driver.find_element_by_xpath('//*[@id=\"load_more\"]')\n",
    "\n",
    "while myelement.is_displayed():\n",
    "    if myelement.is_displayed():\n",
    "        myelement.click()\n",
    "\n",
    "time.sleep(3)"
   ]
  },
  {
   "cell_type": "code",
   "execution_count": 265,
   "metadata": {},
   "outputs": [],
   "source": [
    "soup = BeautifulSoup(driver.page_source)\n",
    "player = soup.findAll('div',attrs={'class':'lb-detailItem-wrap'})\n",
    "\n",
    "player_names = []\n",
    "super_10s = []\n",
    "player_team = []\n",
    "player_profile = []\n",
    "\n",
    "for item in player:\n",
    "    \n",
    "    #Fetching the Player Name\n",
    "    itm1 = item.find('div',attrs={'class':'sipk-lb-playerName'}).span.text.replace('\\n', ' ').strip()\n",
    "    player_names.append(itm1)\n",
    "    \n",
    "    #Fetching the Raid Points scored by a Player\n",
    "    itm2 = item.find('div',attrs={'class':'sipk-lb-detailBlock sipk-lb-raidPoints'}).span.text\n",
    "    super_10s.append(itm2)\n",
    "    \n",
    "    #Fetching the Player Team\n",
    "    itm3 = item.find('a',attrs={'class':'sipk-lb-detailBlock sipk-lb-team'})\n",
    "    srch = re.findall('gujarat-fortunegiants|puneri-paltan|up-yoddha|tamil-thalaivas|haryana-steelers|u-mumba|telugu-titans|jaipur-pink-panthers|bengaluru-bulls|dabang-delhi-kc|patna-pirates|bengal-warriors', itm3.attrs['href'])\n",
    "    player_team.append(srch[0])\n",
    "    \n",
    "    #Fetching the Player Profile\n",
    "    if item.find('div',attrs={'class':'sipk-lb-playerprofile'}):\n",
    "        itm4 = item.find('div',attrs={'class':'sipk-lb-playerprofile'}).span.text\n",
    "        player_profile.append(itm4)\n",
    "    else:\n",
    "        player_profile.append('')\n",
    "\n",
    "#print(player_names)\n",
    "#print(super_10s)"
   ]
  },
  {
   "cell_type": "code",
   "execution_count": 266,
   "metadata": {
    "scrolled": false
   },
   "outputs": [],
   "source": [
    "pyr_super_10s_seas1 = pd.DataFrame({'name':player_names, 'profile':player_profile, 'team':player_team, 'super_10s':super_10s})\n",
    "\n",
    "#pyr_super_10s_seas1.head()"
   ]
  },
  {
   "cell_type": "markdown",
   "metadata": {},
   "source": [
    "Get High 5s"
   ]
  },
  {
   "cell_type": "code",
   "execution_count": 267,
   "metadata": {},
   "outputs": [],
   "source": [
    "driver.get('https://www.prokabaddi.com/stats/49-101-high-5s-statistics')"
   ]
  },
  {
   "cell_type": "markdown",
   "metadata": {},
   "source": [
    "Wait for above cell to execute"
   ]
  },
  {
   "cell_type": "code",
   "execution_count": 268,
   "metadata": {},
   "outputs": [],
   "source": [
    "time.sleep(7)\n",
    "\n",
    "myelement = driver.find_element_by_xpath('//*[@id=\"load_more\"]')\n",
    "\n",
    "while myelement.is_displayed():\n",
    "    if myelement.is_displayed():\n",
    "        myelement.click()\n",
    "\n",
    "time.sleep(3)"
   ]
  },
  {
   "cell_type": "code",
   "execution_count": 269,
   "metadata": {},
   "outputs": [],
   "source": [
    "soup = BeautifulSoup(driver.page_source)\n",
    "player = soup.findAll('div',attrs={'class':'lb-detailItem-wrap'})\n",
    "\n",
    "player_names = []\n",
    "high_5s = []\n",
    "player_team = []\n",
    "player_profile = []\n",
    "\n",
    "for item in player:\n",
    "    \n",
    "    #Fetching the Player Name\n",
    "    itm1 = item.find('div',attrs={'class':'sipk-lb-playerName'}).span.text.replace('\\n', ' ').strip()\n",
    "    player_names.append(itm1)\n",
    "    \n",
    "    #Fetching the Raid Points scored by a Player\n",
    "    itm2 = item.find('div',attrs={'class':'sipk-lb-detailBlock sipk-lb-raidPoints'}).span.text\n",
    "    high_5s.append(itm2)\n",
    "    \n",
    "    #Fetching the Player Team\n",
    "    itm3 = item.find('a',attrs={'class':'sipk-lb-detailBlock sipk-lb-team'})\n",
    "    srch = re.findall('gujarat-fortunegiants|puneri-paltan|up-yoddha|tamil-thalaivas|haryana-steelers|u-mumba|telugu-titans|jaipur-pink-panthers|bengaluru-bulls|dabang-delhi-kc|patna-pirates|bengal-warriors', itm3.attrs['href'])\n",
    "    player_team.append(srch[0])\n",
    "    \n",
    "    #Fetching the Player Profile\n",
    "    if item.find('div',attrs={'class':'sipk-lb-playerprofile'}):\n",
    "        itm4 = item.find('div',attrs={'class':'sipk-lb-playerprofile'}).span.text\n",
    "        player_profile.append(itm4)\n",
    "    else:\n",
    "        player_profile.append('')\n",
    "\n",
    "#print(player_names)\n",
    "#print(high_5s)"
   ]
  },
  {
   "cell_type": "code",
   "execution_count": 270,
   "metadata": {
    "scrolled": false
   },
   "outputs": [],
   "source": [
    "pyr_high_5s_seas1 = pd.DataFrame({'name':player_names, 'profile':player_profile, 'team':player_team, 'high_5s':high_5s})\n",
    "\n",
    "#pyr_high_5s_seas1.head()"
   ]
  },
  {
   "cell_type": "markdown",
   "metadata": {},
   "source": [
    "Merge Player Stats into a master frame"
   ]
  },
  {
   "cell_type": "code",
   "execution_count": 271,
   "metadata": {},
   "outputs": [
    {
     "data": {
      "text/html": [
       "<div>\n",
       "<style scoped>\n",
       "    .dataframe tbody tr th:only-of-type {\n",
       "        vertical-align: middle;\n",
       "    }\n",
       "\n",
       "    .dataframe tbody tr th {\n",
       "        vertical-align: top;\n",
       "    }\n",
       "\n",
       "    .dataframe thead th {\n",
       "        text-align: right;\n",
       "    }\n",
       "</style>\n",
       "<table border=\"1\" class=\"dataframe\">\n",
       "  <thead>\n",
       "    <tr style=\"text-align: right;\">\n",
       "      <th></th>\n",
       "      <th>name</th>\n",
       "      <th>profile</th>\n",
       "      <th>team</th>\n",
       "      <th>matches_played</th>\n",
       "      <th>total_points</th>\n",
       "      <th>success_raids</th>\n",
       "      <th>raid_points</th>\n",
       "      <th>success_tackles</th>\n",
       "      <th>tackle_points</th>\n",
       "      <th>avg_raid_points</th>\n",
       "      <th>avg_tackle_points</th>\n",
       "      <th>dod_raid_points</th>\n",
       "      <th>super_raids</th>\n",
       "      <th>super_tackles</th>\n",
       "      <th>super_10s</th>\n",
       "      <th>high_5s</th>\n",
       "    </tr>\n",
       "  </thead>\n",
       "  <tbody>\n",
       "    <tr>\n",
       "      <th>0</th>\n",
       "      <td>Pawan Kumar Sehrawat</td>\n",
       "      <td>Raider</td>\n",
       "      <td>bengaluru-bulls</td>\n",
       "      <td>19</td>\n",
       "      <td>256</td>\n",
       "      <td>187</td>\n",
       "      <td>242</td>\n",
       "      <td>13</td>\n",
       "      <td>14</td>\n",
       "      <td>12.74</td>\n",
       "      <td>0.74</td>\n",
       "      <td>14</td>\n",
       "      <td>6</td>\n",
       "      <td>1</td>\n",
       "      <td>13</td>\n",
       "      <td>0</td>\n",
       "    </tr>\n",
       "    <tr>\n",
       "      <th>1</th>\n",
       "      <td>Pardeep Narwal</td>\n",
       "      <td>Raider</td>\n",
       "      <td>patna-pirates</td>\n",
       "      <td>19</td>\n",
       "      <td>243</td>\n",
       "      <td>190</td>\n",
       "      <td>243</td>\n",
       "      <td>0</td>\n",
       "      <td>0</td>\n",
       "      <td>12.79</td>\n",
       "      <td>0</td>\n",
       "      <td>38</td>\n",
       "      <td>12</td>\n",
       "      <td>0</td>\n",
       "      <td>13</td>\n",
       "      <td>0</td>\n",
       "    </tr>\n",
       "    <tr>\n",
       "      <th>2</th>\n",
       "      <td>Naveen Kumar</td>\n",
       "      <td>Raider</td>\n",
       "      <td>dabang-delhi-kc</td>\n",
       "      <td>19</td>\n",
       "      <td>243</td>\n",
       "      <td>201</td>\n",
       "      <td>241</td>\n",
       "      <td>2</td>\n",
       "      <td>2</td>\n",
       "      <td>12.68</td>\n",
       "      <td>0.11</td>\n",
       "      <td>30</td>\n",
       "      <td>2</td>\n",
       "      <td>0</td>\n",
       "      <td>18</td>\n",
       "      <td>0</td>\n",
       "    </tr>\n",
       "    <tr>\n",
       "      <th>3</th>\n",
       "      <td>Maninder Singh</td>\n",
       "      <td>Raider</td>\n",
       "      <td>bengal-warriors</td>\n",
       "      <td>19</td>\n",
       "      <td>192</td>\n",
       "      <td>161</td>\n",
       "      <td>192</td>\n",
       "      <td>0</td>\n",
       "      <td>0</td>\n",
       "      <td>10.11</td>\n",
       "      <td>0</td>\n",
       "      <td>24</td>\n",
       "      <td>6</td>\n",
       "      <td>0</td>\n",
       "      <td>9</td>\n",
       "      <td>0</td>\n",
       "    </tr>\n",
       "    <tr>\n",
       "      <th>4</th>\n",
       "      <td>Siddharth Sirish Desai</td>\n",
       "      <td>Raider</td>\n",
       "      <td>telugu-titans</td>\n",
       "      <td>18</td>\n",
       "      <td>177</td>\n",
       "      <td>143</td>\n",
       "      <td>174</td>\n",
       "      <td>3</td>\n",
       "      <td>3</td>\n",
       "      <td>9.67</td>\n",
       "      <td>0.17</td>\n",
       "      <td>22</td>\n",
       "      <td>6</td>\n",
       "      <td>0</td>\n",
       "      <td>7</td>\n",
       "      <td>0</td>\n",
       "    </tr>\n",
       "  </tbody>\n",
       "</table>\n",
       "</div>"
      ],
      "text/plain": [
       "                     name profile             team matches_played  \\\n",
       "0    Pawan Kumar Sehrawat  Raider  bengaluru-bulls             19   \n",
       "1          Pardeep Narwal  Raider    patna-pirates             19   \n",
       "2            Naveen Kumar  Raider  dabang-delhi-kc             19   \n",
       "3          Maninder Singh  Raider  bengal-warriors             19   \n",
       "4  Siddharth Sirish Desai  Raider    telugu-titans             18   \n",
       "\n",
       "  total_points success_raids raid_points success_tackles tackle_points  \\\n",
       "0          256           187         242              13            14   \n",
       "1          243           190         243               0             0   \n",
       "2          243           201         241               2             2   \n",
       "3          192           161         192               0             0   \n",
       "4          177           143         174               3             3   \n",
       "\n",
       "  avg_raid_points avg_tackle_points dod_raid_points super_raids super_tackles  \\\n",
       "0           12.74              0.74              14           6             1   \n",
       "1           12.79                 0              38          12             0   \n",
       "2           12.68              0.11              30           2             0   \n",
       "3           10.11                 0              24           6             0   \n",
       "4            9.67              0.17              22           6             0   \n",
       "\n",
       "  super_10s high_5s  \n",
       "0        13       0  \n",
       "1        13       0  \n",
       "2        18       0  \n",
       "3         9       0  \n",
       "4         7       0  "
      ]
     },
     "execution_count": 271,
     "metadata": {},
     "output_type": "execute_result"
    }
   ],
   "source": [
    "temp1 = pd.merge(pyr_tot_points_seas1, pyr_success_raids_seas1, on=['name', 'profile', 'team'], how='left')\n",
    "temp2 = pd.merge(temp1, pyr_raid_points_seas1, on=['name', 'profile', 'team'], how='left')\n",
    "temp3 = pd.merge(temp2, pyr_success_tackles_seas1, on=['name', 'profile', 'team'], how='left')\n",
    "temp4 = pd.merge(temp3, pyr_tackle_points_seas1, on=['name', 'profile', 'team'], how='left')\n",
    "temp5 = pd.merge(temp4, pyr_avg_raid_points_seas1, on=['name', 'profile', 'team'], how='left')\n",
    "temp6 = pd.merge(temp5, pyr_avg_tackle_points_seas1, on=['name', 'profile', 'team'], how='left')\n",
    "temp7 = pd.merge(temp6, pyr_dod_raid_points_seas1, on=['name', 'profile', 'team'], how='left')\n",
    "temp8 = pd.merge(temp7, pyr_super_raids_seas1, on=['name', 'profile', 'team'], how='left')\n",
    "temp9 = pd.merge(temp8, pyr_super_tackles_seas1, on=['name', 'profile', 'team'], how='left')\n",
    "temp10 = pd.merge(temp9, pyr_super_10s_seas1, on=['name', 'profile', 'profile', 'team'], how='left')\n",
    "season1_plyr_stats = pd.merge(temp10, pyr_high_5s_seas1, on=['name', 'profile', 'team'], how='left')\n",
    "\n",
    "season1_plyr_stats = season1_plyr_stats.fillna(0)\n",
    "\n",
    "season1_plyr_stats.head()"
   ]
  },
  {
   "cell_type": "code",
   "execution_count": 272,
   "metadata": {},
   "outputs": [],
   "source": [
    "outfile = open('data/season7_player_stats.csv', mode='w')\n",
    "season1_plyr_stats.to_csv('data/season7_player_stats.csv', mode='w', index = False, header=True)\n",
    "outfile.close()"
   ]
  },
  {
   "cell_type": "markdown",
   "metadata": {},
   "source": [
    "### Team Stats"
   ]
  },
  {
   "cell_type": "markdown",
   "metadata": {},
   "source": [
    "Getting the Team Stats<br>\n",
    "First we will get the Total Points secured by Each Team"
   ]
  },
  {
   "cell_type": "code",
   "execution_count": 273,
   "metadata": {},
   "outputs": [],
   "source": [
    "driver.get('https://www.prokabaddi.com/stats/49-96-total-points-scored-statistics')"
   ]
  },
  {
   "cell_type": "code",
   "execution_count": 274,
   "metadata": {},
   "outputs": [],
   "source": [
    "time.sleep(7)\n",
    "\n",
    "myelement = driver.find_element_by_xpath('//*[@id=\"load_more\"]')\n",
    "\n",
    "while myelement.is_displayed():\n",
    "    if myelement.is_displayed():\n",
    "        myelement.click()\n",
    "\n",
    "time.sleep(3)"
   ]
  },
  {
   "cell_type": "code",
   "execution_count": 275,
   "metadata": {},
   "outputs": [],
   "source": [
    "soup = BeautifulSoup(driver.page_source)\n",
    "team = soup.findAll('div',attrs={'class':'lb-detailItem-wrap'})\n",
    "\n",
    "team_names = []\n",
    "matches_played = []\n",
    "total_points = []\n",
    "\n",
    "for item in team:\n",
    "    \n",
    "    #Fetching the Team\n",
    "    itm1 = item.find('a',attrs={'class':'sipk-lb-detailBlock sipk-playerDesc'})\n",
    "    srch = re.findall('gujarat-fortunegiants|puneri-paltan|up-yoddha|tamil-thalaivas|haryana-steelers|u-mumba|telugu-titans|jaipur-pink-panthers|bengaluru-bulls|dabang-delhi-kc|patna-pirates|bengal-warriors', itm1.attrs['href'])\n",
    "    team_names.append(srch[0])\n",
    "    \n",
    "    #Fetching the Matches Played by Team\n",
    "    itm2 = item.find('div',attrs={'class':'sipk-lb-detailBlock sipk-lb-matchedPlayed'}).span.text\n",
    "    matches_played.append(itm2)\n",
    "    \n",
    "    #Fetching the Total Points scored by a Team\n",
    "    itm3 = item.find('div',attrs={'class':'sipk-lb-detailBlock sipk-lb-raidPoints'}).span.text\n",
    "    total_points.append(itm3)\n",
    "\n",
    "#print(team_names)\n",
    "#print(matches_played)\n",
    "#print(total_points)"
   ]
  },
  {
   "cell_type": "code",
   "execution_count": 276,
   "metadata": {},
   "outputs": [
    {
     "data": {
      "text/html": [
       "<div>\n",
       "<style scoped>\n",
       "    .dataframe tbody tr th:only-of-type {\n",
       "        vertical-align: middle;\n",
       "    }\n",
       "\n",
       "    .dataframe tbody tr th {\n",
       "        vertical-align: top;\n",
       "    }\n",
       "\n",
       "    .dataframe thead th {\n",
       "        text-align: right;\n",
       "    }\n",
       "</style>\n",
       "<table border=\"1\" class=\"dataframe\">\n",
       "  <thead>\n",
       "    <tr style=\"text-align: right;\">\n",
       "      <th></th>\n",
       "      <th>team_name</th>\n",
       "      <th>matches_played</th>\n",
       "      <th>total_points_scored</th>\n",
       "    </tr>\n",
       "  </thead>\n",
       "  <tbody>\n",
       "    <tr>\n",
       "      <th>0</th>\n",
       "      <td>dabang-delhi-kc</td>\n",
       "      <td>19</td>\n",
       "      <td>709</td>\n",
       "    </tr>\n",
       "    <tr>\n",
       "      <th>1</th>\n",
       "      <td>bengal-warriors</td>\n",
       "      <td>19</td>\n",
       "      <td>676</td>\n",
       "    </tr>\n",
       "    <tr>\n",
       "      <th>2</th>\n",
       "      <td>bengaluru-bulls</td>\n",
       "      <td>19</td>\n",
       "      <td>656</td>\n",
       "    </tr>\n",
       "    <tr>\n",
       "      <th>3</th>\n",
       "      <td>puneri-paltan</td>\n",
       "      <td>20</td>\n",
       "      <td>652</td>\n",
       "    </tr>\n",
       "    <tr>\n",
       "      <th>4</th>\n",
       "      <td>haryana-steelers</td>\n",
       "      <td>19</td>\n",
       "      <td>650</td>\n",
       "    </tr>\n",
       "  </tbody>\n",
       "</table>\n",
       "</div>"
      ],
      "text/plain": [
       "          team_name matches_played total_points_scored\n",
       "0   dabang-delhi-kc             19                 709\n",
       "1   bengal-warriors             19                 676\n",
       "2   bengaluru-bulls             19                 656\n",
       "3     puneri-paltan             20                 652\n",
       "4  haryana-steelers             19                 650"
      ]
     },
     "execution_count": 276,
     "metadata": {},
     "output_type": "execute_result"
    }
   ],
   "source": [
    "team_tot_points_seas1 = pd.DataFrame({'team_name':team_names, 'matches_played':matches_played\n",
    "                                      , 'total_points_scored':total_points})\n",
    "\n",
    "team_tot_points_seas1.head()"
   ]
  },
  {
   "cell_type": "markdown",
   "metadata": {},
   "source": [
    "Total Points Conceded"
   ]
  },
  {
   "cell_type": "code",
   "execution_count": 277,
   "metadata": {},
   "outputs": [],
   "source": [
    "driver.get('https://www.prokabaddi.com/stats/49-133-total-points-conceded-statistics')"
   ]
  },
  {
   "cell_type": "code",
   "execution_count": 278,
   "metadata": {},
   "outputs": [],
   "source": [
    "time.sleep(7)\n",
    "\n",
    "myelement = driver.find_element_by_xpath('//*[@id=\"load_more\"]')\n",
    "\n",
    "while myelement.is_displayed():\n",
    "    if myelement.is_displayed():\n",
    "        myelement.click()\n",
    "\n",
    "time.sleep(3)"
   ]
  },
  {
   "cell_type": "code",
   "execution_count": 279,
   "metadata": {},
   "outputs": [],
   "source": [
    "soup = BeautifulSoup(driver.page_source)\n",
    "team = soup.findAll('div',attrs={'class':'lb-detailItem-wrap'})\n",
    "\n",
    "team_names = []\n",
    "total_points_conceded = []\n",
    "\n",
    "for item in team:\n",
    "    \n",
    "    itm1 = item.find('a',attrs={'class':'sipk-lb-detailBlock sipk-playerDesc'})\n",
    "    srch = re.findall('gujarat-fortunegiants|puneri-paltan|up-yoddha|tamil-thalaivas|haryana-steelers|u-mumba|telugu-titans|jaipur-pink-panthers|bengaluru-bulls|dabang-delhi-kc|patna-pirates|bengal-warriors', itm1.attrs['href'])\n",
    "    team_names.append(srch[0])\n",
    "    \n",
    "    itm3 = item.find('div',attrs={'class':'sipk-lb-detailBlock sipk-lb-raidPoints'}).span.text\n",
    "    total_points_conceded.append(itm3)\n",
    "\n",
    "#print(team_names)\n",
    "#print(total_points_conceded)"
   ]
  },
  {
   "cell_type": "code",
   "execution_count": 280,
   "metadata": {},
   "outputs": [],
   "source": [
    "team_tot_points_conceded_seas1 = pd.DataFrame({'team_name':team_names, 'total_points_conceded':total_points_conceded})\n",
    "\n",
    "#team_tot_points_conceded_seas1.head()"
   ]
  },
  {
   "cell_type": "markdown",
   "metadata": {},
   "source": [
    "Average Points Scored"
   ]
  },
  {
   "cell_type": "code",
   "execution_count": 281,
   "metadata": {},
   "outputs": [],
   "source": [
    "driver.get('https://www.prokabaddi.com/stats/49-140-avg-points-scored-statistics')"
   ]
  },
  {
   "cell_type": "code",
   "execution_count": 282,
   "metadata": {},
   "outputs": [],
   "source": [
    "time.sleep(7)\n",
    "\n",
    "myelement = driver.find_element_by_xpath('//*[@id=\"load_more\"]')\n",
    "\n",
    "while myelement.is_displayed():\n",
    "    if myelement.is_displayed():\n",
    "        myelement.click()\n",
    "\n",
    "time.sleep(3)"
   ]
  },
  {
   "cell_type": "code",
   "execution_count": 283,
   "metadata": {},
   "outputs": [
    {
     "name": "stdout",
     "output_type": "stream",
     "text": [
      "['dabang-delhi-kc', 'bengaluru-bulls', 'bengal-warriors', 'haryana-steelers', 'puneri-paltan', 'patna-pirates', 'telugu-titans', 'jaipur-pink-panthers', 'up-yoddha', 'u-mumba', 'gujarat-fortunegiants', 'tamil-thalaivas']\n",
      "['31.31', '30.73', '30.63', '30.1', '29.5', '29.42', '28.55', '27.8', '26.72', '26.66', '26.15', '25.68']\n"
     ]
    }
   ],
   "source": [
    "soup = BeautifulSoup(driver.page_source)\n",
    "team = soup.findAll('div',attrs={'class':'lb-detailItem-wrap'})\n",
    "\n",
    "team_names = []\n",
    "avg_points_scored = []\n",
    "\n",
    "for item in team:\n",
    "    \n",
    "    itm1 = item.find('a',attrs={'class':'sipk-lb-detailBlock sipk-playerDesc'})\n",
    "    srch = re.findall('gujarat-fortunegiants|puneri-paltan|up-yoddha|tamil-thalaivas|haryana-steelers|u-mumba|telugu-titans|jaipur-pink-panthers|bengaluru-bulls|dabang-delhi-kc|patna-pirates|bengal-warriors', itm1.attrs['href'])\n",
    "    team_names.append(srch[0])\n",
    "    \n",
    "    itm3 = item.find('div',attrs={'class':'sipk-lb-detailBlock sipk-lb-raidPoints'}).span.text\n",
    "    avg_points_scored.append(itm3)\n",
    "\n",
    "print(team_names)\n",
    "print(avg_points_scored)"
   ]
  },
  {
   "cell_type": "code",
   "execution_count": 284,
   "metadata": {},
   "outputs": [
    {
     "data": {
      "text/html": [
       "<div>\n",
       "<style scoped>\n",
       "    .dataframe tbody tr th:only-of-type {\n",
       "        vertical-align: middle;\n",
       "    }\n",
       "\n",
       "    .dataframe tbody tr th {\n",
       "        vertical-align: top;\n",
       "    }\n",
       "\n",
       "    .dataframe thead th {\n",
       "        text-align: right;\n",
       "    }\n",
       "</style>\n",
       "<table border=\"1\" class=\"dataframe\">\n",
       "  <thead>\n",
       "    <tr style=\"text-align: right;\">\n",
       "      <th></th>\n",
       "      <th>team_name</th>\n",
       "      <th>team_avg_points</th>\n",
       "    </tr>\n",
       "  </thead>\n",
       "  <tbody>\n",
       "    <tr>\n",
       "      <th>0</th>\n",
       "      <td>dabang-delhi-kc</td>\n",
       "      <td>31.31</td>\n",
       "    </tr>\n",
       "    <tr>\n",
       "      <th>1</th>\n",
       "      <td>bengaluru-bulls</td>\n",
       "      <td>30.73</td>\n",
       "    </tr>\n",
       "    <tr>\n",
       "      <th>2</th>\n",
       "      <td>bengal-warriors</td>\n",
       "      <td>30.63</td>\n",
       "    </tr>\n",
       "    <tr>\n",
       "      <th>3</th>\n",
       "      <td>haryana-steelers</td>\n",
       "      <td>30.1</td>\n",
       "    </tr>\n",
       "    <tr>\n",
       "      <th>4</th>\n",
       "      <td>puneri-paltan</td>\n",
       "      <td>29.5</td>\n",
       "    </tr>\n",
       "  </tbody>\n",
       "</table>\n",
       "</div>"
      ],
      "text/plain": [
       "          team_name team_avg_points\n",
       "0   dabang-delhi-kc           31.31\n",
       "1   bengaluru-bulls           30.73\n",
       "2   bengal-warriors           30.63\n",
       "3  haryana-steelers            30.1\n",
       "4     puneri-paltan            29.5"
      ]
     },
     "execution_count": 284,
     "metadata": {},
     "output_type": "execute_result"
    }
   ],
   "source": [
    "team_avg_points_scored_seas1 = pd.DataFrame({'team_name':team_names, 'team_avg_points':avg_points_scored})\n",
    "team_avg_points_scored_seas1.head()"
   ]
  },
  {
   "cell_type": "markdown",
   "metadata": {},
   "source": [
    "Successful Raids"
   ]
  },
  {
   "cell_type": "code",
   "execution_count": 285,
   "metadata": {},
   "outputs": [],
   "source": [
    "driver.get('https://www.prokabaddi.com/stats/49-13-successful-raids-statistics')"
   ]
  },
  {
   "cell_type": "code",
   "execution_count": 286,
   "metadata": {},
   "outputs": [],
   "source": [
    "time.sleep(7)\n",
    "\n",
    "myelement = driver.find_element_by_xpath('//*[@id=\"load_more\"]')\n",
    "\n",
    "while myelement.is_displayed():\n",
    "    if myelement.is_displayed():\n",
    "        myelement.click()\n",
    "\n",
    "time.sleep(3)"
   ]
  },
  {
   "cell_type": "code",
   "execution_count": 287,
   "metadata": {},
   "outputs": [
    {
     "name": "stdout",
     "output_type": "stream",
     "text": [
      "['dabang-delhi-kc', 'bengal-warriors', 'bengaluru-bulls', 'patna-pirates', 'puneri-paltan', 'haryana-steelers', 'telugu-titans', 'gujarat-fortunegiants', 'jaipur-pink-panthers', 'tamil-thalaivas', 'u-mumba', 'up-yoddha']\n",
      "['340', '318', '309', '291', '290', '290', '273', '265', '261', '259', '238', '223']\n"
     ]
    }
   ],
   "source": [
    "soup = BeautifulSoup(driver.page_source)\n",
    "team = soup.findAll('div',attrs={'class':'lb-detailItem-wrap'})\n",
    "\n",
    "team_names = []\n",
    "team_success_raids = []\n",
    "\n",
    "for item in team:\n",
    "    \n",
    "    itm1 = item.find('a',attrs={'class':'sipk-lb-detailBlock sipk-playerDesc'})\n",
    "    srch = re.findall('gujarat-fortunegiants|puneri-paltan|up-yoddha|tamil-thalaivas|haryana-steelers|u-mumba|telugu-titans|jaipur-pink-panthers|bengaluru-bulls|dabang-delhi-kc|patna-pirates|bengal-warriors', itm1.attrs['href'])\n",
    "    team_names.append(srch[0])\n",
    "    \n",
    "    itm3 = item.find('div',attrs={'class':'sipk-lb-detailBlock sipk-lb-raidPoints'}).span.text\n",
    "    team_success_raids.append(itm3)\n",
    "\n",
    "print(team_names)\n",
    "print(team_success_raids)"
   ]
  },
  {
   "cell_type": "code",
   "execution_count": 288,
   "metadata": {
    "scrolled": true
   },
   "outputs": [
    {
     "data": {
      "text/html": [
       "<div>\n",
       "<style scoped>\n",
       "    .dataframe tbody tr th:only-of-type {\n",
       "        vertical-align: middle;\n",
       "    }\n",
       "\n",
       "    .dataframe tbody tr th {\n",
       "        vertical-align: top;\n",
       "    }\n",
       "\n",
       "    .dataframe thead th {\n",
       "        text-align: right;\n",
       "    }\n",
       "</style>\n",
       "<table border=\"1\" class=\"dataframe\">\n",
       "  <thead>\n",
       "    <tr style=\"text-align: right;\">\n",
       "      <th></th>\n",
       "      <th>team_name</th>\n",
       "      <th>team_success_raids</th>\n",
       "    </tr>\n",
       "  </thead>\n",
       "  <tbody>\n",
       "    <tr>\n",
       "      <th>0</th>\n",
       "      <td>dabang-delhi-kc</td>\n",
       "      <td>340</td>\n",
       "    </tr>\n",
       "    <tr>\n",
       "      <th>1</th>\n",
       "      <td>bengal-warriors</td>\n",
       "      <td>318</td>\n",
       "    </tr>\n",
       "    <tr>\n",
       "      <th>2</th>\n",
       "      <td>bengaluru-bulls</td>\n",
       "      <td>309</td>\n",
       "    </tr>\n",
       "    <tr>\n",
       "      <th>3</th>\n",
       "      <td>patna-pirates</td>\n",
       "      <td>291</td>\n",
       "    </tr>\n",
       "    <tr>\n",
       "      <th>4</th>\n",
       "      <td>puneri-paltan</td>\n",
       "      <td>290</td>\n",
       "    </tr>\n",
       "  </tbody>\n",
       "</table>\n",
       "</div>"
      ],
      "text/plain": [
       "         team_name team_success_raids\n",
       "0  dabang-delhi-kc                340\n",
       "1  bengal-warriors                318\n",
       "2  bengaluru-bulls                309\n",
       "3    patna-pirates                291\n",
       "4    puneri-paltan                290"
      ]
     },
     "execution_count": 288,
     "metadata": {},
     "output_type": "execute_result"
    }
   ],
   "source": [
    "team_success_raids_seas1 = pd.DataFrame({'team_name':team_names, 'team_success_raids':team_success_raids})\n",
    "team_success_raids_seas1.head()"
   ]
  },
  {
   "cell_type": "markdown",
   "metadata": {},
   "source": [
    "Raid Points"
   ]
  },
  {
   "cell_type": "code",
   "execution_count": 289,
   "metadata": {},
   "outputs": [],
   "source": [
    "driver.get('https://www.prokabaddi.com/stats/49-97-raid-points-statistics')"
   ]
  },
  {
   "cell_type": "code",
   "execution_count": 290,
   "metadata": {},
   "outputs": [],
   "source": [
    "time.sleep(7)\n",
    "\n",
    "myelement = driver.find_element_by_xpath('//*[@id=\"load_more\"]')\n",
    "\n",
    "while myelement.is_displayed():\n",
    "    if myelement.is_displayed():\n",
    "        myelement.click()\n",
    "\n",
    "time.sleep(3)"
   ]
  },
  {
   "cell_type": "code",
   "execution_count": 291,
   "metadata": {},
   "outputs": [
    {
     "name": "stdout",
     "output_type": "stream",
     "text": [
      "['dabang-delhi-kc', 'bengal-warriors', 'bengaluru-bulls', 'haryana-steelers', 'patna-pirates', 'puneri-paltan', 'jaipur-pink-panthers', 'telugu-titans', 'tamil-thalaivas', 'gujarat-fortunegiants', 'u-mumba', 'up-yoddha']\n",
      "['414', '398', '393', '377', '368', '358', '337', '332', '326', '320', '304', '289']\n"
     ]
    }
   ],
   "source": [
    "soup = BeautifulSoup(driver.page_source)\n",
    "team = soup.findAll('div',attrs={'class':'lb-detailItem-wrap'})\n",
    "\n",
    "team_names = []\n",
    "team_raid_points = []\n",
    "\n",
    "for item in team:\n",
    "    \n",
    "    itm1 = item.find('a',attrs={'class':'sipk-lb-detailBlock sipk-playerDesc'})\n",
    "    srch = re.findall('gujarat-fortunegiants|puneri-paltan|up-yoddha|tamil-thalaivas|haryana-steelers|u-mumba|telugu-titans|jaipur-pink-panthers|bengaluru-bulls|dabang-delhi-kc|patna-pirates|bengal-warriors', itm1.attrs['href'])\n",
    "    team_names.append(srch[0])\n",
    "    \n",
    "    itm3 = item.find('div',attrs={'class':'sipk-lb-detailBlock sipk-lb-raidPoints'}).span.text\n",
    "    team_raid_points.append(itm3)\n",
    "\n",
    "print(team_names)\n",
    "print(team_raid_points)"
   ]
  },
  {
   "cell_type": "code",
   "execution_count": 292,
   "metadata": {
    "scrolled": true
   },
   "outputs": [
    {
     "data": {
      "text/html": [
       "<div>\n",
       "<style scoped>\n",
       "    .dataframe tbody tr th:only-of-type {\n",
       "        vertical-align: middle;\n",
       "    }\n",
       "\n",
       "    .dataframe tbody tr th {\n",
       "        vertical-align: top;\n",
       "    }\n",
       "\n",
       "    .dataframe thead th {\n",
       "        text-align: right;\n",
       "    }\n",
       "</style>\n",
       "<table border=\"1\" class=\"dataframe\">\n",
       "  <thead>\n",
       "    <tr style=\"text-align: right;\">\n",
       "      <th></th>\n",
       "      <th>team_name</th>\n",
       "      <th>team_raid_points</th>\n",
       "    </tr>\n",
       "  </thead>\n",
       "  <tbody>\n",
       "    <tr>\n",
       "      <th>0</th>\n",
       "      <td>dabang-delhi-kc</td>\n",
       "      <td>414</td>\n",
       "    </tr>\n",
       "    <tr>\n",
       "      <th>1</th>\n",
       "      <td>bengal-warriors</td>\n",
       "      <td>398</td>\n",
       "    </tr>\n",
       "    <tr>\n",
       "      <th>2</th>\n",
       "      <td>bengaluru-bulls</td>\n",
       "      <td>393</td>\n",
       "    </tr>\n",
       "    <tr>\n",
       "      <th>3</th>\n",
       "      <td>haryana-steelers</td>\n",
       "      <td>377</td>\n",
       "    </tr>\n",
       "    <tr>\n",
       "      <th>4</th>\n",
       "      <td>patna-pirates</td>\n",
       "      <td>368</td>\n",
       "    </tr>\n",
       "  </tbody>\n",
       "</table>\n",
       "</div>"
      ],
      "text/plain": [
       "          team_name team_raid_points\n",
       "0   dabang-delhi-kc              414\n",
       "1   bengal-warriors              398\n",
       "2   bengaluru-bulls              393\n",
       "3  haryana-steelers              377\n",
       "4     patna-pirates              368"
      ]
     },
     "execution_count": 292,
     "metadata": {},
     "output_type": "execute_result"
    }
   ],
   "source": [
    "team_raid_points_seas1 = pd.DataFrame({'team_name':team_names, 'team_raid_points':team_raid_points})\n",
    "team_raid_points_seas1.head()"
   ]
  },
  {
   "cell_type": "markdown",
   "metadata": {},
   "source": [
    "Average Raid Points"
   ]
  },
  {
   "cell_type": "code",
   "execution_count": 293,
   "metadata": {},
   "outputs": [],
   "source": [
    "driver.get('https://www.prokabaddi.com/stats/49-98-avg-raid-points-statistics')"
   ]
  },
  {
   "cell_type": "code",
   "execution_count": 294,
   "metadata": {},
   "outputs": [],
   "source": [
    "time.sleep(7)\n",
    "\n",
    "myelement = driver.find_element_by_xpath('//*[@id=\"load_more\"]')\n",
    "\n",
    "while myelement.is_displayed():\n",
    "    if myelement.is_displayed():\n",
    "        myelement.click()\n",
    "\n",
    "time.sleep(3)"
   ]
  },
  {
   "cell_type": "code",
   "execution_count": 295,
   "metadata": {},
   "outputs": [
    {
     "name": "stdout",
     "output_type": "stream",
     "text": [
      "['dabang-delhi-kc', 'bengal-warriors', 'bengaluru-bulls', 'haryana-steelers', 'patna-pirates', 'telugu-titans', 'puneri-paltan', 'tamil-thalaivas', 'u-mumba', 'jaipur-pink-panthers', 'up-yoddha', 'gujarat-fortunegiants']\n",
      "['21.79', '20.95', '20.68', '19.84', '19.37', '18.44', '17.9', '17.16', '16.89', '16.85', '16.06', '16']\n"
     ]
    }
   ],
   "source": [
    "soup = BeautifulSoup(driver.page_source)\n",
    "team = soup.findAll('div',attrs={'class':'lb-detailItem-wrap'})\n",
    "\n",
    "team_names = []\n",
    "team_avg_raid_points = []\n",
    "\n",
    "for item in team:\n",
    "    \n",
    "    itm1 = item.find('a',attrs={'class':'sipk-lb-detailBlock sipk-playerDesc'})\n",
    "    srch = re.findall('gujarat-fortunegiants|puneri-paltan|up-yoddha|tamil-thalaivas|haryana-steelers|u-mumba|telugu-titans|jaipur-pink-panthers|bengaluru-bulls|dabang-delhi-kc|patna-pirates|bengal-warriors', itm1.attrs['href'])\n",
    "    team_names.append(srch[0])\n",
    "    \n",
    "    itm3 = item.find('div',attrs={'class':'sipk-lb-detailBlock sipk-lb-raidPoints'}).span.text\n",
    "    team_avg_raid_points.append(itm3)\n",
    "\n",
    "print(team_names)\n",
    "print(team_avg_raid_points)"
   ]
  },
  {
   "cell_type": "code",
   "execution_count": 296,
   "metadata": {
    "scrolled": false
   },
   "outputs": [
    {
     "data": {
      "text/html": [
       "<div>\n",
       "<style scoped>\n",
       "    .dataframe tbody tr th:only-of-type {\n",
       "        vertical-align: middle;\n",
       "    }\n",
       "\n",
       "    .dataframe tbody tr th {\n",
       "        vertical-align: top;\n",
       "    }\n",
       "\n",
       "    .dataframe thead th {\n",
       "        text-align: right;\n",
       "    }\n",
       "</style>\n",
       "<table border=\"1\" class=\"dataframe\">\n",
       "  <thead>\n",
       "    <tr style=\"text-align: right;\">\n",
       "      <th></th>\n",
       "      <th>team_name</th>\n",
       "      <th>team_avg_raid_points</th>\n",
       "    </tr>\n",
       "  </thead>\n",
       "  <tbody>\n",
       "    <tr>\n",
       "      <th>0</th>\n",
       "      <td>dabang-delhi-kc</td>\n",
       "      <td>21.79</td>\n",
       "    </tr>\n",
       "    <tr>\n",
       "      <th>1</th>\n",
       "      <td>bengal-warriors</td>\n",
       "      <td>20.95</td>\n",
       "    </tr>\n",
       "    <tr>\n",
       "      <th>2</th>\n",
       "      <td>bengaluru-bulls</td>\n",
       "      <td>20.68</td>\n",
       "    </tr>\n",
       "    <tr>\n",
       "      <th>3</th>\n",
       "      <td>haryana-steelers</td>\n",
       "      <td>19.84</td>\n",
       "    </tr>\n",
       "    <tr>\n",
       "      <th>4</th>\n",
       "      <td>patna-pirates</td>\n",
       "      <td>19.37</td>\n",
       "    </tr>\n",
       "  </tbody>\n",
       "</table>\n",
       "</div>"
      ],
      "text/plain": [
       "          team_name team_avg_raid_points\n",
       "0   dabang-delhi-kc                21.79\n",
       "1   bengal-warriors                20.95\n",
       "2   bengaluru-bulls                20.68\n",
       "3  haryana-steelers                19.84\n",
       "4     patna-pirates                19.37"
      ]
     },
     "execution_count": 296,
     "metadata": {},
     "output_type": "execute_result"
    }
   ],
   "source": [
    "team_avg_raid_points_seas1 = pd.DataFrame({'team_name':team_names, 'team_avg_raid_points':team_avg_raid_points})\n",
    "team_avg_raid_points_seas1.head()"
   ]
  },
  {
   "cell_type": "markdown",
   "metadata": {},
   "source": [
    "Successful Tackles"
   ]
  },
  {
   "cell_type": "code",
   "execution_count": 297,
   "metadata": {},
   "outputs": [],
   "source": [
    "driver.get('https://www.prokabaddi.com/stats/49-15-successful-tackles-statistics')"
   ]
  },
  {
   "cell_type": "code",
   "execution_count": 298,
   "metadata": {},
   "outputs": [],
   "source": [
    "time.sleep(7)\n",
    "\n",
    "myelement = driver.find_element_by_xpath('//*[@id=\"load_more\"]')\n",
    "\n",
    "while myelement.is_displayed():\n",
    "    if myelement.is_displayed():\n",
    "        myelement.click()\n",
    "\n",
    "time.sleep(3)"
   ]
  },
  {
   "cell_type": "code",
   "execution_count": 299,
   "metadata": {},
   "outputs": [
    {
     "name": "stdout",
     "output_type": "stream",
     "text": [
      "['puneri-paltan', 'jaipur-pink-panthers', 'gujarat-fortunegiants', 'haryana-steelers', 'up-yoddha', 'dabang-delhi-kc', 'bengal-warriors', 'bengaluru-bulls', 'patna-pirates', 'u-mumba', 'telugu-titans', 'tamil-thalaivas']\n",
      "['207', '189', '187', '181', '177', '175', '174', '168', '168', '162', '162', '151']\n"
     ]
    }
   ],
   "source": [
    "soup = BeautifulSoup(driver.page_source)\n",
    "team = soup.findAll('div',attrs={'class':'lb-detailItem-wrap'})\n",
    "\n",
    "team_names = []\n",
    "team_success_tackles = []\n",
    "\n",
    "for item in team:\n",
    "    \n",
    "    itm1 = item.find('a',attrs={'class':'sipk-lb-detailBlock sipk-playerDesc'})\n",
    "    srch = re.findall('gujarat-fortunegiants|puneri-paltan|up-yoddha|tamil-thalaivas|haryana-steelers|u-mumba|telugu-titans|jaipur-pink-panthers|bengaluru-bulls|dabang-delhi-kc|patna-pirates|bengal-warriors', itm1.attrs['href'])\n",
    "    team_names.append(srch[0])\n",
    "    \n",
    "    itm3 = item.find('div',attrs={'class':'sipk-lb-detailBlock sipk-lb-raidPoints'}).span.text\n",
    "    team_success_tackles.append(itm3)\n",
    "\n",
    "print(team_names)\n",
    "print(team_success_tackles)"
   ]
  },
  {
   "cell_type": "code",
   "execution_count": 300,
   "metadata": {
    "scrolled": true
   },
   "outputs": [
    {
     "data": {
      "text/html": [
       "<div>\n",
       "<style scoped>\n",
       "    .dataframe tbody tr th:only-of-type {\n",
       "        vertical-align: middle;\n",
       "    }\n",
       "\n",
       "    .dataframe tbody tr th {\n",
       "        vertical-align: top;\n",
       "    }\n",
       "\n",
       "    .dataframe thead th {\n",
       "        text-align: right;\n",
       "    }\n",
       "</style>\n",
       "<table border=\"1\" class=\"dataframe\">\n",
       "  <thead>\n",
       "    <tr style=\"text-align: right;\">\n",
       "      <th></th>\n",
       "      <th>team_name</th>\n",
       "      <th>team_success_tackles</th>\n",
       "    </tr>\n",
       "  </thead>\n",
       "  <tbody>\n",
       "    <tr>\n",
       "      <th>0</th>\n",
       "      <td>puneri-paltan</td>\n",
       "      <td>207</td>\n",
       "    </tr>\n",
       "    <tr>\n",
       "      <th>1</th>\n",
       "      <td>jaipur-pink-panthers</td>\n",
       "      <td>189</td>\n",
       "    </tr>\n",
       "    <tr>\n",
       "      <th>2</th>\n",
       "      <td>gujarat-fortunegiants</td>\n",
       "      <td>187</td>\n",
       "    </tr>\n",
       "    <tr>\n",
       "      <th>3</th>\n",
       "      <td>haryana-steelers</td>\n",
       "      <td>181</td>\n",
       "    </tr>\n",
       "    <tr>\n",
       "      <th>4</th>\n",
       "      <td>up-yoddha</td>\n",
       "      <td>177</td>\n",
       "    </tr>\n",
       "  </tbody>\n",
       "</table>\n",
       "</div>"
      ],
      "text/plain": [
       "               team_name team_success_tackles\n",
       "0          puneri-paltan                  207\n",
       "1   jaipur-pink-panthers                  189\n",
       "2  gujarat-fortunegiants                  187\n",
       "3       haryana-steelers                  181\n",
       "4              up-yoddha                  177"
      ]
     },
     "execution_count": 300,
     "metadata": {},
     "output_type": "execute_result"
    }
   ],
   "source": [
    "team_success_tackles_seas1 = pd.DataFrame({'team_name':team_names, 'team_success_tackles':team_success_tackles})\n",
    "team_success_tackles_seas1.head()"
   ]
  },
  {
   "cell_type": "markdown",
   "metadata": {},
   "source": [
    "Tackle Points"
   ]
  },
  {
   "cell_type": "code",
   "execution_count": 301,
   "metadata": {},
   "outputs": [],
   "source": [
    "driver.get('https://www.prokabaddi.com/stats/49-95-tackle-points-statistics')"
   ]
  },
  {
   "cell_type": "code",
   "execution_count": 302,
   "metadata": {},
   "outputs": [],
   "source": [
    "time.sleep(7)\n",
    "\n",
    "myelement = driver.find_element_by_xpath('//*[@id=\"load_more\"]')\n",
    "\n",
    "while myelement.is_displayed():\n",
    "    if myelement.is_displayed():\n",
    "        myelement.click()\n",
    "\n",
    "time.sleep(3)"
   ]
  },
  {
   "cell_type": "code",
   "execution_count": 303,
   "metadata": {},
   "outputs": [
    {
     "name": "stdout",
     "output_type": "stream",
     "text": [
      "['puneri-paltan', 'jaipur-pink-panthers', 'gujarat-fortunegiants', 'haryana-steelers', 'up-yoddha', 'patna-pirates', 'bengaluru-bulls', 'bengal-warriors', 'telugu-titans', 'dabang-delhi-kc', 'u-mumba', 'tamil-thalaivas']\n",
      "['232', '219', '203', '195', '192', '191', '191', '184', '182', '181', '176', '162']\n"
     ]
    }
   ],
   "source": [
    "soup = BeautifulSoup(driver.page_source)\n",
    "team = soup.findAll('div',attrs={'class':'lb-detailItem-wrap'})\n",
    "\n",
    "team_names = []\n",
    "team_tackle_points = []\n",
    "\n",
    "for item in team:\n",
    "    \n",
    "    itm1 = item.find('a',attrs={'class':'sipk-lb-detailBlock sipk-playerDesc'})\n",
    "    srch = re.findall('gujarat-fortunegiants|puneri-paltan|up-yoddha|tamil-thalaivas|haryana-steelers|u-mumba|telugu-titans|jaipur-pink-panthers|bengaluru-bulls|dabang-delhi-kc|patna-pirates|bengal-warriors', itm1.attrs['href'])\n",
    "    team_names.append(srch[0])\n",
    "    \n",
    "    itm3 = item.find('div',attrs={'class':'sipk-lb-detailBlock sipk-lb-raidPoints'}).span.text\n",
    "    team_tackle_points.append(itm3)\n",
    "\n",
    "print(team_names)\n",
    "print(team_tackle_points)"
   ]
  },
  {
   "cell_type": "code",
   "execution_count": 304,
   "metadata": {
    "scrolled": true
   },
   "outputs": [
    {
     "data": {
      "text/html": [
       "<div>\n",
       "<style scoped>\n",
       "    .dataframe tbody tr th:only-of-type {\n",
       "        vertical-align: middle;\n",
       "    }\n",
       "\n",
       "    .dataframe tbody tr th {\n",
       "        vertical-align: top;\n",
       "    }\n",
       "\n",
       "    .dataframe thead th {\n",
       "        text-align: right;\n",
       "    }\n",
       "</style>\n",
       "<table border=\"1\" class=\"dataframe\">\n",
       "  <thead>\n",
       "    <tr style=\"text-align: right;\">\n",
       "      <th></th>\n",
       "      <th>team_name</th>\n",
       "      <th>team_tackle_points</th>\n",
       "    </tr>\n",
       "  </thead>\n",
       "  <tbody>\n",
       "    <tr>\n",
       "      <th>0</th>\n",
       "      <td>puneri-paltan</td>\n",
       "      <td>232</td>\n",
       "    </tr>\n",
       "    <tr>\n",
       "      <th>1</th>\n",
       "      <td>jaipur-pink-panthers</td>\n",
       "      <td>219</td>\n",
       "    </tr>\n",
       "    <tr>\n",
       "      <th>2</th>\n",
       "      <td>gujarat-fortunegiants</td>\n",
       "      <td>203</td>\n",
       "    </tr>\n",
       "    <tr>\n",
       "      <th>3</th>\n",
       "      <td>haryana-steelers</td>\n",
       "      <td>195</td>\n",
       "    </tr>\n",
       "    <tr>\n",
       "      <th>4</th>\n",
       "      <td>up-yoddha</td>\n",
       "      <td>192</td>\n",
       "    </tr>\n",
       "  </tbody>\n",
       "</table>\n",
       "</div>"
      ],
      "text/plain": [
       "               team_name team_tackle_points\n",
       "0          puneri-paltan                232\n",
       "1   jaipur-pink-panthers                219\n",
       "2  gujarat-fortunegiants                203\n",
       "3       haryana-steelers                195\n",
       "4              up-yoddha                192"
      ]
     },
     "execution_count": 304,
     "metadata": {},
     "output_type": "execute_result"
    }
   ],
   "source": [
    "team_tackle_points_seas1 = pd.DataFrame({'team_name':team_names, 'team_tackle_points':team_tackle_points})\n",
    "team_tackle_points_seas1.head()"
   ]
  },
  {
   "cell_type": "markdown",
   "metadata": {},
   "source": [
    "Average Tackle Points"
   ]
  },
  {
   "cell_type": "code",
   "execution_count": 305,
   "metadata": {},
   "outputs": [],
   "source": [
    "driver.get('https://www.prokabaddi.com/stats/49-99-avg-tackle-points-statistics')"
   ]
  },
  {
   "cell_type": "code",
   "execution_count": 306,
   "metadata": {},
   "outputs": [],
   "source": [
    "time.sleep(7)\n",
    "\n",
    "myelement = driver.find_element_by_xpath('//*[@id=\"load_more\"]')\n",
    "\n",
    "while myelement.is_displayed():\n",
    "    if myelement.is_displayed():\n",
    "        myelement.click()\n",
    "\n",
    "time.sleep(3)"
   ]
  },
  {
   "cell_type": "code",
   "execution_count": 307,
   "metadata": {},
   "outputs": [
    {
     "name": "stdout",
     "output_type": "stream",
     "text": [
      "['puneri-paltan', 'jaipur-pink-panthers', 'up-yoddha', 'haryana-steelers', 'gujarat-fortunegiants', 'telugu-titans', 'patna-pirates', 'bengaluru-bulls', 'u-mumba', 'bengal-warriors', 'dabang-delhi-kc', 'tamil-thalaivas']\n",
      "['11.6', '10.95', '10.67', '10.26', '10.15', '10.11', '10.05', '10.05', '9.78', '9.68', '9.53', '8.53']\n"
     ]
    }
   ],
   "source": [
    "soup = BeautifulSoup(driver.page_source)\n",
    "team = soup.findAll('div',attrs={'class':'lb-detailItem-wrap'})\n",
    "\n",
    "team_names = []\n",
    "team_avg_tackle_points = []\n",
    "\n",
    "for item in team:\n",
    "    \n",
    "    itm1 = item.find('a',attrs={'class':'sipk-lb-detailBlock sipk-playerDesc'})\n",
    "    srch = re.findall('gujarat-fortunegiants|puneri-paltan|up-yoddha|tamil-thalaivas|haryana-steelers|u-mumba|telugu-titans|jaipur-pink-panthers|bengaluru-bulls|dabang-delhi-kc|patna-pirates|bengal-warriors', itm1.attrs['href'])\n",
    "    team_names.append(srch[0])\n",
    "    \n",
    "    itm3 = item.find('div',attrs={'class':'sipk-lb-detailBlock sipk-lb-raidPoints'}).span.text\n",
    "    team_avg_tackle_points.append(itm3)\n",
    "\n",
    "print(team_names)\n",
    "print(team_avg_tackle_points)"
   ]
  },
  {
   "cell_type": "code",
   "execution_count": 308,
   "metadata": {
    "scrolled": true
   },
   "outputs": [
    {
     "data": {
      "text/html": [
       "<div>\n",
       "<style scoped>\n",
       "    .dataframe tbody tr th:only-of-type {\n",
       "        vertical-align: middle;\n",
       "    }\n",
       "\n",
       "    .dataframe tbody tr th {\n",
       "        vertical-align: top;\n",
       "    }\n",
       "\n",
       "    .dataframe thead th {\n",
       "        text-align: right;\n",
       "    }\n",
       "</style>\n",
       "<table border=\"1\" class=\"dataframe\">\n",
       "  <thead>\n",
       "    <tr style=\"text-align: right;\">\n",
       "      <th></th>\n",
       "      <th>team_name</th>\n",
       "      <th>team_avg_tackle_points</th>\n",
       "    </tr>\n",
       "  </thead>\n",
       "  <tbody>\n",
       "    <tr>\n",
       "      <th>0</th>\n",
       "      <td>puneri-paltan</td>\n",
       "      <td>11.6</td>\n",
       "    </tr>\n",
       "    <tr>\n",
       "      <th>1</th>\n",
       "      <td>jaipur-pink-panthers</td>\n",
       "      <td>10.95</td>\n",
       "    </tr>\n",
       "    <tr>\n",
       "      <th>2</th>\n",
       "      <td>up-yoddha</td>\n",
       "      <td>10.67</td>\n",
       "    </tr>\n",
       "    <tr>\n",
       "      <th>3</th>\n",
       "      <td>haryana-steelers</td>\n",
       "      <td>10.26</td>\n",
       "    </tr>\n",
       "    <tr>\n",
       "      <th>4</th>\n",
       "      <td>gujarat-fortunegiants</td>\n",
       "      <td>10.15</td>\n",
       "    </tr>\n",
       "  </tbody>\n",
       "</table>\n",
       "</div>"
      ],
      "text/plain": [
       "               team_name team_avg_tackle_points\n",
       "0          puneri-paltan                   11.6\n",
       "1   jaipur-pink-panthers                  10.95\n",
       "2              up-yoddha                  10.67\n",
       "3       haryana-steelers                  10.26\n",
       "4  gujarat-fortunegiants                  10.15"
      ]
     },
     "execution_count": 308,
     "metadata": {},
     "output_type": "execute_result"
    }
   ],
   "source": [
    "team_avg_tackle_points_seas1 = pd.DataFrame({'team_name':team_names, 'team_avg_tackle_points':team_avg_tackle_points})\n",
    "team_avg_tackle_points_seas1.head()"
   ]
  },
  {
   "cell_type": "markdown",
   "metadata": {},
   "source": [
    "Super Raids"
   ]
  },
  {
   "cell_type": "code",
   "execution_count": 309,
   "metadata": {},
   "outputs": [],
   "source": [
    "driver.get('https://www.prokabaddi.com/stats/49-134-super-raid-statistics')"
   ]
  },
  {
   "cell_type": "code",
   "execution_count": 310,
   "metadata": {},
   "outputs": [],
   "source": [
    "time.sleep(7)\n",
    "\n",
    "myelement = driver.find_element_by_xpath('//*[@id=\"load_more\"]')\n",
    "\n",
    "while myelement.is_displayed():\n",
    "    if myelement.is_displayed():\n",
    "        myelement.click()\n",
    "\n",
    "time.sleep(3)"
   ]
  },
  {
   "cell_type": "code",
   "execution_count": 311,
   "metadata": {},
   "outputs": [
    {
     "name": "stdout",
     "output_type": "stream",
     "text": [
      "['bengal-warriors', 'haryana-steelers', 'patna-pirates', 'telugu-titans', 'bengaluru-bulls', 'dabang-delhi-kc', 'jaipur-pink-panthers', 'u-mumba', 'puneri-paltan', 'up-yoddha', 'gujarat-fortunegiants', 'tamil-thalaivas']\n",
      "['15', '14', '13', '9', '8', '8', '7', '7', '6', '5', '5', '4']\n"
     ]
    }
   ],
   "source": [
    "soup = BeautifulSoup(driver.page_source)\n",
    "team = soup.findAll('div',attrs={'class':'lb-detailItem-wrap'})\n",
    "\n",
    "team_names = []\n",
    "team_super_raids = []\n",
    "\n",
    "for item in team:\n",
    "    \n",
    "    itm1 = item.find('a',attrs={'class':'sipk-lb-detailBlock sipk-playerDesc'})\n",
    "    srch = re.findall('gujarat-fortunegiants|puneri-paltan|up-yoddha|tamil-thalaivas|haryana-steelers|u-mumba|telugu-titans|jaipur-pink-panthers|bengaluru-bulls|dabang-delhi-kc|patna-pirates|bengal-warriors', itm1.attrs['href'])\n",
    "    team_names.append(srch[0])\n",
    "    \n",
    "    itm3 = item.find('div',attrs={'class':'sipk-lb-detailBlock sipk-lb-raidPoints'}).span.text\n",
    "    team_super_raids.append(itm3)\n",
    "\n",
    "print(team_names)\n",
    "print(team_super_raids)"
   ]
  },
  {
   "cell_type": "code",
   "execution_count": 312,
   "metadata": {
    "scrolled": false
   },
   "outputs": [
    {
     "data": {
      "text/html": [
       "<div>\n",
       "<style scoped>\n",
       "    .dataframe tbody tr th:only-of-type {\n",
       "        vertical-align: middle;\n",
       "    }\n",
       "\n",
       "    .dataframe tbody tr th {\n",
       "        vertical-align: top;\n",
       "    }\n",
       "\n",
       "    .dataframe thead th {\n",
       "        text-align: right;\n",
       "    }\n",
       "</style>\n",
       "<table border=\"1\" class=\"dataframe\">\n",
       "  <thead>\n",
       "    <tr style=\"text-align: right;\">\n",
       "      <th></th>\n",
       "      <th>team_name</th>\n",
       "      <th>team_super_raids</th>\n",
       "    </tr>\n",
       "  </thead>\n",
       "  <tbody>\n",
       "    <tr>\n",
       "      <th>0</th>\n",
       "      <td>bengal-warriors</td>\n",
       "      <td>15</td>\n",
       "    </tr>\n",
       "    <tr>\n",
       "      <th>1</th>\n",
       "      <td>haryana-steelers</td>\n",
       "      <td>14</td>\n",
       "    </tr>\n",
       "    <tr>\n",
       "      <th>2</th>\n",
       "      <td>patna-pirates</td>\n",
       "      <td>13</td>\n",
       "    </tr>\n",
       "    <tr>\n",
       "      <th>3</th>\n",
       "      <td>telugu-titans</td>\n",
       "      <td>9</td>\n",
       "    </tr>\n",
       "    <tr>\n",
       "      <th>4</th>\n",
       "      <td>bengaluru-bulls</td>\n",
       "      <td>8</td>\n",
       "    </tr>\n",
       "  </tbody>\n",
       "</table>\n",
       "</div>"
      ],
      "text/plain": [
       "          team_name team_super_raids\n",
       "0   bengal-warriors               15\n",
       "1  haryana-steelers               14\n",
       "2     patna-pirates               13\n",
       "3     telugu-titans                9\n",
       "4   bengaluru-bulls                8"
      ]
     },
     "execution_count": 312,
     "metadata": {},
     "output_type": "execute_result"
    }
   ],
   "source": [
    "team_super_raids_seas1 = pd.DataFrame({'team_name':team_names, 'team_super_raids':team_super_raids})\n",
    "team_super_raids_seas1.head()"
   ]
  },
  {
   "cell_type": "markdown",
   "metadata": {},
   "source": [
    "Super Tackles"
   ]
  },
  {
   "cell_type": "code",
   "execution_count": 313,
   "metadata": {},
   "outputs": [],
   "source": [
    "driver.get('https://www.prokabaddi.com/stats/49-20-super-tackles-statistics')"
   ]
  },
  {
   "cell_type": "code",
   "execution_count": 314,
   "metadata": {},
   "outputs": [],
   "source": [
    "time.sleep(7)\n",
    "\n",
    "myelement = driver.find_element_by_xpath('//*[@id=\"load_more\"]')\n",
    "\n",
    "while myelement.is_displayed():\n",
    "    if myelement.is_displayed():\n",
    "        myelement.click()\n",
    "\n",
    "time.sleep(3)"
   ]
  },
  {
   "cell_type": "code",
   "execution_count": 315,
   "metadata": {},
   "outputs": [
    {
     "name": "stdout",
     "output_type": "stream",
     "text": [
      "['jaipur-pink-panthers', 'bengaluru-bulls', 'puneri-paltan', 'patna-pirates', 'telugu-titans', 'gujarat-fortunegiants', 'up-yoddha', 'u-mumba', 'haryana-steelers', 'tamil-thalaivas', 'bengal-warriors', 'dabang-delhi-kc']\n",
      "['32', '25', '25', '23', '21', '17', '16', '16', '14', '13', '12', '8']\n"
     ]
    }
   ],
   "source": [
    "soup = BeautifulSoup(driver.page_source)\n",
    "team = soup.findAll('div',attrs={'class':'lb-detailItem-wrap'})\n",
    "\n",
    "team_names = []\n",
    "team_super_tackles = []\n",
    "\n",
    "for item in team:\n",
    "    \n",
    "    itm1 = item.find('a',attrs={'class':'sipk-lb-detailBlock sipk-playerDesc'})\n",
    "    srch = re.findall('gujarat-fortunegiants|puneri-paltan|up-yoddha|tamil-thalaivas|haryana-steelers|u-mumba|telugu-titans|jaipur-pink-panthers|bengaluru-bulls|dabang-delhi-kc|patna-pirates|bengal-warriors', itm1.attrs['href'])\n",
    "    team_names.append(srch[0])\n",
    "    \n",
    "    itm3 = item.find('div',attrs={'class':'sipk-lb-detailBlock sipk-lb-raidPoints'}).span.text\n",
    "    team_super_tackles.append(itm3)\n",
    "\n",
    "print(team_names)\n",
    "print(team_super_tackles)"
   ]
  },
  {
   "cell_type": "code",
   "execution_count": 316,
   "metadata": {
    "scrolled": true
   },
   "outputs": [
    {
     "data": {
      "text/html": [
       "<div>\n",
       "<style scoped>\n",
       "    .dataframe tbody tr th:only-of-type {\n",
       "        vertical-align: middle;\n",
       "    }\n",
       "\n",
       "    .dataframe tbody tr th {\n",
       "        vertical-align: top;\n",
       "    }\n",
       "\n",
       "    .dataframe thead th {\n",
       "        text-align: right;\n",
       "    }\n",
       "</style>\n",
       "<table border=\"1\" class=\"dataframe\">\n",
       "  <thead>\n",
       "    <tr style=\"text-align: right;\">\n",
       "      <th></th>\n",
       "      <th>team_name</th>\n",
       "      <th>team_super_tackles</th>\n",
       "    </tr>\n",
       "  </thead>\n",
       "  <tbody>\n",
       "    <tr>\n",
       "      <th>0</th>\n",
       "      <td>jaipur-pink-panthers</td>\n",
       "      <td>32</td>\n",
       "    </tr>\n",
       "    <tr>\n",
       "      <th>1</th>\n",
       "      <td>bengaluru-bulls</td>\n",
       "      <td>25</td>\n",
       "    </tr>\n",
       "    <tr>\n",
       "      <th>2</th>\n",
       "      <td>puneri-paltan</td>\n",
       "      <td>25</td>\n",
       "    </tr>\n",
       "    <tr>\n",
       "      <th>3</th>\n",
       "      <td>patna-pirates</td>\n",
       "      <td>23</td>\n",
       "    </tr>\n",
       "    <tr>\n",
       "      <th>4</th>\n",
       "      <td>telugu-titans</td>\n",
       "      <td>21</td>\n",
       "    </tr>\n",
       "  </tbody>\n",
       "</table>\n",
       "</div>"
      ],
      "text/plain": [
       "              team_name team_super_tackles\n",
       "0  jaipur-pink-panthers                 32\n",
       "1       bengaluru-bulls                 25\n",
       "2         puneri-paltan                 25\n",
       "3         patna-pirates                 23\n",
       "4         telugu-titans                 21"
      ]
     },
     "execution_count": 316,
     "metadata": {},
     "output_type": "execute_result"
    }
   ],
   "source": [
    "team_super_tackles_seas1 = pd.DataFrame({'team_name':team_names, 'team_super_tackles':team_super_tackles})\n",
    "team_super_tackles_seas1.head()"
   ]
  },
  {
   "cell_type": "markdown",
   "metadata": {},
   "source": [
    "Do Or Die Raid Points"
   ]
  },
  {
   "cell_type": "code",
   "execution_count": 317,
   "metadata": {},
   "outputs": [],
   "source": [
    "driver.get('https://www.prokabaddi.com/stats/49-135-do-or-die-raid-points-statistics')"
   ]
  },
  {
   "cell_type": "code",
   "execution_count": 318,
   "metadata": {},
   "outputs": [],
   "source": [
    "time.sleep(7)\n",
    "\n",
    "myelement = driver.find_element_by_xpath('//*[@id=\"load_more\"]')\n",
    "\n",
    "while myelement.is_displayed():\n",
    "    if myelement.is_displayed():\n",
    "        myelement.click()\n",
    "\n",
    "time.sleep(3)"
   ]
  },
  {
   "cell_type": "code",
   "execution_count": 319,
   "metadata": {},
   "outputs": [
    {
     "name": "stdout",
     "output_type": "stream",
     "text": [
      "['jaipur-pink-panthers', 'haryana-steelers', 'up-yoddha', 'patna-pirates', 'u-mumba', 'puneri-paltan', 'gujarat-fortunegiants', 'tamil-thalaivas', 'bengal-warriors', 'dabang-delhi-kc', 'telugu-titans', 'bengaluru-bulls']\n",
      "['73', '71', '71', '69', '66', '60', '59', '52', '51', '47', '44', '42']\n"
     ]
    }
   ],
   "source": [
    "soup = BeautifulSoup(driver.page_source)\n",
    "team = soup.findAll('div',attrs={'class':'lb-detailItem-wrap'})\n",
    "\n",
    "team_names = []\n",
    "team_dod_raid_points = []\n",
    "\n",
    "for item in team:\n",
    "    \n",
    "    itm1 = item.find('a',attrs={'class':'sipk-lb-detailBlock sipk-playerDesc'})\n",
    "    srch = re.findall('gujarat-fortunegiants|puneri-paltan|up-yoddha|tamil-thalaivas|haryana-steelers|u-mumba|telugu-titans|jaipur-pink-panthers|bengaluru-bulls|dabang-delhi-kc|patna-pirates|bengal-warriors', itm1.attrs['href'])\n",
    "    team_names.append(srch[0])\n",
    "    \n",
    "    itm3 = item.find('div',attrs={'class':'sipk-lb-detailBlock sipk-lb-raidPoints'}).span.text\n",
    "    team_dod_raid_points.append(itm3)\n",
    "\n",
    "print(team_names)\n",
    "print(team_dod_raid_points)"
   ]
  },
  {
   "cell_type": "code",
   "execution_count": 320,
   "metadata": {
    "scrolled": true
   },
   "outputs": [
    {
     "data": {
      "text/html": [
       "<div>\n",
       "<style scoped>\n",
       "    .dataframe tbody tr th:only-of-type {\n",
       "        vertical-align: middle;\n",
       "    }\n",
       "\n",
       "    .dataframe tbody tr th {\n",
       "        vertical-align: top;\n",
       "    }\n",
       "\n",
       "    .dataframe thead th {\n",
       "        text-align: right;\n",
       "    }\n",
       "</style>\n",
       "<table border=\"1\" class=\"dataframe\">\n",
       "  <thead>\n",
       "    <tr style=\"text-align: right;\">\n",
       "      <th></th>\n",
       "      <th>team_name</th>\n",
       "      <th>team_dod_raid_points</th>\n",
       "    </tr>\n",
       "  </thead>\n",
       "  <tbody>\n",
       "    <tr>\n",
       "      <th>0</th>\n",
       "      <td>jaipur-pink-panthers</td>\n",
       "      <td>73</td>\n",
       "    </tr>\n",
       "    <tr>\n",
       "      <th>1</th>\n",
       "      <td>haryana-steelers</td>\n",
       "      <td>71</td>\n",
       "    </tr>\n",
       "    <tr>\n",
       "      <th>2</th>\n",
       "      <td>up-yoddha</td>\n",
       "      <td>71</td>\n",
       "    </tr>\n",
       "    <tr>\n",
       "      <th>3</th>\n",
       "      <td>patna-pirates</td>\n",
       "      <td>69</td>\n",
       "    </tr>\n",
       "    <tr>\n",
       "      <th>4</th>\n",
       "      <td>u-mumba</td>\n",
       "      <td>66</td>\n",
       "    </tr>\n",
       "  </tbody>\n",
       "</table>\n",
       "</div>"
      ],
      "text/plain": [
       "              team_name team_dod_raid_points\n",
       "0  jaipur-pink-panthers                   73\n",
       "1      haryana-steelers                   71\n",
       "2             up-yoddha                   71\n",
       "3         patna-pirates                   69\n",
       "4               u-mumba                   66"
      ]
     },
     "execution_count": 320,
     "metadata": {},
     "output_type": "execute_result"
    }
   ],
   "source": [
    "team_dod_raid_points_seas1 = pd.DataFrame({'team_name':team_names, 'team_dod_raid_points':team_dod_raid_points})\n",
    "team_dod_raid_points_seas1.head()"
   ]
  },
  {
   "cell_type": "markdown",
   "metadata": {},
   "source": [
    "All-Outs Inflicted"
   ]
  },
  {
   "cell_type": "code",
   "execution_count": 321,
   "metadata": {},
   "outputs": [],
   "source": [
    "driver.get('https://www.prokabaddi.com/stats/49-136-all-outs-inflicted-statistics')"
   ]
  },
  {
   "cell_type": "code",
   "execution_count": 322,
   "metadata": {},
   "outputs": [],
   "source": [
    "time.sleep(7)\n",
    "\n",
    "myelement = driver.find_element_by_xpath('//*[@id=\"load_more\"]')\n",
    "\n",
    "while myelement.is_displayed():\n",
    "    if myelement.is_displayed():\n",
    "        myelement.click()\n",
    "\n",
    "time.sleep(3)"
   ]
  },
  {
   "cell_type": "code",
   "execution_count": 323,
   "metadata": {},
   "outputs": [
    {
     "name": "stdout",
     "output_type": "stream",
     "text": [
      "['dabang-delhi-kc', 'bengal-warriors', 'patna-pirates', 'haryana-steelers', 'u-mumba', 'up-yoddha', 'gujarat-fortunegiants', 'bengaluru-bulls', 'jaipur-pink-panthers', 'puneri-paltan', 'telugu-titans', 'tamil-thalaivas']\n",
      "['33', '31', '28', '27', '25', '21', '21', '21', '19', '18', '13', '13']\n"
     ]
    }
   ],
   "source": [
    "soup = BeautifulSoup(driver.page_source)\n",
    "team = soup.findAll('div',attrs={'class':'lb-detailItem-wrap'})\n",
    "\n",
    "team_names = []\n",
    "team_allouts_inflicted = []\n",
    "\n",
    "for item in team:\n",
    "    \n",
    "    itm1 = item.find('a',attrs={'class':'sipk-lb-detailBlock sipk-playerDesc'})\n",
    "    srch = re.findall('gujarat-fortunegiants|puneri-paltan|up-yoddha|tamil-thalaivas|haryana-steelers|u-mumba|telugu-titans|jaipur-pink-panthers|bengaluru-bulls|dabang-delhi-kc|patna-pirates|bengal-warriors', itm1.attrs['href'])\n",
    "    team_names.append(srch[0])\n",
    "    \n",
    "    itm3 = item.find('div',attrs={'class':'sipk-lb-detailBlock sipk-lb-raidPoints'}).span.text\n",
    "    team_allouts_inflicted.append(itm3)\n",
    "\n",
    "print(team_names)\n",
    "print(team_allouts_inflicted)"
   ]
  },
  {
   "cell_type": "code",
   "execution_count": 324,
   "metadata": {
    "scrolled": true
   },
   "outputs": [
    {
     "data": {
      "text/html": [
       "<div>\n",
       "<style scoped>\n",
       "    .dataframe tbody tr th:only-of-type {\n",
       "        vertical-align: middle;\n",
       "    }\n",
       "\n",
       "    .dataframe tbody tr th {\n",
       "        vertical-align: top;\n",
       "    }\n",
       "\n",
       "    .dataframe thead th {\n",
       "        text-align: right;\n",
       "    }\n",
       "</style>\n",
       "<table border=\"1\" class=\"dataframe\">\n",
       "  <thead>\n",
       "    <tr style=\"text-align: right;\">\n",
       "      <th></th>\n",
       "      <th>team_name</th>\n",
       "      <th>team_allouts_inflicted</th>\n",
       "    </tr>\n",
       "  </thead>\n",
       "  <tbody>\n",
       "    <tr>\n",
       "      <th>0</th>\n",
       "      <td>dabang-delhi-kc</td>\n",
       "      <td>33</td>\n",
       "    </tr>\n",
       "    <tr>\n",
       "      <th>1</th>\n",
       "      <td>bengal-warriors</td>\n",
       "      <td>31</td>\n",
       "    </tr>\n",
       "    <tr>\n",
       "      <th>2</th>\n",
       "      <td>patna-pirates</td>\n",
       "      <td>28</td>\n",
       "    </tr>\n",
       "    <tr>\n",
       "      <th>3</th>\n",
       "      <td>haryana-steelers</td>\n",
       "      <td>27</td>\n",
       "    </tr>\n",
       "    <tr>\n",
       "      <th>4</th>\n",
       "      <td>u-mumba</td>\n",
       "      <td>25</td>\n",
       "    </tr>\n",
       "  </tbody>\n",
       "</table>\n",
       "</div>"
      ],
      "text/plain": [
       "          team_name team_allouts_inflicted\n",
       "0   dabang-delhi-kc                     33\n",
       "1   bengal-warriors                     31\n",
       "2     patna-pirates                     28\n",
       "3  haryana-steelers                     27\n",
       "4           u-mumba                     25"
      ]
     },
     "execution_count": 324,
     "metadata": {},
     "output_type": "execute_result"
    }
   ],
   "source": [
    "team_allouts_inflicted_seas1 = pd.DataFrame({'team_name':team_names, 'team_allouts_inflicted':team_allouts_inflicted})\n",
    "team_allouts_inflicted_seas1.head()"
   ]
  },
  {
   "cell_type": "markdown",
   "metadata": {},
   "source": [
    "All-Outs Conceded"
   ]
  },
  {
   "cell_type": "code",
   "execution_count": 325,
   "metadata": {},
   "outputs": [],
   "source": [
    "driver.get('https://www.prokabaddi.com/stats/49-137-all-outs-conceded-statistics')"
   ]
  },
  {
   "cell_type": "code",
   "execution_count": 326,
   "metadata": {},
   "outputs": [],
   "source": [
    "time.sleep(7)\n",
    "\n",
    "myelement = driver.find_element_by_xpath('//*[@id=\"load_more\"]')\n",
    "\n",
    "while myelement.is_displayed():\n",
    "    if myelement.is_displayed():\n",
    "        myelement.click()\n",
    "\n",
    "time.sleep(3)"
   ]
  },
  {
   "cell_type": "code",
   "execution_count": 327,
   "metadata": {},
   "outputs": [
    {
     "name": "stdout",
     "output_type": "stream",
     "text": [
      "['puneri-paltan', 'tamil-thalaivas', 'bengaluru-bulls', 'jaipur-pink-panthers', 'patna-pirates', 'telugu-titans', 'up-yoddha', 'gujarat-fortunegiants', 'haryana-steelers', 'u-mumba', 'bengal-warriors', 'dabang-delhi-kc']\n",
      "['33', '29', '24', '23', '23', '22', '22', '22', '21', '20', '16', '15']\n"
     ]
    }
   ],
   "source": [
    "soup = BeautifulSoup(driver.page_source)\n",
    "team = soup.findAll('div',attrs={'class':'lb-detailItem-wrap'})\n",
    "\n",
    "team_names = []\n",
    "team_allouts_conceded = []\n",
    "\n",
    "for item in team:\n",
    "    \n",
    "    itm1 = item.find('a',attrs={'class':'sipk-lb-detailBlock sipk-playerDesc'})\n",
    "    srch = re.findall('gujarat-fortunegiants|puneri-paltan|up-yoddha|tamil-thalaivas|haryana-steelers|u-mumba|telugu-titans|jaipur-pink-panthers|bengaluru-bulls|dabang-delhi-kc|patna-pirates|bengal-warriors', itm1.attrs['href'])\n",
    "    team_names.append(srch[0])\n",
    "    \n",
    "    itm3 = item.find('div',attrs={'class':'sipk-lb-detailBlock sipk-lb-raidPoints'}).span.text\n",
    "    team_allouts_conceded.append(itm3)\n",
    "\n",
    "print(team_names)\n",
    "print(team_allouts_conceded)"
   ]
  },
  {
   "cell_type": "code",
   "execution_count": 328,
   "metadata": {
    "scrolled": false
   },
   "outputs": [
    {
     "data": {
      "text/html": [
       "<div>\n",
       "<style scoped>\n",
       "    .dataframe tbody tr th:only-of-type {\n",
       "        vertical-align: middle;\n",
       "    }\n",
       "\n",
       "    .dataframe tbody tr th {\n",
       "        vertical-align: top;\n",
       "    }\n",
       "\n",
       "    .dataframe thead th {\n",
       "        text-align: right;\n",
       "    }\n",
       "</style>\n",
       "<table border=\"1\" class=\"dataframe\">\n",
       "  <thead>\n",
       "    <tr style=\"text-align: right;\">\n",
       "      <th></th>\n",
       "      <th>team_name</th>\n",
       "      <th>team_allouts_conceded</th>\n",
       "    </tr>\n",
       "  </thead>\n",
       "  <tbody>\n",
       "    <tr>\n",
       "      <th>0</th>\n",
       "      <td>puneri-paltan</td>\n",
       "      <td>33</td>\n",
       "    </tr>\n",
       "    <tr>\n",
       "      <th>1</th>\n",
       "      <td>tamil-thalaivas</td>\n",
       "      <td>29</td>\n",
       "    </tr>\n",
       "    <tr>\n",
       "      <th>2</th>\n",
       "      <td>bengaluru-bulls</td>\n",
       "      <td>24</td>\n",
       "    </tr>\n",
       "    <tr>\n",
       "      <th>3</th>\n",
       "      <td>jaipur-pink-panthers</td>\n",
       "      <td>23</td>\n",
       "    </tr>\n",
       "    <tr>\n",
       "      <th>4</th>\n",
       "      <td>patna-pirates</td>\n",
       "      <td>23</td>\n",
       "    </tr>\n",
       "  </tbody>\n",
       "</table>\n",
       "</div>"
      ],
      "text/plain": [
       "              team_name team_allouts_conceded\n",
       "0         puneri-paltan                    33\n",
       "1       tamil-thalaivas                    29\n",
       "2       bengaluru-bulls                    24\n",
       "3  jaipur-pink-panthers                    23\n",
       "4         patna-pirates                    23"
      ]
     },
     "execution_count": 328,
     "metadata": {},
     "output_type": "execute_result"
    }
   ],
   "source": [
    "team_allouts_conceded_seas1 = pd.DataFrame({'team_name':team_names, 'team_allouts_conceded':team_allouts_conceded})\n",
    "team_allouts_conceded_seas1.head()"
   ]
  },
  {
   "cell_type": "markdown",
   "metadata": {},
   "source": [
    "##### Merge Team Stats into a master frame"
   ]
  },
  {
   "cell_type": "code",
   "execution_count": 329,
   "metadata": {},
   "outputs": [
    {
     "data": {
      "text/html": [
       "<div>\n",
       "<style scoped>\n",
       "    .dataframe tbody tr th:only-of-type {\n",
       "        vertical-align: middle;\n",
       "    }\n",
       "\n",
       "    .dataframe tbody tr th {\n",
       "        vertical-align: top;\n",
       "    }\n",
       "\n",
       "    .dataframe thead th {\n",
       "        text-align: right;\n",
       "    }\n",
       "</style>\n",
       "<table border=\"1\" class=\"dataframe\">\n",
       "  <thead>\n",
       "    <tr style=\"text-align: right;\">\n",
       "      <th></th>\n",
       "      <th>team_name</th>\n",
       "      <th>matches_played</th>\n",
       "      <th>total_points_scored</th>\n",
       "      <th>total_points_conceded</th>\n",
       "      <th>team_avg_points</th>\n",
       "      <th>team_success_raids</th>\n",
       "      <th>team_raid_points</th>\n",
       "      <th>team_avg_raid_points</th>\n",
       "      <th>team_success_tackles</th>\n",
       "      <th>team_tackle_points</th>\n",
       "      <th>team_avg_tackle_points</th>\n",
       "      <th>team_super_raids</th>\n",
       "      <th>team_super_tackles</th>\n",
       "      <th>team_dod_raid_points</th>\n",
       "      <th>team_allouts_inflicted</th>\n",
       "      <th>team_allouts_conceded</th>\n",
       "    </tr>\n",
       "  </thead>\n",
       "  <tbody>\n",
       "    <tr>\n",
       "      <th>0</th>\n",
       "      <td>dabang-delhi-kc</td>\n",
       "      <td>19</td>\n",
       "      <td>709</td>\n",
       "      <td>617</td>\n",
       "      <td>31.31</td>\n",
       "      <td>340</td>\n",
       "      <td>414</td>\n",
       "      <td>21.79</td>\n",
       "      <td>175</td>\n",
       "      <td>181</td>\n",
       "      <td>9.53</td>\n",
       "      <td>8</td>\n",
       "      <td>8</td>\n",
       "      <td>47</td>\n",
       "      <td>33</td>\n",
       "      <td>15</td>\n",
       "    </tr>\n",
       "    <tr>\n",
       "      <th>1</th>\n",
       "      <td>bengal-warriors</td>\n",
       "      <td>19</td>\n",
       "      <td>676</td>\n",
       "      <td>590</td>\n",
       "      <td>30.63</td>\n",
       "      <td>318</td>\n",
       "      <td>398</td>\n",
       "      <td>20.95</td>\n",
       "      <td>174</td>\n",
       "      <td>184</td>\n",
       "      <td>9.68</td>\n",
       "      <td>15</td>\n",
       "      <td>12</td>\n",
       "      <td>51</td>\n",
       "      <td>31</td>\n",
       "      <td>16</td>\n",
       "    </tr>\n",
       "    <tr>\n",
       "      <th>2</th>\n",
       "      <td>bengaluru-bulls</td>\n",
       "      <td>19</td>\n",
       "      <td>656</td>\n",
       "      <td>644</td>\n",
       "      <td>30.73</td>\n",
       "      <td>309</td>\n",
       "      <td>393</td>\n",
       "      <td>20.68</td>\n",
       "      <td>168</td>\n",
       "      <td>191</td>\n",
       "      <td>10.05</td>\n",
       "      <td>8</td>\n",
       "      <td>25</td>\n",
       "      <td>42</td>\n",
       "      <td>21</td>\n",
       "      <td>24</td>\n",
       "    </tr>\n",
       "    <tr>\n",
       "      <th>3</th>\n",
       "      <td>puneri-paltan</td>\n",
       "      <td>20</td>\n",
       "      <td>652</td>\n",
       "      <td>723</td>\n",
       "      <td>29.5</td>\n",
       "      <td>290</td>\n",
       "      <td>358</td>\n",
       "      <td>17.9</td>\n",
       "      <td>207</td>\n",
       "      <td>232</td>\n",
       "      <td>11.6</td>\n",
       "      <td>6</td>\n",
       "      <td>25</td>\n",
       "      <td>60</td>\n",
       "      <td>18</td>\n",
       "      <td>33</td>\n",
       "    </tr>\n",
       "    <tr>\n",
       "      <th>4</th>\n",
       "      <td>haryana-steelers</td>\n",
       "      <td>19</td>\n",
       "      <td>650</td>\n",
       "      <td>626</td>\n",
       "      <td>30.1</td>\n",
       "      <td>290</td>\n",
       "      <td>377</td>\n",
       "      <td>19.84</td>\n",
       "      <td>181</td>\n",
       "      <td>195</td>\n",
       "      <td>10.26</td>\n",
       "      <td>14</td>\n",
       "      <td>14</td>\n",
       "      <td>71</td>\n",
       "      <td>27</td>\n",
       "      <td>21</td>\n",
       "    </tr>\n",
       "  </tbody>\n",
       "</table>\n",
       "</div>"
      ],
      "text/plain": [
       "          team_name matches_played total_points_scored total_points_conceded  \\\n",
       "0   dabang-delhi-kc             19                 709                   617   \n",
       "1   bengal-warriors             19                 676                   590   \n",
       "2   bengaluru-bulls             19                 656                   644   \n",
       "3     puneri-paltan             20                 652                   723   \n",
       "4  haryana-steelers             19                 650                   626   \n",
       "\n",
       "  team_avg_points team_success_raids team_raid_points team_avg_raid_points  \\\n",
       "0           31.31                340              414                21.79   \n",
       "1           30.63                318              398                20.95   \n",
       "2           30.73                309              393                20.68   \n",
       "3            29.5                290              358                 17.9   \n",
       "4            30.1                290              377                19.84   \n",
       "\n",
       "  team_success_tackles team_tackle_points team_avg_tackle_points  \\\n",
       "0                  175                181                   9.53   \n",
       "1                  174                184                   9.68   \n",
       "2                  168                191                  10.05   \n",
       "3                  207                232                   11.6   \n",
       "4                  181                195                  10.26   \n",
       "\n",
       "  team_super_raids team_super_tackles team_dod_raid_points  \\\n",
       "0                8                  8                   47   \n",
       "1               15                 12                   51   \n",
       "2                8                 25                   42   \n",
       "3                6                 25                   60   \n",
       "4               14                 14                   71   \n",
       "\n",
       "  team_allouts_inflicted team_allouts_conceded  \n",
       "0                     33                    15  \n",
       "1                     31                    16  \n",
       "2                     21                    24  \n",
       "3                     18                    33  \n",
       "4                     27                    21  "
      ]
     },
     "execution_count": 329,
     "metadata": {},
     "output_type": "execute_result"
    }
   ],
   "source": [
    "temp1 = pd.merge(team_tot_points_seas1, team_tot_points_conceded_seas1, on='team_name', how='left')\n",
    "temp2 = pd.merge(temp1, team_avg_points_scored_seas1, on='team_name', how='left')\n",
    "temp3 = pd.merge(temp2, team_success_raids_seas1, on='team_name', how='left')\n",
    "temp4 = pd.merge(temp3, team_raid_points_seas1, on='team_name', how='left')\n",
    "temp5 = pd.merge(temp4, team_avg_raid_points_seas1, on='team_name', how='left')\n",
    "temp6 = pd.merge(temp5, team_success_tackles_seas1, on='team_name', how='left')\n",
    "temp7 = pd.merge(temp6, team_tackle_points_seas1, on='team_name', how='left')\n",
    "temp8 = pd.merge(temp7, team_avg_tackle_points_seas1, on='team_name', how='left')\n",
    "temp9 = pd.merge(temp8, team_super_raids_seas1, on='team_name', how='left')\n",
    "temp10 = pd.merge(temp9, team_super_tackles_seas1, on='team_name', how='left')\n",
    "temp11 = pd.merge(temp10, team_dod_raid_points_seas1, on='team_name', how='left')\n",
    "temp12 = pd.merge(temp11, team_allouts_inflicted_seas1, on='team_name', how='left')\n",
    "season1_team_stats = pd.merge(temp12, team_allouts_conceded_seas1, on='team_name', how='left')\n",
    "\n",
    "season1_team_stats = season1_team_stats.fillna(0)\n",
    "\n",
    "season1_team_stats.head()"
   ]
  },
  {
   "cell_type": "code",
   "execution_count": 330,
   "metadata": {},
   "outputs": [],
   "source": [
    "outfile = open('data/season7_team_stats.csv', mode='w')\n",
    "season1_team_stats.to_csv('data/season7_team_stats.csv', mode='w', index = False, header=True)\n",
    "outfile.close()"
   ]
  },
  {
   "cell_type": "code",
   "execution_count": null,
   "metadata": {},
   "outputs": [],
   "source": []
  }
 ],
 "metadata": {
  "kernelspec": {
   "display_name": "Python 3",
   "language": "python",
   "name": "python3"
  },
  "language_info": {
   "codemirror_mode": {
    "name": "ipython",
    "version": 3
   },
   "file_extension": ".py",
   "mimetype": "text/x-python",
   "name": "python",
   "nbconvert_exporter": "python",
   "pygments_lexer": "ipython3",
   "version": "3.7.3"
  }
 },
 "nbformat": 4,
 "nbformat_minor": 2
}
