{
 "cells": [
  {
   "cell_type": "code",
   "execution_count": 1,
   "metadata": {},
   "outputs": [],
   "source": [
    "import requests\n",
    "import pandas as pd\n",
    "from bs4 import BeautifulSoup\n",
    "from selenium import webdriver\n",
    "import re\n",
    "import time"
   ]
  },
  {
   "cell_type": "markdown",
   "metadata": {},
   "source": [
    "Download the Chrome Webdriver from https://sites.google.com/a/chromium.org/chromedriver/downloads (make sure you download the same Chrome version driver)\n",
    "\n",
    "And place the file at notebook location"
   ]
  },
  {
   "cell_type": "code",
   "execution_count": 2,
   "metadata": {},
   "outputs": [],
   "source": [
    "driver = webdriver.Chrome(executable_path='chromedriver.exe')"
   ]
  },
  {
   "cell_type": "markdown",
   "metadata": {},
   "source": [
    "Getting the Player Stats<br>\n",
    "First we will get the Total Points secured by Each player"
   ]
  },
  {
   "cell_type": "code",
   "execution_count": 987,
   "metadata": {},
   "outputs": [],
   "source": [
    "driver.get('https://www.prokabaddi.com/stats/1-102-total-points-statistics')"
   ]
  },
  {
   "cell_type": "markdown",
   "metadata": {},
   "source": [
    "Wait for above cell to execute"
   ]
  },
  {
   "cell_type": "code",
   "execution_count": 988,
   "metadata": {},
   "outputs": [],
   "source": [
    "time.sleep(7)\n",
    "\n",
    "myelement = driver.find_element_by_xpath('//*[@id=\"load_more\"]')\n",
    "\n",
    "while myelement.is_displayed():\n",
    "    if myelement.is_displayed():\n",
    "        myelement.click()\n",
    "\n",
    "time.sleep(3)"
   ]
  },
  {
   "cell_type": "code",
   "execution_count": 989,
   "metadata": {},
   "outputs": [],
   "source": [
    "soup = BeautifulSoup(driver.page_source)\n",
    "player = soup.findAll('div',attrs={'class':'lb-detailItem-wrap'})\n",
    "\n",
    "player_names = []\n",
    "player_profile = []\n",
    "player_team = []\n",
    "matches_played = []\n",
    "total_points = []\n",
    "\n",
    "for item in player:\n",
    "    \n",
    "    #Fetching the Player Name\n",
    "    itm1 = item.find('div',attrs={'class':'sipk-lb-playerName'}).span.text.replace('\\n', ' ').strip()\n",
    "    player_names.append(itm1)\n",
    "    \n",
    "    #Fetching the Player Profile\n",
    "    if item.find('div',attrs={'class':'sipk-lb-playerprofile'}):\n",
    "        itm2 = item.find('div',attrs={'class':'sipk-lb-playerprofile'}).span.text\n",
    "        player_profile.append(itm2)\n",
    "    else:\n",
    "        player_profile.append('')\n",
    "    \n",
    "    #Fetching the Player Team\n",
    "    itm3 = item.find('a',attrs={'class':'sipk-lb-detailBlock sipk-lb-team'})\n",
    "    srch = re.findall('u-mumba|telugu-titans|jaipur-pink-panthers|bengaluru-bulls|dabang-delhi-kc|patna-pirates|puneri-paltan|bengal-warriors', itm3.attrs['href'])\n",
    "    player_team.append(srch[0])\n",
    "    \n",
    "    #Fetching the Matches Played by Player\n",
    "    itm4 = item.find('div',attrs={'class':'sipk-lb-detailBlock sipk-lb-matchedPlayed'}).span.text\n",
    "    matches_played.append(itm4)\n",
    "    \n",
    "    #Fetching the Total Points scored by a Player\n",
    "    itm5 = item.find('div',attrs={'class':'sipk-lb-detailBlock sipk-lb-raidPoints'}).span.text\n",
    "    total_points.append(itm5)\n",
    "\n",
    "#print(player_names)\n",
    "#print(player_profile)\n",
    "#print(player_team)\n",
    "#print(matches_played)\n",
    "#print(total_points)"
   ]
  },
  {
   "cell_type": "code",
   "execution_count": 990,
   "metadata": {},
   "outputs": [],
   "source": [
    "pyr_tot_points_seas1 = pd.DataFrame({'name':player_names, 'profile':player_profile, 'team':player_teams\n",
    "                                     , 'matches_played':matches_played, 'total_points':total_points})\n",
    "\n",
    "#pyr_tot_points_seas1.head()"
   ]
  },
  {
   "cell_type": "markdown",
   "metadata": {},
   "source": [
    "Get Successful raids"
   ]
  },
  {
   "cell_type": "code",
   "execution_count": 991,
   "metadata": {},
   "outputs": [],
   "source": [
    "driver.get('https://www.prokabaddi.com/stats/1-21-successful-raids-statistics')"
   ]
  },
  {
   "cell_type": "markdown",
   "metadata": {},
   "source": [
    "Wait for above cell to execute"
   ]
  },
  {
   "cell_type": "code",
   "execution_count": 992,
   "metadata": {},
   "outputs": [],
   "source": [
    "time.sleep(7)\n",
    "\n",
    "myelement = driver.find_element_by_xpath('//*[@id=\"load_more\"]')\n",
    "\n",
    "while myelement.is_displayed():\n",
    "    if myelement.is_displayed():\n",
    "        myelement.click()\n",
    "\n",
    "time.sleep(3)"
   ]
  },
  {
   "cell_type": "code",
   "execution_count": 993,
   "metadata": {},
   "outputs": [],
   "source": [
    "soup = BeautifulSoup(driver.page_source)\n",
    "player = soup.findAll('div',attrs={'class':'lb-detailItem-wrap'})\n",
    "\n",
    "player_names = []\n",
    "success_raids = []\n",
    "\n",
    "for item in player:\n",
    "    \n",
    "    #Fetching the Player Name\n",
    "    itm1 = item.find('div',attrs={'class':'sipk-lb-playerName'}).span.text.replace('\\n', ' ').strip()\n",
    "    player_names.append(itm1)\n",
    "    \n",
    "    #Fetching the Raid Points scored by a Player\n",
    "    itm2 = item.find('div',attrs={'class':'sipk-lb-detailBlock sipk-lb-raidPoints'}).span.text\n",
    "    success_raids.append(itm2)\n",
    "\n",
    "#print(player_names)\n",
    "#print(success_raids)"
   ]
  },
  {
   "cell_type": "code",
   "execution_count": 994,
   "metadata": {},
   "outputs": [],
   "source": [
    "pyr_success_raids_seas1 = pd.DataFrame({'name':player_names, 'success_raids':success_raids})\n",
    "\n",
    "#pyr_success_raids_seas1.head()"
   ]
  },
  {
   "cell_type": "markdown",
   "metadata": {},
   "source": [
    "Get Raid Points"
   ]
  },
  {
   "cell_type": "code",
   "execution_count": 995,
   "metadata": {},
   "outputs": [],
   "source": [
    "driver.get('https://www.prokabaddi.com/stats/1-22-raid-points-statistics')"
   ]
  },
  {
   "cell_type": "markdown",
   "metadata": {},
   "source": [
    "Wait for above cell to execute"
   ]
  },
  {
   "cell_type": "code",
   "execution_count": 996,
   "metadata": {},
   "outputs": [],
   "source": [
    "time.sleep(7)\n",
    "\n",
    "myelement = driver.find_element_by_xpath('//*[@id=\"load_more\"]')\n",
    "\n",
    "while myelement.is_displayed():\n",
    "    if myelement.is_displayed():\n",
    "        myelement.click()\n",
    "\n",
    "time.sleep(3)"
   ]
  },
  {
   "cell_type": "code",
   "execution_count": 997,
   "metadata": {},
   "outputs": [],
   "source": [
    "soup = BeautifulSoup(driver.page_source)\n",
    "player = soup.findAll('div',attrs={'class':'lb-detailItem-wrap'})\n",
    "\n",
    "player_names = []\n",
    "raid_points = []\n",
    "\n",
    "for item in player:\n",
    "    \n",
    "    #Fetching the Player Name\n",
    "    itm1 = item.find('div',attrs={'class':'sipk-lb-playerName'}).span.text.replace('\\n', ' ').strip()\n",
    "    player_names.append(itm1)\n",
    "    \n",
    "    #Fetching the Raid Points scored by a Player\n",
    "    itm2 = item.find('div',attrs={'class':'sipk-lb-detailBlock sipk-lb-raidPoints'}).span.text\n",
    "    raid_points.append(itm2)\n",
    "\n",
    "#print(player_names)\n",
    "#print(raid_points)"
   ]
  },
  {
   "cell_type": "code",
   "execution_count": 998,
   "metadata": {},
   "outputs": [],
   "source": [
    "pyr_raid_points_seas1 = pd.DataFrame({'name':player_names, 'raid_points':raid_points})\n",
    "\n",
    "#pyr_raid_points_seas1.head()"
   ]
  },
  {
   "cell_type": "markdown",
   "metadata": {},
   "source": [
    "Get Successful Tackles"
   ]
  },
  {
   "cell_type": "code",
   "execution_count": 999,
   "metadata": {},
   "outputs": [],
   "source": [
    "driver.get('https://www.prokabaddi.com/stats/1-23-successful-tackles-statistics')"
   ]
  },
  {
   "cell_type": "markdown",
   "metadata": {},
   "source": [
    "Wait for above cell to execute"
   ]
  },
  {
   "cell_type": "code",
   "execution_count": 1000,
   "metadata": {},
   "outputs": [],
   "source": [
    "time.sleep(7)\n",
    "\n",
    "myelement = driver.find_element_by_xpath('//*[@id=\"load_more\"]')\n",
    "\n",
    "while myelement.is_displayed():\n",
    "    if myelement.is_displayed():\n",
    "        myelement.click()\n",
    "\n",
    "time.sleep(3)"
   ]
  },
  {
   "cell_type": "code",
   "execution_count": 1001,
   "metadata": {},
   "outputs": [],
   "source": [
    "soup = BeautifulSoup(driver.page_source)\n",
    "player = soup.findAll('div',attrs={'class':'lb-detailItem-wrap'})\n",
    "\n",
    "player_names = []\n",
    "success_tackles = []\n",
    "\n",
    "for item in player:\n",
    "    \n",
    "    #Fetching the Player Name\n",
    "    itm1 = item.find('div',attrs={'class':'sipk-lb-playerName'}).span.text.replace('\\n', ' ').strip()\n",
    "    player_names.append(itm1)\n",
    "    \n",
    "    #Fetching the Raid Points scored by a Player\n",
    "    itm2 = item.find('div',attrs={'class':'sipk-lb-detailBlock sipk-lb-raidPoints'}).span.text\n",
    "    success_tackles.append(itm2)\n",
    "\n",
    "#print(player_names)\n",
    "#print(success_tackles)"
   ]
  },
  {
   "cell_type": "code",
   "execution_count": 1002,
   "metadata": {},
   "outputs": [],
   "source": [
    "pyr_success_tackles_seas1 = pd.DataFrame({'name':player_names, 'success_tackles':success_tackles})\n",
    "\n",
    "#pyr_success_tackles_seas1.head()"
   ]
  },
  {
   "cell_type": "markdown",
   "metadata": {},
   "source": [
    "Get Tackle Points"
   ]
  },
  {
   "cell_type": "code",
   "execution_count": 1003,
   "metadata": {},
   "outputs": [],
   "source": [
    "driver.get('https://www.prokabaddi.com/stats/1-103-tackle-points-statistics')"
   ]
  },
  {
   "cell_type": "markdown",
   "metadata": {},
   "source": [
    "Wait for above cell to execute"
   ]
  },
  {
   "cell_type": "code",
   "execution_count": 1004,
   "metadata": {},
   "outputs": [],
   "source": [
    "time.sleep(7)\n",
    "\n",
    "myelement = driver.find_element_by_xpath('//*[@id=\"load_more\"]')\n",
    "\n",
    "while myelement.is_displayed():\n",
    "    if myelement.is_displayed():\n",
    "        myelement.click()\n",
    "\n",
    "time.sleep(3)"
   ]
  },
  {
   "cell_type": "code",
   "execution_count": 1005,
   "metadata": {},
   "outputs": [],
   "source": [
    "soup = BeautifulSoup(driver.page_source)\n",
    "player = soup.findAll('div',attrs={'class':'lb-detailItem-wrap'})\n",
    "\n",
    "player_names = []\n",
    "tackle_points = []\n",
    "\n",
    "for item in player:\n",
    "    \n",
    "    #Fetching the Player Name\n",
    "    itm1 = item.find('div',attrs={'class':'sipk-lb-playerName'}).span.text.replace('\\n', ' ').strip()\n",
    "    player_names.append(itm1)\n",
    "    \n",
    "    #Fetching the Raid Points scored by a Player\n",
    "    itm2 = item.find('div',attrs={'class':'sipk-lb-detailBlock sipk-lb-raidPoints'}).span.text\n",
    "    tackle_points.append(itm2)\n",
    "\n",
    "#print(player_names)\n",
    "#print(tackle_points)"
   ]
  },
  {
   "cell_type": "code",
   "execution_count": 1006,
   "metadata": {},
   "outputs": [],
   "source": [
    "pyr_tackle_points_seas1 = pd.DataFrame({'name':player_names, 'tackle_points':tackle_points})\n",
    "\n",
    "#pyr_tackle_points_seas1.head()"
   ]
  },
  {
   "cell_type": "markdown",
   "metadata": {},
   "source": [
    "Get Average Raid Points"
   ]
  },
  {
   "cell_type": "code",
   "execution_count": 1007,
   "metadata": {},
   "outputs": [],
   "source": [
    "driver.get('https://www.prokabaddi.com/stats/1-138-avg-raid-points-statistics')"
   ]
  },
  {
   "cell_type": "markdown",
   "metadata": {},
   "source": [
    "Wait for above cell to execute"
   ]
  },
  {
   "cell_type": "code",
   "execution_count": 1008,
   "metadata": {},
   "outputs": [],
   "source": [
    "time.sleep(7)\n",
    "\n",
    "myelement = driver.find_element_by_xpath('//*[@id=\"load_more\"]')\n",
    "\n",
    "while myelement.is_displayed():\n",
    "    if myelement.is_displayed():\n",
    "        myelement.click()\n",
    "\n",
    "time.sleep(3)"
   ]
  },
  {
   "cell_type": "code",
   "execution_count": 1009,
   "metadata": {},
   "outputs": [],
   "source": [
    "soup = BeautifulSoup(driver.page_source)\n",
    "player = soup.findAll('div',attrs={'class':'lb-detailItem-wrap'})\n",
    "\n",
    "player_names = []\n",
    "avg_raid_points = []\n",
    "\n",
    "for item in player:\n",
    "    \n",
    "    #Fetching the Player Name\n",
    "    itm1 = item.find('div',attrs={'class':'sipk-lb-playerName'}).span.text.replace('\\n', ' ').strip()\n",
    "    player_names.append(itm1)\n",
    "    \n",
    "    #Fetching the Raid Points scored by a Player\n",
    "    itm2 = item.find('div',attrs={'class':'sipk-lb-detailBlock sipk-lb-raidPoints'}).span.text\n",
    "    avg_raid_points.append(itm2)\n",
    "\n",
    "#print(player_names)\n",
    "#print(avg_raid_points)"
   ]
  },
  {
   "cell_type": "code",
   "execution_count": 1010,
   "metadata": {},
   "outputs": [],
   "source": [
    "pyr_avg_raid_points_seas1 = pd.DataFrame({'name':player_names, 'avg_raid_points':avg_raid_points})\n",
    "\n",
    "#pyr_avg_raid_points_seas1.head()"
   ]
  },
  {
   "cell_type": "markdown",
   "metadata": {},
   "source": [
    "Get Average Tackle Points"
   ]
  },
  {
   "cell_type": "code",
   "execution_count": 1011,
   "metadata": {},
   "outputs": [],
   "source": [
    "driver.get('https://www.prokabaddi.com/stats/1-139-avg-tackle-points-statistics')"
   ]
  },
  {
   "cell_type": "markdown",
   "metadata": {},
   "source": [
    "Wait for above cell to execute"
   ]
  },
  {
   "cell_type": "code",
   "execution_count": 1012,
   "metadata": {},
   "outputs": [],
   "source": [
    "time.sleep(7)\n",
    "\n",
    "myelement = driver.find_element_by_xpath('//*[@id=\"load_more\"]')\n",
    "\n",
    "while myelement.is_displayed():\n",
    "    if myelement.is_displayed():\n",
    "        myelement.click()\n",
    "\n",
    "time.sleep(3)"
   ]
  },
  {
   "cell_type": "code",
   "execution_count": 1013,
   "metadata": {},
   "outputs": [],
   "source": [
    "soup = BeautifulSoup(driver.page_source)\n",
    "player = soup.findAll('div',attrs={'class':'lb-detailItem-wrap'})\n",
    "\n",
    "player_names = []\n",
    "avg_tackle_points = []\n",
    "\n",
    "for item in player:\n",
    "    \n",
    "    #Fetching the Player Name\n",
    "    itm1 = item.find('div',attrs={'class':'sipk-lb-playerName'}).span.text.replace('\\n', ' ').strip()\n",
    "    player_names.append(itm1)\n",
    "    \n",
    "    #Fetching the Raid Points scored by a Player\n",
    "    itm2 = item.find('div',attrs={'class':'sipk-lb-detailBlock sipk-lb-raidPoints'}).span.text\n",
    "    avg_tackle_points.append(itm2)\n",
    "\n",
    "#print(player_names)\n",
    "#print(avg_tackle_points)"
   ]
  },
  {
   "cell_type": "code",
   "execution_count": 1014,
   "metadata": {},
   "outputs": [],
   "source": [
    "pyr_avg_tackle_points_seas1 = pd.DataFrame({'name':player_names, 'avg_tackle_points':avg_tackle_points})\n",
    "\n",
    "#pyr_avg_tackle_points_seas1.head()"
   ]
  },
  {
   "cell_type": "markdown",
   "metadata": {},
   "source": [
    "Get Do Or Die Raid Points"
   ]
  },
  {
   "cell_type": "code",
   "execution_count": 1015,
   "metadata": {},
   "outputs": [],
   "source": [
    "driver.get('https://www.prokabaddi.com/stats/1-132-do-or-die-raid-points-statistics')"
   ]
  },
  {
   "cell_type": "markdown",
   "metadata": {},
   "source": [
    "Wait for above cell to execute"
   ]
  },
  {
   "cell_type": "code",
   "execution_count": 1016,
   "metadata": {},
   "outputs": [],
   "source": [
    "time.sleep(7)\n",
    "\n",
    "myelement = driver.find_element_by_xpath('//*[@id=\"load_more\"]')\n",
    "\n",
    "while myelement.is_displayed():\n",
    "    if myelement.is_displayed():\n",
    "        myelement.click()\n",
    "\n",
    "time.sleep(3)"
   ]
  },
  {
   "cell_type": "code",
   "execution_count": 1017,
   "metadata": {},
   "outputs": [],
   "source": [
    "soup = BeautifulSoup(driver.page_source)\n",
    "player = soup.findAll('div',attrs={'class':'lb-detailItem-wrap'})\n",
    "\n",
    "player_names = []\n",
    "dod_raid_points = []\n",
    "\n",
    "for item in player:\n",
    "    \n",
    "    #Fetching the Player Name\n",
    "    itm1 = item.find('div',attrs={'class':'sipk-lb-playerName'}).span.text.replace('\\n', ' ').strip()\n",
    "    player_names.append(itm1)\n",
    "    \n",
    "    #Fetching the Raid Points scored by a Player\n",
    "    itm2 = item.find('div',attrs={'class':'sipk-lb-detailBlock sipk-lb-raidPoints'}).span.text\n",
    "    dod_raid_points.append(itm2)\n",
    "\n",
    "#print(player_names)\n",
    "#print(dod_raid_points)"
   ]
  },
  {
   "cell_type": "code",
   "execution_count": 1018,
   "metadata": {},
   "outputs": [],
   "source": [
    "pyr_dod_raid_points_seas1 = pd.DataFrame({'name':player_names, 'dod_raid_points':dod_raid_points})\n",
    "\n",
    "#pyr_dod_raid_points_seas1.head()"
   ]
  },
  {
   "cell_type": "markdown",
   "metadata": {},
   "source": [
    "Get Super Raids"
   ]
  },
  {
   "cell_type": "code",
   "execution_count": 1019,
   "metadata": {},
   "outputs": [],
   "source": [
    "driver.get('https://www.prokabaddi.com/stats/1-104-super-raids-statistics')"
   ]
  },
  {
   "cell_type": "markdown",
   "metadata": {},
   "source": [
    "Wait for above cell to execute"
   ]
  },
  {
   "cell_type": "code",
   "execution_count": 1020,
   "metadata": {},
   "outputs": [],
   "source": [
    "time.sleep(7)\n",
    "\n",
    "myelement = driver.find_element_by_xpath('//*[@id=\"load_more\"]')\n",
    "\n",
    "while myelement.is_displayed():\n",
    "    if myelement.is_displayed():\n",
    "        myelement.click()\n",
    "\n",
    "time.sleep(3)"
   ]
  },
  {
   "cell_type": "code",
   "execution_count": 1021,
   "metadata": {},
   "outputs": [],
   "source": [
    "soup = BeautifulSoup(driver.page_source)\n",
    "player = soup.findAll('div',attrs={'class':'lb-detailItem-wrap'})\n",
    "\n",
    "player_names = []\n",
    "super_raids = []\n",
    "\n",
    "for item in player:\n",
    "    \n",
    "    #Fetching the Player Name\n",
    "    itm1 = item.find('div',attrs={'class':'sipk-lb-playerName'}).span.text.replace('\\n', ' ').strip()\n",
    "    player_names.append(itm1)\n",
    "    \n",
    "    #Fetching the Raid Points scored by a Player\n",
    "    itm2 = item.find('div',attrs={'class':'sipk-lb-detailBlock sipk-lb-raidPoints'}).span.text\n",
    "    super_raids.append(itm2)\n",
    "\n",
    "#print(player_names)\n",
    "#print(super_raids)"
   ]
  },
  {
   "cell_type": "code",
   "execution_count": 1022,
   "metadata": {},
   "outputs": [],
   "source": [
    "pyr_super_raids_seas1 = pd.DataFrame({'name':player_names, 'super_raids':super_raids})\n",
    "\n",
    "#pyr_super_raids_seas1.head()"
   ]
  },
  {
   "cell_type": "markdown",
   "metadata": {},
   "source": [
    "Get Super Tackles"
   ]
  },
  {
   "cell_type": "code",
   "execution_count": 1023,
   "metadata": {},
   "outputs": [],
   "source": [
    "driver.get('https://www.prokabaddi.com/stats/1-28-super-tackles-statistics')"
   ]
  },
  {
   "cell_type": "markdown",
   "metadata": {},
   "source": [
    "Wait for above cell to execute"
   ]
  },
  {
   "cell_type": "code",
   "execution_count": 1024,
   "metadata": {},
   "outputs": [],
   "source": [
    "time.sleep(7)\n",
    "\n",
    "myelement = driver.find_element_by_xpath('//*[@id=\"load_more\"]')\n",
    "\n",
    "while myelement.is_displayed():\n",
    "    if myelement.is_displayed():\n",
    "        myelement.click()\n",
    "\n",
    "time.sleep(3)"
   ]
  },
  {
   "cell_type": "code",
   "execution_count": 1025,
   "metadata": {},
   "outputs": [],
   "source": [
    "soup = BeautifulSoup(driver.page_source)\n",
    "player = soup.findAll('div',attrs={'class':'lb-detailItem-wrap'})\n",
    "\n",
    "player_names = []\n",
    "super_tackles = []\n",
    "\n",
    "for item in player:\n",
    "    \n",
    "    #Fetching the Player Name\n",
    "    itm1 = item.find('div',attrs={'class':'sipk-lb-playerName'}).span.text.replace('\\n', ' ').strip()\n",
    "    player_names.append(itm1)\n",
    "    \n",
    "    #Fetching the Raid Points scored by a Player\n",
    "    itm2 = item.find('div',attrs={'class':'sipk-lb-detailBlock sipk-lb-raidPoints'}).span.text\n",
    "    super_tackles.append(itm2)\n",
    "\n",
    "#print(player_names)\n",
    "#print(super_tackles)"
   ]
  },
  {
   "cell_type": "code",
   "execution_count": 1026,
   "metadata": {
    "scrolled": true
   },
   "outputs": [],
   "source": [
    "pyr_super_tackles_seas1 = pd.DataFrame({'name':player_names, 'super_tackles':super_tackles})\n",
    "\n",
    "#pyr_super_tackles_seas1.head()"
   ]
  },
  {
   "cell_type": "markdown",
   "metadata": {},
   "source": [
    "Get Super 10s"
   ]
  },
  {
   "cell_type": "code",
   "execution_count": 1027,
   "metadata": {},
   "outputs": [],
   "source": [
    "driver.get('https://www.prokabaddi.com/stats/1-100-super-10s-statistics')"
   ]
  },
  {
   "cell_type": "markdown",
   "metadata": {},
   "source": [
    "Wait for above cell to execute"
   ]
  },
  {
   "cell_type": "code",
   "execution_count": 1028,
   "metadata": {},
   "outputs": [],
   "source": [
    "time.sleep(7)\n",
    "\n",
    "myelement = driver.find_element_by_xpath('//*[@id=\"load_more\"]')\n",
    "\n",
    "while myelement.is_displayed():\n",
    "    if myelement.is_displayed():\n",
    "        myelement.click()\n",
    "\n",
    "time.sleep(3)"
   ]
  },
  {
   "cell_type": "code",
   "execution_count": 1029,
   "metadata": {},
   "outputs": [],
   "source": [
    "soup = BeautifulSoup(driver.page_source)\n",
    "player = soup.findAll('div',attrs={'class':'lb-detailItem-wrap'})\n",
    "\n",
    "player_names = []\n",
    "super_10s = []\n",
    "\n",
    "for item in player:\n",
    "    \n",
    "    #Fetching the Player Name\n",
    "    itm1 = item.find('div',attrs={'class':'sipk-lb-playerName'}).span.text.replace('\\n', ' ').strip()\n",
    "    player_names.append(itm1)\n",
    "    \n",
    "    #Fetching the Raid Points scored by a Player\n",
    "    itm2 = item.find('div',attrs={'class':'sipk-lb-detailBlock sipk-lb-raidPoints'}).span.text\n",
    "    super_10s.append(itm2)\n",
    "\n",
    "#print(player_names)\n",
    "#print(super_10s)"
   ]
  },
  {
   "cell_type": "code",
   "execution_count": 1030,
   "metadata": {
    "scrolled": false
   },
   "outputs": [],
   "source": [
    "pyr_super_10s_seas1 = pd.DataFrame({'name':player_names, 'super_10s':super_10s})\n",
    "\n",
    "#pyr_super_10s_seas1.head()"
   ]
  },
  {
   "cell_type": "markdown",
   "metadata": {},
   "source": [
    "Get High 5s"
   ]
  },
  {
   "cell_type": "code",
   "execution_count": 1031,
   "metadata": {},
   "outputs": [],
   "source": [
    "driver.get('https://www.prokabaddi.com/stats/1-101-high-5s-statistics')"
   ]
  },
  {
   "cell_type": "markdown",
   "metadata": {},
   "source": [
    "Wait for above cell to execute"
   ]
  },
  {
   "cell_type": "code",
   "execution_count": 1032,
   "metadata": {},
   "outputs": [],
   "source": [
    "time.sleep(7)\n",
    "\n",
    "myelement = driver.find_element_by_xpath('//*[@id=\"load_more\"]')\n",
    "\n",
    "while myelement.is_displayed():\n",
    "    if myelement.is_displayed():\n",
    "        myelement.click()\n",
    "\n",
    "time.sleep(3)"
   ]
  },
  {
   "cell_type": "code",
   "execution_count": 1033,
   "metadata": {},
   "outputs": [],
   "source": [
    "soup = BeautifulSoup(driver.page_source)\n",
    "player = soup.findAll('div',attrs={'class':'lb-detailItem-wrap'})\n",
    "\n",
    "player_names = []\n",
    "high_5s = []\n",
    "\n",
    "for item in player:\n",
    "    \n",
    "    #Fetching the Player Name\n",
    "    itm1 = item.find('div',attrs={'class':'sipk-lb-playerName'}).span.text.replace('\\n', ' ').strip()\n",
    "    player_names.append(itm1)\n",
    "    \n",
    "    #Fetching the Raid Points scored by a Player\n",
    "    itm2 = item.find('div',attrs={'class':'sipk-lb-detailBlock sipk-lb-raidPoints'}).span.text\n",
    "    high_5s.append(itm2)\n",
    "\n",
    "#print(player_names)\n",
    "#print(high_5s)"
   ]
  },
  {
   "cell_type": "code",
   "execution_count": 1034,
   "metadata": {
    "scrolled": false
   },
   "outputs": [],
   "source": [
    "pyr_high_5s_seas1 = pd.DataFrame({'name':player_names, 'high_5s':high_5s})\n",
    "\n",
    "#pyr_high_5s_seas1.head()"
   ]
  },
  {
   "cell_type": "markdown",
   "metadata": {},
   "source": [
    "Merge Player Stats into a master frame"
   ]
  },
  {
   "cell_type": "code",
   "execution_count": 1035,
   "metadata": {},
   "outputs": [
    {
     "data": {
      "text/html": [
       "<div>\n",
       "<style scoped>\n",
       "    .dataframe tbody tr th:only-of-type {\n",
       "        vertical-align: middle;\n",
       "    }\n",
       "\n",
       "    .dataframe tbody tr th {\n",
       "        vertical-align: top;\n",
       "    }\n",
       "\n",
       "    .dataframe thead th {\n",
       "        text-align: right;\n",
       "    }\n",
       "</style>\n",
       "<table border=\"1\" class=\"dataframe\">\n",
       "  <thead>\n",
       "    <tr style=\"text-align: right;\">\n",
       "      <th></th>\n",
       "      <th>name</th>\n",
       "      <th>profile</th>\n",
       "      <th>team</th>\n",
       "      <th>matches_played</th>\n",
       "      <th>total_points</th>\n",
       "      <th>success_raids</th>\n",
       "      <th>raid_points</th>\n",
       "      <th>success_tackles</th>\n",
       "      <th>tackle_points</th>\n",
       "      <th>avg_raid_points</th>\n",
       "      <th>avg_tackle_points</th>\n",
       "      <th>dod_raid_points</th>\n",
       "      <th>super_raids</th>\n",
       "      <th>super_tackles</th>\n",
       "      <th>super_10s</th>\n",
       "      <th>high_5s</th>\n",
       "    </tr>\n",
       "  </thead>\n",
       "  <tbody>\n",
       "    <tr>\n",
       "      <th>0</th>\n",
       "      <td>Anup Kumar</td>\n",
       "      <td>Raider</td>\n",
       "      <td>u-mumba</td>\n",
       "      <td>16</td>\n",
       "      <td>169</td>\n",
       "      <td>123</td>\n",
       "      <td>155</td>\n",
       "      <td>12</td>\n",
       "      <td>14</td>\n",
       "      <td>9.69</td>\n",
       "      <td>0.88</td>\n",
       "      <td>13</td>\n",
       "      <td>8</td>\n",
       "      <td>2</td>\n",
       "      <td>10</td>\n",
       "      <td>0</td>\n",
       "    </tr>\n",
       "    <tr>\n",
       "      <th>1</th>\n",
       "      <td>Rahul Chaudhari</td>\n",
       "      <td>Raider</td>\n",
       "      <td>telugu-titans</td>\n",
       "      <td>14</td>\n",
       "      <td>161</td>\n",
       "      <td>122</td>\n",
       "      <td>151</td>\n",
       "      <td>9</td>\n",
       "      <td>10</td>\n",
       "      <td>10.79</td>\n",
       "      <td>0.71</td>\n",
       "      <td>8</td>\n",
       "      <td>2</td>\n",
       "      <td>1</td>\n",
       "      <td>8</td>\n",
       "      <td>0</td>\n",
       "    </tr>\n",
       "    <tr>\n",
       "      <th>2</th>\n",
       "      <td>Maninder Singh</td>\n",
       "      <td>Raider</td>\n",
       "      <td>jaipur-pink-panthers</td>\n",
       "      <td>16</td>\n",
       "      <td>137</td>\n",
       "      <td>103</td>\n",
       "      <td>130</td>\n",
       "      <td>6</td>\n",
       "      <td>7</td>\n",
       "      <td>8.13</td>\n",
       "      <td>0.44</td>\n",
       "      <td>22</td>\n",
       "      <td>3</td>\n",
       "      <td>1</td>\n",
       "      <td>5</td>\n",
       "      <td>0</td>\n",
       "    </tr>\n",
       "    <tr>\n",
       "      <th>3</th>\n",
       "      <td>Ajay Thakur</td>\n",
       "      <td>Raider</td>\n",
       "      <td>bengaluru-bulls</td>\n",
       "      <td>15</td>\n",
       "      <td>127</td>\n",
       "      <td>96</td>\n",
       "      <td>122</td>\n",
       "      <td>5</td>\n",
       "      <td>5</td>\n",
       "      <td>8.13</td>\n",
       "      <td>0.33</td>\n",
       "      <td>8</td>\n",
       "      <td>2</td>\n",
       "      <td>0</td>\n",
       "      <td>5</td>\n",
       "      <td>0</td>\n",
       "    </tr>\n",
       "    <tr>\n",
       "      <th>4</th>\n",
       "      <td>Kashiling Adake</td>\n",
       "      <td>Raider</td>\n",
       "      <td>dabang-delhi-kc</td>\n",
       "      <td>14</td>\n",
       "      <td>122</td>\n",
       "      <td>92</td>\n",
       "      <td>113</td>\n",
       "      <td>8</td>\n",
       "      <td>9</td>\n",
       "      <td>8.07</td>\n",
       "      <td>0.64</td>\n",
       "      <td>18</td>\n",
       "      <td>3</td>\n",
       "      <td>1</td>\n",
       "      <td>5</td>\n",
       "      <td>0</td>\n",
       "    </tr>\n",
       "  </tbody>\n",
       "</table>\n",
       "</div>"
      ],
      "text/plain": [
       "              name profile                  team matches_played total_points  \\\n",
       "0       Anup Kumar  Raider               u-mumba             16          169   \n",
       "1  Rahul Chaudhari  Raider         telugu-titans             14          161   \n",
       "2   Maninder Singh  Raider  jaipur-pink-panthers             16          137   \n",
       "3      Ajay Thakur  Raider       bengaluru-bulls             15          127   \n",
       "4  Kashiling Adake  Raider       dabang-delhi-kc             14          122   \n",
       "\n",
       "  success_raids raid_points success_tackles tackle_points avg_raid_points  \\\n",
       "0           123         155              12            14            9.69   \n",
       "1           122         151               9            10           10.79   \n",
       "2           103         130               6             7            8.13   \n",
       "3            96         122               5             5            8.13   \n",
       "4            92         113               8             9            8.07   \n",
       "\n",
       "  avg_tackle_points dod_raid_points super_raids super_tackles super_10s  \\\n",
       "0              0.88              13           8             2        10   \n",
       "1              0.71               8           2             1         8   \n",
       "2              0.44              22           3             1         5   \n",
       "3              0.33               8           2             0         5   \n",
       "4              0.64              18           3             1         5   \n",
       "\n",
       "  high_5s  \n",
       "0       0  \n",
       "1       0  \n",
       "2       0  \n",
       "3       0  \n",
       "4       0  "
      ]
     },
     "execution_count": 1035,
     "metadata": {},
     "output_type": "execute_result"
    }
   ],
   "source": [
    "temp1 = pd.merge(pyr_tot_points_seas1, pyr_success_raids_seas1, on='name', how='left')\n",
    "temp2 = pd.merge(temp1, pyr_raid_points_seas1, on='name', how='left')\n",
    "temp3 = pd.merge(temp2, pyr_success_tackles_seas1, on='name', how='left')\n",
    "temp4 = pd.merge(temp3, pyr_tackle_points_seas1, on='name', how='left')\n",
    "temp5 = pd.merge(temp4, pyr_avg_raid_points_seas1, on='name', how='left')\n",
    "temp6 = pd.merge(temp5, pyr_avg_tackle_points_seas1, on='name', how='left')\n",
    "temp7 = pd.merge(temp6, pyr_dod_raid_points_seas1, on='name', how='left')\n",
    "temp8 = pd.merge(temp7, pyr_super_raids_seas1, on='name', how='left')\n",
    "temp9 = pd.merge(temp8, pyr_super_tackles_seas1, on='name', how='left')\n",
    "temp10 = pd.merge(temp9, pyr_super_10s_seas1, on='name', how='left')\n",
    "season1_plyr_stats = pd.merge(temp10, pyr_high_5s_seas1, on='name', how='left')\n",
    "\n",
    "season1_plyr_stats = season1_plyr_stats.fillna(0)\n",
    "\n",
    "season1_plyr_stats.head()"
   ]
  },
  {
   "cell_type": "code",
   "execution_count": 1036,
   "metadata": {},
   "outputs": [],
   "source": [
    "outfile = open('data/season1_player_stats.csv', mode='w')\n",
    "season1_plyr_stats.to_csv('data/season1_player_stats.csv', mode='w', index = False, header=True)\n",
    "outfile.close()"
   ]
  },
  {
   "cell_type": "markdown",
   "metadata": {},
   "source": [
    "### Team Stats"
   ]
  },
  {
   "cell_type": "markdown",
   "metadata": {},
   "source": [
    "Getting the Team Stats<br>\n",
    "First we will get the Total Points secured by Each Team"
   ]
  },
  {
   "cell_type": "code",
   "execution_count": 1037,
   "metadata": {},
   "outputs": [],
   "source": [
    "driver.get('https://www.prokabaddi.com/stats/1-96-total-points-scored-statistics')\n",
    "time.sleep(5)"
   ]
  },
  {
   "cell_type": "code",
   "execution_count": 1038,
   "metadata": {},
   "outputs": [],
   "source": [
    "soup = BeautifulSoup(driver.page_source)\n",
    "team = soup.findAll('div',attrs={'class':'lb-detailItem-wrap'})\n",
    "\n",
    "team_names = []\n",
    "matches_played = []\n",
    "total_points = []\n",
    "\n",
    "for item in team:\n",
    "    \n",
    "    #Fetching the Team\n",
    "    itm1 = item.find('a',attrs={'class':'sipk-lb-detailBlock sipk-playerDesc'})\n",
    "    srch = re.findall('u-mumba|telugu-titans|jaipur-pink-panthers|bengaluru-bulls|dabang-delhi-kc|patna-pirates|puneri-paltan|bengal-warriors', itm1.attrs['href'])\n",
    "    team_names.append(srch[0])\n",
    "    \n",
    "    #Fetching the Matches Played by Team\n",
    "    itm2 = item.find('div',attrs={'class':'sipk-lb-detailBlock sipk-lb-matchedPlayed'}).span.text\n",
    "    matches_played.append(itm2)\n",
    "    \n",
    "    #Fetching the Total Points scored by a Team\n",
    "    itm3 = item.find('div',attrs={'class':'sipk-lb-detailBlock sipk-lb-raidPoints'}).span.text\n",
    "    total_points.append(itm3)\n",
    "\n",
    "#print(team_names)\n",
    "#print(matches_played)\n",
    "#print(total_points)"
   ]
  },
  {
   "cell_type": "code",
   "execution_count": 1039,
   "metadata": {},
   "outputs": [
    {
     "data": {
      "text/html": [
       "<div>\n",
       "<style scoped>\n",
       "    .dataframe tbody tr th:only-of-type {\n",
       "        vertical-align: middle;\n",
       "    }\n",
       "\n",
       "    .dataframe tbody tr th {\n",
       "        vertical-align: top;\n",
       "    }\n",
       "\n",
       "    .dataframe thead th {\n",
       "        text-align: right;\n",
       "    }\n",
       "</style>\n",
       "<table border=\"1\" class=\"dataframe\">\n",
       "  <thead>\n",
       "    <tr style=\"text-align: right;\">\n",
       "      <th></th>\n",
       "      <th>team_name</th>\n",
       "      <th>matches_played</th>\n",
       "      <th>total_points_scored</th>\n",
       "    </tr>\n",
       "  </thead>\n",
       "  <tbody>\n",
       "    <tr>\n",
       "      <th>0</th>\n",
       "      <td>jaipur-pink-panthers</td>\n",
       "      <td>16</td>\n",
       "      <td>579</td>\n",
       "    </tr>\n",
       "    <tr>\n",
       "      <th>1</th>\n",
       "      <td>u-mumba</td>\n",
       "      <td>16</td>\n",
       "      <td>550</td>\n",
       "    </tr>\n",
       "    <tr>\n",
       "      <th>2</th>\n",
       "      <td>patna-pirates</td>\n",
       "      <td>16</td>\n",
       "      <td>504</td>\n",
       "    </tr>\n",
       "    <tr>\n",
       "      <th>3</th>\n",
       "      <td>bengaluru-bulls</td>\n",
       "      <td>16</td>\n",
       "      <td>498</td>\n",
       "    </tr>\n",
       "    <tr>\n",
       "      <th>4</th>\n",
       "      <td>telugu-titans</td>\n",
       "      <td>14</td>\n",
       "      <td>497</td>\n",
       "    </tr>\n",
       "  </tbody>\n",
       "</table>\n",
       "</div>"
      ],
      "text/plain": [
       "              team_name matches_played total_points_scored\n",
       "0  jaipur-pink-panthers             16                 579\n",
       "1               u-mumba             16                 550\n",
       "2         patna-pirates             16                 504\n",
       "3       bengaluru-bulls             16                 498\n",
       "4         telugu-titans             14                 497"
      ]
     },
     "execution_count": 1039,
     "metadata": {},
     "output_type": "execute_result"
    }
   ],
   "source": [
    "team_tot_points_seas1 = pd.DataFrame({'team_name':team_names, 'matches_played':matches_played\n",
    "                                      , 'total_points_scored':total_points})\n",
    "\n",
    "team_tot_points_seas1.head()"
   ]
  },
  {
   "cell_type": "markdown",
   "metadata": {},
   "source": [
    "Total Points Conceded"
   ]
  },
  {
   "cell_type": "code",
   "execution_count": 1040,
   "metadata": {},
   "outputs": [],
   "source": [
    "driver.get('https://www.prokabaddi.com/stats/1-133-total-points-conceded-statistics')\n",
    "time.sleep(5)"
   ]
  },
  {
   "cell_type": "code",
   "execution_count": 1041,
   "metadata": {},
   "outputs": [],
   "source": [
    "soup = BeautifulSoup(driver.page_source)\n",
    "team = soup.findAll('div',attrs={'class':'lb-detailItem-wrap'})\n",
    "\n",
    "team_names = []\n",
    "total_points_conceded = []\n",
    "\n",
    "for item in team:\n",
    "    \n",
    "    itm1 = item.find('a',attrs={'class':'sipk-lb-detailBlock sipk-playerDesc'})\n",
    "    srch = re.findall('u-mumba|telugu-titans|jaipur-pink-panthers|bengaluru-bulls|dabang-delhi-kc|patna-pirates|puneri-paltan|bengal-warriors', itm1.attrs['href'])\n",
    "    team_names.append(srch[0])\n",
    "    \n",
    "    itm3 = item.find('div',attrs={'class':'sipk-lb-detailBlock sipk-lb-raidPoints'}).span.text\n",
    "    total_points_conceded.append(itm3)\n",
    "\n",
    "#print(team_names)\n",
    "#print(total_points_conceded)"
   ]
  },
  {
   "cell_type": "code",
   "execution_count": 1042,
   "metadata": {},
   "outputs": [],
   "source": [
    "team_tot_points_conceded_seas1 = pd.DataFrame({'team_name':team_names, 'total_points_conceded':total_points_conceded})\n",
    "\n",
    "#team_tot_points_conceded_seas1.head()"
   ]
  },
  {
   "cell_type": "markdown",
   "metadata": {},
   "source": [
    "Average Points Scored"
   ]
  },
  {
   "cell_type": "code",
   "execution_count": 1043,
   "metadata": {},
   "outputs": [],
   "source": [
    "driver.get('https://www.prokabaddi.com/stats/1-140-avg-points-scored-statistics')\n",
    "time.sleep(5)"
   ]
  },
  {
   "cell_type": "code",
   "execution_count": 1044,
   "metadata": {},
   "outputs": [
    {
     "name": "stdout",
     "output_type": "stream",
     "text": [
      "['jaipur-pink-panthers', 'u-mumba', 'telugu-titans', 'dabang-delhi-kc', 'bengal-warriors', 'patna-pirates', 'bengaluru-bulls', 'puneri-paltan']\n",
      "['32.12', '31.5', '31.42', '29.92', '28.92', '28.62', '28.37', '26.85']\n"
     ]
    }
   ],
   "source": [
    "soup = BeautifulSoup(driver.page_source)\n",
    "team = soup.findAll('div',attrs={'class':'lb-detailItem-wrap'})\n",
    "\n",
    "team_names = []\n",
    "avg_points_scored = []\n",
    "\n",
    "for item in team:\n",
    "    \n",
    "    itm1 = item.find('a',attrs={'class':'sipk-lb-detailBlock sipk-playerDesc'})\n",
    "    srch = re.findall('u-mumba|telugu-titans|jaipur-pink-panthers|bengaluru-bulls|dabang-delhi-kc|patna-pirates|puneri-paltan|bengal-warriors', itm1.attrs['href'])\n",
    "    team_names.append(srch[0])\n",
    "    \n",
    "    itm3 = item.find('div',attrs={'class':'sipk-lb-detailBlock sipk-lb-raidPoints'}).span.text\n",
    "    avg_points_scored.append(itm3)\n",
    "\n",
    "print(team_names)\n",
    "print(avg_points_scored)"
   ]
  },
  {
   "cell_type": "code",
   "execution_count": 1045,
   "metadata": {},
   "outputs": [
    {
     "data": {
      "text/html": [
       "<div>\n",
       "<style scoped>\n",
       "    .dataframe tbody tr th:only-of-type {\n",
       "        vertical-align: middle;\n",
       "    }\n",
       "\n",
       "    .dataframe tbody tr th {\n",
       "        vertical-align: top;\n",
       "    }\n",
       "\n",
       "    .dataframe thead th {\n",
       "        text-align: right;\n",
       "    }\n",
       "</style>\n",
       "<table border=\"1\" class=\"dataframe\">\n",
       "  <thead>\n",
       "    <tr style=\"text-align: right;\">\n",
       "      <th></th>\n",
       "      <th>team_name</th>\n",
       "      <th>team_avg_points</th>\n",
       "    </tr>\n",
       "  </thead>\n",
       "  <tbody>\n",
       "    <tr>\n",
       "      <th>0</th>\n",
       "      <td>jaipur-pink-panthers</td>\n",
       "      <td>32.12</td>\n",
       "    </tr>\n",
       "    <tr>\n",
       "      <th>1</th>\n",
       "      <td>u-mumba</td>\n",
       "      <td>31.5</td>\n",
       "    </tr>\n",
       "    <tr>\n",
       "      <th>2</th>\n",
       "      <td>telugu-titans</td>\n",
       "      <td>31.42</td>\n",
       "    </tr>\n",
       "    <tr>\n",
       "      <th>3</th>\n",
       "      <td>dabang-delhi-kc</td>\n",
       "      <td>29.92</td>\n",
       "    </tr>\n",
       "    <tr>\n",
       "      <th>4</th>\n",
       "      <td>bengal-warriors</td>\n",
       "      <td>28.92</td>\n",
       "    </tr>\n",
       "  </tbody>\n",
       "</table>\n",
       "</div>"
      ],
      "text/plain": [
       "              team_name team_avg_points\n",
       "0  jaipur-pink-panthers           32.12\n",
       "1               u-mumba            31.5\n",
       "2         telugu-titans           31.42\n",
       "3       dabang-delhi-kc           29.92\n",
       "4       bengal-warriors           28.92"
      ]
     },
     "execution_count": 1045,
     "metadata": {},
     "output_type": "execute_result"
    }
   ],
   "source": [
    "team_avg_points_scored_seas1 = pd.DataFrame({'team_name':team_names, 'team_avg_points':avg_points_scored})\n",
    "team_avg_points_scored_seas1.head()"
   ]
  },
  {
   "cell_type": "markdown",
   "metadata": {},
   "source": [
    "Successful Raids"
   ]
  },
  {
   "cell_type": "code",
   "execution_count": 1046,
   "metadata": {},
   "outputs": [],
   "source": [
    "driver.get('https://www.prokabaddi.com/stats/1-13-successful-raids-statistics')\n",
    "time.sleep(5)"
   ]
  },
  {
   "cell_type": "code",
   "execution_count": 1047,
   "metadata": {},
   "outputs": [
    {
     "name": "stdout",
     "output_type": "stream",
     "text": [
      "['telugu-titans', 'u-mumba', 'jaipur-pink-panthers', 'patna-pirates', 'dabang-delhi-kc', 'bengaluru-bulls', 'bengal-warriors', 'puneri-paltan']\n",
      "['272', '270', '270', '253', '246', '225', '213', '204']\n"
     ]
    }
   ],
   "source": [
    "soup = BeautifulSoup(driver.page_source)\n",
    "team = soup.findAll('div',attrs={'class':'lb-detailItem-wrap'})\n",
    "\n",
    "team_names = []\n",
    "team_success_raids = []\n",
    "\n",
    "for item in team:\n",
    "    \n",
    "    itm1 = item.find('a',attrs={'class':'sipk-lb-detailBlock sipk-playerDesc'})\n",
    "    srch = re.findall('u-mumba|telugu-titans|jaipur-pink-panthers|bengaluru-bulls|dabang-delhi-kc|patna-pirates|puneri-paltan|bengal-warriors', itm1.attrs['href'])\n",
    "    team_names.append(srch[0])\n",
    "    \n",
    "    itm3 = item.find('div',attrs={'class':'sipk-lb-detailBlock sipk-lb-raidPoints'}).span.text\n",
    "    team_success_raids.append(itm3)\n",
    "\n",
    "print(team_names)\n",
    "print(team_success_raids)"
   ]
  },
  {
   "cell_type": "code",
   "execution_count": 1048,
   "metadata": {
    "scrolled": true
   },
   "outputs": [
    {
     "data": {
      "text/html": [
       "<div>\n",
       "<style scoped>\n",
       "    .dataframe tbody tr th:only-of-type {\n",
       "        vertical-align: middle;\n",
       "    }\n",
       "\n",
       "    .dataframe tbody tr th {\n",
       "        vertical-align: top;\n",
       "    }\n",
       "\n",
       "    .dataframe thead th {\n",
       "        text-align: right;\n",
       "    }\n",
       "</style>\n",
       "<table border=\"1\" class=\"dataframe\">\n",
       "  <thead>\n",
       "    <tr style=\"text-align: right;\">\n",
       "      <th></th>\n",
       "      <th>team_name</th>\n",
       "      <th>team_success_raids</th>\n",
       "    </tr>\n",
       "  </thead>\n",
       "  <tbody>\n",
       "    <tr>\n",
       "      <th>0</th>\n",
       "      <td>telugu-titans</td>\n",
       "      <td>272</td>\n",
       "    </tr>\n",
       "    <tr>\n",
       "      <th>1</th>\n",
       "      <td>u-mumba</td>\n",
       "      <td>270</td>\n",
       "    </tr>\n",
       "    <tr>\n",
       "      <th>2</th>\n",
       "      <td>jaipur-pink-panthers</td>\n",
       "      <td>270</td>\n",
       "    </tr>\n",
       "    <tr>\n",
       "      <th>3</th>\n",
       "      <td>patna-pirates</td>\n",
       "      <td>253</td>\n",
       "    </tr>\n",
       "    <tr>\n",
       "      <th>4</th>\n",
       "      <td>dabang-delhi-kc</td>\n",
       "      <td>246</td>\n",
       "    </tr>\n",
       "  </tbody>\n",
       "</table>\n",
       "</div>"
      ],
      "text/plain": [
       "              team_name team_success_raids\n",
       "0         telugu-titans                272\n",
       "1               u-mumba                270\n",
       "2  jaipur-pink-panthers                270\n",
       "3         patna-pirates                253\n",
       "4       dabang-delhi-kc                246"
      ]
     },
     "execution_count": 1048,
     "metadata": {},
     "output_type": "execute_result"
    }
   ],
   "source": [
    "team_success_raids_seas1 = pd.DataFrame({'team_name':team_names, 'team_success_raids':team_success_raids})\n",
    "team_success_raids_seas1.head()"
   ]
  },
  {
   "cell_type": "markdown",
   "metadata": {},
   "source": [
    "Raid Points"
   ]
  },
  {
   "cell_type": "code",
   "execution_count": 1049,
   "metadata": {},
   "outputs": [],
   "source": [
    "driver.get('https://www.prokabaddi.com/stats/1-97-raid-points-statistics')\n",
    "time.sleep(5)"
   ]
  },
  {
   "cell_type": "code",
   "execution_count": 1050,
   "metadata": {},
   "outputs": [
    {
     "name": "stdout",
     "output_type": "stream",
     "text": [
      "['u-mumba', 'jaipur-pink-panthers', 'telugu-titans', 'patna-pirates', 'bengaluru-bulls', 'dabang-delhi-kc', 'bengal-warriors', 'puneri-paltan']\n",
      "['347', '344', '336', '316', '291', '285', '283', '269']\n"
     ]
    }
   ],
   "source": [
    "soup = BeautifulSoup(driver.page_source)\n",
    "team = soup.findAll('div',attrs={'class':'lb-detailItem-wrap'})\n",
    "\n",
    "team_names = []\n",
    "team_raid_points = []\n",
    "\n",
    "for item in team:\n",
    "    \n",
    "    itm1 = item.find('a',attrs={'class':'sipk-lb-detailBlock sipk-playerDesc'})\n",
    "    srch = re.findall('u-mumba|telugu-titans|jaipur-pink-panthers|bengaluru-bulls|dabang-delhi-kc|patna-pirates|puneri-paltan|bengal-warriors', itm1.attrs['href'])\n",
    "    team_names.append(srch[0])\n",
    "    \n",
    "    itm3 = item.find('div',attrs={'class':'sipk-lb-detailBlock sipk-lb-raidPoints'}).span.text\n",
    "    team_raid_points.append(itm3)\n",
    "\n",
    "print(team_names)\n",
    "print(team_raid_points)"
   ]
  },
  {
   "cell_type": "code",
   "execution_count": 1051,
   "metadata": {
    "scrolled": true
   },
   "outputs": [
    {
     "data": {
      "text/html": [
       "<div>\n",
       "<style scoped>\n",
       "    .dataframe tbody tr th:only-of-type {\n",
       "        vertical-align: middle;\n",
       "    }\n",
       "\n",
       "    .dataframe tbody tr th {\n",
       "        vertical-align: top;\n",
       "    }\n",
       "\n",
       "    .dataframe thead th {\n",
       "        text-align: right;\n",
       "    }\n",
       "</style>\n",
       "<table border=\"1\" class=\"dataframe\">\n",
       "  <thead>\n",
       "    <tr style=\"text-align: right;\">\n",
       "      <th></th>\n",
       "      <th>team_name</th>\n",
       "      <th>team_raid_points</th>\n",
       "    </tr>\n",
       "  </thead>\n",
       "  <tbody>\n",
       "    <tr>\n",
       "      <th>0</th>\n",
       "      <td>u-mumba</td>\n",
       "      <td>347</td>\n",
       "    </tr>\n",
       "    <tr>\n",
       "      <th>1</th>\n",
       "      <td>jaipur-pink-panthers</td>\n",
       "      <td>344</td>\n",
       "    </tr>\n",
       "    <tr>\n",
       "      <th>2</th>\n",
       "      <td>telugu-titans</td>\n",
       "      <td>336</td>\n",
       "    </tr>\n",
       "    <tr>\n",
       "      <th>3</th>\n",
       "      <td>patna-pirates</td>\n",
       "      <td>316</td>\n",
       "    </tr>\n",
       "    <tr>\n",
       "      <th>4</th>\n",
       "      <td>bengaluru-bulls</td>\n",
       "      <td>291</td>\n",
       "    </tr>\n",
       "  </tbody>\n",
       "</table>\n",
       "</div>"
      ],
      "text/plain": [
       "              team_name team_raid_points\n",
       "0               u-mumba              347\n",
       "1  jaipur-pink-panthers              344\n",
       "2         telugu-titans              336\n",
       "3         patna-pirates              316\n",
       "4       bengaluru-bulls              291"
      ]
     },
     "execution_count": 1051,
     "metadata": {},
     "output_type": "execute_result"
    }
   ],
   "source": [
    "team_raid_points_seas1 = pd.DataFrame({'team_name':team_names, 'team_raid_points':team_raid_points})\n",
    "team_raid_points_seas1.head()"
   ]
  },
  {
   "cell_type": "markdown",
   "metadata": {},
   "source": [
    "Average Raid Points"
   ]
  },
  {
   "cell_type": "code",
   "execution_count": 1052,
   "metadata": {},
   "outputs": [],
   "source": [
    "driver.get('https://www.prokabaddi.com/stats/1-98-avg-raid-points-statistics')\n",
    "time.sleep(5)"
   ]
  },
  {
   "cell_type": "code",
   "execution_count": 1053,
   "metadata": {},
   "outputs": [
    {
     "name": "stdout",
     "output_type": "stream",
     "text": [
      "['telugu-titans', 'u-mumba', 'jaipur-pink-panthers', 'dabang-delhi-kc', 'bengal-warriors', 'patna-pirates', 'puneri-paltan', 'bengaluru-bulls']\n",
      "['24', '21.69', '21.5', '20.36', '20.21', '19.75', '19.21', '18.19']\n"
     ]
    }
   ],
   "source": [
    "soup = BeautifulSoup(driver.page_source)\n",
    "team = soup.findAll('div',attrs={'class':'lb-detailItem-wrap'})\n",
    "\n",
    "team_names = []\n",
    "team_avg_raid_points = []\n",
    "\n",
    "for item in team:\n",
    "    \n",
    "    itm1 = item.find('a',attrs={'class':'sipk-lb-detailBlock sipk-playerDesc'})\n",
    "    srch = re.findall('u-mumba|telugu-titans|jaipur-pink-panthers|bengaluru-bulls|dabang-delhi-kc|patna-pirates|puneri-paltan|bengal-warriors', itm1.attrs['href'])\n",
    "    team_names.append(srch[0])\n",
    "    \n",
    "    itm3 = item.find('div',attrs={'class':'sipk-lb-detailBlock sipk-lb-raidPoints'}).span.text\n",
    "    team_avg_raid_points.append(itm3)\n",
    "\n",
    "print(team_names)\n",
    "print(team_avg_raid_points)"
   ]
  },
  {
   "cell_type": "code",
   "execution_count": 1054,
   "metadata": {
    "scrolled": false
   },
   "outputs": [
    {
     "data": {
      "text/html": [
       "<div>\n",
       "<style scoped>\n",
       "    .dataframe tbody tr th:only-of-type {\n",
       "        vertical-align: middle;\n",
       "    }\n",
       "\n",
       "    .dataframe tbody tr th {\n",
       "        vertical-align: top;\n",
       "    }\n",
       "\n",
       "    .dataframe thead th {\n",
       "        text-align: right;\n",
       "    }\n",
       "</style>\n",
       "<table border=\"1\" class=\"dataframe\">\n",
       "  <thead>\n",
       "    <tr style=\"text-align: right;\">\n",
       "      <th></th>\n",
       "      <th>team_name</th>\n",
       "      <th>team_avg_raid_points</th>\n",
       "    </tr>\n",
       "  </thead>\n",
       "  <tbody>\n",
       "    <tr>\n",
       "      <th>0</th>\n",
       "      <td>telugu-titans</td>\n",
       "      <td>24</td>\n",
       "    </tr>\n",
       "    <tr>\n",
       "      <th>1</th>\n",
       "      <td>u-mumba</td>\n",
       "      <td>21.69</td>\n",
       "    </tr>\n",
       "    <tr>\n",
       "      <th>2</th>\n",
       "      <td>jaipur-pink-panthers</td>\n",
       "      <td>21.5</td>\n",
       "    </tr>\n",
       "    <tr>\n",
       "      <th>3</th>\n",
       "      <td>dabang-delhi-kc</td>\n",
       "      <td>20.36</td>\n",
       "    </tr>\n",
       "    <tr>\n",
       "      <th>4</th>\n",
       "      <td>bengal-warriors</td>\n",
       "      <td>20.21</td>\n",
       "    </tr>\n",
       "  </tbody>\n",
       "</table>\n",
       "</div>"
      ],
      "text/plain": [
       "              team_name team_avg_raid_points\n",
       "0         telugu-titans                   24\n",
       "1               u-mumba                21.69\n",
       "2  jaipur-pink-panthers                 21.5\n",
       "3       dabang-delhi-kc                20.36\n",
       "4       bengal-warriors                20.21"
      ]
     },
     "execution_count": 1054,
     "metadata": {},
     "output_type": "execute_result"
    }
   ],
   "source": [
    "team_avg_raid_points_seas1 = pd.DataFrame({'team_name':team_names, 'team_avg_raid_points':team_avg_raid_points})\n",
    "team_avg_raid_points_seas1.head()"
   ]
  },
  {
   "cell_type": "markdown",
   "metadata": {},
   "source": [
    "Successful Tackles"
   ]
  },
  {
   "cell_type": "code",
   "execution_count": 1055,
   "metadata": {},
   "outputs": [],
   "source": [
    "driver.get('https://www.prokabaddi.com/stats/1-15-successful-tackles-statistics')\n",
    "time.sleep(5)"
   ]
  },
  {
   "cell_type": "code",
   "execution_count": 1056,
   "metadata": {},
   "outputs": [
    {
     "name": "stdout",
     "output_type": "stream",
     "text": [
      "['jaipur-pink-panthers', 'bengaluru-bulls', 'u-mumba', 'patna-pirates', 'dabang-delhi-kc', 'bengal-warriors', 'telugu-titans', 'puneri-paltan']\n",
      "['158', '153', '145', '124', '124', '106', '96', '93']\n"
     ]
    }
   ],
   "source": [
    "soup = BeautifulSoup(driver.page_source)\n",
    "team = soup.findAll('div',attrs={'class':'lb-detailItem-wrap'})\n",
    "\n",
    "team_names = []\n",
    "team_success_tackles = []\n",
    "\n",
    "for item in team:\n",
    "    \n",
    "    itm1 = item.find('a',attrs={'class':'sipk-lb-detailBlock sipk-playerDesc'})\n",
    "    srch = re.findall('u-mumba|telugu-titans|jaipur-pink-panthers|bengaluru-bulls|dabang-delhi-kc|patna-pirates|puneri-paltan|bengal-warriors', itm1.attrs['href'])\n",
    "    team_names.append(srch[0])\n",
    "    \n",
    "    itm3 = item.find('div',attrs={'class':'sipk-lb-detailBlock sipk-lb-raidPoints'}).span.text\n",
    "    team_success_tackles.append(itm3)\n",
    "\n",
    "print(team_names)\n",
    "print(team_success_tackles)"
   ]
  },
  {
   "cell_type": "code",
   "execution_count": 1057,
   "metadata": {
    "scrolled": true
   },
   "outputs": [
    {
     "data": {
      "text/html": [
       "<div>\n",
       "<style scoped>\n",
       "    .dataframe tbody tr th:only-of-type {\n",
       "        vertical-align: middle;\n",
       "    }\n",
       "\n",
       "    .dataframe tbody tr th {\n",
       "        vertical-align: top;\n",
       "    }\n",
       "\n",
       "    .dataframe thead th {\n",
       "        text-align: right;\n",
       "    }\n",
       "</style>\n",
       "<table border=\"1\" class=\"dataframe\">\n",
       "  <thead>\n",
       "    <tr style=\"text-align: right;\">\n",
       "      <th></th>\n",
       "      <th>team_name</th>\n",
       "      <th>team_success_tackles</th>\n",
       "    </tr>\n",
       "  </thead>\n",
       "  <tbody>\n",
       "    <tr>\n",
       "      <th>0</th>\n",
       "      <td>jaipur-pink-panthers</td>\n",
       "      <td>158</td>\n",
       "    </tr>\n",
       "    <tr>\n",
       "      <th>1</th>\n",
       "      <td>bengaluru-bulls</td>\n",
       "      <td>153</td>\n",
       "    </tr>\n",
       "    <tr>\n",
       "      <th>2</th>\n",
       "      <td>u-mumba</td>\n",
       "      <td>145</td>\n",
       "    </tr>\n",
       "    <tr>\n",
       "      <th>3</th>\n",
       "      <td>patna-pirates</td>\n",
       "      <td>124</td>\n",
       "    </tr>\n",
       "    <tr>\n",
       "      <th>4</th>\n",
       "      <td>dabang-delhi-kc</td>\n",
       "      <td>124</td>\n",
       "    </tr>\n",
       "  </tbody>\n",
       "</table>\n",
       "</div>"
      ],
      "text/plain": [
       "              team_name team_success_tackles\n",
       "0  jaipur-pink-panthers                  158\n",
       "1       bengaluru-bulls                  153\n",
       "2               u-mumba                  145\n",
       "3         patna-pirates                  124\n",
       "4       dabang-delhi-kc                  124"
      ]
     },
     "execution_count": 1057,
     "metadata": {},
     "output_type": "execute_result"
    }
   ],
   "source": [
    "team_success_tackles_seas1 = pd.DataFrame({'team_name':team_names, 'team_success_tackles':team_success_tackles})\n",
    "team_success_tackles_seas1.head()"
   ]
  },
  {
   "cell_type": "markdown",
   "metadata": {},
   "source": [
    "Tackle Points"
   ]
  },
  {
   "cell_type": "code",
   "execution_count": 1058,
   "metadata": {},
   "outputs": [],
   "source": [
    "driver.get('https://www.prokabaddi.com/stats/1-95-tackle-points-statistics')\n",
    "time.sleep(5)"
   ]
  },
  {
   "cell_type": "code",
   "execution_count": 1059,
   "metadata": {},
   "outputs": [
    {
     "name": "stdout",
     "output_type": "stream",
     "text": [
      "['jaipur-pink-panthers', 'bengaluru-bulls', 'u-mumba', 'patna-pirates', 'dabang-delhi-kc', 'bengal-warriors', 'puneri-paltan', 'telugu-titans']\n",
      "['170', '163', '157', '142', '134', '122', '107', '104']\n"
     ]
    }
   ],
   "source": [
    "soup = BeautifulSoup(driver.page_source)\n",
    "team = soup.findAll('div',attrs={'class':'lb-detailItem-wrap'})\n",
    "\n",
    "team_names = []\n",
    "team_tackle_points = []\n",
    "\n",
    "for item in team:\n",
    "    \n",
    "    itm1 = item.find('a',attrs={'class':'sipk-lb-detailBlock sipk-playerDesc'})\n",
    "    srch = re.findall('u-mumba|telugu-titans|jaipur-pink-panthers|bengaluru-bulls|dabang-delhi-kc|patna-pirates|puneri-paltan|bengal-warriors', itm1.attrs['href'])\n",
    "    team_names.append(srch[0])\n",
    "    \n",
    "    itm3 = item.find('div',attrs={'class':'sipk-lb-detailBlock sipk-lb-raidPoints'}).span.text\n",
    "    team_tackle_points.append(itm3)\n",
    "\n",
    "print(team_names)\n",
    "print(team_tackle_points)"
   ]
  },
  {
   "cell_type": "code",
   "execution_count": 1060,
   "metadata": {
    "scrolled": true
   },
   "outputs": [
    {
     "data": {
      "text/html": [
       "<div>\n",
       "<style scoped>\n",
       "    .dataframe tbody tr th:only-of-type {\n",
       "        vertical-align: middle;\n",
       "    }\n",
       "\n",
       "    .dataframe tbody tr th {\n",
       "        vertical-align: top;\n",
       "    }\n",
       "\n",
       "    .dataframe thead th {\n",
       "        text-align: right;\n",
       "    }\n",
       "</style>\n",
       "<table border=\"1\" class=\"dataframe\">\n",
       "  <thead>\n",
       "    <tr style=\"text-align: right;\">\n",
       "      <th></th>\n",
       "      <th>team_name</th>\n",
       "      <th>team_tackle_points</th>\n",
       "    </tr>\n",
       "  </thead>\n",
       "  <tbody>\n",
       "    <tr>\n",
       "      <th>0</th>\n",
       "      <td>jaipur-pink-panthers</td>\n",
       "      <td>170</td>\n",
       "    </tr>\n",
       "    <tr>\n",
       "      <th>1</th>\n",
       "      <td>bengaluru-bulls</td>\n",
       "      <td>163</td>\n",
       "    </tr>\n",
       "    <tr>\n",
       "      <th>2</th>\n",
       "      <td>u-mumba</td>\n",
       "      <td>157</td>\n",
       "    </tr>\n",
       "    <tr>\n",
       "      <th>3</th>\n",
       "      <td>patna-pirates</td>\n",
       "      <td>142</td>\n",
       "    </tr>\n",
       "    <tr>\n",
       "      <th>4</th>\n",
       "      <td>dabang-delhi-kc</td>\n",
       "      <td>134</td>\n",
       "    </tr>\n",
       "  </tbody>\n",
       "</table>\n",
       "</div>"
      ],
      "text/plain": [
       "              team_name team_tackle_points\n",
       "0  jaipur-pink-panthers                170\n",
       "1       bengaluru-bulls                163\n",
       "2               u-mumba                157\n",
       "3         patna-pirates                142\n",
       "4       dabang-delhi-kc                134"
      ]
     },
     "execution_count": 1060,
     "metadata": {},
     "output_type": "execute_result"
    }
   ],
   "source": [
    "team_tackle_points_seas1 = pd.DataFrame({'team_name':team_names, 'team_tackle_points':team_tackle_points})\n",
    "team_tackle_points_seas1.head()"
   ]
  },
  {
   "cell_type": "markdown",
   "metadata": {},
   "source": [
    "Average Tackle Points"
   ]
  },
  {
   "cell_type": "code",
   "execution_count": 1061,
   "metadata": {},
   "outputs": [],
   "source": [
    "driver.get('https://www.prokabaddi.com/stats/1-99-avg-tackle-points-statistics')\n",
    "time.sleep(5)"
   ]
  },
  {
   "cell_type": "code",
   "execution_count": 1062,
   "metadata": {},
   "outputs": [
    {
     "name": "stdout",
     "output_type": "stream",
     "text": [
      "['jaipur-pink-panthers', 'bengaluru-bulls', 'u-mumba', 'dabang-delhi-kc', 'patna-pirates', 'bengal-warriors', 'puneri-paltan', 'telugu-titans']\n",
      "['10.63', '10.19', '9.81', '9.57', '8.88', '8.71', '7.64', '7.43']\n"
     ]
    }
   ],
   "source": [
    "soup = BeautifulSoup(driver.page_source)\n",
    "team = soup.findAll('div',attrs={'class':'lb-detailItem-wrap'})\n",
    "\n",
    "team_names = []\n",
    "team_avg_tackle_points = []\n",
    "\n",
    "for item in team:\n",
    "    \n",
    "    itm1 = item.find('a',attrs={'class':'sipk-lb-detailBlock sipk-playerDesc'})\n",
    "    srch = re.findall('u-mumba|telugu-titans|jaipur-pink-panthers|bengaluru-bulls|dabang-delhi-kc|patna-pirates|puneri-paltan|bengal-warriors', itm1.attrs['href'])\n",
    "    team_names.append(srch[0])\n",
    "    \n",
    "    itm3 = item.find('div',attrs={'class':'sipk-lb-detailBlock sipk-lb-raidPoints'}).span.text\n",
    "    team_avg_tackle_points.append(itm3)\n",
    "\n",
    "print(team_names)\n",
    "print(team_avg_tackle_points)"
   ]
  },
  {
   "cell_type": "code",
   "execution_count": 1063,
   "metadata": {
    "scrolled": true
   },
   "outputs": [
    {
     "data": {
      "text/html": [
       "<div>\n",
       "<style scoped>\n",
       "    .dataframe tbody tr th:only-of-type {\n",
       "        vertical-align: middle;\n",
       "    }\n",
       "\n",
       "    .dataframe tbody tr th {\n",
       "        vertical-align: top;\n",
       "    }\n",
       "\n",
       "    .dataframe thead th {\n",
       "        text-align: right;\n",
       "    }\n",
       "</style>\n",
       "<table border=\"1\" class=\"dataframe\">\n",
       "  <thead>\n",
       "    <tr style=\"text-align: right;\">\n",
       "      <th></th>\n",
       "      <th>team_name</th>\n",
       "      <th>team_avg_tackle_points</th>\n",
       "    </tr>\n",
       "  </thead>\n",
       "  <tbody>\n",
       "    <tr>\n",
       "      <th>0</th>\n",
       "      <td>jaipur-pink-panthers</td>\n",
       "      <td>10.63</td>\n",
       "    </tr>\n",
       "    <tr>\n",
       "      <th>1</th>\n",
       "      <td>bengaluru-bulls</td>\n",
       "      <td>10.19</td>\n",
       "    </tr>\n",
       "    <tr>\n",
       "      <th>2</th>\n",
       "      <td>u-mumba</td>\n",
       "      <td>9.81</td>\n",
       "    </tr>\n",
       "    <tr>\n",
       "      <th>3</th>\n",
       "      <td>dabang-delhi-kc</td>\n",
       "      <td>9.57</td>\n",
       "    </tr>\n",
       "    <tr>\n",
       "      <th>4</th>\n",
       "      <td>patna-pirates</td>\n",
       "      <td>8.88</td>\n",
       "    </tr>\n",
       "  </tbody>\n",
       "</table>\n",
       "</div>"
      ],
      "text/plain": [
       "              team_name team_avg_tackle_points\n",
       "0  jaipur-pink-panthers                  10.63\n",
       "1       bengaluru-bulls                  10.19\n",
       "2               u-mumba                   9.81\n",
       "3       dabang-delhi-kc                   9.57\n",
       "4         patna-pirates                   8.88"
      ]
     },
     "execution_count": 1063,
     "metadata": {},
     "output_type": "execute_result"
    }
   ],
   "source": [
    "team_avg_tackle_points_seas1 = pd.DataFrame({'team_name':team_names, 'team_avg_tackle_points':team_avg_tackle_points})\n",
    "team_avg_tackle_points_seas1.head()"
   ]
  },
  {
   "cell_type": "markdown",
   "metadata": {},
   "source": [
    "Super Raids"
   ]
  },
  {
   "cell_type": "code",
   "execution_count": 1064,
   "metadata": {},
   "outputs": [],
   "source": [
    "driver.get('https://www.prokabaddi.com/stats/1-134-super-raid-statistics')\n",
    "time.sleep(5)"
   ]
  },
  {
   "cell_type": "code",
   "execution_count": 1065,
   "metadata": {},
   "outputs": [
    {
     "name": "stdout",
     "output_type": "stream",
     "text": [
      "['patna-pirates', 'u-mumba', 'puneri-paltan', 'bengal-warriors', 'jaipur-pink-panthers', 'telugu-titans', 'bengaluru-bulls', 'dabang-delhi-kc']\n",
      "['13', '12', '11', '11', '9', '8', '7', '5']\n"
     ]
    }
   ],
   "source": [
    "soup = BeautifulSoup(driver.page_source)\n",
    "team = soup.findAll('div',attrs={'class':'lb-detailItem-wrap'})\n",
    "\n",
    "team_names = []\n",
    "team_super_raids = []\n",
    "\n",
    "for item in team:\n",
    "    \n",
    "    itm1 = item.find('a',attrs={'class':'sipk-lb-detailBlock sipk-playerDesc'})\n",
    "    srch = re.findall('u-mumba|telugu-titans|jaipur-pink-panthers|bengaluru-bulls|dabang-delhi-kc|patna-pirates|puneri-paltan|bengal-warriors', itm1.attrs['href'])\n",
    "    team_names.append(srch[0])\n",
    "    \n",
    "    itm3 = item.find('div',attrs={'class':'sipk-lb-detailBlock sipk-lb-raidPoints'}).span.text\n",
    "    team_super_raids.append(itm3)\n",
    "\n",
    "print(team_names)\n",
    "print(team_super_raids)"
   ]
  },
  {
   "cell_type": "code",
   "execution_count": 1066,
   "metadata": {
    "scrolled": false
   },
   "outputs": [
    {
     "data": {
      "text/html": [
       "<div>\n",
       "<style scoped>\n",
       "    .dataframe tbody tr th:only-of-type {\n",
       "        vertical-align: middle;\n",
       "    }\n",
       "\n",
       "    .dataframe tbody tr th {\n",
       "        vertical-align: top;\n",
       "    }\n",
       "\n",
       "    .dataframe thead th {\n",
       "        text-align: right;\n",
       "    }\n",
       "</style>\n",
       "<table border=\"1\" class=\"dataframe\">\n",
       "  <thead>\n",
       "    <tr style=\"text-align: right;\">\n",
       "      <th></th>\n",
       "      <th>team_name</th>\n",
       "      <th>team_super_raids</th>\n",
       "    </tr>\n",
       "  </thead>\n",
       "  <tbody>\n",
       "    <tr>\n",
       "      <th>0</th>\n",
       "      <td>patna-pirates</td>\n",
       "      <td>13</td>\n",
       "    </tr>\n",
       "    <tr>\n",
       "      <th>1</th>\n",
       "      <td>u-mumba</td>\n",
       "      <td>12</td>\n",
       "    </tr>\n",
       "    <tr>\n",
       "      <th>2</th>\n",
       "      <td>puneri-paltan</td>\n",
       "      <td>11</td>\n",
       "    </tr>\n",
       "    <tr>\n",
       "      <th>3</th>\n",
       "      <td>bengal-warriors</td>\n",
       "      <td>11</td>\n",
       "    </tr>\n",
       "    <tr>\n",
       "      <th>4</th>\n",
       "      <td>jaipur-pink-panthers</td>\n",
       "      <td>9</td>\n",
       "    </tr>\n",
       "  </tbody>\n",
       "</table>\n",
       "</div>"
      ],
      "text/plain": [
       "              team_name team_super_raids\n",
       "0         patna-pirates               13\n",
       "1               u-mumba               12\n",
       "2         puneri-paltan               11\n",
       "3       bengal-warriors               11\n",
       "4  jaipur-pink-panthers                9"
      ]
     },
     "execution_count": 1066,
     "metadata": {},
     "output_type": "execute_result"
    }
   ],
   "source": [
    "team_super_raids_seas1 = pd.DataFrame({'team_name':team_names, 'team_super_raids':team_super_raids})\n",
    "team_super_raids_seas1.head()"
   ]
  },
  {
   "cell_type": "markdown",
   "metadata": {},
   "source": [
    "Super Tackles"
   ]
  },
  {
   "cell_type": "code",
   "execution_count": 1067,
   "metadata": {},
   "outputs": [],
   "source": [
    "driver.get('https://www.prokabaddi.com/stats/1-20-super-tackles-statistics')\n",
    "time.sleep(5)"
   ]
  },
  {
   "cell_type": "code",
   "execution_count": 1068,
   "metadata": {},
   "outputs": [
    {
     "name": "stdout",
     "output_type": "stream",
     "text": [
      "['patna-pirates', 'bengal-warriors', 'puneri-paltan', 'jaipur-pink-panthers', 'u-mumba', 'bengaluru-bulls', 'dabang-delhi-kc', 'telugu-titans']\n",
      "['18', '16', '14', '12', '12', '10', '10', '8']\n"
     ]
    }
   ],
   "source": [
    "soup = BeautifulSoup(driver.page_source)\n",
    "team = soup.findAll('div',attrs={'class':'lb-detailItem-wrap'})\n",
    "\n",
    "team_names = []\n",
    "team_super_tackles = []\n",
    "\n",
    "for item in team:\n",
    "    \n",
    "    itm1 = item.find('a',attrs={'class':'sipk-lb-detailBlock sipk-playerDesc'})\n",
    "    srch = re.findall('u-mumba|telugu-titans|jaipur-pink-panthers|bengaluru-bulls|dabang-delhi-kc|patna-pirates|puneri-paltan|bengal-warriors', itm1.attrs['href'])\n",
    "    team_names.append(srch[0])\n",
    "    \n",
    "    itm3 = item.find('div',attrs={'class':'sipk-lb-detailBlock sipk-lb-raidPoints'}).span.text\n",
    "    team_super_tackles.append(itm3)\n",
    "\n",
    "print(team_names)\n",
    "print(team_super_tackles)"
   ]
  },
  {
   "cell_type": "code",
   "execution_count": 1069,
   "metadata": {
    "scrolled": true
   },
   "outputs": [
    {
     "data": {
      "text/html": [
       "<div>\n",
       "<style scoped>\n",
       "    .dataframe tbody tr th:only-of-type {\n",
       "        vertical-align: middle;\n",
       "    }\n",
       "\n",
       "    .dataframe tbody tr th {\n",
       "        vertical-align: top;\n",
       "    }\n",
       "\n",
       "    .dataframe thead th {\n",
       "        text-align: right;\n",
       "    }\n",
       "</style>\n",
       "<table border=\"1\" class=\"dataframe\">\n",
       "  <thead>\n",
       "    <tr style=\"text-align: right;\">\n",
       "      <th></th>\n",
       "      <th>team_name</th>\n",
       "      <th>team_super_tackles</th>\n",
       "    </tr>\n",
       "  </thead>\n",
       "  <tbody>\n",
       "    <tr>\n",
       "      <th>0</th>\n",
       "      <td>patna-pirates</td>\n",
       "      <td>18</td>\n",
       "    </tr>\n",
       "    <tr>\n",
       "      <th>1</th>\n",
       "      <td>bengal-warriors</td>\n",
       "      <td>16</td>\n",
       "    </tr>\n",
       "    <tr>\n",
       "      <th>2</th>\n",
       "      <td>puneri-paltan</td>\n",
       "      <td>14</td>\n",
       "    </tr>\n",
       "    <tr>\n",
       "      <th>3</th>\n",
       "      <td>jaipur-pink-panthers</td>\n",
       "      <td>12</td>\n",
       "    </tr>\n",
       "    <tr>\n",
       "      <th>4</th>\n",
       "      <td>u-mumba</td>\n",
       "      <td>12</td>\n",
       "    </tr>\n",
       "  </tbody>\n",
       "</table>\n",
       "</div>"
      ],
      "text/plain": [
       "              team_name team_super_tackles\n",
       "0         patna-pirates                 18\n",
       "1       bengal-warriors                 16\n",
       "2         puneri-paltan                 14\n",
       "3  jaipur-pink-panthers                 12\n",
       "4               u-mumba                 12"
      ]
     },
     "execution_count": 1069,
     "metadata": {},
     "output_type": "execute_result"
    }
   ],
   "source": [
    "team_super_tackles_seas1 = pd.DataFrame({'team_name':team_names, 'team_super_tackles':team_super_tackles})\n",
    "team_super_tackles_seas1.head()"
   ]
  },
  {
   "cell_type": "markdown",
   "metadata": {},
   "source": [
    "Do Or Die Raid Points"
   ]
  },
  {
   "cell_type": "code",
   "execution_count": 1070,
   "metadata": {},
   "outputs": [],
   "source": [
    "driver.get('https://www.prokabaddi.com/stats/1-135-do-or-die-raid-points-statistics')\n",
    "time.sleep(5)"
   ]
  },
  {
   "cell_type": "code",
   "execution_count": 1071,
   "metadata": {},
   "outputs": [
    {
     "name": "stdout",
     "output_type": "stream",
     "text": [
      "['jaipur-pink-panthers', 'puneri-paltan', 'patna-pirates', 'u-mumba', 'bengaluru-bulls', 'dabang-delhi-kc', 'telugu-titans', 'bengal-warriors']\n",
      "['50', '48', '42', '40', '40', '31', '31', '30']\n"
     ]
    }
   ],
   "source": [
    "soup = BeautifulSoup(driver.page_source)\n",
    "team = soup.findAll('div',attrs={'class':'lb-detailItem-wrap'})\n",
    "\n",
    "team_names = []\n",
    "team_dod_raid_points = []\n",
    "\n",
    "for item in team:\n",
    "    \n",
    "    itm1 = item.find('a',attrs={'class':'sipk-lb-detailBlock sipk-playerDesc'})\n",
    "    srch = re.findall('u-mumba|telugu-titans|jaipur-pink-panthers|bengaluru-bulls|dabang-delhi-kc|patna-pirates|puneri-paltan|bengal-warriors', itm1.attrs['href'])\n",
    "    team_names.append(srch[0])\n",
    "    \n",
    "    itm3 = item.find('div',attrs={'class':'sipk-lb-detailBlock sipk-lb-raidPoints'}).span.text\n",
    "    team_dod_raid_points.append(itm3)\n",
    "\n",
    "print(team_names)\n",
    "print(team_dod_raid_points)"
   ]
  },
  {
   "cell_type": "code",
   "execution_count": 1072,
   "metadata": {
    "scrolled": true
   },
   "outputs": [
    {
     "data": {
      "text/html": [
       "<div>\n",
       "<style scoped>\n",
       "    .dataframe tbody tr th:only-of-type {\n",
       "        vertical-align: middle;\n",
       "    }\n",
       "\n",
       "    .dataframe tbody tr th {\n",
       "        vertical-align: top;\n",
       "    }\n",
       "\n",
       "    .dataframe thead th {\n",
       "        text-align: right;\n",
       "    }\n",
       "</style>\n",
       "<table border=\"1\" class=\"dataframe\">\n",
       "  <thead>\n",
       "    <tr style=\"text-align: right;\">\n",
       "      <th></th>\n",
       "      <th>team_name</th>\n",
       "      <th>team_dod_raid_points</th>\n",
       "    </tr>\n",
       "  </thead>\n",
       "  <tbody>\n",
       "    <tr>\n",
       "      <th>0</th>\n",
       "      <td>jaipur-pink-panthers</td>\n",
       "      <td>50</td>\n",
       "    </tr>\n",
       "    <tr>\n",
       "      <th>1</th>\n",
       "      <td>puneri-paltan</td>\n",
       "      <td>48</td>\n",
       "    </tr>\n",
       "    <tr>\n",
       "      <th>2</th>\n",
       "      <td>patna-pirates</td>\n",
       "      <td>42</td>\n",
       "    </tr>\n",
       "    <tr>\n",
       "      <th>3</th>\n",
       "      <td>u-mumba</td>\n",
       "      <td>40</td>\n",
       "    </tr>\n",
       "    <tr>\n",
       "      <th>4</th>\n",
       "      <td>bengaluru-bulls</td>\n",
       "      <td>40</td>\n",
       "    </tr>\n",
       "  </tbody>\n",
       "</table>\n",
       "</div>"
      ],
      "text/plain": [
       "              team_name team_dod_raid_points\n",
       "0  jaipur-pink-panthers                   50\n",
       "1         puneri-paltan                   48\n",
       "2         patna-pirates                   42\n",
       "3               u-mumba                   40\n",
       "4       bengaluru-bulls                   40"
      ]
     },
     "execution_count": 1072,
     "metadata": {},
     "output_type": "execute_result"
    }
   ],
   "source": [
    "team_dod_raid_points_seas1 = pd.DataFrame({'team_name':team_names, 'team_dod_raid_points':team_dod_raid_points})\n",
    "team_dod_raid_points_seas1.head()"
   ]
  },
  {
   "cell_type": "markdown",
   "metadata": {},
   "source": [
    "All-Outs Inflicted"
   ]
  },
  {
   "cell_type": "code",
   "execution_count": 1073,
   "metadata": {},
   "outputs": [],
   "source": [
    "driver.get('https://www.prokabaddi.com/stats/1-136-all-outs-inflicted-statistics')\n",
    "time.sleep(5)"
   ]
  },
  {
   "cell_type": "code",
   "execution_count": 1074,
   "metadata": {},
   "outputs": [
    {
     "name": "stdout",
     "output_type": "stream",
     "text": [
      "['jaipur-pink-panthers', 'telugu-titans', 'u-mumba', 'bengaluru-bulls', 'dabang-delhi-kc', 'patna-pirates', 'puneri-paltan', 'bengal-warriors']\n",
      "['29', '25', '21', '20', '18', '18', '12', '11']\n"
     ]
    }
   ],
   "source": [
    "soup = BeautifulSoup(driver.page_source)\n",
    "team = soup.findAll('div',attrs={'class':'lb-detailItem-wrap'})\n",
    "\n",
    "team_names = []\n",
    "team_allouts_inflicted = []\n",
    "\n",
    "for item in team:\n",
    "    \n",
    "    itm1 = item.find('a',attrs={'class':'sipk-lb-detailBlock sipk-playerDesc'})\n",
    "    srch = re.findall('u-mumba|telugu-titans|jaipur-pink-panthers|bengaluru-bulls|dabang-delhi-kc|patna-pirates|puneri-paltan|bengal-warriors', itm1.attrs['href'])\n",
    "    team_names.append(srch[0])\n",
    "    \n",
    "    itm3 = item.find('div',attrs={'class':'sipk-lb-detailBlock sipk-lb-raidPoints'}).span.text\n",
    "    team_allouts_inflicted.append(itm3)\n",
    "\n",
    "print(team_names)\n",
    "print(team_allouts_inflicted)"
   ]
  },
  {
   "cell_type": "code",
   "execution_count": 1075,
   "metadata": {
    "scrolled": true
   },
   "outputs": [
    {
     "data": {
      "text/html": [
       "<div>\n",
       "<style scoped>\n",
       "    .dataframe tbody tr th:only-of-type {\n",
       "        vertical-align: middle;\n",
       "    }\n",
       "\n",
       "    .dataframe tbody tr th {\n",
       "        vertical-align: top;\n",
       "    }\n",
       "\n",
       "    .dataframe thead th {\n",
       "        text-align: right;\n",
       "    }\n",
       "</style>\n",
       "<table border=\"1\" class=\"dataframe\">\n",
       "  <thead>\n",
       "    <tr style=\"text-align: right;\">\n",
       "      <th></th>\n",
       "      <th>team_name</th>\n",
       "      <th>team_allouts_inflicted</th>\n",
       "    </tr>\n",
       "  </thead>\n",
       "  <tbody>\n",
       "    <tr>\n",
       "      <th>0</th>\n",
       "      <td>jaipur-pink-panthers</td>\n",
       "      <td>29</td>\n",
       "    </tr>\n",
       "    <tr>\n",
       "      <th>1</th>\n",
       "      <td>telugu-titans</td>\n",
       "      <td>25</td>\n",
       "    </tr>\n",
       "    <tr>\n",
       "      <th>2</th>\n",
       "      <td>u-mumba</td>\n",
       "      <td>21</td>\n",
       "    </tr>\n",
       "    <tr>\n",
       "      <th>3</th>\n",
       "      <td>bengaluru-bulls</td>\n",
       "      <td>20</td>\n",
       "    </tr>\n",
       "    <tr>\n",
       "      <th>4</th>\n",
       "      <td>dabang-delhi-kc</td>\n",
       "      <td>18</td>\n",
       "    </tr>\n",
       "  </tbody>\n",
       "</table>\n",
       "</div>"
      ],
      "text/plain": [
       "              team_name team_allouts_inflicted\n",
       "0  jaipur-pink-panthers                     29\n",
       "1         telugu-titans                     25\n",
       "2               u-mumba                     21\n",
       "3       bengaluru-bulls                     20\n",
       "4       dabang-delhi-kc                     18"
      ]
     },
     "execution_count": 1075,
     "metadata": {},
     "output_type": "execute_result"
    }
   ],
   "source": [
    "team_allouts_inflicted_seas1 = pd.DataFrame({'team_name':team_names, 'team_allouts_inflicted':team_allouts_inflicted})\n",
    "team_allouts_inflicted_seas1.head()"
   ]
  },
  {
   "cell_type": "markdown",
   "metadata": {},
   "source": [
    "All-Outs Conceded"
   ]
  },
  {
   "cell_type": "code",
   "execution_count": 1076,
   "metadata": {},
   "outputs": [],
   "source": [
    "driver.get('https://www.prokabaddi.com/stats/1-137-all-outs-conceded-statistics')\n",
    "time.sleep(5)"
   ]
  },
  {
   "cell_type": "code",
   "execution_count": 1077,
   "metadata": {},
   "outputs": [
    {
     "name": "stdout",
     "output_type": "stream",
     "text": [
      "['puneri-paltan', 'bengal-warriors', 'dabang-delhi-kc', 'u-mumba', 'patna-pirates', 'jaipur-pink-panthers', 'bengaluru-bulls', 'telugu-titans']\n",
      "['26', '25', '23', '19', '17', '15', '15', '14']\n"
     ]
    }
   ],
   "source": [
    "soup = BeautifulSoup(driver.page_source)\n",
    "team = soup.findAll('div',attrs={'class':'lb-detailItem-wrap'})\n",
    "\n",
    "team_names = []\n",
    "team_allouts_conceded = []\n",
    "\n",
    "for item in team:\n",
    "    \n",
    "    itm1 = item.find('a',attrs={'class':'sipk-lb-detailBlock sipk-playerDesc'})\n",
    "    srch = re.findall('u-mumba|telugu-titans|jaipur-pink-panthers|bengaluru-bulls|dabang-delhi-kc|patna-pirates|puneri-paltan|bengal-warriors', itm1.attrs['href'])\n",
    "    team_names.append(srch[0])\n",
    "    \n",
    "    itm3 = item.find('div',attrs={'class':'sipk-lb-detailBlock sipk-lb-raidPoints'}).span.text\n",
    "    team_allouts_conceded.append(itm3)\n",
    "\n",
    "print(team_names)\n",
    "print(team_allouts_conceded)"
   ]
  },
  {
   "cell_type": "code",
   "execution_count": 1078,
   "metadata": {
    "scrolled": false
   },
   "outputs": [
    {
     "data": {
      "text/html": [
       "<div>\n",
       "<style scoped>\n",
       "    .dataframe tbody tr th:only-of-type {\n",
       "        vertical-align: middle;\n",
       "    }\n",
       "\n",
       "    .dataframe tbody tr th {\n",
       "        vertical-align: top;\n",
       "    }\n",
       "\n",
       "    .dataframe thead th {\n",
       "        text-align: right;\n",
       "    }\n",
       "</style>\n",
       "<table border=\"1\" class=\"dataframe\">\n",
       "  <thead>\n",
       "    <tr style=\"text-align: right;\">\n",
       "      <th></th>\n",
       "      <th>team_name</th>\n",
       "      <th>team_allouts_conceded</th>\n",
       "    </tr>\n",
       "  </thead>\n",
       "  <tbody>\n",
       "    <tr>\n",
       "      <th>0</th>\n",
       "      <td>puneri-paltan</td>\n",
       "      <td>26</td>\n",
       "    </tr>\n",
       "    <tr>\n",
       "      <th>1</th>\n",
       "      <td>bengal-warriors</td>\n",
       "      <td>25</td>\n",
       "    </tr>\n",
       "    <tr>\n",
       "      <th>2</th>\n",
       "      <td>dabang-delhi-kc</td>\n",
       "      <td>23</td>\n",
       "    </tr>\n",
       "    <tr>\n",
       "      <th>3</th>\n",
       "      <td>u-mumba</td>\n",
       "      <td>19</td>\n",
       "    </tr>\n",
       "    <tr>\n",
       "      <th>4</th>\n",
       "      <td>patna-pirates</td>\n",
       "      <td>17</td>\n",
       "    </tr>\n",
       "  </tbody>\n",
       "</table>\n",
       "</div>"
      ],
      "text/plain": [
       "         team_name team_allouts_conceded\n",
       "0    puneri-paltan                    26\n",
       "1  bengal-warriors                    25\n",
       "2  dabang-delhi-kc                    23\n",
       "3          u-mumba                    19\n",
       "4    patna-pirates                    17"
      ]
     },
     "execution_count": 1078,
     "metadata": {},
     "output_type": "execute_result"
    }
   ],
   "source": [
    "team_allouts_conceded_seas1 = pd.DataFrame({'team_name':team_names, 'team_allouts_conceded':team_allouts_conceded})\n",
    "team_allouts_conceded_seas1.head()"
   ]
  },
  {
   "cell_type": "markdown",
   "metadata": {},
   "source": [
    "##### Merge Team Stats into a master frame"
   ]
  },
  {
   "cell_type": "code",
   "execution_count": 1079,
   "metadata": {},
   "outputs": [
    {
     "data": {
      "text/html": [
       "<div>\n",
       "<style scoped>\n",
       "    .dataframe tbody tr th:only-of-type {\n",
       "        vertical-align: middle;\n",
       "    }\n",
       "\n",
       "    .dataframe tbody tr th {\n",
       "        vertical-align: top;\n",
       "    }\n",
       "\n",
       "    .dataframe thead th {\n",
       "        text-align: right;\n",
       "    }\n",
       "</style>\n",
       "<table border=\"1\" class=\"dataframe\">\n",
       "  <thead>\n",
       "    <tr style=\"text-align: right;\">\n",
       "      <th></th>\n",
       "      <th>team_name</th>\n",
       "      <th>matches_played</th>\n",
       "      <th>total_points_scored</th>\n",
       "      <th>total_points_conceded</th>\n",
       "      <th>team_avg_points</th>\n",
       "      <th>team_success_raids</th>\n",
       "      <th>team_raid_points</th>\n",
       "      <th>team_avg_raid_points</th>\n",
       "      <th>team_success_tackles</th>\n",
       "      <th>team_tackle_points</th>\n",
       "      <th>team_avg_tackle_points</th>\n",
       "      <th>team_super_raids</th>\n",
       "      <th>team_super_tackles</th>\n",
       "      <th>team_dod_raid_points</th>\n",
       "      <th>team_allouts_inflicted</th>\n",
       "      <th>team_allouts_conceded</th>\n",
       "    </tr>\n",
       "  </thead>\n",
       "  <tbody>\n",
       "    <tr>\n",
       "      <th>0</th>\n",
       "      <td>jaipur-pink-panthers</td>\n",
       "      <td>16</td>\n",
       "      <td>579</td>\n",
       "      <td>458</td>\n",
       "      <td>32.12</td>\n",
       "      <td>270</td>\n",
       "      <td>344</td>\n",
       "      <td>21.5</td>\n",
       "      <td>158</td>\n",
       "      <td>170</td>\n",
       "      <td>10.63</td>\n",
       "      <td>9</td>\n",
       "      <td>12</td>\n",
       "      <td>50</td>\n",
       "      <td>29</td>\n",
       "      <td>15</td>\n",
       "    </tr>\n",
       "    <tr>\n",
       "      <th>1</th>\n",
       "      <td>u-mumba</td>\n",
       "      <td>16</td>\n",
       "      <td>550</td>\n",
       "      <td>499</td>\n",
       "      <td>31.5</td>\n",
       "      <td>270</td>\n",
       "      <td>347</td>\n",
       "      <td>21.69</td>\n",
       "      <td>145</td>\n",
       "      <td>157</td>\n",
       "      <td>9.81</td>\n",
       "      <td>12</td>\n",
       "      <td>12</td>\n",
       "      <td>40</td>\n",
       "      <td>21</td>\n",
       "      <td>19</td>\n",
       "    </tr>\n",
       "    <tr>\n",
       "      <th>2</th>\n",
       "      <td>patna-pirates</td>\n",
       "      <td>16</td>\n",
       "      <td>504</td>\n",
       "      <td>487</td>\n",
       "      <td>28.62</td>\n",
       "      <td>253</td>\n",
       "      <td>316</td>\n",
       "      <td>19.75</td>\n",
       "      <td>124</td>\n",
       "      <td>142</td>\n",
       "      <td>8.88</td>\n",
       "      <td>13</td>\n",
       "      <td>18</td>\n",
       "      <td>42</td>\n",
       "      <td>18</td>\n",
       "      <td>17</td>\n",
       "    </tr>\n",
       "    <tr>\n",
       "      <th>3</th>\n",
       "      <td>bengaluru-bulls</td>\n",
       "      <td>16</td>\n",
       "      <td>498</td>\n",
       "      <td>479</td>\n",
       "      <td>28.37</td>\n",
       "      <td>225</td>\n",
       "      <td>291</td>\n",
       "      <td>18.19</td>\n",
       "      <td>153</td>\n",
       "      <td>163</td>\n",
       "      <td>10.19</td>\n",
       "      <td>7</td>\n",
       "      <td>10</td>\n",
       "      <td>40</td>\n",
       "      <td>20</td>\n",
       "      <td>15</td>\n",
       "    </tr>\n",
       "    <tr>\n",
       "      <th>4</th>\n",
       "      <td>telugu-titans</td>\n",
       "      <td>14</td>\n",
       "      <td>497</td>\n",
       "      <td>474</td>\n",
       "      <td>31.42</td>\n",
       "      <td>272</td>\n",
       "      <td>336</td>\n",
       "      <td>24</td>\n",
       "      <td>96</td>\n",
       "      <td>104</td>\n",
       "      <td>7.43</td>\n",
       "      <td>8</td>\n",
       "      <td>8</td>\n",
       "      <td>31</td>\n",
       "      <td>25</td>\n",
       "      <td>14</td>\n",
       "    </tr>\n",
       "    <tr>\n",
       "      <th>5</th>\n",
       "      <td>dabang-delhi-kc</td>\n",
       "      <td>14</td>\n",
       "      <td>456</td>\n",
       "      <td>471</td>\n",
       "      <td>29.92</td>\n",
       "      <td>246</td>\n",
       "      <td>285</td>\n",
       "      <td>20.36</td>\n",
       "      <td>124</td>\n",
       "      <td>134</td>\n",
       "      <td>9.57</td>\n",
       "      <td>5</td>\n",
       "      <td>10</td>\n",
       "      <td>31</td>\n",
       "      <td>18</td>\n",
       "      <td>23</td>\n",
       "    </tr>\n",
       "    <tr>\n",
       "      <th>6</th>\n",
       "      <td>bengal-warriors</td>\n",
       "      <td>14</td>\n",
       "      <td>430</td>\n",
       "      <td>515</td>\n",
       "      <td>28.92</td>\n",
       "      <td>213</td>\n",
       "      <td>283</td>\n",
       "      <td>20.21</td>\n",
       "      <td>106</td>\n",
       "      <td>122</td>\n",
       "      <td>8.71</td>\n",
       "      <td>11</td>\n",
       "      <td>16</td>\n",
       "      <td>30</td>\n",
       "      <td>11</td>\n",
       "      <td>25</td>\n",
       "    </tr>\n",
       "    <tr>\n",
       "      <th>7</th>\n",
       "      <td>puneri-paltan</td>\n",
       "      <td>14</td>\n",
       "      <td>405</td>\n",
       "      <td>536</td>\n",
       "      <td>26.85</td>\n",
       "      <td>204</td>\n",
       "      <td>269</td>\n",
       "      <td>19.21</td>\n",
       "      <td>93</td>\n",
       "      <td>107</td>\n",
       "      <td>7.64</td>\n",
       "      <td>11</td>\n",
       "      <td>14</td>\n",
       "      <td>48</td>\n",
       "      <td>12</td>\n",
       "      <td>26</td>\n",
       "    </tr>\n",
       "  </tbody>\n",
       "</table>\n",
       "</div>"
      ],
      "text/plain": [
       "              team_name matches_played total_points_scored  \\\n",
       "0  jaipur-pink-panthers             16                 579   \n",
       "1               u-mumba             16                 550   \n",
       "2         patna-pirates             16                 504   \n",
       "3       bengaluru-bulls             16                 498   \n",
       "4         telugu-titans             14                 497   \n",
       "5       dabang-delhi-kc             14                 456   \n",
       "6       bengal-warriors             14                 430   \n",
       "7         puneri-paltan             14                 405   \n",
       "\n",
       "  total_points_conceded team_avg_points team_success_raids team_raid_points  \\\n",
       "0                   458           32.12                270              344   \n",
       "1                   499            31.5                270              347   \n",
       "2                   487           28.62                253              316   \n",
       "3                   479           28.37                225              291   \n",
       "4                   474           31.42                272              336   \n",
       "5                   471           29.92                246              285   \n",
       "6                   515           28.92                213              283   \n",
       "7                   536           26.85                204              269   \n",
       "\n",
       "  team_avg_raid_points team_success_tackles team_tackle_points  \\\n",
       "0                 21.5                  158                170   \n",
       "1                21.69                  145                157   \n",
       "2                19.75                  124                142   \n",
       "3                18.19                  153                163   \n",
       "4                   24                   96                104   \n",
       "5                20.36                  124                134   \n",
       "6                20.21                  106                122   \n",
       "7                19.21                   93                107   \n",
       "\n",
       "  team_avg_tackle_points team_super_raids team_super_tackles  \\\n",
       "0                  10.63                9                 12   \n",
       "1                   9.81               12                 12   \n",
       "2                   8.88               13                 18   \n",
       "3                  10.19                7                 10   \n",
       "4                   7.43                8                  8   \n",
       "5                   9.57                5                 10   \n",
       "6                   8.71               11                 16   \n",
       "7                   7.64               11                 14   \n",
       "\n",
       "  team_dod_raid_points team_allouts_inflicted team_allouts_conceded  \n",
       "0                   50                     29                    15  \n",
       "1                   40                     21                    19  \n",
       "2                   42                     18                    17  \n",
       "3                   40                     20                    15  \n",
       "4                   31                     25                    14  \n",
       "5                   31                     18                    23  \n",
       "6                   30                     11                    25  \n",
       "7                   48                     12                    26  "
      ]
     },
     "execution_count": 1079,
     "metadata": {},
     "output_type": "execute_result"
    }
   ],
   "source": [
    "temp1 = pd.merge(team_tot_points_seas1, team_tot_points_conceded_seas1, on='team_name', how='left')\n",
    "temp2 = pd.merge(temp1, team_avg_points_scored_seas1, on='team_name', how='left')\n",
    "temp3 = pd.merge(temp2, team_success_raids_seas1, on='team_name', how='left')\n",
    "temp4 = pd.merge(temp3, team_raid_points_seas1, on='team_name', how='left')\n",
    "temp5 = pd.merge(temp4, team_avg_raid_points_seas1, on='team_name', how='left')\n",
    "temp6 = pd.merge(temp5, team_success_tackles_seas1, on='team_name', how='left')\n",
    "temp7 = pd.merge(temp6, team_tackle_points_seas1, on='team_name', how='left')\n",
    "temp8 = pd.merge(temp7, team_avg_tackle_points_seas1, on='team_name', how='left')\n",
    "temp9 = pd.merge(temp8, team_super_raids_seas1, on='team_name', how='left')\n",
    "temp10 = pd.merge(temp9, team_super_tackles_seas1, on='team_name', how='left')\n",
    "temp11 = pd.merge(temp10, team_dod_raid_points_seas1, on='team_name', how='left')\n",
    "temp12 = pd.merge(temp11, team_allouts_inflicted_seas1, on='team_name', how='left')\n",
    "season1_team_stats = pd.merge(temp12, team_allouts_conceded_seas1, on='team_name', how='left')\n",
    "\n",
    "season1_team_stats = season1_team_stats.fillna(0)\n",
    "\n",
    "season1_team_stats"
   ]
  },
  {
   "cell_type": "code",
   "execution_count": 1080,
   "metadata": {},
   "outputs": [],
   "source": [
    "outfile = open('data/season1_team_stats.csv', mode='w')\n",
    "season1_team_stats.to_csv('data/season1_team_stats.csv', mode='w', index = False, header=True)\n",
    "outfile.close()"
   ]
  },
  {
   "cell_type": "code",
   "execution_count": null,
   "metadata": {},
   "outputs": [],
   "source": []
  }
 ],
 "metadata": {
  "kernelspec": {
   "display_name": "Python 3",
   "language": "python",
   "name": "python3"
  },
  "language_info": {
   "codemirror_mode": {
    "name": "ipython",
    "version": 3
   },
   "file_extension": ".py",
   "mimetype": "text/x-python",
   "name": "python",
   "nbconvert_exporter": "python",
   "pygments_lexer": "ipython3",
   "version": "3.7.3"
  }
 },
 "nbformat": 4,
 "nbformat_minor": 2
}
