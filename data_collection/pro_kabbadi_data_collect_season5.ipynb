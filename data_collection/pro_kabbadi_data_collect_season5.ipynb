{
 "cells": [
  {
   "cell_type": "code",
   "execution_count": 373,
   "metadata": {},
   "outputs": [],
   "source": [
    "import requests\n",
    "import pandas as pd\n",
    "from bs4 import BeautifulSoup\n",
    "from selenium import webdriver\n",
    "import re\n",
    "import time"
   ]
  },
  {
   "cell_type": "markdown",
   "metadata": {},
   "source": [
    "Download the Chrome Webdriver from https://sites.google.com/a/chromium.org/chromedriver/downloads (make sure you download the same Chrome version driver)\n",
    "\n",
    "And place the file at notebook location"
   ]
  },
  {
   "cell_type": "code",
   "execution_count": 374,
   "metadata": {},
   "outputs": [],
   "source": [
    "driver = webdriver.Chrome(executable_path='chromedriver.exe')"
   ]
  },
  {
   "cell_type": "markdown",
   "metadata": {},
   "source": [
    "Getting the Player Stats<br>\n",
    "First we will get the Total Points secured by Each player"
   ]
  },
  {
   "cell_type": "code",
   "execution_count": 375,
   "metadata": {},
   "outputs": [],
   "source": [
    "driver.get('https://www.prokabaddi.com/stats/8-102-total-points-statistics')"
   ]
  },
  {
   "cell_type": "markdown",
   "metadata": {},
   "source": [
    "Wait for above cell to execute"
   ]
  },
  {
   "cell_type": "code",
   "execution_count": 376,
   "metadata": {},
   "outputs": [],
   "source": [
    "time.sleep(7)\n",
    "\n",
    "myelement = driver.find_element_by_xpath('//*[@id=\"load_more\"]')\n",
    "\n",
    "while myelement.is_displayed():\n",
    "    if myelement.is_displayed():\n",
    "        myelement.click()\n",
    "\n",
    "time.sleep(3)"
   ]
  },
  {
   "cell_type": "code",
   "execution_count": 377,
   "metadata": {},
   "outputs": [],
   "source": [
    "soup = BeautifulSoup(driver.page_source)\n",
    "player = soup.findAll('div',attrs={'class':'lb-detailItem-wrap'})\n",
    "\n",
    "player_names = []\n",
    "player_profile = []\n",
    "player_team = []\n",
    "matches_played = []\n",
    "total_points = []\n",
    "\n",
    "for item in player:\n",
    "    \n",
    "    #Fetching the Player Name\n",
    "    itm1 = item.find('div',attrs={'class':'sipk-lb-playerName'}).span.text.replace('\\n', ' ').strip()\n",
    "    player_names.append(itm1)\n",
    "    \n",
    "    #Fetching the Player Profile\n",
    "    if item.find('div',attrs={'class':'sipk-lb-playerprofile'}):\n",
    "        itm2 = item.find('div',attrs={'class':'sipk-lb-playerprofile'}).span.text\n",
    "        player_profile.append(itm2)\n",
    "    else:\n",
    "        player_profile.append('')\n",
    "    \n",
    "    #Fetching the Player Team\n",
    "    itm3 = item.find('a',attrs={'class':'sipk-lb-detailBlock sipk-lb-team'})\n",
    "    srch = re.findall('gujarat-fortunegiants|puneri-paltan|up-yoddha|tamil-thalaivas|haryana-steelers|u-mumba|telugu-titans|jaipur-pink-panthers|bengaluru-bulls|dabang-delhi-kc|patna-pirates|bengal-warriors', itm3.attrs['href'])\n",
    "    player_team.append(srch[0])\n",
    "    \n",
    "    #Fetching the Matches Played by Player\n",
    "    itm4 = item.find('div',attrs={'class':'sipk-lb-detailBlock sipk-lb-matchedPlayed'}).span.text\n",
    "    matches_played.append(itm4)\n",
    "    \n",
    "    #Fetching the Total Points scored by a Player\n",
    "    itm5 = item.find('div',attrs={'class':'sipk-lb-detailBlock sipk-lb-raidPoints'}).span.text\n",
    "    total_points.append(itm5)\n",
    "\n",
    "#print(player_names)\n",
    "#print(player_profile)\n",
    "#print(player_team)\n",
    "#print(matches_played)\n",
    "#print(total_points)"
   ]
  },
  {
   "cell_type": "code",
   "execution_count": 378,
   "metadata": {},
   "outputs": [],
   "source": [
    "pyr_tot_points_seas1 = pd.DataFrame({'name':player_names, 'profile':player_profile, 'team':player_team\n",
    "                                     , 'matches_played':matches_played, 'total_points':total_points})\n",
    "\n",
    "#pyr_tot_points_seas1.head()"
   ]
  },
  {
   "cell_type": "markdown",
   "metadata": {},
   "source": [
    "Get Successful raids"
   ]
  },
  {
   "cell_type": "code",
   "execution_count": 379,
   "metadata": {},
   "outputs": [],
   "source": [
    "driver.get('https://www.prokabaddi.com/stats/8-21-successful-raids-statistics')"
   ]
  },
  {
   "cell_type": "markdown",
   "metadata": {},
   "source": [
    "Wait for above cell to execute"
   ]
  },
  {
   "cell_type": "code",
   "execution_count": 380,
   "metadata": {},
   "outputs": [],
   "source": [
    "time.sleep(7)\n",
    "\n",
    "myelement = driver.find_element_by_xpath('//*[@id=\"load_more\"]')\n",
    "\n",
    "while myelement.is_displayed():\n",
    "    if myelement.is_displayed():\n",
    "        myelement.click()\n",
    "\n",
    "time.sleep(3)"
   ]
  },
  {
   "cell_type": "code",
   "execution_count": 381,
   "metadata": {},
   "outputs": [],
   "source": [
    "soup = BeautifulSoup(driver.page_source)\n",
    "player = soup.findAll('div',attrs={'class':'lb-detailItem-wrap'})\n",
    "\n",
    "player_names = []\n",
    "success_raids = []\n",
    "player_team = []\n",
    "player_profile = []\n",
    "\n",
    "for item in player:\n",
    "    \n",
    "    #Fetching the Player Name\n",
    "    itm1 = item.find('div',attrs={'class':'sipk-lb-playerName'}).span.text.replace('\\n', ' ').strip()\n",
    "    player_names.append(itm1)\n",
    "    \n",
    "    #Fetching the Raid Points scored by a Player\n",
    "    itm2 = item.find('div',attrs={'class':'sipk-lb-detailBlock sipk-lb-raidPoints'}).span.text\n",
    "    success_raids.append(itm2)\n",
    "    \n",
    "    #Fetching the Player Team\n",
    "    itm3 = item.find('a',attrs={'class':'sipk-lb-detailBlock sipk-lb-team'})\n",
    "    srch = re.findall('gujarat-fortunegiants|puneri-paltan|up-yoddha|tamil-thalaivas|haryana-steelers|u-mumba|telugu-titans|jaipur-pink-panthers|bengaluru-bulls|dabang-delhi-kc|patna-pirates|bengal-warriors', itm3.attrs['href'])\n",
    "    player_team.append(srch[0])\n",
    "    \n",
    "    #Fetching the Player Profile\n",
    "    if item.find('div',attrs={'class':'sipk-lb-playerprofile'}):\n",
    "        itm4 = item.find('div',attrs={'class':'sipk-lb-playerprofile'}).span.text\n",
    "        player_profile.append(itm4)\n",
    "    else:\n",
    "        player_profile.append('')\n",
    "\n",
    "#print(player_names)\n",
    "#print(success_raids)"
   ]
  },
  {
   "cell_type": "code",
   "execution_count": 382,
   "metadata": {},
   "outputs": [],
   "source": [
    "pyr_success_raids_seas1 = pd.DataFrame({'name':player_names, 'profile':player_profile, 'team':player_team, 'success_raids':success_raids})\n",
    "\n",
    "#pyr_success_raids_seas1.head()"
   ]
  },
  {
   "cell_type": "markdown",
   "metadata": {},
   "source": [
    "Get Raid Points"
   ]
  },
  {
   "cell_type": "code",
   "execution_count": 383,
   "metadata": {},
   "outputs": [],
   "source": [
    "driver.get('https://www.prokabaddi.com/stats/8-22-raid-points-statistics')"
   ]
  },
  {
   "cell_type": "markdown",
   "metadata": {},
   "source": [
    "Wait for above cell to execute"
   ]
  },
  {
   "cell_type": "code",
   "execution_count": 384,
   "metadata": {},
   "outputs": [],
   "source": [
    "time.sleep(7)\n",
    "\n",
    "myelement = driver.find_element_by_xpath('//*[@id=\"load_more\"]')\n",
    "\n",
    "while myelement.is_displayed():\n",
    "    if myelement.is_displayed():\n",
    "        myelement.click()\n",
    "\n",
    "time.sleep(3)"
   ]
  },
  {
   "cell_type": "code",
   "execution_count": 385,
   "metadata": {},
   "outputs": [],
   "source": [
    "soup = BeautifulSoup(driver.page_source)\n",
    "player = soup.findAll('div',attrs={'class':'lb-detailItem-wrap'})\n",
    "\n",
    "player_names = []\n",
    "raid_points = []\n",
    "player_team = []\n",
    "player_profile = []\n",
    "\n",
    "for item in player:\n",
    "    \n",
    "    #Fetching the Player Name\n",
    "    itm1 = item.find('div',attrs={'class':'sipk-lb-playerName'}).span.text.replace('\\n', ' ').strip()\n",
    "    player_names.append(itm1)\n",
    "    \n",
    "    #Fetching the Raid Points scored by a Player\n",
    "    itm2 = item.find('div',attrs={'class':'sipk-lb-detailBlock sipk-lb-raidPoints'}).span.text\n",
    "    raid_points.append(itm2)\n",
    "    \n",
    "    #Fetching the Player Team\n",
    "    itm3 = item.find('a',attrs={'class':'sipk-lb-detailBlock sipk-lb-team'})\n",
    "    srch = re.findall('gujarat-fortunegiants|puneri-paltan|up-yoddha|tamil-thalaivas|haryana-steelers|u-mumba|telugu-titans|jaipur-pink-panthers|bengaluru-bulls|dabang-delhi-kc|patna-pirates|bengal-warriors', itm3.attrs['href'])\n",
    "    player_team.append(srch[0])\n",
    "    \n",
    "    #Fetching the Player Profile\n",
    "    if item.find('div',attrs={'class':'sipk-lb-playerprofile'}):\n",
    "        itm4 = item.find('div',attrs={'class':'sipk-lb-playerprofile'}).span.text\n",
    "        player_profile.append(itm4)\n",
    "    else:\n",
    "        player_profile.append('')\n",
    "\n",
    "#print(player_names)\n",
    "#print(raid_points)"
   ]
  },
  {
   "cell_type": "code",
   "execution_count": 386,
   "metadata": {},
   "outputs": [],
   "source": [
    "pyr_raid_points_seas1 = pd.DataFrame({'name':player_names, 'profile':player_profile, 'team':player_team, 'raid_points':raid_points})\n",
    "\n",
    "#pyr_raid_points_seas1.head()"
   ]
  },
  {
   "cell_type": "markdown",
   "metadata": {},
   "source": [
    "Get Successful Tackles"
   ]
  },
  {
   "cell_type": "code",
   "execution_count": 387,
   "metadata": {},
   "outputs": [],
   "source": [
    "driver.get('https://www.prokabaddi.com/stats/8-23-successful-tackles-statistics')"
   ]
  },
  {
   "cell_type": "markdown",
   "metadata": {},
   "source": [
    "Wait for above cell to execute"
   ]
  },
  {
   "cell_type": "code",
   "execution_count": 388,
   "metadata": {},
   "outputs": [],
   "source": [
    "time.sleep(7)\n",
    "\n",
    "myelement = driver.find_element_by_xpath('//*[@id=\"load_more\"]')\n",
    "\n",
    "while myelement.is_displayed():\n",
    "    if myelement.is_displayed():\n",
    "        myelement.click()\n",
    "\n",
    "time.sleep(3)"
   ]
  },
  {
   "cell_type": "code",
   "execution_count": 389,
   "metadata": {},
   "outputs": [],
   "source": [
    "soup = BeautifulSoup(driver.page_source)\n",
    "player = soup.findAll('div',attrs={'class':'lb-detailItem-wrap'})\n",
    "\n",
    "player_names = []\n",
    "success_tackles = []\n",
    "player_team = []\n",
    "player_profile = []\n",
    "\n",
    "for item in player:\n",
    "    \n",
    "    #Fetching the Player Name\n",
    "    itm1 = item.find('div',attrs={'class':'sipk-lb-playerName'}).span.text.replace('\\n', ' ').strip()\n",
    "    player_names.append(itm1)\n",
    "    \n",
    "    #Fetching the Raid Points scored by a Player\n",
    "    itm2 = item.find('div',attrs={'class':'sipk-lb-detailBlock sipk-lb-raidPoints'}).span.text\n",
    "    success_tackles.append(itm2)\n",
    "    \n",
    "    #Fetching the Player Team\n",
    "    itm3 = item.find('a',attrs={'class':'sipk-lb-detailBlock sipk-lb-team'})\n",
    "    srch = re.findall('gujarat-fortunegiants|puneri-paltan|up-yoddha|tamil-thalaivas|haryana-steelers|u-mumba|telugu-titans|jaipur-pink-panthers|bengaluru-bulls|dabang-delhi-kc|patna-pirates|bengal-warriors', itm3.attrs['href'])\n",
    "    player_team.append(srch[0])\n",
    "    \n",
    "    #Fetching the Player Profile\n",
    "    if item.find('div',attrs={'class':'sipk-lb-playerprofile'}):\n",
    "        itm4 = item.find('div',attrs={'class':'sipk-lb-playerprofile'}).span.text\n",
    "        player_profile.append(itm4)\n",
    "    else:\n",
    "        player_profile.append('')\n",
    "\n",
    "#print(player_names)\n",
    "#print(success_tackles)"
   ]
  },
  {
   "cell_type": "code",
   "execution_count": 390,
   "metadata": {},
   "outputs": [],
   "source": [
    "pyr_success_tackles_seas1 = pd.DataFrame({'name':player_names, 'profile':player_profile, 'team':player_team, 'success_tackles':success_tackles})\n",
    "\n",
    "#pyr_success_tackles_seas1.head()"
   ]
  },
  {
   "cell_type": "markdown",
   "metadata": {},
   "source": [
    "Get Tackle Points"
   ]
  },
  {
   "cell_type": "code",
   "execution_count": 391,
   "metadata": {},
   "outputs": [],
   "source": [
    "driver.get('https://www.prokabaddi.com/stats/8-103-tackle-points-statistics')"
   ]
  },
  {
   "cell_type": "markdown",
   "metadata": {},
   "source": [
    "Wait for above cell to execute"
   ]
  },
  {
   "cell_type": "code",
   "execution_count": 392,
   "metadata": {},
   "outputs": [],
   "source": [
    "time.sleep(7)\n",
    "\n",
    "myelement = driver.find_element_by_xpath('//*[@id=\"load_more\"]')\n",
    "\n",
    "while myelement.is_displayed():\n",
    "    if myelement.is_displayed():\n",
    "        myelement.click()\n",
    "\n",
    "time.sleep(3)"
   ]
  },
  {
   "cell_type": "code",
   "execution_count": 393,
   "metadata": {},
   "outputs": [],
   "source": [
    "soup = BeautifulSoup(driver.page_source)\n",
    "player = soup.findAll('div',attrs={'class':'lb-detailItem-wrap'})\n",
    "\n",
    "player_names = []\n",
    "tackle_points = []\n",
    "player_team = []\n",
    "player_profile = []\n",
    "\n",
    "for item in player:\n",
    "    \n",
    "    #Fetching the Player Name\n",
    "    itm1 = item.find('div',attrs={'class':'sipk-lb-playerName'}).span.text.replace('\\n', ' ').strip()\n",
    "    player_names.append(itm1)\n",
    "    \n",
    "    #Fetching the Raid Points scored by a Player\n",
    "    itm2 = item.find('div',attrs={'class':'sipk-lb-detailBlock sipk-lb-raidPoints'}).span.text\n",
    "    tackle_points.append(itm2)\n",
    "    \n",
    "    #Fetching the Player Team\n",
    "    itm3 = item.find('a',attrs={'class':'sipk-lb-detailBlock sipk-lb-team'})\n",
    "    srch = re.findall('gujarat-fortunegiants|puneri-paltan|up-yoddha|tamil-thalaivas|haryana-steelers|u-mumba|telugu-titans|jaipur-pink-panthers|bengaluru-bulls|dabang-delhi-kc|patna-pirates|bengal-warriors', itm3.attrs['href'])\n",
    "    player_team.append(srch[0])\n",
    "    \n",
    "    #Fetching the Player Profile\n",
    "    if item.find('div',attrs={'class':'sipk-lb-playerprofile'}):\n",
    "        itm4 = item.find('div',attrs={'class':'sipk-lb-playerprofile'}).span.text\n",
    "        player_profile.append(itm4)\n",
    "    else:\n",
    "        player_profile.append('')\n",
    "\n",
    "#print(player_names)\n",
    "#print(tackle_points)"
   ]
  },
  {
   "cell_type": "code",
   "execution_count": 394,
   "metadata": {},
   "outputs": [],
   "source": [
    "pyr_tackle_points_seas1 = pd.DataFrame({'name':player_names, 'profile':player_profile, 'team':player_team, 'tackle_points':tackle_points})\n",
    "\n",
    "#pyr_tackle_points_seas1.head()"
   ]
  },
  {
   "cell_type": "markdown",
   "metadata": {},
   "source": [
    "Get Average Raid Points"
   ]
  },
  {
   "cell_type": "code",
   "execution_count": 395,
   "metadata": {},
   "outputs": [],
   "source": [
    "driver.get('https://www.prokabaddi.com/stats/8-138-avg-raid-points-statistics')"
   ]
  },
  {
   "cell_type": "markdown",
   "metadata": {},
   "source": [
    "Wait for above cell to execute"
   ]
  },
  {
   "cell_type": "code",
   "execution_count": 396,
   "metadata": {},
   "outputs": [],
   "source": [
    "time.sleep(7)\n",
    "\n",
    "myelement = driver.find_element_by_xpath('//*[@id=\"load_more\"]')\n",
    "\n",
    "while myelement.is_displayed():\n",
    "    if myelement.is_displayed():\n",
    "        myelement.click()\n",
    "\n",
    "time.sleep(3)"
   ]
  },
  {
   "cell_type": "code",
   "execution_count": 397,
   "metadata": {},
   "outputs": [],
   "source": [
    "soup = BeautifulSoup(driver.page_source)\n",
    "player = soup.findAll('div',attrs={'class':'lb-detailItem-wrap'})\n",
    "\n",
    "player_names = []\n",
    "avg_raid_points = []\n",
    "player_team = []\n",
    "player_profile = []\n",
    "\n",
    "for item in player:\n",
    "    \n",
    "    #Fetching the Player Name\n",
    "    itm1 = item.find('div',attrs={'class':'sipk-lb-playerName'}).span.text.replace('\\n', ' ').strip()\n",
    "    player_names.append(itm1)\n",
    "    \n",
    "    #Fetching the Raid Points scored by a Player\n",
    "    itm2 = item.find('div',attrs={'class':'sipk-lb-detailBlock sipk-lb-raidPoints'}).span.text\n",
    "    avg_raid_points.append(itm2)\n",
    "    \n",
    "    #Fetching the Player Team\n",
    "    itm3 = item.find('a',attrs={'class':'sipk-lb-detailBlock sipk-lb-team'})\n",
    "    srch = re.findall('gujarat-fortunegiants|puneri-paltan|up-yoddha|tamil-thalaivas|haryana-steelers|u-mumba|telugu-titans|jaipur-pink-panthers|bengaluru-bulls|dabang-delhi-kc|patna-pirates|bengal-warriors', itm3.attrs['href'])\n",
    "    player_team.append(srch[0])\n",
    "    \n",
    "    #Fetching the Player Profile\n",
    "    if item.find('div',attrs={'class':'sipk-lb-playerprofile'}):\n",
    "        itm4 = item.find('div',attrs={'class':'sipk-lb-playerprofile'}).span.text\n",
    "        player_profile.append(itm4)\n",
    "    else:\n",
    "        player_profile.append('')\n",
    "\n",
    "#print(player_names)\n",
    "#print(avg_raid_points)"
   ]
  },
  {
   "cell_type": "code",
   "execution_count": 398,
   "metadata": {},
   "outputs": [],
   "source": [
    "pyr_avg_raid_points_seas1 = pd.DataFrame({'name':player_names, 'profile':player_profile, 'team':player_team, 'avg_raid_points':avg_raid_points})\n",
    "\n",
    "#pyr_avg_raid_points_seas1.head()"
   ]
  },
  {
   "cell_type": "markdown",
   "metadata": {},
   "source": [
    "Get Average Tackle Points"
   ]
  },
  {
   "cell_type": "code",
   "execution_count": 399,
   "metadata": {},
   "outputs": [],
   "source": [
    "driver.get('https://www.prokabaddi.com/stats/8-139-avg-tackle-points-statistics')"
   ]
  },
  {
   "cell_type": "markdown",
   "metadata": {},
   "source": [
    "Wait for above cell to execute"
   ]
  },
  {
   "cell_type": "code",
   "execution_count": 400,
   "metadata": {},
   "outputs": [],
   "source": [
    "time.sleep(7)\n",
    "\n",
    "myelement = driver.find_element_by_xpath('//*[@id=\"load_more\"]')\n",
    "\n",
    "while myelement.is_displayed():\n",
    "    if myelement.is_displayed():\n",
    "        myelement.click()\n",
    "\n",
    "time.sleep(3)"
   ]
  },
  {
   "cell_type": "code",
   "execution_count": 401,
   "metadata": {},
   "outputs": [],
   "source": [
    "soup = BeautifulSoup(driver.page_source)\n",
    "player = soup.findAll('div',attrs={'class':'lb-detailItem-wrap'})\n",
    "\n",
    "player_names = []\n",
    "avg_tackle_points = []\n",
    "player_team = []\n",
    "player_profile = []\n",
    "\n",
    "for item in player:\n",
    "    \n",
    "    #Fetching the Player Name\n",
    "    itm1 = item.find('div',attrs={'class':'sipk-lb-playerName'}).span.text.replace('\\n', ' ').strip()\n",
    "    player_names.append(itm1)\n",
    "    \n",
    "    #Fetching the Raid Points scored by a Player\n",
    "    itm2 = item.find('div',attrs={'class':'sipk-lb-detailBlock sipk-lb-raidPoints'}).span.text\n",
    "    avg_tackle_points.append(itm2)\n",
    "    \n",
    "    #Fetching the Player Team\n",
    "    itm3 = item.find('a',attrs={'class':'sipk-lb-detailBlock sipk-lb-team'})\n",
    "    srch = re.findall('gujarat-fortunegiants|puneri-paltan|up-yoddha|tamil-thalaivas|haryana-steelers|u-mumba|telugu-titans|jaipur-pink-panthers|bengaluru-bulls|dabang-delhi-kc|patna-pirates|bengal-warriors', itm3.attrs['href'])\n",
    "    player_team.append(srch[0])\n",
    "    \n",
    "    #Fetching the Player Profile\n",
    "    if item.find('div',attrs={'class':'sipk-lb-playerprofile'}):\n",
    "        itm4 = item.find('div',attrs={'class':'sipk-lb-playerprofile'}).span.text\n",
    "        player_profile.append(itm4)\n",
    "    else:\n",
    "        player_profile.append('')\n",
    "\n",
    "#print(player_names)\n",
    "#print(avg_tackle_points)"
   ]
  },
  {
   "cell_type": "code",
   "execution_count": 402,
   "metadata": {},
   "outputs": [],
   "source": [
    "pyr_avg_tackle_points_seas1 = pd.DataFrame({'name':player_names, 'profile':player_profile, 'team':player_team, 'avg_tackle_points':avg_tackle_points})\n",
    "\n",
    "#pyr_avg_tackle_points_seas1.head()"
   ]
  },
  {
   "cell_type": "markdown",
   "metadata": {},
   "source": [
    "Get Do Or Die Raid Points"
   ]
  },
  {
   "cell_type": "code",
   "execution_count": 403,
   "metadata": {},
   "outputs": [],
   "source": [
    "driver.get('https://www.prokabaddi.com/stats/8-132-do-or-die-raid-points-statistics')"
   ]
  },
  {
   "cell_type": "markdown",
   "metadata": {},
   "source": [
    "Wait for above cell to execute"
   ]
  },
  {
   "cell_type": "code",
   "execution_count": 404,
   "metadata": {},
   "outputs": [],
   "source": [
    "time.sleep(7)\n",
    "\n",
    "myelement = driver.find_element_by_xpath('//*[@id=\"load_more\"]')\n",
    "\n",
    "while myelement.is_displayed():\n",
    "    if myelement.is_displayed():\n",
    "        myelement.click()\n",
    "\n",
    "time.sleep(3)"
   ]
  },
  {
   "cell_type": "code",
   "execution_count": 405,
   "metadata": {},
   "outputs": [],
   "source": [
    "soup = BeautifulSoup(driver.page_source)\n",
    "player = soup.findAll('div',attrs={'class':'lb-detailItem-wrap'})\n",
    "\n",
    "player_names = []\n",
    "dod_raid_points = []\n",
    "player_team = []\n",
    "player_profile = []\n",
    "\n",
    "for item in player:\n",
    "    \n",
    "    #Fetching the Player Name\n",
    "    itm1 = item.find('div',attrs={'class':'sipk-lb-playerName'}).span.text.replace('\\n', ' ').strip()\n",
    "    player_names.append(itm1)\n",
    "    \n",
    "    #Fetching the Raid Points scored by a Player\n",
    "    itm2 = item.find('div',attrs={'class':'sipk-lb-detailBlock sipk-lb-raidPoints'}).span.text\n",
    "    dod_raid_points.append(itm2)\n",
    "    \n",
    "    #Fetching the Player Team\n",
    "    itm3 = item.find('a',attrs={'class':'sipk-lb-detailBlock sipk-lb-team'})\n",
    "    srch = re.findall('gujarat-fortunegiants|puneri-paltan|up-yoddha|tamil-thalaivas|haryana-steelers|u-mumba|telugu-titans|jaipur-pink-panthers|bengaluru-bulls|dabang-delhi-kc|patna-pirates|bengal-warriors', itm3.attrs['href'])\n",
    "    player_team.append(srch[0])\n",
    "    \n",
    "    #Fetching the Player Profile\n",
    "    if item.find('div',attrs={'class':'sipk-lb-playerprofile'}):\n",
    "        itm4 = item.find('div',attrs={'class':'sipk-lb-playerprofile'}).span.text\n",
    "        player_profile.append(itm4)\n",
    "    else:\n",
    "        player_profile.append('')\n",
    "\n",
    "#print(player_names)\n",
    "#print(dod_raid_points)"
   ]
  },
  {
   "cell_type": "code",
   "execution_count": 406,
   "metadata": {},
   "outputs": [],
   "source": [
    "pyr_dod_raid_points_seas1 = pd.DataFrame({'name':player_names, 'profile':player_profile, 'team':player_team, 'dod_raid_points':dod_raid_points})\n",
    "\n",
    "#pyr_dod_raid_points_seas1.head()"
   ]
  },
  {
   "cell_type": "markdown",
   "metadata": {},
   "source": [
    "Get Super Raids"
   ]
  },
  {
   "cell_type": "code",
   "execution_count": 407,
   "metadata": {},
   "outputs": [],
   "source": [
    "driver.get('https://www.prokabaddi.com/stats/8-104-super-raids-statistics')"
   ]
  },
  {
   "cell_type": "markdown",
   "metadata": {},
   "source": [
    "Wait for above cell to execute"
   ]
  },
  {
   "cell_type": "code",
   "execution_count": 408,
   "metadata": {},
   "outputs": [],
   "source": [
    "time.sleep(7)\n",
    "\n",
    "myelement = driver.find_element_by_xpath('//*[@id=\"load_more\"]')\n",
    "\n",
    "while myelement.is_displayed():\n",
    "    if myelement.is_displayed():\n",
    "        myelement.click()\n",
    "\n",
    "time.sleep(3)"
   ]
  },
  {
   "cell_type": "code",
   "execution_count": 409,
   "metadata": {},
   "outputs": [],
   "source": [
    "soup = BeautifulSoup(driver.page_source)\n",
    "player = soup.findAll('div',attrs={'class':'lb-detailItem-wrap'})\n",
    "\n",
    "player_names = []\n",
    "super_raids = []\n",
    "player_team = []\n",
    "player_profile = []\n",
    "\n",
    "for item in player:\n",
    "    \n",
    "    #Fetching the Player Name\n",
    "    itm1 = item.find('div',attrs={'class':'sipk-lb-playerName'}).span.text.replace('\\n', ' ').strip()\n",
    "    player_names.append(itm1)\n",
    "    \n",
    "    #Fetching the Raid Points scored by a Player\n",
    "    itm2 = item.find('div',attrs={'class':'sipk-lb-detailBlock sipk-lb-raidPoints'}).span.text\n",
    "    super_raids.append(itm2)\n",
    "    \n",
    "    #Fetching the Player Team\n",
    "    itm3 = item.find('a',attrs={'class':'sipk-lb-detailBlock sipk-lb-team'})\n",
    "    srch = re.findall('gujarat-fortunegiants|puneri-paltan|up-yoddha|tamil-thalaivas|haryana-steelers|u-mumba|telugu-titans|jaipur-pink-panthers|bengaluru-bulls|dabang-delhi-kc|patna-pirates|bengal-warriors', itm3.attrs['href'])\n",
    "    player_team.append(srch[0])\n",
    "    \n",
    "    #Fetching the Player Profile\n",
    "    if item.find('div',attrs={'class':'sipk-lb-playerprofile'}):\n",
    "        itm4 = item.find('div',attrs={'class':'sipk-lb-playerprofile'}).span.text\n",
    "        player_profile.append(itm4)\n",
    "    else:\n",
    "        player_profile.append('')\n",
    "\n",
    "#print(player_names)\n",
    "#print(super_raids)"
   ]
  },
  {
   "cell_type": "code",
   "execution_count": 410,
   "metadata": {},
   "outputs": [],
   "source": [
    "pyr_super_raids_seas1 = pd.DataFrame({'name':player_names, 'profile':player_profile, 'team':player_team, 'super_raids':super_raids})\n",
    "\n",
    "#pyr_super_raids_seas1.head()"
   ]
  },
  {
   "cell_type": "markdown",
   "metadata": {},
   "source": [
    "Get Super Tackles"
   ]
  },
  {
   "cell_type": "code",
   "execution_count": 411,
   "metadata": {},
   "outputs": [],
   "source": [
    "driver.get('https://www.prokabaddi.com/stats/8-28-super-tackles-statistics')"
   ]
  },
  {
   "cell_type": "markdown",
   "metadata": {},
   "source": [
    "Wait for above cell to execute"
   ]
  },
  {
   "cell_type": "code",
   "execution_count": 412,
   "metadata": {},
   "outputs": [],
   "source": [
    "time.sleep(7)\n",
    "\n",
    "myelement = driver.find_element_by_xpath('//*[@id=\"load_more\"]')\n",
    "\n",
    "while myelement.is_displayed():\n",
    "    if myelement.is_displayed():\n",
    "        myelement.click()\n",
    "\n",
    "time.sleep(3)"
   ]
  },
  {
   "cell_type": "code",
   "execution_count": 413,
   "metadata": {},
   "outputs": [],
   "source": [
    "soup = BeautifulSoup(driver.page_source)\n",
    "player = soup.findAll('div',attrs={'class':'lb-detailItem-wrap'})\n",
    "\n",
    "player_names = []\n",
    "super_tackles = []\n",
    "player_team = []\n",
    "player_profile = []\n",
    "\n",
    "for item in player:\n",
    "    \n",
    "    #Fetching the Player Name\n",
    "    itm1 = item.find('div',attrs={'class':'sipk-lb-playerName'}).span.text.replace('\\n', ' ').strip()\n",
    "    player_names.append(itm1)\n",
    "    \n",
    "    #Fetching the Raid Points scored by a Player\n",
    "    itm2 = item.find('div',attrs={'class':'sipk-lb-detailBlock sipk-lb-raidPoints'}).span.text\n",
    "    super_tackles.append(itm2)\n",
    "    \n",
    "    #Fetching the Player Team\n",
    "    itm3 = item.find('a',attrs={'class':'sipk-lb-detailBlock sipk-lb-team'})\n",
    "    srch = re.findall('gujarat-fortunegiants|puneri-paltan|up-yoddha|tamil-thalaivas|haryana-steelers|u-mumba|telugu-titans|jaipur-pink-panthers|bengaluru-bulls|dabang-delhi-kc|patna-pirates|bengal-warriors', itm3.attrs['href'])\n",
    "    player_team.append(srch[0])\n",
    "    \n",
    "    #Fetching the Player Profile\n",
    "    if item.find('div',attrs={'class':'sipk-lb-playerprofile'}):\n",
    "        itm4 = item.find('div',attrs={'class':'sipk-lb-playerprofile'}).span.text\n",
    "        player_profile.append(itm4)\n",
    "    else:\n",
    "        player_profile.append('')\n",
    "\n",
    "#print(player_names)\n",
    "#print(super_tackles)"
   ]
  },
  {
   "cell_type": "code",
   "execution_count": 414,
   "metadata": {
    "scrolled": true
   },
   "outputs": [],
   "source": [
    "pyr_super_tackles_seas1 = pd.DataFrame({'name':player_names, 'profile':player_profile, 'team':player_team, 'super_tackles':super_tackles})\n",
    "\n",
    "#pyr_super_tackles_seas1.head()"
   ]
  },
  {
   "cell_type": "markdown",
   "metadata": {},
   "source": [
    "Get Super 10s"
   ]
  },
  {
   "cell_type": "code",
   "execution_count": 415,
   "metadata": {},
   "outputs": [],
   "source": [
    "driver.get('https://www.prokabaddi.com/stats/8-100-super-10s-statistics')"
   ]
  },
  {
   "cell_type": "markdown",
   "metadata": {},
   "source": [
    "Wait for above cell to execute"
   ]
  },
  {
   "cell_type": "code",
   "execution_count": 416,
   "metadata": {},
   "outputs": [],
   "source": [
    "time.sleep(7)\n",
    "\n",
    "myelement = driver.find_element_by_xpath('//*[@id=\"load_more\"]')\n",
    "\n",
    "while myelement.is_displayed():\n",
    "    if myelement.is_displayed():\n",
    "        myelement.click()\n",
    "\n",
    "time.sleep(3)"
   ]
  },
  {
   "cell_type": "code",
   "execution_count": 417,
   "metadata": {},
   "outputs": [],
   "source": [
    "soup = BeautifulSoup(driver.page_source)\n",
    "player = soup.findAll('div',attrs={'class':'lb-detailItem-wrap'})\n",
    "\n",
    "player_names = []\n",
    "super_10s = []\n",
    "player_team = []\n",
    "player_profile = []\n",
    "\n",
    "for item in player:\n",
    "    \n",
    "    #Fetching the Player Name\n",
    "    itm1 = item.find('div',attrs={'class':'sipk-lb-playerName'}).span.text.replace('\\n', ' ').strip()\n",
    "    player_names.append(itm1)\n",
    "    \n",
    "    #Fetching the Raid Points scored by a Player\n",
    "    itm2 = item.find('div',attrs={'class':'sipk-lb-detailBlock sipk-lb-raidPoints'}).span.text\n",
    "    super_10s.append(itm2)\n",
    "    \n",
    "    #Fetching the Player Team\n",
    "    itm3 = item.find('a',attrs={'class':'sipk-lb-detailBlock sipk-lb-team'})\n",
    "    srch = re.findall('gujarat-fortunegiants|puneri-paltan|up-yoddha|tamil-thalaivas|haryana-steelers|u-mumba|telugu-titans|jaipur-pink-panthers|bengaluru-bulls|dabang-delhi-kc|patna-pirates|bengal-warriors', itm3.attrs['href'])\n",
    "    player_team.append(srch[0])\n",
    "    \n",
    "    #Fetching the Player Profile\n",
    "    if item.find('div',attrs={'class':'sipk-lb-playerprofile'}):\n",
    "        itm4 = item.find('div',attrs={'class':'sipk-lb-playerprofile'}).span.text\n",
    "        player_profile.append(itm4)\n",
    "    else:\n",
    "        player_profile.append('')\n",
    "\n",
    "#print(player_names)\n",
    "#print(super_10s)"
   ]
  },
  {
   "cell_type": "code",
   "execution_count": 418,
   "metadata": {
    "scrolled": false
   },
   "outputs": [],
   "source": [
    "pyr_super_10s_seas1 = pd.DataFrame({'name':player_names, 'profile':player_profile, 'team':player_team, 'super_10s':super_10s})\n",
    "\n",
    "#pyr_super_10s_seas1.head()"
   ]
  },
  {
   "cell_type": "markdown",
   "metadata": {},
   "source": [
    "Get High 5s"
   ]
  },
  {
   "cell_type": "code",
   "execution_count": 419,
   "metadata": {},
   "outputs": [],
   "source": [
    "driver.get('https://www.prokabaddi.com/stats/8-101-high-5s-statistics')"
   ]
  },
  {
   "cell_type": "markdown",
   "metadata": {},
   "source": [
    "Wait for above cell to execute"
   ]
  },
  {
   "cell_type": "code",
   "execution_count": 420,
   "metadata": {},
   "outputs": [],
   "source": [
    "time.sleep(7)\n",
    "\n",
    "myelement = driver.find_element_by_xpath('//*[@id=\"load_more\"]')\n",
    "\n",
    "while myelement.is_displayed():\n",
    "    if myelement.is_displayed():\n",
    "        myelement.click()\n",
    "\n",
    "time.sleep(3)"
   ]
  },
  {
   "cell_type": "code",
   "execution_count": 421,
   "metadata": {},
   "outputs": [],
   "source": [
    "soup = BeautifulSoup(driver.page_source)\n",
    "player = soup.findAll('div',attrs={'class':'lb-detailItem-wrap'})\n",
    "\n",
    "player_names = []\n",
    "high_5s = []\n",
    "player_team = []\n",
    "player_profile = []\n",
    "\n",
    "for item in player:\n",
    "    \n",
    "    #Fetching the Player Name\n",
    "    itm1 = item.find('div',attrs={'class':'sipk-lb-playerName'}).span.text.replace('\\n', ' ').strip()\n",
    "    player_names.append(itm1)\n",
    "    \n",
    "    #Fetching the Raid Points scored by a Player\n",
    "    itm2 = item.find('div',attrs={'class':'sipk-lb-detailBlock sipk-lb-raidPoints'}).span.text\n",
    "    high_5s.append(itm2)\n",
    "    \n",
    "    #Fetching the Player Team\n",
    "    itm3 = item.find('a',attrs={'class':'sipk-lb-detailBlock sipk-lb-team'})\n",
    "    srch = re.findall('gujarat-fortunegiants|puneri-paltan|up-yoddha|tamil-thalaivas|haryana-steelers|u-mumba|telugu-titans|jaipur-pink-panthers|bengaluru-bulls|dabang-delhi-kc|patna-pirates|bengal-warriors', itm3.attrs['href'])\n",
    "    player_team.append(srch[0])\n",
    "    \n",
    "    #Fetching the Player Profile\n",
    "    if item.find('div',attrs={'class':'sipk-lb-playerprofile'}):\n",
    "        itm4 = item.find('div',attrs={'class':'sipk-lb-playerprofile'}).span.text\n",
    "        player_profile.append(itm4)\n",
    "    else:\n",
    "        player_profile.append('')\n",
    "\n",
    "#print(player_names)\n",
    "#print(high_5s)"
   ]
  },
  {
   "cell_type": "code",
   "execution_count": 422,
   "metadata": {
    "scrolled": false
   },
   "outputs": [],
   "source": [
    "pyr_high_5s_seas1 = pd.DataFrame({'name':player_names, 'profile':player_profile, 'team':player_team, 'high_5s':high_5s})\n",
    "\n",
    "#pyr_high_5s_seas1.head()"
   ]
  },
  {
   "cell_type": "markdown",
   "metadata": {},
   "source": [
    "Merge Player Stats into a master frame"
   ]
  },
  {
   "cell_type": "code",
   "execution_count": 423,
   "metadata": {},
   "outputs": [
    {
     "data": {
      "text/html": [
       "<div>\n",
       "<style scoped>\n",
       "    .dataframe tbody tr th:only-of-type {\n",
       "        vertical-align: middle;\n",
       "    }\n",
       "\n",
       "    .dataframe tbody tr th {\n",
       "        vertical-align: top;\n",
       "    }\n",
       "\n",
       "    .dataframe thead th {\n",
       "        text-align: right;\n",
       "    }\n",
       "</style>\n",
       "<table border=\"1\" class=\"dataframe\">\n",
       "  <thead>\n",
       "    <tr style=\"text-align: right;\">\n",
       "      <th></th>\n",
       "      <th>name</th>\n",
       "      <th>profile</th>\n",
       "      <th>team</th>\n",
       "      <th>matches_played</th>\n",
       "      <th>total_points</th>\n",
       "      <th>success_raids</th>\n",
       "      <th>raid_points</th>\n",
       "      <th>success_tackles</th>\n",
       "      <th>tackle_points</th>\n",
       "      <th>avg_raid_points</th>\n",
       "      <th>avg_tackle_points</th>\n",
       "      <th>dod_raid_points</th>\n",
       "      <th>super_raids</th>\n",
       "      <th>super_tackles</th>\n",
       "      <th>super_10s</th>\n",
       "      <th>high_5s</th>\n",
       "    </tr>\n",
       "  </thead>\n",
       "  <tbody>\n",
       "    <tr>\n",
       "      <th>0</th>\n",
       "      <td>Pardeep Narwal</td>\n",
       "      <td>Raider</td>\n",
       "      <td>patna-pirates</td>\n",
       "      <td>26</td>\n",
       "      <td>369</td>\n",
       "      <td>271</td>\n",
       "      <td>369</td>\n",
       "      <td>0</td>\n",
       "      <td>0</td>\n",
       "      <td>14.19</td>\n",
       "      <td>0</td>\n",
       "      <td>29</td>\n",
       "      <td>18</td>\n",
       "      <td>0</td>\n",
       "      <td>19</td>\n",
       "      <td>0</td>\n",
       "    </tr>\n",
       "    <tr>\n",
       "      <th>1</th>\n",
       "      <td>Rohit Kumar</td>\n",
       "      <td>Raider</td>\n",
       "      <td>bengaluru-bulls</td>\n",
       "      <td>22</td>\n",
       "      <td>231</td>\n",
       "      <td>192</td>\n",
       "      <td>219</td>\n",
       "      <td>11</td>\n",
       "      <td>12</td>\n",
       "      <td>9.95</td>\n",
       "      <td>0.55</td>\n",
       "      <td>36</td>\n",
       "      <td>1</td>\n",
       "      <td>1</td>\n",
       "      <td>12</td>\n",
       "      <td>0</td>\n",
       "    </tr>\n",
       "    <tr>\n",
       "      <th>2</th>\n",
       "      <td>Ajay Thakur</td>\n",
       "      <td>Raider</td>\n",
       "      <td>tamil-thalaivas</td>\n",
       "      <td>22</td>\n",
       "      <td>222</td>\n",
       "      <td>182</td>\n",
       "      <td>213</td>\n",
       "      <td>9</td>\n",
       "      <td>9</td>\n",
       "      <td>9.68</td>\n",
       "      <td>0.41</td>\n",
       "      <td>30</td>\n",
       "      <td>3</td>\n",
       "      <td>0</td>\n",
       "      <td>12</td>\n",
       "      <td>0</td>\n",
       "    </tr>\n",
       "    <tr>\n",
       "      <th>3</th>\n",
       "      <td>Monu Goyat</td>\n",
       "      <td>Raider</td>\n",
       "      <td>patna-pirates</td>\n",
       "      <td>26</td>\n",
       "      <td>202</td>\n",
       "      <td>159</td>\n",
       "      <td>191</td>\n",
       "      <td>10</td>\n",
       "      <td>11</td>\n",
       "      <td>7.35</td>\n",
       "      <td>0.42</td>\n",
       "      <td>45</td>\n",
       "      <td>4</td>\n",
       "      <td>1</td>\n",
       "      <td>9</td>\n",
       "      <td>0</td>\n",
       "    </tr>\n",
       "    <tr>\n",
       "      <th>4</th>\n",
       "      <td>Rahul Chaudhari</td>\n",
       "      <td>Raider</td>\n",
       "      <td>telugu-titans</td>\n",
       "      <td>22</td>\n",
       "      <td>193</td>\n",
       "      <td>159</td>\n",
       "      <td>184</td>\n",
       "      <td>9</td>\n",
       "      <td>9</td>\n",
       "      <td>8.36</td>\n",
       "      <td>0.41</td>\n",
       "      <td>28</td>\n",
       "      <td>5</td>\n",
       "      <td>0</td>\n",
       "      <td>8</td>\n",
       "      <td>0</td>\n",
       "    </tr>\n",
       "  </tbody>\n",
       "</table>\n",
       "</div>"
      ],
      "text/plain": [
       "              name profile             team matches_played total_points  \\\n",
       "0   Pardeep Narwal  Raider    patna-pirates             26          369   \n",
       "1      Rohit Kumar  Raider  bengaluru-bulls             22          231   \n",
       "2      Ajay Thakur  Raider  tamil-thalaivas             22          222   \n",
       "3       Monu Goyat  Raider    patna-pirates             26          202   \n",
       "4  Rahul Chaudhari  Raider    telugu-titans             22          193   \n",
       "\n",
       "  success_raids raid_points success_tackles tackle_points avg_raid_points  \\\n",
       "0           271         369               0             0           14.19   \n",
       "1           192         219              11            12            9.95   \n",
       "2           182         213               9             9            9.68   \n",
       "3           159         191              10            11            7.35   \n",
       "4           159         184               9             9            8.36   \n",
       "\n",
       "  avg_tackle_points dod_raid_points super_raids super_tackles super_10s  \\\n",
       "0                 0              29          18             0        19   \n",
       "1              0.55              36           1             1        12   \n",
       "2              0.41              30           3             0        12   \n",
       "3              0.42              45           4             1         9   \n",
       "4              0.41              28           5             0         8   \n",
       "\n",
       "  high_5s  \n",
       "0       0  \n",
       "1       0  \n",
       "2       0  \n",
       "3       0  \n",
       "4       0  "
      ]
     },
     "execution_count": 423,
     "metadata": {},
     "output_type": "execute_result"
    }
   ],
   "source": [
    "temp1 = pd.merge(pyr_tot_points_seas1, pyr_success_raids_seas1, on=['name', 'profile', 'team'], how='left')\n",
    "temp2 = pd.merge(temp1, pyr_raid_points_seas1, on=['name', 'profile', 'team'], how='left')\n",
    "temp3 = pd.merge(temp2, pyr_success_tackles_seas1, on=['name', 'profile', 'team'], how='left')\n",
    "temp4 = pd.merge(temp3, pyr_tackle_points_seas1, on=['name', 'profile', 'team'], how='left')\n",
    "temp5 = pd.merge(temp4, pyr_avg_raid_points_seas1, on=['name', 'profile', 'team'], how='left')\n",
    "temp6 = pd.merge(temp5, pyr_avg_tackle_points_seas1, on=['name', 'profile', 'team'], how='left')\n",
    "temp7 = pd.merge(temp6, pyr_dod_raid_points_seas1, on=['name', 'profile', 'team'], how='left')\n",
    "temp8 = pd.merge(temp7, pyr_super_raids_seas1, on=['name', 'profile', 'team'], how='left')\n",
    "temp9 = pd.merge(temp8, pyr_super_tackles_seas1, on=['name', 'profile', 'team'], how='left')\n",
    "temp10 = pd.merge(temp9, pyr_super_10s_seas1, on=['name', 'profile', 'profile', 'team'], how='left')\n",
    "season1_plyr_stats = pd.merge(temp10, pyr_high_5s_seas1, on=['name', 'profile', 'team'], how='left')\n",
    "\n",
    "season1_plyr_stats = season1_plyr_stats.fillna(0)\n",
    "\n",
    "season1_plyr_stats.head()"
   ]
  },
  {
   "cell_type": "code",
   "execution_count": 424,
   "metadata": {},
   "outputs": [],
   "source": [
    "outfile = open('data/season5_player_stats.csv', mode='w')\n",
    "season1_plyr_stats.to_csv('data/season5_player_stats.csv', mode='w', index = False, header=True)\n",
    "outfile.close()"
   ]
  },
  {
   "cell_type": "markdown",
   "metadata": {},
   "source": [
    "### Team Stats"
   ]
  },
  {
   "cell_type": "markdown",
   "metadata": {},
   "source": [
    "Getting the Team Stats<br>\n",
    "First we will get the Total Points secured by Each Team"
   ]
  },
  {
   "cell_type": "code",
   "execution_count": 425,
   "metadata": {},
   "outputs": [],
   "source": [
    "driver.get('https://www.prokabaddi.com/stats/8-96-total-points-scored-statistics')"
   ]
  },
  {
   "cell_type": "code",
   "execution_count": 426,
   "metadata": {},
   "outputs": [],
   "source": [
    "time.sleep(7)\n",
    "\n",
    "myelement = driver.find_element_by_xpath('//*[@id=\"load_more\"]')\n",
    "\n",
    "while myelement.is_displayed():\n",
    "    if myelement.is_displayed():\n",
    "        myelement.click()\n",
    "\n",
    "time.sleep(3)"
   ]
  },
  {
   "cell_type": "code",
   "execution_count": 427,
   "metadata": {},
   "outputs": [],
   "source": [
    "soup = BeautifulSoup(driver.page_source)\n",
    "team = soup.findAll('div',attrs={'class':'lb-detailItem-wrap'})\n",
    "\n",
    "team_names = []\n",
    "matches_played = []\n",
    "total_points = []\n",
    "\n",
    "for item in team:\n",
    "    \n",
    "    #Fetching the Team\n",
    "    itm1 = item.find('a',attrs={'class':'sipk-lb-detailBlock sipk-playerDesc'})\n",
    "    srch = re.findall('gujarat-fortunegiants|puneri-paltan|up-yoddha|tamil-thalaivas|haryana-steelers|u-mumba|telugu-titans|jaipur-pink-panthers|bengaluru-bulls|dabang-delhi-kc|patna-pirates|bengal-warriors', itm1.attrs['href'])\n",
    "    team_names.append(srch[0])\n",
    "    \n",
    "    #Fetching the Matches Played by Team\n",
    "    itm2 = item.find('div',attrs={'class':'sipk-lb-detailBlock sipk-lb-matchedPlayed'}).span.text\n",
    "    matches_played.append(itm2)\n",
    "    \n",
    "    #Fetching the Total Points scored by a Team\n",
    "    itm3 = item.find('div',attrs={'class':'sipk-lb-detailBlock sipk-lb-raidPoints'}).span.text\n",
    "    total_points.append(itm3)\n",
    "\n",
    "#print(team_names)\n",
    "#print(matches_played)\n",
    "#print(total_points)"
   ]
  },
  {
   "cell_type": "code",
   "execution_count": 428,
   "metadata": {},
   "outputs": [
    {
     "data": {
      "text/html": [
       "<div>\n",
       "<style scoped>\n",
       "    .dataframe tbody tr th:only-of-type {\n",
       "        vertical-align: middle;\n",
       "    }\n",
       "\n",
       "    .dataframe tbody tr th {\n",
       "        vertical-align: top;\n",
       "    }\n",
       "\n",
       "    .dataframe thead th {\n",
       "        text-align: right;\n",
       "    }\n",
       "</style>\n",
       "<table border=\"1\" class=\"dataframe\">\n",
       "  <thead>\n",
       "    <tr style=\"text-align: right;\">\n",
       "      <th></th>\n",
       "      <th>team_name</th>\n",
       "      <th>matches_played</th>\n",
       "      <th>total_points_scored</th>\n",
       "    </tr>\n",
       "  </thead>\n",
       "  <tbody>\n",
       "    <tr>\n",
       "      <th>0</th>\n",
       "      <td>patna-pirates</td>\n",
       "      <td>26</td>\n",
       "      <td>1050</td>\n",
       "    </tr>\n",
       "    <tr>\n",
       "      <th>1</th>\n",
       "      <td>gujarat-fortunegiants</td>\n",
       "      <td>24</td>\n",
       "      <td>775</td>\n",
       "    </tr>\n",
       "    <tr>\n",
       "      <th>2</th>\n",
       "      <td>puneri-paltan</td>\n",
       "      <td>24</td>\n",
       "      <td>766</td>\n",
       "    </tr>\n",
       "    <tr>\n",
       "      <th>3</th>\n",
       "      <td>up-yoddha</td>\n",
       "      <td>23</td>\n",
       "      <td>762</td>\n",
       "    </tr>\n",
       "    <tr>\n",
       "      <th>4</th>\n",
       "      <td>bengal-warriors</td>\n",
       "      <td>24</td>\n",
       "      <td>749</td>\n",
       "    </tr>\n",
       "  </tbody>\n",
       "</table>\n",
       "</div>"
      ],
      "text/plain": [
       "               team_name matches_played total_points_scored\n",
       "0          patna-pirates             26                1050\n",
       "1  gujarat-fortunegiants             24                 775\n",
       "2          puneri-paltan             24                 766\n",
       "3              up-yoddha             23                 762\n",
       "4        bengal-warriors             24                 749"
      ]
     },
     "execution_count": 428,
     "metadata": {},
     "output_type": "execute_result"
    }
   ],
   "source": [
    "team_tot_points_seas1 = pd.DataFrame({'team_name':team_names, 'matches_played':matches_played\n",
    "                                      , 'total_points_scored':total_points})\n",
    "\n",
    "team_tot_points_seas1.head()"
   ]
  },
  {
   "cell_type": "markdown",
   "metadata": {},
   "source": [
    "Total Points Conceded"
   ]
  },
  {
   "cell_type": "code",
   "execution_count": 429,
   "metadata": {},
   "outputs": [],
   "source": [
    "driver.get('https://www.prokabaddi.com/stats/8-133-total-points-conceded-statistics')"
   ]
  },
  {
   "cell_type": "code",
   "execution_count": 430,
   "metadata": {},
   "outputs": [],
   "source": [
    "time.sleep(7)\n",
    "\n",
    "myelement = driver.find_element_by_xpath('//*[@id=\"load_more\"]')\n",
    "\n",
    "while myelement.is_displayed():\n",
    "    if myelement.is_displayed():\n",
    "        myelement.click()\n",
    "\n",
    "time.sleep(3)"
   ]
  },
  {
   "cell_type": "code",
   "execution_count": 431,
   "metadata": {},
   "outputs": [],
   "source": [
    "soup = BeautifulSoup(driver.page_source)\n",
    "team = soup.findAll('div',attrs={'class':'lb-detailItem-wrap'})\n",
    "\n",
    "team_names = []\n",
    "total_points_conceded = []\n",
    "\n",
    "for item in team:\n",
    "    \n",
    "    itm1 = item.find('a',attrs={'class':'sipk-lb-detailBlock sipk-playerDesc'})\n",
    "    srch = re.findall('gujarat-fortunegiants|puneri-paltan|up-yoddha|tamil-thalaivas|haryana-steelers|u-mumba|telugu-titans|jaipur-pink-panthers|bengaluru-bulls|dabang-delhi-kc|patna-pirates|bengal-warriors', itm1.attrs['href'])\n",
    "    team_names.append(srch[0])\n",
    "    \n",
    "    itm3 = item.find('div',attrs={'class':'sipk-lb-detailBlock sipk-lb-raidPoints'}).span.text\n",
    "    total_points_conceded.append(itm3)\n",
    "\n",
    "#print(team_names)\n",
    "#print(total_points_conceded)"
   ]
  },
  {
   "cell_type": "code",
   "execution_count": 432,
   "metadata": {},
   "outputs": [],
   "source": [
    "team_tot_points_conceded_seas1 = pd.DataFrame({'team_name':team_names, 'total_points_conceded':total_points_conceded})\n",
    "\n",
    "#team_tot_points_conceded_seas1.head()"
   ]
  },
  {
   "cell_type": "markdown",
   "metadata": {},
   "source": [
    "Average Points Scored"
   ]
  },
  {
   "cell_type": "code",
   "execution_count": 433,
   "metadata": {},
   "outputs": [],
   "source": [
    "driver.get('https://www.prokabaddi.com/stats/8-140-avg-points-scored-statistics')"
   ]
  },
  {
   "cell_type": "code",
   "execution_count": 434,
   "metadata": {},
   "outputs": [],
   "source": [
    "time.sleep(7)\n",
    "\n",
    "myelement = driver.find_element_by_xpath('//*[@id=\"load_more\"]')\n",
    "\n",
    "while myelement.is_displayed():\n",
    "    if myelement.is_displayed():\n",
    "        myelement.click()\n",
    "\n",
    "time.sleep(3)"
   ]
  },
  {
   "cell_type": "code",
   "execution_count": 435,
   "metadata": {},
   "outputs": [
    {
     "name": "stdout",
     "output_type": "stream",
     "text": [
      "['patna-pirates', 'up-yoddha', 'u-mumba', 'tamil-thalaivas', 'telugu-titans', 'gujarat-fortunegiants', 'haryana-steelers', 'puneri-paltan', 'bengal-warriors', 'bengaluru-bulls', 'jaipur-pink-panthers', 'dabang-delhi-kc']\n",
      "['34.19', '28.78', '28.22', '27.77', '27.59', '27.45', '27.43', '27.08', '27', '26.95', '23.81', '23.31']\n"
     ]
    }
   ],
   "source": [
    "soup = BeautifulSoup(driver.page_source)\n",
    "team = soup.findAll('div',attrs={'class':'lb-detailItem-wrap'})\n",
    "\n",
    "team_names = []\n",
    "avg_points_scored = []\n",
    "\n",
    "for item in team:\n",
    "    \n",
    "    itm1 = item.find('a',attrs={'class':'sipk-lb-detailBlock sipk-playerDesc'})\n",
    "    srch = re.findall('gujarat-fortunegiants|puneri-paltan|up-yoddha|tamil-thalaivas|haryana-steelers|u-mumba|telugu-titans|jaipur-pink-panthers|bengaluru-bulls|dabang-delhi-kc|patna-pirates|bengal-warriors', itm1.attrs['href'])\n",
    "    team_names.append(srch[0])\n",
    "    \n",
    "    itm3 = item.find('div',attrs={'class':'sipk-lb-detailBlock sipk-lb-raidPoints'}).span.text\n",
    "    avg_points_scored.append(itm3)\n",
    "\n",
    "print(team_names)\n",
    "print(avg_points_scored)"
   ]
  },
  {
   "cell_type": "code",
   "execution_count": 436,
   "metadata": {},
   "outputs": [
    {
     "data": {
      "text/html": [
       "<div>\n",
       "<style scoped>\n",
       "    .dataframe tbody tr th:only-of-type {\n",
       "        vertical-align: middle;\n",
       "    }\n",
       "\n",
       "    .dataframe tbody tr th {\n",
       "        vertical-align: top;\n",
       "    }\n",
       "\n",
       "    .dataframe thead th {\n",
       "        text-align: right;\n",
       "    }\n",
       "</style>\n",
       "<table border=\"1\" class=\"dataframe\">\n",
       "  <thead>\n",
       "    <tr style=\"text-align: right;\">\n",
       "      <th></th>\n",
       "      <th>team_name</th>\n",
       "      <th>team_avg_points</th>\n",
       "    </tr>\n",
       "  </thead>\n",
       "  <tbody>\n",
       "    <tr>\n",
       "      <th>0</th>\n",
       "      <td>patna-pirates</td>\n",
       "      <td>34.19</td>\n",
       "    </tr>\n",
       "    <tr>\n",
       "      <th>1</th>\n",
       "      <td>up-yoddha</td>\n",
       "      <td>28.78</td>\n",
       "    </tr>\n",
       "    <tr>\n",
       "      <th>2</th>\n",
       "      <td>u-mumba</td>\n",
       "      <td>28.22</td>\n",
       "    </tr>\n",
       "    <tr>\n",
       "      <th>3</th>\n",
       "      <td>tamil-thalaivas</td>\n",
       "      <td>27.77</td>\n",
       "    </tr>\n",
       "    <tr>\n",
       "      <th>4</th>\n",
       "      <td>telugu-titans</td>\n",
       "      <td>27.59</td>\n",
       "    </tr>\n",
       "  </tbody>\n",
       "</table>\n",
       "</div>"
      ],
      "text/plain": [
       "         team_name team_avg_points\n",
       "0    patna-pirates           34.19\n",
       "1        up-yoddha           28.78\n",
       "2          u-mumba           28.22\n",
       "3  tamil-thalaivas           27.77\n",
       "4    telugu-titans           27.59"
      ]
     },
     "execution_count": 436,
     "metadata": {},
     "output_type": "execute_result"
    }
   ],
   "source": [
    "team_avg_points_scored_seas1 = pd.DataFrame({'team_name':team_names, 'team_avg_points':avg_points_scored})\n",
    "team_avg_points_scored_seas1.head()"
   ]
  },
  {
   "cell_type": "markdown",
   "metadata": {},
   "source": [
    "Successful Raids"
   ]
  },
  {
   "cell_type": "code",
   "execution_count": 437,
   "metadata": {},
   "outputs": [],
   "source": [
    "driver.get('https://www.prokabaddi.com/stats/8-13-successful-raids-statistics')"
   ]
  },
  {
   "cell_type": "code",
   "execution_count": 438,
   "metadata": {},
   "outputs": [],
   "source": [
    "time.sleep(7)\n",
    "\n",
    "myelement = driver.find_element_by_xpath('//*[@id=\"load_more\"]')\n",
    "\n",
    "while myelement.is_displayed():\n",
    "    if myelement.is_displayed():\n",
    "        myelement.click()\n",
    "\n",
    "time.sleep(3)"
   ]
  },
  {
   "cell_type": "code",
   "execution_count": 439,
   "metadata": {},
   "outputs": [
    {
     "name": "stdout",
     "output_type": "stream",
     "text": [
      "['patna-pirates', 'bengal-warriors', 'up-yoddha', 'tamil-thalaivas', 'bengaluru-bulls', 'gujarat-fortunegiants', 'telugu-titans', 'haryana-steelers', 'u-mumba', 'puneri-paltan', 'jaipur-pink-panthers', 'dabang-delhi-kc']\n",
      "['487', '379', '358', '351', '336', '335', '332', '327', '322', '304', '288', '283']\n"
     ]
    }
   ],
   "source": [
    "soup = BeautifulSoup(driver.page_source)\n",
    "team = soup.findAll('div',attrs={'class':'lb-detailItem-wrap'})\n",
    "\n",
    "team_names = []\n",
    "team_success_raids = []\n",
    "\n",
    "for item in team:\n",
    "    \n",
    "    itm1 = item.find('a',attrs={'class':'sipk-lb-detailBlock sipk-playerDesc'})\n",
    "    srch = re.findall('gujarat-fortunegiants|puneri-paltan|up-yoddha|tamil-thalaivas|haryana-steelers|u-mumba|telugu-titans|jaipur-pink-panthers|bengaluru-bulls|dabang-delhi-kc|patna-pirates|bengal-warriors', itm1.attrs['href'])\n",
    "    team_names.append(srch[0])\n",
    "    \n",
    "    itm3 = item.find('div',attrs={'class':'sipk-lb-detailBlock sipk-lb-raidPoints'}).span.text\n",
    "    team_success_raids.append(itm3)\n",
    "\n",
    "print(team_names)\n",
    "print(team_success_raids)"
   ]
  },
  {
   "cell_type": "code",
   "execution_count": 440,
   "metadata": {
    "scrolled": true
   },
   "outputs": [
    {
     "data": {
      "text/html": [
       "<div>\n",
       "<style scoped>\n",
       "    .dataframe tbody tr th:only-of-type {\n",
       "        vertical-align: middle;\n",
       "    }\n",
       "\n",
       "    .dataframe tbody tr th {\n",
       "        vertical-align: top;\n",
       "    }\n",
       "\n",
       "    .dataframe thead th {\n",
       "        text-align: right;\n",
       "    }\n",
       "</style>\n",
       "<table border=\"1\" class=\"dataframe\">\n",
       "  <thead>\n",
       "    <tr style=\"text-align: right;\">\n",
       "      <th></th>\n",
       "      <th>team_name</th>\n",
       "      <th>team_success_raids</th>\n",
       "    </tr>\n",
       "  </thead>\n",
       "  <tbody>\n",
       "    <tr>\n",
       "      <th>0</th>\n",
       "      <td>patna-pirates</td>\n",
       "      <td>487</td>\n",
       "    </tr>\n",
       "    <tr>\n",
       "      <th>1</th>\n",
       "      <td>bengal-warriors</td>\n",
       "      <td>379</td>\n",
       "    </tr>\n",
       "    <tr>\n",
       "      <th>2</th>\n",
       "      <td>up-yoddha</td>\n",
       "      <td>358</td>\n",
       "    </tr>\n",
       "    <tr>\n",
       "      <th>3</th>\n",
       "      <td>tamil-thalaivas</td>\n",
       "      <td>351</td>\n",
       "    </tr>\n",
       "    <tr>\n",
       "      <th>4</th>\n",
       "      <td>bengaluru-bulls</td>\n",
       "      <td>336</td>\n",
       "    </tr>\n",
       "  </tbody>\n",
       "</table>\n",
       "</div>"
      ],
      "text/plain": [
       "         team_name team_success_raids\n",
       "0    patna-pirates                487\n",
       "1  bengal-warriors                379\n",
       "2        up-yoddha                358\n",
       "3  tamil-thalaivas                351\n",
       "4  bengaluru-bulls                336"
      ]
     },
     "execution_count": 440,
     "metadata": {},
     "output_type": "execute_result"
    }
   ],
   "source": [
    "team_success_raids_seas1 = pd.DataFrame({'team_name':team_names, 'team_success_raids':team_success_raids})\n",
    "team_success_raids_seas1.head()"
   ]
  },
  {
   "cell_type": "markdown",
   "metadata": {},
   "source": [
    "Raid Points"
   ]
  },
  {
   "cell_type": "code",
   "execution_count": 441,
   "metadata": {},
   "outputs": [],
   "source": [
    "driver.get('https://www.prokabaddi.com/stats/8-97-raid-points-statistics')"
   ]
  },
  {
   "cell_type": "code",
   "execution_count": 442,
   "metadata": {},
   "outputs": [],
   "source": [
    "time.sleep(7)\n",
    "\n",
    "myelement = driver.find_element_by_xpath('//*[@id=\"load_more\"]')\n",
    "\n",
    "while myelement.is_displayed():\n",
    "    if myelement.is_displayed():\n",
    "        myelement.click()\n",
    "\n",
    "time.sleep(3)"
   ]
  },
  {
   "cell_type": "code",
   "execution_count": 443,
   "metadata": {},
   "outputs": [
    {
     "name": "stdout",
     "output_type": "stream",
     "text": [
      "['patna-pirates', 'up-yoddha', 'bengal-warriors', 'u-mumba', 'tamil-thalaivas', 'gujarat-fortunegiants', 'haryana-steelers', 'telugu-titans', 'bengaluru-bulls', 'puneri-paltan', 'jaipur-pink-panthers', 'dabang-delhi-kc']\n",
      "['637', '461', '455', '419', '410', '405', '404', '400', '393', '379', '353', '344']\n"
     ]
    }
   ],
   "source": [
    "soup = BeautifulSoup(driver.page_source)\n",
    "team = soup.findAll('div',attrs={'class':'lb-detailItem-wrap'})\n",
    "\n",
    "team_names = []\n",
    "team_raid_points = []\n",
    "\n",
    "for item in team:\n",
    "    \n",
    "    itm1 = item.find('a',attrs={'class':'sipk-lb-detailBlock sipk-playerDesc'})\n",
    "    srch = re.findall('gujarat-fortunegiants|puneri-paltan|up-yoddha|tamil-thalaivas|haryana-steelers|u-mumba|telugu-titans|jaipur-pink-panthers|bengaluru-bulls|dabang-delhi-kc|patna-pirates|bengal-warriors', itm1.attrs['href'])\n",
    "    team_names.append(srch[0])\n",
    "    \n",
    "    itm3 = item.find('div',attrs={'class':'sipk-lb-detailBlock sipk-lb-raidPoints'}).span.text\n",
    "    team_raid_points.append(itm3)\n",
    "\n",
    "print(team_names)\n",
    "print(team_raid_points)"
   ]
  },
  {
   "cell_type": "code",
   "execution_count": 444,
   "metadata": {
    "scrolled": true
   },
   "outputs": [
    {
     "data": {
      "text/html": [
       "<div>\n",
       "<style scoped>\n",
       "    .dataframe tbody tr th:only-of-type {\n",
       "        vertical-align: middle;\n",
       "    }\n",
       "\n",
       "    .dataframe tbody tr th {\n",
       "        vertical-align: top;\n",
       "    }\n",
       "\n",
       "    .dataframe thead th {\n",
       "        text-align: right;\n",
       "    }\n",
       "</style>\n",
       "<table border=\"1\" class=\"dataframe\">\n",
       "  <thead>\n",
       "    <tr style=\"text-align: right;\">\n",
       "      <th></th>\n",
       "      <th>team_name</th>\n",
       "      <th>team_raid_points</th>\n",
       "    </tr>\n",
       "  </thead>\n",
       "  <tbody>\n",
       "    <tr>\n",
       "      <th>0</th>\n",
       "      <td>patna-pirates</td>\n",
       "      <td>637</td>\n",
       "    </tr>\n",
       "    <tr>\n",
       "      <th>1</th>\n",
       "      <td>up-yoddha</td>\n",
       "      <td>461</td>\n",
       "    </tr>\n",
       "    <tr>\n",
       "      <th>2</th>\n",
       "      <td>bengal-warriors</td>\n",
       "      <td>455</td>\n",
       "    </tr>\n",
       "    <tr>\n",
       "      <th>3</th>\n",
       "      <td>u-mumba</td>\n",
       "      <td>419</td>\n",
       "    </tr>\n",
       "    <tr>\n",
       "      <th>4</th>\n",
       "      <td>tamil-thalaivas</td>\n",
       "      <td>410</td>\n",
       "    </tr>\n",
       "  </tbody>\n",
       "</table>\n",
       "</div>"
      ],
      "text/plain": [
       "         team_name team_raid_points\n",
       "0    patna-pirates              637\n",
       "1        up-yoddha              461\n",
       "2  bengal-warriors              455\n",
       "3          u-mumba              419\n",
       "4  tamil-thalaivas              410"
      ]
     },
     "execution_count": 444,
     "metadata": {},
     "output_type": "execute_result"
    }
   ],
   "source": [
    "team_raid_points_seas1 = pd.DataFrame({'team_name':team_names, 'team_raid_points':team_raid_points})\n",
    "team_raid_points_seas1.head()"
   ]
  },
  {
   "cell_type": "markdown",
   "metadata": {},
   "source": [
    "Average Raid Points"
   ]
  },
  {
   "cell_type": "code",
   "execution_count": 445,
   "metadata": {},
   "outputs": [],
   "source": [
    "driver.get('https://www.prokabaddi.com/stats/8-98-avg-raid-points-statistics')"
   ]
  },
  {
   "cell_type": "code",
   "execution_count": 446,
   "metadata": {},
   "outputs": [],
   "source": [
    "time.sleep(7)\n",
    "\n",
    "myelement = driver.find_element_by_xpath('//*[@id=\"load_more\"]')\n",
    "\n",
    "while myelement.is_displayed():\n",
    "    if myelement.is_displayed():\n",
    "        myelement.click()\n",
    "\n",
    "time.sleep(3)"
   ]
  },
  {
   "cell_type": "code",
   "execution_count": 447,
   "metadata": {},
   "outputs": [
    {
     "name": "stdout",
     "output_type": "stream",
     "text": [
      "['patna-pirates', 'up-yoddha', 'u-mumba', 'bengal-warriors', 'tamil-thalaivas', 'telugu-titans', 'bengaluru-bulls', 'haryana-steelers', 'gujarat-fortunegiants', 'jaipur-pink-panthers', 'puneri-paltan', 'dabang-delhi-kc']\n",
      "['24.5', '20.04', '19.05', '18.96', '18.64', '18.18', '17.86', '17.57', '16.88', '16.05', '15.79', '15.64']\n"
     ]
    }
   ],
   "source": [
    "soup = BeautifulSoup(driver.page_source)\n",
    "team = soup.findAll('div',attrs={'class':'lb-detailItem-wrap'})\n",
    "\n",
    "team_names = []\n",
    "team_avg_raid_points = []\n",
    "\n",
    "for item in team:\n",
    "    \n",
    "    itm1 = item.find('a',attrs={'class':'sipk-lb-detailBlock sipk-playerDesc'})\n",
    "    srch = re.findall('gujarat-fortunegiants|puneri-paltan|up-yoddha|tamil-thalaivas|haryana-steelers|u-mumba|telugu-titans|jaipur-pink-panthers|bengaluru-bulls|dabang-delhi-kc|patna-pirates|bengal-warriors', itm1.attrs['href'])\n",
    "    team_names.append(srch[0])\n",
    "    \n",
    "    itm3 = item.find('div',attrs={'class':'sipk-lb-detailBlock sipk-lb-raidPoints'}).span.text\n",
    "    team_avg_raid_points.append(itm3)\n",
    "\n",
    "print(team_names)\n",
    "print(team_avg_raid_points)"
   ]
  },
  {
   "cell_type": "code",
   "execution_count": 448,
   "metadata": {
    "scrolled": false
   },
   "outputs": [
    {
     "data": {
      "text/html": [
       "<div>\n",
       "<style scoped>\n",
       "    .dataframe tbody tr th:only-of-type {\n",
       "        vertical-align: middle;\n",
       "    }\n",
       "\n",
       "    .dataframe tbody tr th {\n",
       "        vertical-align: top;\n",
       "    }\n",
       "\n",
       "    .dataframe thead th {\n",
       "        text-align: right;\n",
       "    }\n",
       "</style>\n",
       "<table border=\"1\" class=\"dataframe\">\n",
       "  <thead>\n",
       "    <tr style=\"text-align: right;\">\n",
       "      <th></th>\n",
       "      <th>team_name</th>\n",
       "      <th>team_avg_raid_points</th>\n",
       "    </tr>\n",
       "  </thead>\n",
       "  <tbody>\n",
       "    <tr>\n",
       "      <th>0</th>\n",
       "      <td>patna-pirates</td>\n",
       "      <td>24.5</td>\n",
       "    </tr>\n",
       "    <tr>\n",
       "      <th>1</th>\n",
       "      <td>up-yoddha</td>\n",
       "      <td>20.04</td>\n",
       "    </tr>\n",
       "    <tr>\n",
       "      <th>2</th>\n",
       "      <td>u-mumba</td>\n",
       "      <td>19.05</td>\n",
       "    </tr>\n",
       "    <tr>\n",
       "      <th>3</th>\n",
       "      <td>bengal-warriors</td>\n",
       "      <td>18.96</td>\n",
       "    </tr>\n",
       "    <tr>\n",
       "      <th>4</th>\n",
       "      <td>tamil-thalaivas</td>\n",
       "      <td>18.64</td>\n",
       "    </tr>\n",
       "  </tbody>\n",
       "</table>\n",
       "</div>"
      ],
      "text/plain": [
       "         team_name team_avg_raid_points\n",
       "0    patna-pirates                 24.5\n",
       "1        up-yoddha                20.04\n",
       "2          u-mumba                19.05\n",
       "3  bengal-warriors                18.96\n",
       "4  tamil-thalaivas                18.64"
      ]
     },
     "execution_count": 448,
     "metadata": {},
     "output_type": "execute_result"
    }
   ],
   "source": [
    "team_avg_raid_points_seas1 = pd.DataFrame({'team_name':team_names, 'team_avg_raid_points':team_avg_raid_points})\n",
    "team_avg_raid_points_seas1.head()"
   ]
  },
  {
   "cell_type": "markdown",
   "metadata": {},
   "source": [
    "Successful Tackles"
   ]
  },
  {
   "cell_type": "code",
   "execution_count": 449,
   "metadata": {},
   "outputs": [],
   "source": [
    "driver.get('https://www.prokabaddi.com/stats/8-15-successful-tackles-statistics')"
   ]
  },
  {
   "cell_type": "code",
   "execution_count": 450,
   "metadata": {},
   "outputs": [],
   "source": [
    "time.sleep(7)\n",
    "\n",
    "myelement = driver.find_element_by_xpath('//*[@id=\"load_more\"]')\n",
    "\n",
    "while myelement.is_displayed():\n",
    "    if myelement.is_displayed():\n",
    "        myelement.click()\n",
    "\n",
    "time.sleep(3)"
   ]
  },
  {
   "cell_type": "code",
   "execution_count": 451,
   "metadata": {},
   "outputs": [
    {
     "name": "stdout",
     "output_type": "stream",
     "text": [
      "['puneri-paltan', 'gujarat-fortunegiants', 'patna-pirates', 'haryana-steelers', 'telugu-titans', 'bengaluru-bulls', 'tamil-thalaivas', 'up-yoddha', 'bengal-warriors', 'u-mumba', 'jaipur-pink-panthers', 'dabang-delhi-kc']\n",
      "['252', '242', '226', '206', '191', '185', '184', '183', '181', '176', '162', '159']\n"
     ]
    }
   ],
   "source": [
    "soup = BeautifulSoup(driver.page_source)\n",
    "team = soup.findAll('div',attrs={'class':'lb-detailItem-wrap'})\n",
    "\n",
    "team_names = []\n",
    "team_success_tackles = []\n",
    "\n",
    "for item in team:\n",
    "    \n",
    "    itm1 = item.find('a',attrs={'class':'sipk-lb-detailBlock sipk-playerDesc'})\n",
    "    srch = re.findall('gujarat-fortunegiants|puneri-paltan|up-yoddha|tamil-thalaivas|haryana-steelers|u-mumba|telugu-titans|jaipur-pink-panthers|bengaluru-bulls|dabang-delhi-kc|patna-pirates|bengal-warriors', itm1.attrs['href'])\n",
    "    team_names.append(srch[0])\n",
    "    \n",
    "    itm3 = item.find('div',attrs={'class':'sipk-lb-detailBlock sipk-lb-raidPoints'}).span.text\n",
    "    team_success_tackles.append(itm3)\n",
    "\n",
    "print(team_names)\n",
    "print(team_success_tackles)"
   ]
  },
  {
   "cell_type": "code",
   "execution_count": 452,
   "metadata": {
    "scrolled": true
   },
   "outputs": [
    {
     "data": {
      "text/html": [
       "<div>\n",
       "<style scoped>\n",
       "    .dataframe tbody tr th:only-of-type {\n",
       "        vertical-align: middle;\n",
       "    }\n",
       "\n",
       "    .dataframe tbody tr th {\n",
       "        vertical-align: top;\n",
       "    }\n",
       "\n",
       "    .dataframe thead th {\n",
       "        text-align: right;\n",
       "    }\n",
       "</style>\n",
       "<table border=\"1\" class=\"dataframe\">\n",
       "  <thead>\n",
       "    <tr style=\"text-align: right;\">\n",
       "      <th></th>\n",
       "      <th>team_name</th>\n",
       "      <th>team_success_tackles</th>\n",
       "    </tr>\n",
       "  </thead>\n",
       "  <tbody>\n",
       "    <tr>\n",
       "      <th>0</th>\n",
       "      <td>puneri-paltan</td>\n",
       "      <td>252</td>\n",
       "    </tr>\n",
       "    <tr>\n",
       "      <th>1</th>\n",
       "      <td>gujarat-fortunegiants</td>\n",
       "      <td>242</td>\n",
       "    </tr>\n",
       "    <tr>\n",
       "      <th>2</th>\n",
       "      <td>patna-pirates</td>\n",
       "      <td>226</td>\n",
       "    </tr>\n",
       "    <tr>\n",
       "      <th>3</th>\n",
       "      <td>haryana-steelers</td>\n",
       "      <td>206</td>\n",
       "    </tr>\n",
       "    <tr>\n",
       "      <th>4</th>\n",
       "      <td>telugu-titans</td>\n",
       "      <td>191</td>\n",
       "    </tr>\n",
       "  </tbody>\n",
       "</table>\n",
       "</div>"
      ],
      "text/plain": [
       "               team_name team_success_tackles\n",
       "0          puneri-paltan                  252\n",
       "1  gujarat-fortunegiants                  242\n",
       "2          patna-pirates                  226\n",
       "3       haryana-steelers                  206\n",
       "4          telugu-titans                  191"
      ]
     },
     "execution_count": 452,
     "metadata": {},
     "output_type": "execute_result"
    }
   ],
   "source": [
    "team_success_tackles_seas1 = pd.DataFrame({'team_name':team_names, 'team_success_tackles':team_success_tackles})\n",
    "team_success_tackles_seas1.head()"
   ]
  },
  {
   "cell_type": "markdown",
   "metadata": {},
   "source": [
    "Tackle Points"
   ]
  },
  {
   "cell_type": "code",
   "execution_count": 453,
   "metadata": {},
   "outputs": [],
   "source": [
    "driver.get('https://www.prokabaddi.com/stats/8-95-tackle-points-statistics')"
   ]
  },
  {
   "cell_type": "code",
   "execution_count": 454,
   "metadata": {},
   "outputs": [],
   "source": [
    "time.sleep(7)\n",
    "\n",
    "myelement = driver.find_element_by_xpath('//*[@id=\"load_more\"]')\n",
    "\n",
    "while myelement.is_displayed():\n",
    "    if myelement.is_displayed():\n",
    "        myelement.click()\n",
    "\n",
    "time.sleep(3)"
   ]
  },
  {
   "cell_type": "code",
   "execution_count": 455,
   "metadata": {},
   "outputs": [
    {
     "name": "stdout",
     "output_type": "stream",
     "text": [
      "['puneri-paltan', 'gujarat-fortunegiants', 'patna-pirates', 'haryana-steelers', 'telugu-titans', 'u-mumba', 'tamil-thalaivas', 'up-yoddha', 'bengaluru-bulls', 'bengal-warriors', 'jaipur-pink-panthers', 'dabang-delhi-kc']\n",
      "['271', '254', '252', '227', '207', '202', '201', '201', '200', '193', '171', '169']\n"
     ]
    }
   ],
   "source": [
    "soup = BeautifulSoup(driver.page_source)\n",
    "team = soup.findAll('div',attrs={'class':'lb-detailItem-wrap'})\n",
    "\n",
    "team_names = []\n",
    "team_tackle_points = []\n",
    "\n",
    "for item in team:\n",
    "    \n",
    "    itm1 = item.find('a',attrs={'class':'sipk-lb-detailBlock sipk-playerDesc'})\n",
    "    srch = re.findall('gujarat-fortunegiants|puneri-paltan|up-yoddha|tamil-thalaivas|haryana-steelers|u-mumba|telugu-titans|jaipur-pink-panthers|bengaluru-bulls|dabang-delhi-kc|patna-pirates|bengal-warriors', itm1.attrs['href'])\n",
    "    team_names.append(srch[0])\n",
    "    \n",
    "    itm3 = item.find('div',attrs={'class':'sipk-lb-detailBlock sipk-lb-raidPoints'}).span.text\n",
    "    team_tackle_points.append(itm3)\n",
    "\n",
    "print(team_names)\n",
    "print(team_tackle_points)"
   ]
  },
  {
   "cell_type": "code",
   "execution_count": 456,
   "metadata": {
    "scrolled": true
   },
   "outputs": [
    {
     "data": {
      "text/html": [
       "<div>\n",
       "<style scoped>\n",
       "    .dataframe tbody tr th:only-of-type {\n",
       "        vertical-align: middle;\n",
       "    }\n",
       "\n",
       "    .dataframe tbody tr th {\n",
       "        vertical-align: top;\n",
       "    }\n",
       "\n",
       "    .dataframe thead th {\n",
       "        text-align: right;\n",
       "    }\n",
       "</style>\n",
       "<table border=\"1\" class=\"dataframe\">\n",
       "  <thead>\n",
       "    <tr style=\"text-align: right;\">\n",
       "      <th></th>\n",
       "      <th>team_name</th>\n",
       "      <th>team_tackle_points</th>\n",
       "    </tr>\n",
       "  </thead>\n",
       "  <tbody>\n",
       "    <tr>\n",
       "      <th>0</th>\n",
       "      <td>puneri-paltan</td>\n",
       "      <td>271</td>\n",
       "    </tr>\n",
       "    <tr>\n",
       "      <th>1</th>\n",
       "      <td>gujarat-fortunegiants</td>\n",
       "      <td>254</td>\n",
       "    </tr>\n",
       "    <tr>\n",
       "      <th>2</th>\n",
       "      <td>patna-pirates</td>\n",
       "      <td>252</td>\n",
       "    </tr>\n",
       "    <tr>\n",
       "      <th>3</th>\n",
       "      <td>haryana-steelers</td>\n",
       "      <td>227</td>\n",
       "    </tr>\n",
       "    <tr>\n",
       "      <th>4</th>\n",
       "      <td>telugu-titans</td>\n",
       "      <td>207</td>\n",
       "    </tr>\n",
       "  </tbody>\n",
       "</table>\n",
       "</div>"
      ],
      "text/plain": [
       "               team_name team_tackle_points\n",
       "0          puneri-paltan                271\n",
       "1  gujarat-fortunegiants                254\n",
       "2          patna-pirates                252\n",
       "3       haryana-steelers                227\n",
       "4          telugu-titans                207"
      ]
     },
     "execution_count": 456,
     "metadata": {},
     "output_type": "execute_result"
    }
   ],
   "source": [
    "team_tackle_points_seas1 = pd.DataFrame({'team_name':team_names, 'team_tackle_points':team_tackle_points})\n",
    "team_tackle_points_seas1.head()"
   ]
  },
  {
   "cell_type": "markdown",
   "metadata": {},
   "source": [
    "Average Tackle Points"
   ]
  },
  {
   "cell_type": "code",
   "execution_count": 457,
   "metadata": {},
   "outputs": [],
   "source": [
    "driver.get('https://www.prokabaddi.com/stats/8-99-avg-tackle-points-statistics')"
   ]
  },
  {
   "cell_type": "code",
   "execution_count": 458,
   "metadata": {},
   "outputs": [],
   "source": [
    "time.sleep(7)\n",
    "\n",
    "myelement = driver.find_element_by_xpath('//*[@id=\"load_more\"]')\n",
    "\n",
    "while myelement.is_displayed():\n",
    "    if myelement.is_displayed():\n",
    "        myelement.click()\n",
    "\n",
    "time.sleep(3)"
   ]
  },
  {
   "cell_type": "code",
   "execution_count": 459,
   "metadata": {},
   "outputs": [
    {
     "name": "stdout",
     "output_type": "stream",
     "text": [
      "['puneri-paltan', 'gujarat-fortunegiants', 'haryana-steelers', 'patna-pirates', 'telugu-titans', 'u-mumba', 'tamil-thalaivas', 'bengaluru-bulls', 'up-yoddha', 'bengal-warriors', 'jaipur-pink-panthers', 'dabang-delhi-kc']\n",
      "['11.29', '10.58', '9.87', '9.69', '9.41', '9.18', '9.14', '9.09', '8.74', '8.04', '7.77', '7.68']\n"
     ]
    }
   ],
   "source": [
    "soup = BeautifulSoup(driver.page_source)\n",
    "team = soup.findAll('div',attrs={'class':'lb-detailItem-wrap'})\n",
    "\n",
    "team_names = []\n",
    "team_avg_tackle_points = []\n",
    "\n",
    "for item in team:\n",
    "    \n",
    "    itm1 = item.find('a',attrs={'class':'sipk-lb-detailBlock sipk-playerDesc'})\n",
    "    srch = re.findall('gujarat-fortunegiants|puneri-paltan|up-yoddha|tamil-thalaivas|haryana-steelers|u-mumba|telugu-titans|jaipur-pink-panthers|bengaluru-bulls|dabang-delhi-kc|patna-pirates|bengal-warriors', itm1.attrs['href'])\n",
    "    team_names.append(srch[0])\n",
    "    \n",
    "    itm3 = item.find('div',attrs={'class':'sipk-lb-detailBlock sipk-lb-raidPoints'}).span.text\n",
    "    team_avg_tackle_points.append(itm3)\n",
    "\n",
    "print(team_names)\n",
    "print(team_avg_tackle_points)"
   ]
  },
  {
   "cell_type": "code",
   "execution_count": 460,
   "metadata": {
    "scrolled": true
   },
   "outputs": [
    {
     "data": {
      "text/html": [
       "<div>\n",
       "<style scoped>\n",
       "    .dataframe tbody tr th:only-of-type {\n",
       "        vertical-align: middle;\n",
       "    }\n",
       "\n",
       "    .dataframe tbody tr th {\n",
       "        vertical-align: top;\n",
       "    }\n",
       "\n",
       "    .dataframe thead th {\n",
       "        text-align: right;\n",
       "    }\n",
       "</style>\n",
       "<table border=\"1\" class=\"dataframe\">\n",
       "  <thead>\n",
       "    <tr style=\"text-align: right;\">\n",
       "      <th></th>\n",
       "      <th>team_name</th>\n",
       "      <th>team_avg_tackle_points</th>\n",
       "    </tr>\n",
       "  </thead>\n",
       "  <tbody>\n",
       "    <tr>\n",
       "      <th>0</th>\n",
       "      <td>puneri-paltan</td>\n",
       "      <td>11.29</td>\n",
       "    </tr>\n",
       "    <tr>\n",
       "      <th>1</th>\n",
       "      <td>gujarat-fortunegiants</td>\n",
       "      <td>10.58</td>\n",
       "    </tr>\n",
       "    <tr>\n",
       "      <th>2</th>\n",
       "      <td>haryana-steelers</td>\n",
       "      <td>9.87</td>\n",
       "    </tr>\n",
       "    <tr>\n",
       "      <th>3</th>\n",
       "      <td>patna-pirates</td>\n",
       "      <td>9.69</td>\n",
       "    </tr>\n",
       "    <tr>\n",
       "      <th>4</th>\n",
       "      <td>telugu-titans</td>\n",
       "      <td>9.41</td>\n",
       "    </tr>\n",
       "  </tbody>\n",
       "</table>\n",
       "</div>"
      ],
      "text/plain": [
       "               team_name team_avg_tackle_points\n",
       "0          puneri-paltan                  11.29\n",
       "1  gujarat-fortunegiants                  10.58\n",
       "2       haryana-steelers                   9.87\n",
       "3          patna-pirates                   9.69\n",
       "4          telugu-titans                   9.41"
      ]
     },
     "execution_count": 460,
     "metadata": {},
     "output_type": "execute_result"
    }
   ],
   "source": [
    "team_avg_tackle_points_seas1 = pd.DataFrame({'team_name':team_names, 'team_avg_tackle_points':team_avg_tackle_points})\n",
    "team_avg_tackle_points_seas1.head()"
   ]
  },
  {
   "cell_type": "markdown",
   "metadata": {},
   "source": [
    "Super Raids"
   ]
  },
  {
   "cell_type": "code",
   "execution_count": 461,
   "metadata": {},
   "outputs": [],
   "source": [
    "driver.get('https://www.prokabaddi.com/stats/8-134-super-raid-statistics')"
   ]
  },
  {
   "cell_type": "code",
   "execution_count": 462,
   "metadata": {},
   "outputs": [],
   "source": [
    "time.sleep(7)\n",
    "\n",
    "myelement = driver.find_element_by_xpath('//*[@id=\"load_more\"]')\n",
    "\n",
    "while myelement.is_displayed():\n",
    "    if myelement.is_displayed():\n",
    "        myelement.click()\n",
    "\n",
    "time.sleep(3)"
   ]
  },
  {
   "cell_type": "code",
   "execution_count": 463,
   "metadata": {},
   "outputs": [
    {
     "name": "stdout",
     "output_type": "stream",
     "text": [
      "['patna-pirates', 'up-yoddha', 'jaipur-pink-panthers', 'puneri-paltan', 'haryana-steelers', 'bengal-warriors', 'gujarat-fortunegiants', 'u-mumba', 'telugu-titans', 'dabang-delhi-kc', 'bengaluru-bulls', 'tamil-thalaivas']\n",
      "['26', '23', '13', '12', '12', '11', '11', '10', '10', '6', '5', '5']\n"
     ]
    }
   ],
   "source": [
    "soup = BeautifulSoup(driver.page_source)\n",
    "team = soup.findAll('div',attrs={'class':'lb-detailItem-wrap'})\n",
    "\n",
    "team_names = []\n",
    "team_super_raids = []\n",
    "\n",
    "for item in team:\n",
    "    \n",
    "    itm1 = item.find('a',attrs={'class':'sipk-lb-detailBlock sipk-playerDesc'})\n",
    "    srch = re.findall('gujarat-fortunegiants|puneri-paltan|up-yoddha|tamil-thalaivas|haryana-steelers|u-mumba|telugu-titans|jaipur-pink-panthers|bengaluru-bulls|dabang-delhi-kc|patna-pirates|bengal-warriors', itm1.attrs['href'])\n",
    "    team_names.append(srch[0])\n",
    "    \n",
    "    itm3 = item.find('div',attrs={'class':'sipk-lb-detailBlock sipk-lb-raidPoints'}).span.text\n",
    "    team_super_raids.append(itm3)\n",
    "\n",
    "print(team_names)\n",
    "print(team_super_raids)"
   ]
  },
  {
   "cell_type": "code",
   "execution_count": 464,
   "metadata": {
    "scrolled": false
   },
   "outputs": [
    {
     "data": {
      "text/html": [
       "<div>\n",
       "<style scoped>\n",
       "    .dataframe tbody tr th:only-of-type {\n",
       "        vertical-align: middle;\n",
       "    }\n",
       "\n",
       "    .dataframe tbody tr th {\n",
       "        vertical-align: top;\n",
       "    }\n",
       "\n",
       "    .dataframe thead th {\n",
       "        text-align: right;\n",
       "    }\n",
       "</style>\n",
       "<table border=\"1\" class=\"dataframe\">\n",
       "  <thead>\n",
       "    <tr style=\"text-align: right;\">\n",
       "      <th></th>\n",
       "      <th>team_name</th>\n",
       "      <th>team_super_raids</th>\n",
       "    </tr>\n",
       "  </thead>\n",
       "  <tbody>\n",
       "    <tr>\n",
       "      <th>0</th>\n",
       "      <td>patna-pirates</td>\n",
       "      <td>26</td>\n",
       "    </tr>\n",
       "    <tr>\n",
       "      <th>1</th>\n",
       "      <td>up-yoddha</td>\n",
       "      <td>23</td>\n",
       "    </tr>\n",
       "    <tr>\n",
       "      <th>2</th>\n",
       "      <td>jaipur-pink-panthers</td>\n",
       "      <td>13</td>\n",
       "    </tr>\n",
       "    <tr>\n",
       "      <th>3</th>\n",
       "      <td>puneri-paltan</td>\n",
       "      <td>12</td>\n",
       "    </tr>\n",
       "    <tr>\n",
       "      <th>4</th>\n",
       "      <td>haryana-steelers</td>\n",
       "      <td>12</td>\n",
       "    </tr>\n",
       "  </tbody>\n",
       "</table>\n",
       "</div>"
      ],
      "text/plain": [
       "              team_name team_super_raids\n",
       "0         patna-pirates               26\n",
       "1             up-yoddha               23\n",
       "2  jaipur-pink-panthers               13\n",
       "3         puneri-paltan               12\n",
       "4      haryana-steelers               12"
      ]
     },
     "execution_count": 464,
     "metadata": {},
     "output_type": "execute_result"
    }
   ],
   "source": [
    "team_super_raids_seas1 = pd.DataFrame({'team_name':team_names, 'team_super_raids':team_super_raids})\n",
    "team_super_raids_seas1.head()"
   ]
  },
  {
   "cell_type": "markdown",
   "metadata": {},
   "source": [
    "Super Tackles"
   ]
  },
  {
   "cell_type": "code",
   "execution_count": 465,
   "metadata": {},
   "outputs": [],
   "source": [
    "driver.get('https://www.prokabaddi.com/stats/8-20-super-tackles-statistics')"
   ]
  },
  {
   "cell_type": "code",
   "execution_count": 466,
   "metadata": {},
   "outputs": [],
   "source": [
    "time.sleep(7)\n",
    "\n",
    "myelement = driver.find_element_by_xpath('//*[@id=\"load_more\"]')\n",
    "\n",
    "while myelement.is_displayed():\n",
    "    if myelement.is_displayed():\n",
    "        myelement.click()\n",
    "\n",
    "time.sleep(3)"
   ]
  },
  {
   "cell_type": "code",
   "execution_count": 467,
   "metadata": {},
   "outputs": [
    {
     "name": "stdout",
     "output_type": "stream",
     "text": [
      "['patna-pirates', 'u-mumba', 'puneri-paltan', 'haryana-steelers', 'up-yoddha', 'tamil-thalaivas', 'telugu-titans', 'bengaluru-bulls', 'dabang-delhi-kc', 'bengal-warriors', 'gujarat-fortunegiants', 'jaipur-pink-panthers']\n",
      "['27', '26', '21', '21', '19', '17', '17', '17', '12', '12', '12', '10']\n"
     ]
    }
   ],
   "source": [
    "soup = BeautifulSoup(driver.page_source)\n",
    "team = soup.findAll('div',attrs={'class':'lb-detailItem-wrap'})\n",
    "\n",
    "team_names = []\n",
    "team_super_tackles = []\n",
    "\n",
    "for item in team:\n",
    "    \n",
    "    itm1 = item.find('a',attrs={'class':'sipk-lb-detailBlock sipk-playerDesc'})\n",
    "    srch = re.findall('gujarat-fortunegiants|puneri-paltan|up-yoddha|tamil-thalaivas|haryana-steelers|u-mumba|telugu-titans|jaipur-pink-panthers|bengaluru-bulls|dabang-delhi-kc|patna-pirates|bengal-warriors', itm1.attrs['href'])\n",
    "    team_names.append(srch[0])\n",
    "    \n",
    "    itm3 = item.find('div',attrs={'class':'sipk-lb-detailBlock sipk-lb-raidPoints'}).span.text\n",
    "    team_super_tackles.append(itm3)\n",
    "\n",
    "print(team_names)\n",
    "print(team_super_tackles)"
   ]
  },
  {
   "cell_type": "code",
   "execution_count": 468,
   "metadata": {
    "scrolled": true
   },
   "outputs": [
    {
     "data": {
      "text/html": [
       "<div>\n",
       "<style scoped>\n",
       "    .dataframe tbody tr th:only-of-type {\n",
       "        vertical-align: middle;\n",
       "    }\n",
       "\n",
       "    .dataframe tbody tr th {\n",
       "        vertical-align: top;\n",
       "    }\n",
       "\n",
       "    .dataframe thead th {\n",
       "        text-align: right;\n",
       "    }\n",
       "</style>\n",
       "<table border=\"1\" class=\"dataframe\">\n",
       "  <thead>\n",
       "    <tr style=\"text-align: right;\">\n",
       "      <th></th>\n",
       "      <th>team_name</th>\n",
       "      <th>team_super_tackles</th>\n",
       "    </tr>\n",
       "  </thead>\n",
       "  <tbody>\n",
       "    <tr>\n",
       "      <th>0</th>\n",
       "      <td>patna-pirates</td>\n",
       "      <td>27</td>\n",
       "    </tr>\n",
       "    <tr>\n",
       "      <th>1</th>\n",
       "      <td>u-mumba</td>\n",
       "      <td>26</td>\n",
       "    </tr>\n",
       "    <tr>\n",
       "      <th>2</th>\n",
       "      <td>puneri-paltan</td>\n",
       "      <td>21</td>\n",
       "    </tr>\n",
       "    <tr>\n",
       "      <th>3</th>\n",
       "      <td>haryana-steelers</td>\n",
       "      <td>21</td>\n",
       "    </tr>\n",
       "    <tr>\n",
       "      <th>4</th>\n",
       "      <td>up-yoddha</td>\n",
       "      <td>19</td>\n",
       "    </tr>\n",
       "  </tbody>\n",
       "</table>\n",
       "</div>"
      ],
      "text/plain": [
       "          team_name team_super_tackles\n",
       "0     patna-pirates                 27\n",
       "1           u-mumba                 26\n",
       "2     puneri-paltan                 21\n",
       "3  haryana-steelers                 21\n",
       "4         up-yoddha                 19"
      ]
     },
     "execution_count": 468,
     "metadata": {},
     "output_type": "execute_result"
    }
   ],
   "source": [
    "team_super_tackles_seas1 = pd.DataFrame({'team_name':team_names, 'team_super_tackles':team_super_tackles})\n",
    "team_super_tackles_seas1.head()"
   ]
  },
  {
   "cell_type": "markdown",
   "metadata": {},
   "source": [
    "Do Or Die Raid Points"
   ]
  },
  {
   "cell_type": "code",
   "execution_count": 469,
   "metadata": {},
   "outputs": [],
   "source": [
    "driver.get('https://www.prokabaddi.com/stats/8-135-do-or-die-raid-points-statistics')"
   ]
  },
  {
   "cell_type": "code",
   "execution_count": 470,
   "metadata": {},
   "outputs": [],
   "source": [
    "time.sleep(7)\n",
    "\n",
    "myelement = driver.find_element_by_xpath('//*[@id=\"load_more\"]')\n",
    "\n",
    "while myelement.is_displayed():\n",
    "    if myelement.is_displayed():\n",
    "        myelement.click()\n",
    "\n",
    "time.sleep(3)"
   ]
  },
  {
   "cell_type": "code",
   "execution_count": 471,
   "metadata": {},
   "outputs": [
    {
     "name": "stdout",
     "output_type": "stream",
     "text": [
      "['puneri-paltan', 'haryana-steelers', 'gujarat-fortunegiants', 'patna-pirates', 'dabang-delhi-kc', 'bengaluru-bulls', 'tamil-thalaivas', 'telugu-titans', 'bengal-warriors', 'jaipur-pink-panthers', 'up-yoddha', 'u-mumba']\n",
      "['119', '105', '98', '95', '94', '93', '89', '88', '87', '83', '83', '78']\n"
     ]
    }
   ],
   "source": [
    "soup = BeautifulSoup(driver.page_source)\n",
    "team = soup.findAll('div',attrs={'class':'lb-detailItem-wrap'})\n",
    "\n",
    "team_names = []\n",
    "team_dod_raid_points = []\n",
    "\n",
    "for item in team:\n",
    "    \n",
    "    itm1 = item.find('a',attrs={'class':'sipk-lb-detailBlock sipk-playerDesc'})\n",
    "    srch = re.findall('gujarat-fortunegiants|puneri-paltan|up-yoddha|tamil-thalaivas|haryana-steelers|u-mumba|telugu-titans|jaipur-pink-panthers|bengaluru-bulls|dabang-delhi-kc|patna-pirates|bengal-warriors', itm1.attrs['href'])\n",
    "    team_names.append(srch[0])\n",
    "    \n",
    "    itm3 = item.find('div',attrs={'class':'sipk-lb-detailBlock sipk-lb-raidPoints'}).span.text\n",
    "    team_dod_raid_points.append(itm3)\n",
    "\n",
    "print(team_names)\n",
    "print(team_dod_raid_points)"
   ]
  },
  {
   "cell_type": "code",
   "execution_count": 472,
   "metadata": {
    "scrolled": true
   },
   "outputs": [
    {
     "data": {
      "text/html": [
       "<div>\n",
       "<style scoped>\n",
       "    .dataframe tbody tr th:only-of-type {\n",
       "        vertical-align: middle;\n",
       "    }\n",
       "\n",
       "    .dataframe tbody tr th {\n",
       "        vertical-align: top;\n",
       "    }\n",
       "\n",
       "    .dataframe thead th {\n",
       "        text-align: right;\n",
       "    }\n",
       "</style>\n",
       "<table border=\"1\" class=\"dataframe\">\n",
       "  <thead>\n",
       "    <tr style=\"text-align: right;\">\n",
       "      <th></th>\n",
       "      <th>team_name</th>\n",
       "      <th>team_dod_raid_points</th>\n",
       "    </tr>\n",
       "  </thead>\n",
       "  <tbody>\n",
       "    <tr>\n",
       "      <th>0</th>\n",
       "      <td>puneri-paltan</td>\n",
       "      <td>119</td>\n",
       "    </tr>\n",
       "    <tr>\n",
       "      <th>1</th>\n",
       "      <td>haryana-steelers</td>\n",
       "      <td>105</td>\n",
       "    </tr>\n",
       "    <tr>\n",
       "      <th>2</th>\n",
       "      <td>gujarat-fortunegiants</td>\n",
       "      <td>98</td>\n",
       "    </tr>\n",
       "    <tr>\n",
       "      <th>3</th>\n",
       "      <td>patna-pirates</td>\n",
       "      <td>95</td>\n",
       "    </tr>\n",
       "    <tr>\n",
       "      <th>4</th>\n",
       "      <td>dabang-delhi-kc</td>\n",
       "      <td>94</td>\n",
       "    </tr>\n",
       "  </tbody>\n",
       "</table>\n",
       "</div>"
      ],
      "text/plain": [
       "               team_name team_dod_raid_points\n",
       "0          puneri-paltan                  119\n",
       "1       haryana-steelers                  105\n",
       "2  gujarat-fortunegiants                   98\n",
       "3          patna-pirates                   95\n",
       "4        dabang-delhi-kc                   94"
      ]
     },
     "execution_count": 472,
     "metadata": {},
     "output_type": "execute_result"
    }
   ],
   "source": [
    "team_dod_raid_points_seas1 = pd.DataFrame({'team_name':team_names, 'team_dod_raid_points':team_dod_raid_points})\n",
    "team_dod_raid_points_seas1.head()"
   ]
  },
  {
   "cell_type": "markdown",
   "metadata": {},
   "source": [
    "All-Outs Inflicted"
   ]
  },
  {
   "cell_type": "code",
   "execution_count": 473,
   "metadata": {},
   "outputs": [],
   "source": [
    "driver.get('https://www.prokabaddi.com/stats/8-136-all-outs-inflicted-statistics')"
   ]
  },
  {
   "cell_type": "code",
   "execution_count": 474,
   "metadata": {},
   "outputs": [],
   "source": [
    "time.sleep(7)\n",
    "\n",
    "myelement = driver.find_element_by_xpath('//*[@id=\"load_more\"]')\n",
    "\n",
    "while myelement.is_displayed():\n",
    "    if myelement.is_displayed():\n",
    "        myelement.click()\n",
    "\n",
    "time.sleep(3)"
   ]
  },
  {
   "cell_type": "code",
   "execution_count": 475,
   "metadata": {},
   "outputs": [
    {
     "name": "stdout",
     "output_type": "stream",
     "text": [
      "['patna-pirates', 'gujarat-fortunegiants', 'puneri-paltan', 'bengaluru-bulls', 'bengal-warriors', 'haryana-steelers', 'telugu-titans', 'up-yoddha', 'jaipur-pink-panthers', 'u-mumba', 'tamil-thalaivas', 'dabang-delhi-kc']\n",
      "['55', '36', '32', '28', '27', '27', '25', '23', '22', '21', '19', '18']\n"
     ]
    }
   ],
   "source": [
    "soup = BeautifulSoup(driver.page_source)\n",
    "team = soup.findAll('div',attrs={'class':'lb-detailItem-wrap'})\n",
    "\n",
    "team_names = []\n",
    "team_allouts_inflicted = []\n",
    "\n",
    "for item in team:\n",
    "    \n",
    "    itm1 = item.find('a',attrs={'class':'sipk-lb-detailBlock sipk-playerDesc'})\n",
    "    srch = re.findall('gujarat-fortunegiants|puneri-paltan|up-yoddha|tamil-thalaivas|haryana-steelers|u-mumba|telugu-titans|jaipur-pink-panthers|bengaluru-bulls|dabang-delhi-kc|patna-pirates|bengal-warriors', itm1.attrs['href'])\n",
    "    team_names.append(srch[0])\n",
    "    \n",
    "    itm3 = item.find('div',attrs={'class':'sipk-lb-detailBlock sipk-lb-raidPoints'}).span.text\n",
    "    team_allouts_inflicted.append(itm3)\n",
    "\n",
    "print(team_names)\n",
    "print(team_allouts_inflicted)"
   ]
  },
  {
   "cell_type": "code",
   "execution_count": 476,
   "metadata": {
    "scrolled": true
   },
   "outputs": [
    {
     "data": {
      "text/html": [
       "<div>\n",
       "<style scoped>\n",
       "    .dataframe tbody tr th:only-of-type {\n",
       "        vertical-align: middle;\n",
       "    }\n",
       "\n",
       "    .dataframe tbody tr th {\n",
       "        vertical-align: top;\n",
       "    }\n",
       "\n",
       "    .dataframe thead th {\n",
       "        text-align: right;\n",
       "    }\n",
       "</style>\n",
       "<table border=\"1\" class=\"dataframe\">\n",
       "  <thead>\n",
       "    <tr style=\"text-align: right;\">\n",
       "      <th></th>\n",
       "      <th>team_name</th>\n",
       "      <th>team_allouts_inflicted</th>\n",
       "    </tr>\n",
       "  </thead>\n",
       "  <tbody>\n",
       "    <tr>\n",
       "      <th>0</th>\n",
       "      <td>patna-pirates</td>\n",
       "      <td>55</td>\n",
       "    </tr>\n",
       "    <tr>\n",
       "      <th>1</th>\n",
       "      <td>gujarat-fortunegiants</td>\n",
       "      <td>36</td>\n",
       "    </tr>\n",
       "    <tr>\n",
       "      <th>2</th>\n",
       "      <td>puneri-paltan</td>\n",
       "      <td>32</td>\n",
       "    </tr>\n",
       "    <tr>\n",
       "      <th>3</th>\n",
       "      <td>bengaluru-bulls</td>\n",
       "      <td>28</td>\n",
       "    </tr>\n",
       "    <tr>\n",
       "      <th>4</th>\n",
       "      <td>bengal-warriors</td>\n",
       "      <td>27</td>\n",
       "    </tr>\n",
       "  </tbody>\n",
       "</table>\n",
       "</div>"
      ],
      "text/plain": [
       "               team_name team_allouts_inflicted\n",
       "0          patna-pirates                     55\n",
       "1  gujarat-fortunegiants                     36\n",
       "2          puneri-paltan                     32\n",
       "3        bengaluru-bulls                     28\n",
       "4        bengal-warriors                     27"
      ]
     },
     "execution_count": 476,
     "metadata": {},
     "output_type": "execute_result"
    }
   ],
   "source": [
    "team_allouts_inflicted_seas1 = pd.DataFrame({'team_name':team_names, 'team_allouts_inflicted':team_allouts_inflicted})\n",
    "team_allouts_inflicted_seas1.head()"
   ]
  },
  {
   "cell_type": "markdown",
   "metadata": {},
   "source": [
    "All-Outs Conceded"
   ]
  },
  {
   "cell_type": "code",
   "execution_count": 477,
   "metadata": {},
   "outputs": [],
   "source": [
    "driver.get('https://www.prokabaddi.com/stats/8-137-all-outs-conceded-statistics')"
   ]
  },
  {
   "cell_type": "code",
   "execution_count": 478,
   "metadata": {},
   "outputs": [],
   "source": [
    "time.sleep(7)\n",
    "\n",
    "myelement = driver.find_element_by_xpath('//*[@id=\"load_more\"]')\n",
    "\n",
    "while myelement.is_displayed():\n",
    "    if myelement.is_displayed():\n",
    "        myelement.click()\n",
    "\n",
    "time.sleep(3)"
   ]
  },
  {
   "cell_type": "code",
   "execution_count": 479,
   "metadata": {},
   "outputs": [
    {
     "name": "stdout",
     "output_type": "stream",
     "text": [
      "['u-mumba', 'dabang-delhi-kc', 'up-yoddha', 'tamil-thalaivas', 'bengal-warriors', 'patna-pirates', 'jaipur-pink-panthers', 'telugu-titans', 'bengaluru-bulls', 'haryana-steelers', 'puneri-paltan', 'gujarat-fortunegiants']\n",
      "['36', '35', '32', '31', '29', '29', '27', '26', '25', '23', '23', '17']\n"
     ]
    }
   ],
   "source": [
    "soup = BeautifulSoup(driver.page_source)\n",
    "team = soup.findAll('div',attrs={'class':'lb-detailItem-wrap'})\n",
    "\n",
    "team_names = []\n",
    "team_allouts_conceded = []\n",
    "\n",
    "for item in team:\n",
    "    \n",
    "    itm1 = item.find('a',attrs={'class':'sipk-lb-detailBlock sipk-playerDesc'})\n",
    "    srch = re.findall('gujarat-fortunegiants|puneri-paltan|up-yoddha|tamil-thalaivas|haryana-steelers|u-mumba|telugu-titans|jaipur-pink-panthers|bengaluru-bulls|dabang-delhi-kc|patna-pirates|bengal-warriors', itm1.attrs['href'])\n",
    "    team_names.append(srch[0])\n",
    "    \n",
    "    itm3 = item.find('div',attrs={'class':'sipk-lb-detailBlock sipk-lb-raidPoints'}).span.text\n",
    "    team_allouts_conceded.append(itm3)\n",
    "\n",
    "print(team_names)\n",
    "print(team_allouts_conceded)"
   ]
  },
  {
   "cell_type": "code",
   "execution_count": 480,
   "metadata": {
    "scrolled": false
   },
   "outputs": [
    {
     "data": {
      "text/html": [
       "<div>\n",
       "<style scoped>\n",
       "    .dataframe tbody tr th:only-of-type {\n",
       "        vertical-align: middle;\n",
       "    }\n",
       "\n",
       "    .dataframe tbody tr th {\n",
       "        vertical-align: top;\n",
       "    }\n",
       "\n",
       "    .dataframe thead th {\n",
       "        text-align: right;\n",
       "    }\n",
       "</style>\n",
       "<table border=\"1\" class=\"dataframe\">\n",
       "  <thead>\n",
       "    <tr style=\"text-align: right;\">\n",
       "      <th></th>\n",
       "      <th>team_name</th>\n",
       "      <th>team_allouts_conceded</th>\n",
       "    </tr>\n",
       "  </thead>\n",
       "  <tbody>\n",
       "    <tr>\n",
       "      <th>0</th>\n",
       "      <td>u-mumba</td>\n",
       "      <td>36</td>\n",
       "    </tr>\n",
       "    <tr>\n",
       "      <th>1</th>\n",
       "      <td>dabang-delhi-kc</td>\n",
       "      <td>35</td>\n",
       "    </tr>\n",
       "    <tr>\n",
       "      <th>2</th>\n",
       "      <td>up-yoddha</td>\n",
       "      <td>32</td>\n",
       "    </tr>\n",
       "    <tr>\n",
       "      <th>3</th>\n",
       "      <td>tamil-thalaivas</td>\n",
       "      <td>31</td>\n",
       "    </tr>\n",
       "    <tr>\n",
       "      <th>4</th>\n",
       "      <td>bengal-warriors</td>\n",
       "      <td>29</td>\n",
       "    </tr>\n",
       "  </tbody>\n",
       "</table>\n",
       "</div>"
      ],
      "text/plain": [
       "         team_name team_allouts_conceded\n",
       "0          u-mumba                    36\n",
       "1  dabang-delhi-kc                    35\n",
       "2        up-yoddha                    32\n",
       "3  tamil-thalaivas                    31\n",
       "4  bengal-warriors                    29"
      ]
     },
     "execution_count": 480,
     "metadata": {},
     "output_type": "execute_result"
    }
   ],
   "source": [
    "team_allouts_conceded_seas1 = pd.DataFrame({'team_name':team_names, 'team_allouts_conceded':team_allouts_conceded})\n",
    "team_allouts_conceded_seas1.head()"
   ]
  },
  {
   "cell_type": "markdown",
   "metadata": {},
   "source": [
    "##### Merge Team Stats into a master frame"
   ]
  },
  {
   "cell_type": "code",
   "execution_count": 481,
   "metadata": {},
   "outputs": [
    {
     "data": {
      "text/html": [
       "<div>\n",
       "<style scoped>\n",
       "    .dataframe tbody tr th:only-of-type {\n",
       "        vertical-align: middle;\n",
       "    }\n",
       "\n",
       "    .dataframe tbody tr th {\n",
       "        vertical-align: top;\n",
       "    }\n",
       "\n",
       "    .dataframe thead th {\n",
       "        text-align: right;\n",
       "    }\n",
       "</style>\n",
       "<table border=\"1\" class=\"dataframe\">\n",
       "  <thead>\n",
       "    <tr style=\"text-align: right;\">\n",
       "      <th></th>\n",
       "      <th>team_name</th>\n",
       "      <th>matches_played</th>\n",
       "      <th>total_points_scored</th>\n",
       "      <th>total_points_conceded</th>\n",
       "      <th>team_avg_points</th>\n",
       "      <th>team_success_raids</th>\n",
       "      <th>team_raid_points</th>\n",
       "      <th>team_avg_raid_points</th>\n",
       "      <th>team_success_tackles</th>\n",
       "      <th>team_tackle_points</th>\n",
       "      <th>team_avg_tackle_points</th>\n",
       "      <th>team_super_raids</th>\n",
       "      <th>team_super_tackles</th>\n",
       "      <th>team_dod_raid_points</th>\n",
       "      <th>team_allouts_inflicted</th>\n",
       "      <th>team_allouts_conceded</th>\n",
       "    </tr>\n",
       "  </thead>\n",
       "  <tbody>\n",
       "    <tr>\n",
       "      <th>0</th>\n",
       "      <td>patna-pirates</td>\n",
       "      <td>26</td>\n",
       "      <td>1050</td>\n",
       "      <td>921</td>\n",
       "      <td>34.19</td>\n",
       "      <td>487</td>\n",
       "      <td>637</td>\n",
       "      <td>24.5</td>\n",
       "      <td>226</td>\n",
       "      <td>252</td>\n",
       "      <td>9.69</td>\n",
       "      <td>26</td>\n",
       "      <td>27</td>\n",
       "      <td>95</td>\n",
       "      <td>55</td>\n",
       "      <td>29</td>\n",
       "    </tr>\n",
       "    <tr>\n",
       "      <th>1</th>\n",
       "      <td>gujarat-fortunegiants</td>\n",
       "      <td>24</td>\n",
       "      <td>775</td>\n",
       "      <td>641</td>\n",
       "      <td>27.45</td>\n",
       "      <td>335</td>\n",
       "      <td>405</td>\n",
       "      <td>16.88</td>\n",
       "      <td>242</td>\n",
       "      <td>254</td>\n",
       "      <td>10.58</td>\n",
       "      <td>11</td>\n",
       "      <td>12</td>\n",
       "      <td>98</td>\n",
       "      <td>36</td>\n",
       "      <td>17</td>\n",
       "    </tr>\n",
       "    <tr>\n",
       "      <th>2</th>\n",
       "      <td>puneri-paltan</td>\n",
       "      <td>24</td>\n",
       "      <td>766</td>\n",
       "      <td>683</td>\n",
       "      <td>27.08</td>\n",
       "      <td>304</td>\n",
       "      <td>379</td>\n",
       "      <td>15.79</td>\n",
       "      <td>252</td>\n",
       "      <td>271</td>\n",
       "      <td>11.29</td>\n",
       "      <td>12</td>\n",
       "      <td>21</td>\n",
       "      <td>119</td>\n",
       "      <td>32</td>\n",
       "      <td>23</td>\n",
       "    </tr>\n",
       "    <tr>\n",
       "      <th>3</th>\n",
       "      <td>up-yoddha</td>\n",
       "      <td>23</td>\n",
       "      <td>762</td>\n",
       "      <td>763</td>\n",
       "      <td>28.78</td>\n",
       "      <td>358</td>\n",
       "      <td>461</td>\n",
       "      <td>20.04</td>\n",
       "      <td>183</td>\n",
       "      <td>201</td>\n",
       "      <td>8.74</td>\n",
       "      <td>23</td>\n",
       "      <td>19</td>\n",
       "      <td>83</td>\n",
       "      <td>23</td>\n",
       "      <td>32</td>\n",
       "    </tr>\n",
       "    <tr>\n",
       "      <th>4</th>\n",
       "      <td>bengal-warriors</td>\n",
       "      <td>24</td>\n",
       "      <td>749</td>\n",
       "      <td>757</td>\n",
       "      <td>27</td>\n",
       "      <td>379</td>\n",
       "      <td>455</td>\n",
       "      <td>18.96</td>\n",
       "      <td>181</td>\n",
       "      <td>193</td>\n",
       "      <td>8.04</td>\n",
       "      <td>11</td>\n",
       "      <td>12</td>\n",
       "      <td>87</td>\n",
       "      <td>27</td>\n",
       "      <td>29</td>\n",
       "    </tr>\n",
       "  </tbody>\n",
       "</table>\n",
       "</div>"
      ],
      "text/plain": [
       "               team_name matches_played total_points_scored  \\\n",
       "0          patna-pirates             26                1050   \n",
       "1  gujarat-fortunegiants             24                 775   \n",
       "2          puneri-paltan             24                 766   \n",
       "3              up-yoddha             23                 762   \n",
       "4        bengal-warriors             24                 749   \n",
       "\n",
       "  total_points_conceded team_avg_points team_success_raids team_raid_points  \\\n",
       "0                   921           34.19                487              637   \n",
       "1                   641           27.45                335              405   \n",
       "2                   683           27.08                304              379   \n",
       "3                   763           28.78                358              461   \n",
       "4                   757              27                379              455   \n",
       "\n",
       "  team_avg_raid_points team_success_tackles team_tackle_points  \\\n",
       "0                 24.5                  226                252   \n",
       "1                16.88                  242                254   \n",
       "2                15.79                  252                271   \n",
       "3                20.04                  183                201   \n",
       "4                18.96                  181                193   \n",
       "\n",
       "  team_avg_tackle_points team_super_raids team_super_tackles  \\\n",
       "0                   9.69               26                 27   \n",
       "1                  10.58               11                 12   \n",
       "2                  11.29               12                 21   \n",
       "3                   8.74               23                 19   \n",
       "4                   8.04               11                 12   \n",
       "\n",
       "  team_dod_raid_points team_allouts_inflicted team_allouts_conceded  \n",
       "0                   95                     55                    29  \n",
       "1                   98                     36                    17  \n",
       "2                  119                     32                    23  \n",
       "3                   83                     23                    32  \n",
       "4                   87                     27                    29  "
      ]
     },
     "execution_count": 481,
     "metadata": {},
     "output_type": "execute_result"
    }
   ],
   "source": [
    "temp1 = pd.merge(team_tot_points_seas1, team_tot_points_conceded_seas1, on='team_name', how='left')\n",
    "temp2 = pd.merge(temp1, team_avg_points_scored_seas1, on='team_name', how='left')\n",
    "temp3 = pd.merge(temp2, team_success_raids_seas1, on='team_name', how='left')\n",
    "temp4 = pd.merge(temp3, team_raid_points_seas1, on='team_name', how='left')\n",
    "temp5 = pd.merge(temp4, team_avg_raid_points_seas1, on='team_name', how='left')\n",
    "temp6 = pd.merge(temp5, team_success_tackles_seas1, on='team_name', how='left')\n",
    "temp7 = pd.merge(temp6, team_tackle_points_seas1, on='team_name', how='left')\n",
    "temp8 = pd.merge(temp7, team_avg_tackle_points_seas1, on='team_name', how='left')\n",
    "temp9 = pd.merge(temp8, team_super_raids_seas1, on='team_name', how='left')\n",
    "temp10 = pd.merge(temp9, team_super_tackles_seas1, on='team_name', how='left')\n",
    "temp11 = pd.merge(temp10, team_dod_raid_points_seas1, on='team_name', how='left')\n",
    "temp12 = pd.merge(temp11, team_allouts_inflicted_seas1, on='team_name', how='left')\n",
    "season1_team_stats = pd.merge(temp12, team_allouts_conceded_seas1, on='team_name', how='left')\n",
    "\n",
    "season1_team_stats = season1_team_stats.fillna(0)\n",
    "\n",
    "season1_team_stats.head()"
   ]
  },
  {
   "cell_type": "code",
   "execution_count": 482,
   "metadata": {},
   "outputs": [],
   "source": [
    "outfile = open('data/season5_team_stats.csv', mode='w')\n",
    "season1_team_stats.to_csv('data/season5_team_stats.csv', mode='w', index = False, header=True)\n",
    "outfile.close()"
   ]
  },
  {
   "cell_type": "code",
   "execution_count": null,
   "metadata": {},
   "outputs": [],
   "source": []
  }
 ],
 "metadata": {
  "kernelspec": {
   "display_name": "Python 3",
   "language": "python",
   "name": "python3"
  },
  "language_info": {
   "codemirror_mode": {
    "name": "ipython",
    "version": 3
   },
   "file_extension": ".py",
   "mimetype": "text/x-python",
   "name": "python",
   "nbconvert_exporter": "python",
   "pygments_lexer": "ipython3",
   "version": "3.7.3"
  }
 },
 "nbformat": 4,
 "nbformat_minor": 2
}
